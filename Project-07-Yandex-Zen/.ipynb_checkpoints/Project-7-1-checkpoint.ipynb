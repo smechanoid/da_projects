{
 "cells": [
  {
   "cell_type": "code",
   "execution_count": 1,
   "id": "da9f3a8f",
   "metadata": {},
   "outputs": [],
   "source": [
    "# импортируем библиотеки\n",
    "import pandas as pd\n",
    "from sqlalchemy import create_engine\n",
    "\n",
    "db_config = {'user': 'user', # имя пользователя\n",
    "            'pwd': 'password', # пароль\n",
    "            'host': 'host',\n",
    "            'port': 1111, # порт подключения\n",
    "            'db': 'zen-project-db'} # название базы данных\n",
    "\n",
    "connection_string = 'postgresql://{}:{}@{}:{}/{}'.format(db_config['user'],\n",
    "                                                db_config['pwd'],\n",
    "                                                db_config['host'],\n",
    "                                                db_config['port'],\n",
    "                                                db_config['db'])\n",
    "\n",
    "engine = create_engine(connection_string) "
   ]
  },
  {
   "cell_type": "code",
   "execution_count": 2,
   "id": "3a885a04",
   "metadata": {},
   "outputs": [],
   "source": [
    " query = ''' SELECT * FROM dash_visits\n",
    "               \n",
    "            '''"
   ]
  },
  {
   "cell_type": "code",
   "execution_count": 3,
   "id": "9d782067",
   "metadata": {},
   "outputs": [],
   "source": [
    " #!pip install psycopg2-binary"
   ]
  },
  {
   "cell_type": "code",
   "execution_count": 4,
   "id": "b33ca156",
   "metadata": {},
   "outputs": [],
   "source": [
    "zen_db = pd.io.sql.read_sql(query, con = engine) "
   ]
  },
  {
   "cell_type": "markdown",
   "id": "a1b9599d",
   "metadata": {},
   "source": [
    "Посмотрим предварительно на данные, прежде чем записывать их в файл"
   ]
  },
  {
   "cell_type": "code",
   "execution_count": 5,
   "id": "e3e90c11",
   "metadata": {
    "scrolled": true
   },
   "outputs": [
    {
     "data": {
      "text/html": [
       "<div>\n",
       "<style scoped>\n",
       "    .dataframe tbody tr th:only-of-type {\n",
       "        vertical-align: middle;\n",
       "    }\n",
       "\n",
       "    .dataframe tbody tr th {\n",
       "        vertical-align: top;\n",
       "    }\n",
       "\n",
       "    .dataframe thead th {\n",
       "        text-align: right;\n",
       "    }\n",
       "</style>\n",
       "<table border=\"1\" class=\"dataframe\">\n",
       "  <thead>\n",
       "    <tr style=\"text-align: right;\">\n",
       "      <th></th>\n",
       "      <th>record_id</th>\n",
       "      <th>item_topic</th>\n",
       "      <th>source_topic</th>\n",
       "      <th>age_segment</th>\n",
       "      <th>dt</th>\n",
       "      <th>visits</th>\n",
       "    </tr>\n",
       "  </thead>\n",
       "  <tbody>\n",
       "    <tr>\n",
       "      <th>0</th>\n",
       "      <td>1040597</td>\n",
       "      <td>Деньги</td>\n",
       "      <td>Авто</td>\n",
       "      <td>18-25</td>\n",
       "      <td>2019-09-24 18:32:00</td>\n",
       "      <td>3</td>\n",
       "    </tr>\n",
       "    <tr>\n",
       "      <th>1</th>\n",
       "      <td>1040598</td>\n",
       "      <td>Деньги</td>\n",
       "      <td>Авто</td>\n",
       "      <td>18-25</td>\n",
       "      <td>2019-09-24 18:35:00</td>\n",
       "      <td>1</td>\n",
       "    </tr>\n",
       "    <tr>\n",
       "      <th>2</th>\n",
       "      <td>1040599</td>\n",
       "      <td>Деньги</td>\n",
       "      <td>Авто</td>\n",
       "      <td>18-25</td>\n",
       "      <td>2019-09-24 18:54:00</td>\n",
       "      <td>4</td>\n",
       "    </tr>\n",
       "    <tr>\n",
       "      <th>3</th>\n",
       "      <td>1040600</td>\n",
       "      <td>Деньги</td>\n",
       "      <td>Авто</td>\n",
       "      <td>18-25</td>\n",
       "      <td>2019-09-24 18:55:00</td>\n",
       "      <td>17</td>\n",
       "    </tr>\n",
       "    <tr>\n",
       "      <th>4</th>\n",
       "      <td>1040601</td>\n",
       "      <td>Деньги</td>\n",
       "      <td>Авто</td>\n",
       "      <td>18-25</td>\n",
       "      <td>2019-09-24 18:56:00</td>\n",
       "      <td>27</td>\n",
       "    </tr>\n",
       "    <tr>\n",
       "      <th>...</th>\n",
       "      <td>...</td>\n",
       "      <td>...</td>\n",
       "      <td>...</td>\n",
       "      <td>...</td>\n",
       "      <td>...</td>\n",
       "      <td>...</td>\n",
       "    </tr>\n",
       "    <tr>\n",
       "      <th>30740</th>\n",
       "      <td>1071337</td>\n",
       "      <td>Юмор</td>\n",
       "      <td>Финансы</td>\n",
       "      <td>36-40</td>\n",
       "      <td>2019-09-24 18:57:00</td>\n",
       "      <td>2</td>\n",
       "    </tr>\n",
       "    <tr>\n",
       "      <th>30741</th>\n",
       "      <td>1071338</td>\n",
       "      <td>Юмор</td>\n",
       "      <td>Финансы</td>\n",
       "      <td>36-40</td>\n",
       "      <td>2019-09-24 19:00:00</td>\n",
       "      <td>1</td>\n",
       "    </tr>\n",
       "    <tr>\n",
       "      <th>30742</th>\n",
       "      <td>1071339</td>\n",
       "      <td>Юмор</td>\n",
       "      <td>Финансы</td>\n",
       "      <td>41-45</td>\n",
       "      <td>2019-09-24 18:54:00</td>\n",
       "      <td>1</td>\n",
       "    </tr>\n",
       "    <tr>\n",
       "      <th>30743</th>\n",
       "      <td>1071340</td>\n",
       "      <td>Юмор</td>\n",
       "      <td>Финансы</td>\n",
       "      <td>41-45</td>\n",
       "      <td>2019-09-24 18:56:00</td>\n",
       "      <td>1</td>\n",
       "    </tr>\n",
       "    <tr>\n",
       "      <th>30744</th>\n",
       "      <td>1071341</td>\n",
       "      <td>Юмор</td>\n",
       "      <td>Финансы</td>\n",
       "      <td>41-45</td>\n",
       "      <td>2019-09-24 19:00:00</td>\n",
       "      <td>1</td>\n",
       "    </tr>\n",
       "  </tbody>\n",
       "</table>\n",
       "<p>30745 rows × 6 columns</p>\n",
       "</div>"
      ],
      "text/plain": [
       "       record_id item_topic source_topic age_segment                  dt  \\\n",
       "0        1040597     Деньги         Авто       18-25 2019-09-24 18:32:00   \n",
       "1        1040598     Деньги         Авто       18-25 2019-09-24 18:35:00   \n",
       "2        1040599     Деньги         Авто       18-25 2019-09-24 18:54:00   \n",
       "3        1040600     Деньги         Авто       18-25 2019-09-24 18:55:00   \n",
       "4        1040601     Деньги         Авто       18-25 2019-09-24 18:56:00   \n",
       "...          ...        ...          ...         ...                 ...   \n",
       "30740    1071337       Юмор      Финансы       36-40 2019-09-24 18:57:00   \n",
       "30741    1071338       Юмор      Финансы       36-40 2019-09-24 19:00:00   \n",
       "30742    1071339       Юмор      Финансы       41-45 2019-09-24 18:54:00   \n",
       "30743    1071340       Юмор      Финансы       41-45 2019-09-24 18:56:00   \n",
       "30744    1071341       Юмор      Финансы       41-45 2019-09-24 19:00:00   \n",
       "\n",
       "       visits  \n",
       "0           3  \n",
       "1           1  \n",
       "2           4  \n",
       "3          17  \n",
       "4          27  \n",
       "...       ...  \n",
       "30740       2  \n",
       "30741       1  \n",
       "30742       1  \n",
       "30743       1  \n",
       "30744       1  \n",
       "\n",
       "[30745 rows x 6 columns]"
      ]
     },
     "execution_count": 5,
     "metadata": {},
     "output_type": "execute_result"
    }
   ],
   "source": [
    "# Выведем таблицу\n",
    "zen_db"
   ]
  },
  {
   "cell_type": "code",
   "execution_count": 8,
   "id": "fa41757f",
   "metadata": {
    "scrolled": true
   },
   "outputs": [
    {
     "data": {
      "text/plain": [
       "310207"
      ]
     },
     "execution_count": 8,
     "metadata": {},
     "output_type": "execute_result"
    }
   ],
   "source": [
    "# Проверим сумму визитов\n",
    "zen_db['visits'].sum()"
   ]
  },
  {
   "cell_type": "code",
   "execution_count": 13,
   "id": "cbec44f9",
   "metadata": {},
   "outputs": [
    {
     "data": {
      "text/plain": [
       "source_topic\n",
       "Авто                   9567\n",
       "Деньги                 5157\n",
       "Дети                  15243\n",
       "Еда                    6892\n",
       "Здоровье              12831\n",
       "Знаменитости          23945\n",
       "Интерьеры              3614\n",
       "Искусство              8001\n",
       "История               14628\n",
       "Кино                  20084\n",
       "Музыка                 2869\n",
       "Одежда                11895\n",
       "Полезные советы       27412\n",
       "Политика               7341\n",
       "Психология             5730\n",
       "Путешествия           24124\n",
       "Ремонт                 5699\n",
       "Россия                29831\n",
       "Сад и дача             7470\n",
       "Сделай сам             6287\n",
       "Семейные отношения    33309\n",
       "Семья                 13896\n",
       "Спорт                  5253\n",
       "Строительство          3000\n",
       "Технологии             3501\n",
       "Финансы                2628\n",
       "Name: visits, dtype: int64"
      ]
     },
     "execution_count": 13,
     "metadata": {},
     "output_type": "execute_result"
    }
   ],
   "source": [
    "# Посмотрим количество визитов по источникам\n",
    "zen_db.groupby('source_topic')['visits'].sum()"
   ]
  },
  {
   "cell_type": "code",
   "execution_count": 9,
   "id": "5d22f1e9",
   "metadata": {
    "scrolled": false
   },
   "outputs": [
    {
     "data": {
      "text/plain": [
       "item_topic\n",
       "Деньги                10291\n",
       "Дети                  10989\n",
       "Женская психология     7737\n",
       "Женщины               11499\n",
       "Здоровье              10399\n",
       "Знаменитости           7394\n",
       "Интересные факты      19942\n",
       "Искусство              8516\n",
       "История               15389\n",
       "Красота                9814\n",
       "Культура              10205\n",
       "Наука                 21736\n",
       "Общество              19640\n",
       "Отношения             20666\n",
       "Подборки              17772\n",
       "Полезные советы       15435\n",
       "Психология             8036\n",
       "Путешествия            9260\n",
       "Рассказы              10909\n",
       "Россия                16966\n",
       "Семья                 11897\n",
       "Скандалы               9294\n",
       "Туризм                 9512\n",
       "Шоу                    7511\n",
       "Юмор                   9398\n",
       "Name: visits, dtype: int64"
      ]
     },
     "execution_count": 9,
     "metadata": {},
     "output_type": "execute_result"
    }
   ],
   "source": [
    "# Посмотрим количество визитов по темам\n",
    "zen_db.groupby('item_topic')['visits'].sum()"
   ]
  },
  {
   "cell_type": "code",
   "execution_count": 10,
   "id": "5d7a1b63",
   "metadata": {},
   "outputs": [
    {
     "data": {
      "text/plain": [
       "source_topic\n",
       "Авто                  1077\n",
       "Деньги                 973\n",
       "Дети                  1459\n",
       "Еда                    912\n",
       "Здоровье              1243\n",
       "Знаменитости          1650\n",
       "Интерьеры              809\n",
       "Искусство             1228\n",
       "История               1437\n",
       "Кино                  1505\n",
       "Музыка                 750\n",
       "Одежда                1379\n",
       "Полезные советы       1578\n",
       "Политика              1024\n",
       "Психология            1055\n",
       "Путешествия           1563\n",
       "Ремонт                 985\n",
       "Россия                1687\n",
       "Сад и дача            1036\n",
       "Сделай сам             995\n",
       "Семейные отношения    1822\n",
       "Семья                 1405\n",
       "Спорт                 1007\n",
       "Строительство          758\n",
       "Технологии             741\n",
       "Финансы                667\n",
       "Name: item_topic, dtype: int64"
      ]
     },
     "execution_count": 10,
     "metadata": {},
     "output_type": "execute_result"
    }
   ],
   "source": [
    "# Посмотрим количество тем по источникам\n",
    "zen_db.groupby('source_topic')['item_topic'].count()"
   ]
  },
  {
   "cell_type": "code",
   "execution_count": 11,
   "id": "60a74468",
   "metadata": {},
   "outputs": [
    {
     "data": {
      "text/plain": [
       "Семейные отношения    1822\n",
       "Россия                1687\n",
       "Знаменитости          1650\n",
       "Полезные советы       1578\n",
       "Путешествия           1563\n",
       "Кино                  1505\n",
       "Дети                  1459\n",
       "История               1437\n",
       "Семья                 1405\n",
       "Одежда                1379\n",
       "Здоровье              1243\n",
       "Искусство             1228\n",
       "Авто                  1077\n",
       "Психология            1055\n",
       "Сад и дача            1036\n",
       "Политика              1024\n",
       "Спорт                 1007\n",
       "Сделай сам             995\n",
       "Ремонт                 985\n",
       "Деньги                 973\n",
       "Еда                    912\n",
       "Интерьеры              809\n",
       "Строительство          758\n",
       "Музыка                 750\n",
       "Технологии             741\n",
       "Финансы                667\n",
       "Name: source_topic, dtype: int64"
      ]
     },
     "execution_count": 11,
     "metadata": {},
     "output_type": "execute_result"
    }
   ],
   "source": [
    "# Посмотрим количество источников\n",
    "zen_db['source_topic'].value_counts()"
   ]
  },
  {
   "cell_type": "code",
   "execution_count": 12,
   "id": "aa8df0c4",
   "metadata": {},
   "outputs": [],
   "source": [
    "#Выгружаем таблицу в файл, чтобы импортировать в Tableu \n",
    "zen_db.to_csv('dash_visits.csv', encoding='utf-8', index=False)"
   ]
  },
  {
   "cell_type": "code",
   "execution_count": null,
   "id": "b0c471ae",
   "metadata": {},
   "outputs": [],
   "source": []
  },
  {
   "cell_type": "code",
   "execution_count": null,
   "id": "b8179423",
   "metadata": {},
   "outputs": [],
   "source": []
  }
 ],
 "metadata": {
  "kernelspec": {
   "display_name": "Python 3 (ipykernel)",
   "language": "python",
   "name": "python3"
  },
  "language_info": {
   "codemirror_mode": {
    "name": "ipython",
    "version": 3
   },
   "file_extension": ".py",
   "mimetype": "text/x-python",
   "name": "python",
   "nbconvert_exporter": "python",
   "pygments_lexer": "ipython3",
   "version": "3.8.3"
  },
  "toc": {
   "base_numbering": 1,
   "nav_menu": {},
   "number_sections": true,
   "sideBar": true,
   "skip_h1_title": false,
   "title_cell": "Table of Contents",
   "title_sidebar": "Contents",
   "toc_cell": false,
   "toc_position": {},
   "toc_section_display": true,
   "toc_window_display": false
  }
 },
 "nbformat": 4,
 "nbformat_minor": 5
}
