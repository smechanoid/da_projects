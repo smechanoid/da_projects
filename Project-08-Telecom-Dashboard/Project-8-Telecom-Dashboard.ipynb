{
 "cells": [
  {
   "cell_type": "markdown",
   "id": "bb56f19d",
   "metadata": {},
   "source": [
    "# Расчёт текущей лояльности абонентов оператора мобильной связи"
   ]
  },
  {
   "cell_type": "markdown",
   "id": "df0f7b82",
   "metadata": {},
   "source": [
    "**Задача**: \n",
    "- Выгрузить данные из базы с помощью SQL запроса \n",
    "- Выделить группы пользователей по уровню удовлетворённости сервисами мобильного оператора\n",
    "- Построить дашборд \n",
    "- Создать презентацию с результатами исследования"
   ]
  },
  {
   "cell_type": "code",
   "execution_count": null,
   "id": "f5c668fc",
   "metadata": {},
   "outputs": [],
   "source": [
    "import pandas as pd\n",
    "from sqlalchemy import create_engine\n",
    "import sqlite3\n",
    "import requests"
   ]
  },
  {
   "cell_type": "code",
   "execution_count": 4,
   "id": "4d026010",
   "metadata": {},
   "outputs": [],
   "source": [
    "query = \"\"\"\n",
    "WITH\n",
    "nps_table AS (SELECT user_id,\n",
    "                    CASE\n",
    "                        WHEN nps_score>=9 THEN 'Сторонники'\n",
    "                        WHEN nps_score>=7 THEN 'Нейтралы'\n",
    "                        WHEN nps_score<=6 THEN 'Критики'\n",
    "                        ELSE 'Неизвестно'\n",
    "                    END AS nps_group\n",
    "                    FROM user),\n",
    "isnew_table AS (SELECT user_id,\n",
    "                        CASE\n",
    "                        WHEN lt_day>365 THEN 'Старый абонент'\n",
    "                         WHEN lt_day<=365 THEN 'Новый абонент'\n",
    "                        ELSE 'Неизвестно'\n",
    "                        END AS is_new\n",
    "                        FROM user\n",
    "                        WHERE lt_day >= 0),\n",
    "gender_table AS (SELECT user_id,\n",
    "                        CASE\n",
    "                        WHEN gender_segment = 1 THEN 'Женщина'\n",
    "                        WHEN gender_segment = 0 THEN 'Мужчина'\n",
    "                        ELSE 'Неизвестно'\n",
    "                        END AS bender_gender\n",
    "                        FROM user)\n",
    "\n",
    "SELECT  u.user_id,\n",
    "        u.lt_day,\n",
    "        it.is_new,\n",
    "        u.age,\n",
    "        gt.bender_gender AS gender_segment,\n",
    "        u.os_name,\n",
    "        u.cpe_type_name,\n",
    "        l.city,\n",
    "        SUBSTR(a.title,3) AS age_segment,\n",
    "        SUBSTR(tr.title,3) as traffic_segment,\n",
    "        SUBSTR(lt.title,3) as lifetime_segment,\n",
    "        u.nps_score,\n",
    "        nt.nps_group\n",
    "FROM user as u\n",
    "INNER JOIN location as l ON u.location_id = l.location_id\n",
    "INNER JOIN age_segment as a ON u.age_gr_id = a.age_gr_id\n",
    "INNER JOIN traffic_segment as tr ON u.tr_gr_id = tr.tr_gr_id\n",
    "INNER JOIN lifetime_segment as lt ON u.lt_gr_id = lt.lt_gr_id\n",
    "INNER JOIN nps_table as nt ON u.user_id = nt.user_id\n",
    "INNER JOIN isnew_table as it ON u.user_id = it.user_id\n",
    "INNER JOIN gender_table as gt ON u.user_id = gt.user_id\n",
    "\"\"\""
   ]
  },
  {
   "cell_type": "code",
   "execution_count": 9,
   "id": "88b0c948",
   "metadata": {},
   "outputs": [
    {
     "name": "stdout",
     "output_type": "stream",
     "text": [
      "CPU times: user 8.81 s, sys: 540 ms, total: 9.35 s\n",
      "Wall time: 12.7 s\n"
     ]
    }
   ],
   "source": [
    "%%time\n",
    "try:\n",
    "    path_to_db = '/datasets/telecomm_csi.db' # путь к файлу\n",
    "    engine = create_engine(f'sqlite:///{path_to_db}', echo = False)\n",
    "    df = pd.read_sql(query, engine)\n",
    "except:\n",
    "    try:\n",
    "        path_to_db = 'telecomm_csi.db' # локальный путь к файлу\n",
    "        engine = create_engine(f'sqlite:///{path_to_db}', echo = False)\n",
    "        df = pd.read_sql(query, engine)\n",
    "    except:\n",
    "        url = 'https://link' # интернет ссылка на файл\n",
    "        fname = url.split('/')[-1]\n",
    "        answer = requests.get(url, allow_redirects=True)\n",
    "        assert (answer.status_code == 200), f'invalid request code {answer.status_code}'\n",
    "        with open(fname,'wb') as f: f.write(answer.content)\n",
    "        df = pd.read_sql(query, sqlite3.connect(fname) )"
   ]
  },
  {
   "cell_type": "code",
   "execution_count": 11,
   "id": "b5891bc5",
   "metadata": {},
   "outputs": [
    {
     "name": "stdout",
     "output_type": "stream",
     "text": [
      "<class 'pandas.core.frame.DataFrame'>\n",
      "RangeIndex: 502480 entries, 0 to 502479\n",
      "Data columns (total 13 columns):\n",
      " #   Column            Non-Null Count   Dtype  \n",
      "---  ------            --------------   -----  \n",
      " 0   user_id           502480 non-null  object \n",
      " 1   lt_day            502480 non-null  int64  \n",
      " 2   is_new            502480 non-null  object \n",
      " 3   age               501939 non-null  float64\n",
      " 4   gender_segment    502480 non-null  object \n",
      " 5   os_name           502480 non-null  object \n",
      " 6   cpe_type_name     502480 non-null  object \n",
      " 7   city              502480 non-null  object \n",
      " 8   age_segment       502480 non-null  object \n",
      " 9   traffic_segment   502480 non-null  object \n",
      " 10  lifetime_segment  502480 non-null  object \n",
      " 11  nps_score         502480 non-null  int64  \n",
      " 12  nps_group         502480 non-null  object \n",
      "dtypes: float64(1), int64(2), object(10)\n",
      "memory usage: 49.8+ MB\n"
     ]
    }
   ],
   "source": [
    "df.info()"
   ]
  },
  {
   "cell_type": "code",
   "execution_count": 8,
   "id": "d790063b",
   "metadata": {
    "scrolled": false
   },
   "outputs": [
    {
     "data": {
      "text/html": [
       "<div>\n",
       "<style scoped>\n",
       "    .dataframe tbody tr th:only-of-type {\n",
       "        vertical-align: middle;\n",
       "    }\n",
       "\n",
       "    .dataframe tbody tr th {\n",
       "        vertical-align: top;\n",
       "    }\n",
       "\n",
       "    .dataframe thead th {\n",
       "        text-align: right;\n",
       "    }\n",
       "</style>\n",
       "<table border=\"1\" class=\"dataframe\">\n",
       "  <thead>\n",
       "    <tr style=\"text-align: right;\">\n",
       "      <th></th>\n",
       "      <th>user_id</th>\n",
       "      <th>lt_day</th>\n",
       "      <th>is_new</th>\n",
       "      <th>age</th>\n",
       "      <th>gender_segment</th>\n",
       "      <th>os_name</th>\n",
       "      <th>cpe_type_name</th>\n",
       "      <th>city</th>\n",
       "      <th>age_segment</th>\n",
       "      <th>traffic_segment</th>\n",
       "      <th>lifetime_segment</th>\n",
       "      <th>nps_score</th>\n",
       "      <th>nps_group</th>\n",
       "    </tr>\n",
       "  </thead>\n",
       "  <tbody>\n",
       "    <tr>\n",
       "      <th>476947</th>\n",
       "      <td>YO90Q6</td>\n",
       "      <td>459</td>\n",
       "      <td>Старый абонент</td>\n",
       "      <td>40.0</td>\n",
       "      <td>Мужчина</td>\n",
       "      <td>ANDROID</td>\n",
       "      <td>SMARTPHONE</td>\n",
       "      <td>Курск</td>\n",
       "      <td>35-44</td>\n",
       "      <td>1-5</td>\n",
       "      <td>13-24</td>\n",
       "      <td>9</td>\n",
       "      <td>Сторонники</td>\n",
       "    </tr>\n",
       "    <tr>\n",
       "      <th>302573</th>\n",
       "      <td>PNLE1Z</td>\n",
       "      <td>196</td>\n",
       "      <td>Новый абонент</td>\n",
       "      <td>41.0</td>\n",
       "      <td>Женщина</td>\n",
       "      <td>ANDROID</td>\n",
       "      <td>SMARTPHONE</td>\n",
       "      <td>Волгоград</td>\n",
       "      <td>35-44</td>\n",
       "      <td>100+</td>\n",
       "      <td>7-12</td>\n",
       "      <td>5</td>\n",
       "      <td>Критики</td>\n",
       "    </tr>\n",
       "    <tr>\n",
       "      <th>290196</th>\n",
       "      <td>P0BZAB</td>\n",
       "      <td>1090</td>\n",
       "      <td>Старый абонент</td>\n",
       "      <td>30.0</td>\n",
       "      <td>Женщина</td>\n",
       "      <td>ANDROID</td>\n",
       "      <td>SMARTPHONE</td>\n",
       "      <td>Самара</td>\n",
       "      <td>25-34</td>\n",
       "      <td>5-10</td>\n",
       "      <td>36+</td>\n",
       "      <td>10</td>\n",
       "      <td>Сторонники</td>\n",
       "    </tr>\n",
       "    <tr>\n",
       "      <th>265221</th>\n",
       "      <td>NPV5X6</td>\n",
       "      <td>3882</td>\n",
       "      <td>Старый абонент</td>\n",
       "      <td>27.0</td>\n",
       "      <td>Женщина</td>\n",
       "      <td>IOS</td>\n",
       "      <td>SMARTPHONE</td>\n",
       "      <td>Хабаровск</td>\n",
       "      <td>25-34</td>\n",
       "      <td>15-20</td>\n",
       "      <td>36+</td>\n",
       "      <td>3</td>\n",
       "      <td>Критики</td>\n",
       "    </tr>\n",
       "    <tr>\n",
       "      <th>152273</th>\n",
       "      <td>HUWG3L</td>\n",
       "      <td>3388</td>\n",
       "      <td>Старый абонент</td>\n",
       "      <td>31.0</td>\n",
       "      <td>Мужчина</td>\n",
       "      <td>ANDROID</td>\n",
       "      <td>SMARTPHONE</td>\n",
       "      <td>Пермь</td>\n",
       "      <td>25-34</td>\n",
       "      <td>25-30</td>\n",
       "      <td>36+</td>\n",
       "      <td>5</td>\n",
       "      <td>Критики</td>\n",
       "    </tr>\n",
       "    <tr>\n",
       "      <th>34577</th>\n",
       "      <td>BSGHK5</td>\n",
       "      <td>963</td>\n",
       "      <td>Старый абонент</td>\n",
       "      <td>30.0</td>\n",
       "      <td>Мужчина</td>\n",
       "      <td>ANDROID</td>\n",
       "      <td>SMARTPHONE</td>\n",
       "      <td>Самара</td>\n",
       "      <td>25-34</td>\n",
       "      <td>15-20</td>\n",
       "      <td>25-36</td>\n",
       "      <td>5</td>\n",
       "      <td>Критики</td>\n",
       "    </tr>\n",
       "    <tr>\n",
       "      <th>421493</th>\n",
       "      <td>VSZNPF</td>\n",
       "      <td>2762</td>\n",
       "      <td>Старый абонент</td>\n",
       "      <td>43.0</td>\n",
       "      <td>Мужчина</td>\n",
       "      <td>ANDROID</td>\n",
       "      <td>SMARTPHONE</td>\n",
       "      <td>Челябинск</td>\n",
       "      <td>35-44</td>\n",
       "      <td>5-10</td>\n",
       "      <td>36+</td>\n",
       "      <td>10</td>\n",
       "      <td>Сторонники</td>\n",
       "    </tr>\n",
       "    <tr>\n",
       "      <th>249439</th>\n",
       "      <td>MWCBIK</td>\n",
       "      <td>1965</td>\n",
       "      <td>Старый абонент</td>\n",
       "      <td>24.0</td>\n",
       "      <td>Мужчина</td>\n",
       "      <td>ANDROID</td>\n",
       "      <td>SMARTPHONE</td>\n",
       "      <td>НижнийНовгород</td>\n",
       "      <td>16-24</td>\n",
       "      <td>10-15</td>\n",
       "      <td>36+</td>\n",
       "      <td>3</td>\n",
       "      <td>Критики</td>\n",
       "    </tr>\n",
       "    <tr>\n",
       "      <th>137205</th>\n",
       "      <td>H2QDIH</td>\n",
       "      <td>33</td>\n",
       "      <td>Новый абонент</td>\n",
       "      <td>28.0</td>\n",
       "      <td>Мужчина</td>\n",
       "      <td>IOS</td>\n",
       "      <td>SMARTPHONE</td>\n",
       "      <td>Москва</td>\n",
       "      <td>25-34</td>\n",
       "      <td>30-35</td>\n",
       "      <td>2</td>\n",
       "      <td>8</td>\n",
       "      <td>Нейтралы</td>\n",
       "    </tr>\n",
       "    <tr>\n",
       "      <th>131935</th>\n",
       "      <td>GSY0BJ</td>\n",
       "      <td>2860</td>\n",
       "      <td>Старый абонент</td>\n",
       "      <td>48.0</td>\n",
       "      <td>Женщина</td>\n",
       "      <td>ANDROID</td>\n",
       "      <td>SMARTPHONE</td>\n",
       "      <td>Архангельск</td>\n",
       "      <td>45-54</td>\n",
       "      <td>1-5</td>\n",
       "      <td>36+</td>\n",
       "      <td>10</td>\n",
       "      <td>Сторонники</td>\n",
       "    </tr>\n",
       "  </tbody>\n",
       "</table>\n",
       "</div>"
      ],
      "text/plain": [
       "       user_id  lt_day          is_new   age gender_segment  os_name  \\\n",
       "476947  YO90Q6     459  Старый абонент  40.0        Мужчина  ANDROID   \n",
       "302573  PNLE1Z     196   Новый абонент  41.0        Женщина  ANDROID   \n",
       "290196  P0BZAB    1090  Старый абонент  30.0        Женщина  ANDROID   \n",
       "265221  NPV5X6    3882  Старый абонент  27.0        Женщина      IOS   \n",
       "152273  HUWG3L    3388  Старый абонент  31.0        Мужчина  ANDROID   \n",
       "34577   BSGHK5     963  Старый абонент  30.0        Мужчина  ANDROID   \n",
       "421493  VSZNPF    2762  Старый абонент  43.0        Мужчина  ANDROID   \n",
       "249439  MWCBIK    1965  Старый абонент  24.0        Мужчина  ANDROID   \n",
       "137205  H2QDIH      33   Новый абонент  28.0        Мужчина      IOS   \n",
       "131935  GSY0BJ    2860  Старый абонент  48.0        Женщина  ANDROID   \n",
       "\n",
       "       cpe_type_name            city age_segment traffic_segment  \\\n",
       "476947    SMARTPHONE           Курск       35-44             1-5   \n",
       "302573    SMARTPHONE       Волгоград       35-44            100+   \n",
       "290196    SMARTPHONE          Самара       25-34            5-10   \n",
       "265221    SMARTPHONE       Хабаровск       25-34           15-20   \n",
       "152273    SMARTPHONE           Пермь       25-34           25-30   \n",
       "34577     SMARTPHONE          Самара       25-34           15-20   \n",
       "421493    SMARTPHONE       Челябинск       35-44            5-10   \n",
       "249439    SMARTPHONE  НижнийНовгород       16-24           10-15   \n",
       "137205    SMARTPHONE          Москва       25-34           30-35   \n",
       "131935    SMARTPHONE     Архангельск       45-54             1-5   \n",
       "\n",
       "       lifetime_segment  nps_score   nps_group  \n",
       "476947            13-24          9  Сторонники  \n",
       "302573             7-12          5     Критики  \n",
       "290196              36+         10  Сторонники  \n",
       "265221              36+          3     Критики  \n",
       "152273              36+          5     Критики  \n",
       "34577             25-36          5     Критики  \n",
       "421493              36+         10  Сторонники  \n",
       "249439              36+          3     Критики  \n",
       "137205                2          8    Нейтралы  \n",
       "131935              36+         10  Сторонники  "
      ]
     },
     "execution_count": 8,
     "metadata": {},
     "output_type": "execute_result"
    }
   ],
   "source": [
    "df.sample(10)"
   ]
  },
  {
   "cell_type": "code",
   "execution_count": 21,
   "id": "cac437c4",
   "metadata": {},
   "outputs": [
    {
     "data": {
      "text/plain": [
       "array(['Сторонники', 'Критики', 'Нейтралы'], dtype=object)"
      ]
     },
     "execution_count": 21,
     "metadata": {},
     "output_type": "execute_result"
    }
   ],
   "source": [
    "df['nps_group'].unique()"
   ]
  },
  {
   "cell_type": "code",
   "execution_count": 22,
   "id": "891ce98b",
   "metadata": {},
   "outputs": [
    {
     "data": {
      "text/plain": [
       "array(['Женщина', 'Мужчина', 'Неизвестно'], dtype=object)"
      ]
     },
     "execution_count": 22,
     "metadata": {},
     "output_type": "execute_result"
    }
   ],
   "source": [
    "df['gender_segment'].unique()"
   ]
  },
  {
   "cell_type": "code",
   "execution_count": 23,
   "id": "e51663c8",
   "metadata": {},
   "outputs": [
    {
     "data": {
      "text/plain": [
       "array(['Старый абонент', 'Новый абонент'], dtype=object)"
      ]
     },
     "execution_count": 23,
     "metadata": {},
     "output_type": "execute_result"
    }
   ],
   "source": [
    "df['is_new'].unique()"
   ]
  },
  {
   "cell_type": "code",
   "execution_count": 15,
   "id": "14ff49fe",
   "metadata": {},
   "outputs": [],
   "source": [
    "#После отрабатывания функции записываем адреса и координаты в файл\n",
    "df.to_csv('telecomm.csv', encoding='utf-8', index=False)"
   ]
  },
  {
   "cell_type": "code",
   "execution_count": null,
   "id": "1bc5b776",
   "metadata": {},
   "outputs": [],
   "source": []
  }
 ],
 "metadata": {
  "kernelspec": {
   "display_name": "Python 3 (ipykernel)",
   "language": "python",
   "name": "python3"
  },
  "language_info": {
   "codemirror_mode": {
    "name": "ipython",
    "version": 3
   },
   "file_extension": ".py",
   "mimetype": "text/x-python",
   "name": "python",
   "nbconvert_exporter": "python",
   "pygments_lexer": "ipython3",
   "version": "3.8.3"
  },
  "toc": {
   "base_numbering": 1,
   "nav_menu": {},
   "number_sections": true,
   "sideBar": true,
   "skip_h1_title": false,
   "title_cell": "Table of Contents",
   "title_sidebar": "Contents",
   "toc_cell": false,
   "toc_position": {},
   "toc_section_display": true,
   "toc_window_display": false
  }
 },
 "nbformat": 4,
 "nbformat_minor": 5
}
