{
 "cells": [
  {
   "cell_type": "markdown",
   "metadata": {},
   "source": [
    "# Исследование надёжности заёмщиков\n",
    "\n",
    "Заказчик — кредитный отдел банка. Нужно ответить на вопросы - влияет ли семейное положение и количество детей клиента на погашение кредита в срок. Входные данные — банковская статистика клиентов.\n",
    "\n",
    "Результаты исследования повлияют на модель **кредитного скоринга**, которая будет оцениввать способность потенциального заёмщика вернуть кредит банку."
   ]
  },
  {
   "cell_type": "markdown",
   "metadata": {},
   "source": [
    "## Общая информация"
   ]
  },
  {
   "cell_type": "code",
   "execution_count": 2,
   "metadata": {},
   "outputs": [],
   "source": [
    "import pandas as pd\n",
    "import numpy as np\n",
    "try:\n",
    "    df = pd.read_csv('/datasets/data.csv')\n",
    "except:\n",
    "    df = pd.read_csv('https://code.s3.yandex.net/datasets/data.csv')"
   ]
  },
  {
   "cell_type": "code",
   "execution_count": 82,
   "metadata": {},
   "outputs": [
    {
     "data": {
      "text/html": [
       "<div>\n",
       "<style scoped>\n",
       "    .dataframe tbody tr th:only-of-type {\n",
       "        vertical-align: middle;\n",
       "    }\n",
       "\n",
       "    .dataframe tbody tr th {\n",
       "        vertical-align: top;\n",
       "    }\n",
       "\n",
       "    .dataframe thead th {\n",
       "        text-align: right;\n",
       "    }\n",
       "</style>\n",
       "<table border=\"1\" class=\"dataframe\">\n",
       "  <thead>\n",
       "    <tr style=\"text-align: right;\">\n",
       "      <th></th>\n",
       "      <th>children</th>\n",
       "      <th>days_employed</th>\n",
       "      <th>dob_years</th>\n",
       "      <th>education</th>\n",
       "      <th>education_id</th>\n",
       "      <th>family_status</th>\n",
       "      <th>family_status_id</th>\n",
       "      <th>gender</th>\n",
       "      <th>income_type</th>\n",
       "      <th>debt</th>\n",
       "      <th>total_income</th>\n",
       "      <th>purpose</th>\n",
       "      <th>age_group</th>\n",
       "      <th>income_median</th>\n",
       "      <th>debt_group</th>\n",
       "      <th>income_group</th>\n",
       "    </tr>\n",
       "  </thead>\n",
       "  <tbody>\n",
       "    <tr>\n",
       "      <th>0</th>\n",
       "      <td>1</td>\n",
       "      <td>8437</td>\n",
       "      <td>42</td>\n",
       "      <td>высшее</td>\n",
       "      <td>0</td>\n",
       "      <td>женат / замужем</td>\n",
       "      <td>0</td>\n",
       "      <td>F</td>\n",
       "      <td>сотрудник</td>\n",
       "      <td>0</td>\n",
       "      <td>253875</td>\n",
       "      <td>жилье</td>\n",
       "      <td>средний возраст</td>\n",
       "      <td>166571.732985</td>\n",
       "      <td>надёжный заёмщик</td>\n",
       "      <td>выше среднего</td>\n",
       "    </tr>\n",
       "    <tr>\n",
       "      <th>1</th>\n",
       "      <td>2</td>\n",
       "      <td>6929</td>\n",
       "      <td>35</td>\n",
       "      <td>высшее</td>\n",
       "      <td>0</td>\n",
       "      <td>гражданский брак</td>\n",
       "      <td>1</td>\n",
       "      <td>F</td>\n",
       "      <td>сотрудник</td>\n",
       "      <td>0</td>\n",
       "      <td>95856</td>\n",
       "      <td>свадьба</td>\n",
       "      <td>средний возраст</td>\n",
       "      <td>166571.732985</td>\n",
       "      <td>надёжный заёмщик</td>\n",
       "      <td>ниже среднего</td>\n",
       "    </tr>\n",
       "    <tr>\n",
       "      <th>2</th>\n",
       "      <td>0</td>\n",
       "      <td>2369</td>\n",
       "      <td>33</td>\n",
       "      <td>высшее</td>\n",
       "      <td>0</td>\n",
       "      <td>гражданский брак</td>\n",
       "      <td>1</td>\n",
       "      <td>M</td>\n",
       "      <td>сотрудник</td>\n",
       "      <td>0</td>\n",
       "      <td>90410</td>\n",
       "      <td>недвижимость</td>\n",
       "      <td>средний возраст</td>\n",
       "      <td>166571.732985</td>\n",
       "      <td>надёжный заёмщик</td>\n",
       "      <td>ниже среднего</td>\n",
       "    </tr>\n",
       "    <tr>\n",
       "      <th>3</th>\n",
       "      <td>0</td>\n",
       "      <td>529</td>\n",
       "      <td>28</td>\n",
       "      <td>высшее</td>\n",
       "      <td>0</td>\n",
       "      <td>женат / замужем</td>\n",
       "      <td>0</td>\n",
       "      <td>M</td>\n",
       "      <td>сотрудник</td>\n",
       "      <td>0</td>\n",
       "      <td>308848</td>\n",
       "      <td>недвижимость</td>\n",
       "      <td>средний возраст</td>\n",
       "      <td>166571.732985</td>\n",
       "      <td>надёжный заёмщик</td>\n",
       "      <td>высокий</td>\n",
       "    </tr>\n",
       "    <tr>\n",
       "      <th>4</th>\n",
       "      <td>1</td>\n",
       "      <td>717</td>\n",
       "      <td>26</td>\n",
       "      <td>высшее</td>\n",
       "      <td>0</td>\n",
       "      <td>женат / замужем</td>\n",
       "      <td>0</td>\n",
       "      <td>F</td>\n",
       "      <td>сотрудник</td>\n",
       "      <td>0</td>\n",
       "      <td>187863</td>\n",
       "      <td>недвижимость</td>\n",
       "      <td>средний возраст</td>\n",
       "      <td>166571.732985</td>\n",
       "      <td>надёжный заёмщик</td>\n",
       "      <td>средний</td>\n",
       "    </tr>\n",
       "  </tbody>\n",
       "</table>\n",
       "</div>"
      ],
      "text/plain": [
       "   children  days_employed  dob_years education  education_id  \\\n",
       "0         1           8437         42    высшее             0   \n",
       "1         2           6929         35    высшее             0   \n",
       "2         0           2369         33    высшее             0   \n",
       "3         0            529         28    высшее             0   \n",
       "4         1            717         26    высшее             0   \n",
       "\n",
       "      family_status  family_status_id gender income_type  debt  total_income  \\\n",
       "0   женат / замужем                 0      F   сотрудник     0        253875   \n",
       "1  гражданский брак                 1      F   сотрудник     0         95856   \n",
       "2  гражданский брак                 1      M   сотрудник     0         90410   \n",
       "3   женат / замужем                 0      M   сотрудник     0        308848   \n",
       "4   женат / замужем                 0      F   сотрудник     0        187863   \n",
       "\n",
       "        purpose        age_group  income_median        debt_group  \\\n",
       "0         жилье  средний возраст  166571.732985  надёжный заёмщик   \n",
       "1       свадьба  средний возраст  166571.732985  надёжный заёмщик   \n",
       "2  недвижимость  средний возраст  166571.732985  надёжный заёмщик   \n",
       "3  недвижимость  средний возраст  166571.732985  надёжный заёмщик   \n",
       "4  недвижимость  средний возраст  166571.732985  надёжный заёмщик   \n",
       "\n",
       "    income_group  \n",
       "0  выше среднего  \n",
       "1  ниже среднего  \n",
       "2  ниже среднего  \n",
       "3        высокий  \n",
       "4        средний  "
      ]
     },
     "execution_count": 82,
     "metadata": {},
     "output_type": "execute_result"
    }
   ],
   "source": [
    "#Откроем таблицу\n",
    "df.head()"
   ]
  },
  {
   "cell_type": "code",
   "execution_count": 4,
   "metadata": {},
   "outputs": [
    {
     "name": "stdout",
     "output_type": "stream",
     "text": [
      "<class 'pandas.core.frame.DataFrame'>\n",
      "RangeIndex: 21525 entries, 0 to 21524\n",
      "Data columns (total 12 columns):\n",
      " #   Column            Non-Null Count  Dtype  \n",
      "---  ------            --------------  -----  \n",
      " 0   children          21525 non-null  int64  \n",
      " 1   days_employed     19351 non-null  float64\n",
      " 2   dob_years         21525 non-null  int64  \n",
      " 3   education         21525 non-null  object \n",
      " 4   education_id      21525 non-null  int64  \n",
      " 5   family_status     21525 non-null  object \n",
      " 6   family_status_id  21525 non-null  int64  \n",
      " 7   gender            21525 non-null  object \n",
      " 8   income_type       21525 non-null  object \n",
      " 9   debt              21525 non-null  int64  \n",
      " 10  total_income      19351 non-null  float64\n",
      " 11  purpose           21525 non-null  object \n",
      "dtypes: float64(2), int64(5), object(5)\n",
      "memory usage: 2.0+ MB\n"
     ]
    }
   ],
   "source": [
    "#смотрим подробности о таблице\n",
    "df.info()"
   ]
  },
  {
   "cell_type": "markdown",
   "metadata": {},
   "source": [
    "Видно, что в колонках \"days_employed\" и \"total_income\" есть пропуски"
   ]
  },
  {
   "cell_type": "code",
   "execution_count": 5,
   "metadata": {},
   "outputs": [
    {
     "data": {
      "text/html": [
       "<div>\n",
       "<style scoped>\n",
       "    .dataframe tbody tr th:only-of-type {\n",
       "        vertical-align: middle;\n",
       "    }\n",
       "\n",
       "    .dataframe tbody tr th {\n",
       "        vertical-align: top;\n",
       "    }\n",
       "\n",
       "    .dataframe thead th {\n",
       "        text-align: right;\n",
       "    }\n",
       "</style>\n",
       "<table border=\"1\" class=\"dataframe\">\n",
       "  <thead>\n",
       "    <tr style=\"text-align: right;\">\n",
       "      <th></th>\n",
       "      <th>children</th>\n",
       "      <th>days_employed</th>\n",
       "      <th>dob_years</th>\n",
       "      <th>education</th>\n",
       "      <th>education_id</th>\n",
       "      <th>family_status</th>\n",
       "      <th>family_status_id</th>\n",
       "      <th>gender</th>\n",
       "      <th>income_type</th>\n",
       "      <th>debt</th>\n",
       "      <th>total_income</th>\n",
       "      <th>purpose</th>\n",
       "    </tr>\n",
       "  </thead>\n",
       "  <tbody>\n",
       "    <tr>\n",
       "      <th>12</th>\n",
       "      <td>0</td>\n",
       "      <td>NaN</td>\n",
       "      <td>65</td>\n",
       "      <td>среднее</td>\n",
       "      <td>1</td>\n",
       "      <td>гражданский брак</td>\n",
       "      <td>1</td>\n",
       "      <td>M</td>\n",
       "      <td>пенсионер</td>\n",
       "      <td>0</td>\n",
       "      <td>NaN</td>\n",
       "      <td>сыграть свадьбу</td>\n",
       "    </tr>\n",
       "    <tr>\n",
       "      <th>26</th>\n",
       "      <td>0</td>\n",
       "      <td>NaN</td>\n",
       "      <td>41</td>\n",
       "      <td>среднее</td>\n",
       "      <td>1</td>\n",
       "      <td>женат / замужем</td>\n",
       "      <td>0</td>\n",
       "      <td>M</td>\n",
       "      <td>госслужащий</td>\n",
       "      <td>0</td>\n",
       "      <td>NaN</td>\n",
       "      <td>образование</td>\n",
       "    </tr>\n",
       "    <tr>\n",
       "      <th>29</th>\n",
       "      <td>0</td>\n",
       "      <td>NaN</td>\n",
       "      <td>63</td>\n",
       "      <td>среднее</td>\n",
       "      <td>1</td>\n",
       "      <td>Не женат / не замужем</td>\n",
       "      <td>4</td>\n",
       "      <td>F</td>\n",
       "      <td>пенсионер</td>\n",
       "      <td>0</td>\n",
       "      <td>NaN</td>\n",
       "      <td>строительство жилой недвижимости</td>\n",
       "    </tr>\n",
       "    <tr>\n",
       "      <th>41</th>\n",
       "      <td>0</td>\n",
       "      <td>NaN</td>\n",
       "      <td>50</td>\n",
       "      <td>среднее</td>\n",
       "      <td>1</td>\n",
       "      <td>женат / замужем</td>\n",
       "      <td>0</td>\n",
       "      <td>F</td>\n",
       "      <td>госслужащий</td>\n",
       "      <td>0</td>\n",
       "      <td>NaN</td>\n",
       "      <td>сделка с подержанным автомобилем</td>\n",
       "    </tr>\n",
       "    <tr>\n",
       "      <th>55</th>\n",
       "      <td>0</td>\n",
       "      <td>NaN</td>\n",
       "      <td>54</td>\n",
       "      <td>среднее</td>\n",
       "      <td>1</td>\n",
       "      <td>гражданский брак</td>\n",
       "      <td>1</td>\n",
       "      <td>F</td>\n",
       "      <td>пенсионер</td>\n",
       "      <td>1</td>\n",
       "      <td>NaN</td>\n",
       "      <td>сыграть свадьбу</td>\n",
       "    </tr>\n",
       "    <tr>\n",
       "      <th>...</th>\n",
       "      <td>...</td>\n",
       "      <td>...</td>\n",
       "      <td>...</td>\n",
       "      <td>...</td>\n",
       "      <td>...</td>\n",
       "      <td>...</td>\n",
       "      <td>...</td>\n",
       "      <td>...</td>\n",
       "      <td>...</td>\n",
       "      <td>...</td>\n",
       "      <td>...</td>\n",
       "      <td>...</td>\n",
       "    </tr>\n",
       "    <tr>\n",
       "      <th>21489</th>\n",
       "      <td>2</td>\n",
       "      <td>NaN</td>\n",
       "      <td>47</td>\n",
       "      <td>Среднее</td>\n",
       "      <td>1</td>\n",
       "      <td>женат / замужем</td>\n",
       "      <td>0</td>\n",
       "      <td>M</td>\n",
       "      <td>компаньон</td>\n",
       "      <td>0</td>\n",
       "      <td>NaN</td>\n",
       "      <td>сделка с автомобилем</td>\n",
       "    </tr>\n",
       "    <tr>\n",
       "      <th>21495</th>\n",
       "      <td>1</td>\n",
       "      <td>NaN</td>\n",
       "      <td>50</td>\n",
       "      <td>среднее</td>\n",
       "      <td>1</td>\n",
       "      <td>гражданский брак</td>\n",
       "      <td>1</td>\n",
       "      <td>F</td>\n",
       "      <td>сотрудник</td>\n",
       "      <td>0</td>\n",
       "      <td>NaN</td>\n",
       "      <td>свадьба</td>\n",
       "    </tr>\n",
       "    <tr>\n",
       "      <th>21497</th>\n",
       "      <td>0</td>\n",
       "      <td>NaN</td>\n",
       "      <td>48</td>\n",
       "      <td>ВЫСШЕЕ</td>\n",
       "      <td>0</td>\n",
       "      <td>женат / замужем</td>\n",
       "      <td>0</td>\n",
       "      <td>F</td>\n",
       "      <td>компаньон</td>\n",
       "      <td>0</td>\n",
       "      <td>NaN</td>\n",
       "      <td>строительство недвижимости</td>\n",
       "    </tr>\n",
       "    <tr>\n",
       "      <th>21502</th>\n",
       "      <td>1</td>\n",
       "      <td>NaN</td>\n",
       "      <td>42</td>\n",
       "      <td>среднее</td>\n",
       "      <td>1</td>\n",
       "      <td>женат / замужем</td>\n",
       "      <td>0</td>\n",
       "      <td>F</td>\n",
       "      <td>сотрудник</td>\n",
       "      <td>0</td>\n",
       "      <td>NaN</td>\n",
       "      <td>строительство жилой недвижимости</td>\n",
       "    </tr>\n",
       "    <tr>\n",
       "      <th>21510</th>\n",
       "      <td>2</td>\n",
       "      <td>NaN</td>\n",
       "      <td>28</td>\n",
       "      <td>среднее</td>\n",
       "      <td>1</td>\n",
       "      <td>женат / замужем</td>\n",
       "      <td>0</td>\n",
       "      <td>F</td>\n",
       "      <td>сотрудник</td>\n",
       "      <td>0</td>\n",
       "      <td>NaN</td>\n",
       "      <td>приобретение автомобиля</td>\n",
       "    </tr>\n",
       "  </tbody>\n",
       "</table>\n",
       "<p>2174 rows × 12 columns</p>\n",
       "</div>"
      ],
      "text/plain": [
       "       children  days_employed  dob_years education  education_id  \\\n",
       "12            0            NaN         65   среднее             1   \n",
       "26            0            NaN         41   среднее             1   \n",
       "29            0            NaN         63   среднее             1   \n",
       "41            0            NaN         50   среднее             1   \n",
       "55            0            NaN         54   среднее             1   \n",
       "...         ...            ...        ...       ...           ...   \n",
       "21489         2            NaN         47   Среднее             1   \n",
       "21495         1            NaN         50   среднее             1   \n",
       "21497         0            NaN         48    ВЫСШЕЕ             0   \n",
       "21502         1            NaN         42   среднее             1   \n",
       "21510         2            NaN         28   среднее             1   \n",
       "\n",
       "               family_status  family_status_id gender  income_type  debt  \\\n",
       "12          гражданский брак                 1      M    пенсионер     0   \n",
       "26           женат / замужем                 0      M  госслужащий     0   \n",
       "29     Не женат / не замужем                 4      F    пенсионер     0   \n",
       "41           женат / замужем                 0      F  госслужащий     0   \n",
       "55          гражданский брак                 1      F    пенсионер     1   \n",
       "...                      ...               ...    ...          ...   ...   \n",
       "21489        женат / замужем                 0      M    компаньон     0   \n",
       "21495       гражданский брак                 1      F    сотрудник     0   \n",
       "21497        женат / замужем                 0      F    компаньон     0   \n",
       "21502        женат / замужем                 0      F    сотрудник     0   \n",
       "21510        женат / замужем                 0      F    сотрудник     0   \n",
       "\n",
       "       total_income                           purpose  \n",
       "12              NaN                   сыграть свадьбу  \n",
       "26              NaN                       образование  \n",
       "29              NaN  строительство жилой недвижимости  \n",
       "41              NaN  сделка с подержанным автомобилем  \n",
       "55              NaN                   сыграть свадьбу  \n",
       "...             ...                               ...  \n",
       "21489           NaN              сделка с автомобилем  \n",
       "21495           NaN                           свадьба  \n",
       "21497           NaN        строительство недвижимости  \n",
       "21502           NaN  строительство жилой недвижимости  \n",
       "21510           NaN           приобретение автомобиля  \n",
       "\n",
       "[2174 rows x 12 columns]"
      ]
     },
     "execution_count": 5,
     "metadata": {},
     "output_type": "execute_result"
    }
   ],
   "source": [
    "#посмотрим предварительно на пропуски в колонке \"total_income\"\n",
    "df.loc[df['total_income'].isna()]"
   ]
  },
  {
   "cell_type": "code",
   "execution_count": 6,
   "metadata": {},
   "outputs": [
    {
     "data": {
      "text/html": [
       "<div>\n",
       "<style scoped>\n",
       "    .dataframe tbody tr th:only-of-type {\n",
       "        vertical-align: middle;\n",
       "    }\n",
       "\n",
       "    .dataframe tbody tr th {\n",
       "        vertical-align: top;\n",
       "    }\n",
       "\n",
       "    .dataframe thead th {\n",
       "        text-align: right;\n",
       "    }\n",
       "</style>\n",
       "<table border=\"1\" class=\"dataframe\">\n",
       "  <thead>\n",
       "    <tr style=\"text-align: right;\">\n",
       "      <th></th>\n",
       "      <th>children</th>\n",
       "      <th>days_employed</th>\n",
       "      <th>dob_years</th>\n",
       "      <th>education</th>\n",
       "      <th>education_id</th>\n",
       "      <th>family_status</th>\n",
       "      <th>family_status_id</th>\n",
       "      <th>gender</th>\n",
       "      <th>income_type</th>\n",
       "      <th>debt</th>\n",
       "      <th>total_income</th>\n",
       "      <th>purpose</th>\n",
       "    </tr>\n",
       "  </thead>\n",
       "  <tbody>\n",
       "    <tr>\n",
       "      <th>12</th>\n",
       "      <td>0</td>\n",
       "      <td>NaN</td>\n",
       "      <td>65</td>\n",
       "      <td>среднее</td>\n",
       "      <td>1</td>\n",
       "      <td>гражданский брак</td>\n",
       "      <td>1</td>\n",
       "      <td>M</td>\n",
       "      <td>пенсионер</td>\n",
       "      <td>0</td>\n",
       "      <td>NaN</td>\n",
       "      <td>сыграть свадьбу</td>\n",
       "    </tr>\n",
       "    <tr>\n",
       "      <th>26</th>\n",
       "      <td>0</td>\n",
       "      <td>NaN</td>\n",
       "      <td>41</td>\n",
       "      <td>среднее</td>\n",
       "      <td>1</td>\n",
       "      <td>женат / замужем</td>\n",
       "      <td>0</td>\n",
       "      <td>M</td>\n",
       "      <td>госслужащий</td>\n",
       "      <td>0</td>\n",
       "      <td>NaN</td>\n",
       "      <td>образование</td>\n",
       "    </tr>\n",
       "    <tr>\n",
       "      <th>29</th>\n",
       "      <td>0</td>\n",
       "      <td>NaN</td>\n",
       "      <td>63</td>\n",
       "      <td>среднее</td>\n",
       "      <td>1</td>\n",
       "      <td>Не женат / не замужем</td>\n",
       "      <td>4</td>\n",
       "      <td>F</td>\n",
       "      <td>пенсионер</td>\n",
       "      <td>0</td>\n",
       "      <td>NaN</td>\n",
       "      <td>строительство жилой недвижимости</td>\n",
       "    </tr>\n",
       "    <tr>\n",
       "      <th>41</th>\n",
       "      <td>0</td>\n",
       "      <td>NaN</td>\n",
       "      <td>50</td>\n",
       "      <td>среднее</td>\n",
       "      <td>1</td>\n",
       "      <td>женат / замужем</td>\n",
       "      <td>0</td>\n",
       "      <td>F</td>\n",
       "      <td>госслужащий</td>\n",
       "      <td>0</td>\n",
       "      <td>NaN</td>\n",
       "      <td>сделка с подержанным автомобилем</td>\n",
       "    </tr>\n",
       "    <tr>\n",
       "      <th>55</th>\n",
       "      <td>0</td>\n",
       "      <td>NaN</td>\n",
       "      <td>54</td>\n",
       "      <td>среднее</td>\n",
       "      <td>1</td>\n",
       "      <td>гражданский брак</td>\n",
       "      <td>1</td>\n",
       "      <td>F</td>\n",
       "      <td>пенсионер</td>\n",
       "      <td>1</td>\n",
       "      <td>NaN</td>\n",
       "      <td>сыграть свадьбу</td>\n",
       "    </tr>\n",
       "    <tr>\n",
       "      <th>...</th>\n",
       "      <td>...</td>\n",
       "      <td>...</td>\n",
       "      <td>...</td>\n",
       "      <td>...</td>\n",
       "      <td>...</td>\n",
       "      <td>...</td>\n",
       "      <td>...</td>\n",
       "      <td>...</td>\n",
       "      <td>...</td>\n",
       "      <td>...</td>\n",
       "      <td>...</td>\n",
       "      <td>...</td>\n",
       "    </tr>\n",
       "    <tr>\n",
       "      <th>21489</th>\n",
       "      <td>2</td>\n",
       "      <td>NaN</td>\n",
       "      <td>47</td>\n",
       "      <td>Среднее</td>\n",
       "      <td>1</td>\n",
       "      <td>женат / замужем</td>\n",
       "      <td>0</td>\n",
       "      <td>M</td>\n",
       "      <td>компаньон</td>\n",
       "      <td>0</td>\n",
       "      <td>NaN</td>\n",
       "      <td>сделка с автомобилем</td>\n",
       "    </tr>\n",
       "    <tr>\n",
       "      <th>21495</th>\n",
       "      <td>1</td>\n",
       "      <td>NaN</td>\n",
       "      <td>50</td>\n",
       "      <td>среднее</td>\n",
       "      <td>1</td>\n",
       "      <td>гражданский брак</td>\n",
       "      <td>1</td>\n",
       "      <td>F</td>\n",
       "      <td>сотрудник</td>\n",
       "      <td>0</td>\n",
       "      <td>NaN</td>\n",
       "      <td>свадьба</td>\n",
       "    </tr>\n",
       "    <tr>\n",
       "      <th>21497</th>\n",
       "      <td>0</td>\n",
       "      <td>NaN</td>\n",
       "      <td>48</td>\n",
       "      <td>ВЫСШЕЕ</td>\n",
       "      <td>0</td>\n",
       "      <td>женат / замужем</td>\n",
       "      <td>0</td>\n",
       "      <td>F</td>\n",
       "      <td>компаньон</td>\n",
       "      <td>0</td>\n",
       "      <td>NaN</td>\n",
       "      <td>строительство недвижимости</td>\n",
       "    </tr>\n",
       "    <tr>\n",
       "      <th>21502</th>\n",
       "      <td>1</td>\n",
       "      <td>NaN</td>\n",
       "      <td>42</td>\n",
       "      <td>среднее</td>\n",
       "      <td>1</td>\n",
       "      <td>женат / замужем</td>\n",
       "      <td>0</td>\n",
       "      <td>F</td>\n",
       "      <td>сотрудник</td>\n",
       "      <td>0</td>\n",
       "      <td>NaN</td>\n",
       "      <td>строительство жилой недвижимости</td>\n",
       "    </tr>\n",
       "    <tr>\n",
       "      <th>21510</th>\n",
       "      <td>2</td>\n",
       "      <td>NaN</td>\n",
       "      <td>28</td>\n",
       "      <td>среднее</td>\n",
       "      <td>1</td>\n",
       "      <td>женат / замужем</td>\n",
       "      <td>0</td>\n",
       "      <td>F</td>\n",
       "      <td>сотрудник</td>\n",
       "      <td>0</td>\n",
       "      <td>NaN</td>\n",
       "      <td>приобретение автомобиля</td>\n",
       "    </tr>\n",
       "  </tbody>\n",
       "</table>\n",
       "<p>2174 rows × 12 columns</p>\n",
       "</div>"
      ],
      "text/plain": [
       "       children  days_employed  dob_years education  education_id  \\\n",
       "12            0            NaN         65   среднее             1   \n",
       "26            0            NaN         41   среднее             1   \n",
       "29            0            NaN         63   среднее             1   \n",
       "41            0            NaN         50   среднее             1   \n",
       "55            0            NaN         54   среднее             1   \n",
       "...         ...            ...        ...       ...           ...   \n",
       "21489         2            NaN         47   Среднее             1   \n",
       "21495         1            NaN         50   среднее             1   \n",
       "21497         0            NaN         48    ВЫСШЕЕ             0   \n",
       "21502         1            NaN         42   среднее             1   \n",
       "21510         2            NaN         28   среднее             1   \n",
       "\n",
       "               family_status  family_status_id gender  income_type  debt  \\\n",
       "12          гражданский брак                 1      M    пенсионер     0   \n",
       "26           женат / замужем                 0      M  госслужащий     0   \n",
       "29     Не женат / не замужем                 4      F    пенсионер     0   \n",
       "41           женат / замужем                 0      F  госслужащий     0   \n",
       "55          гражданский брак                 1      F    пенсионер     1   \n",
       "...                      ...               ...    ...          ...   ...   \n",
       "21489        женат / замужем                 0      M    компаньон     0   \n",
       "21495       гражданский брак                 1      F    сотрудник     0   \n",
       "21497        женат / замужем                 0      F    компаньон     0   \n",
       "21502        женат / замужем                 0      F    сотрудник     0   \n",
       "21510        женат / замужем                 0      F    сотрудник     0   \n",
       "\n",
       "       total_income                           purpose  \n",
       "12              NaN                   сыграть свадьбу  \n",
       "26              NaN                       образование  \n",
       "29              NaN  строительство жилой недвижимости  \n",
       "41              NaN  сделка с подержанным автомобилем  \n",
       "55              NaN                   сыграть свадьбу  \n",
       "...             ...                               ...  \n",
       "21489           NaN              сделка с автомобилем  \n",
       "21495           NaN                           свадьба  \n",
       "21497           NaN        строительство недвижимости  \n",
       "21502           NaN  строительство жилой недвижимости  \n",
       "21510           NaN           приобретение автомобиля  \n",
       "\n",
       "[2174 rows x 12 columns]"
      ]
     },
     "execution_count": 6,
     "metadata": {},
     "output_type": "execute_result"
    }
   ],
   "source": [
    "#посмотрим предварительно на пропуски в колонке \"days_employed\"\n",
    "df.loc[df['days_employed'].isna()]"
   ]
  },
  {
   "cell_type": "markdown",
   "metadata": {},
   "source": [
    "Есть гипотеза, что люди с пропусками в колонке \"total_income\" имеют пропуски и в колонке \"days_employed\""
   ]
  },
  {
   "cell_type": "code",
   "execution_count": 7,
   "metadata": {},
   "outputs": [
    {
     "data": {
      "text/html": [
       "<div>\n",
       "<style scoped>\n",
       "    .dataframe tbody tr th:only-of-type {\n",
       "        vertical-align: middle;\n",
       "    }\n",
       "\n",
       "    .dataframe tbody tr th {\n",
       "        vertical-align: top;\n",
       "    }\n",
       "\n",
       "    .dataframe thead th {\n",
       "        text-align: right;\n",
       "    }\n",
       "</style>\n",
       "<table border=\"1\" class=\"dataframe\">\n",
       "  <thead>\n",
       "    <tr style=\"text-align: right;\">\n",
       "      <th></th>\n",
       "      <th>children</th>\n",
       "      <th>days_employed</th>\n",
       "      <th>dob_years</th>\n",
       "      <th>education</th>\n",
       "      <th>education_id</th>\n",
       "      <th>family_status</th>\n",
       "      <th>family_status_id</th>\n",
       "      <th>gender</th>\n",
       "      <th>income_type</th>\n",
       "      <th>debt</th>\n",
       "      <th>total_income</th>\n",
       "      <th>purpose</th>\n",
       "    </tr>\n",
       "  </thead>\n",
       "  <tbody>\n",
       "    <tr>\n",
       "      <th>12</th>\n",
       "      <td>0</td>\n",
       "      <td>NaN</td>\n",
       "      <td>65</td>\n",
       "      <td>среднее</td>\n",
       "      <td>1</td>\n",
       "      <td>гражданский брак</td>\n",
       "      <td>1</td>\n",
       "      <td>M</td>\n",
       "      <td>пенсионер</td>\n",
       "      <td>0</td>\n",
       "      <td>NaN</td>\n",
       "      <td>сыграть свадьбу</td>\n",
       "    </tr>\n",
       "    <tr>\n",
       "      <th>26</th>\n",
       "      <td>0</td>\n",
       "      <td>NaN</td>\n",
       "      <td>41</td>\n",
       "      <td>среднее</td>\n",
       "      <td>1</td>\n",
       "      <td>женат / замужем</td>\n",
       "      <td>0</td>\n",
       "      <td>M</td>\n",
       "      <td>госслужащий</td>\n",
       "      <td>0</td>\n",
       "      <td>NaN</td>\n",
       "      <td>образование</td>\n",
       "    </tr>\n",
       "    <tr>\n",
       "      <th>29</th>\n",
       "      <td>0</td>\n",
       "      <td>NaN</td>\n",
       "      <td>63</td>\n",
       "      <td>среднее</td>\n",
       "      <td>1</td>\n",
       "      <td>Не женат / не замужем</td>\n",
       "      <td>4</td>\n",
       "      <td>F</td>\n",
       "      <td>пенсионер</td>\n",
       "      <td>0</td>\n",
       "      <td>NaN</td>\n",
       "      <td>строительство жилой недвижимости</td>\n",
       "    </tr>\n",
       "    <tr>\n",
       "      <th>41</th>\n",
       "      <td>0</td>\n",
       "      <td>NaN</td>\n",
       "      <td>50</td>\n",
       "      <td>среднее</td>\n",
       "      <td>1</td>\n",
       "      <td>женат / замужем</td>\n",
       "      <td>0</td>\n",
       "      <td>F</td>\n",
       "      <td>госслужащий</td>\n",
       "      <td>0</td>\n",
       "      <td>NaN</td>\n",
       "      <td>сделка с подержанным автомобилем</td>\n",
       "    </tr>\n",
       "    <tr>\n",
       "      <th>55</th>\n",
       "      <td>0</td>\n",
       "      <td>NaN</td>\n",
       "      <td>54</td>\n",
       "      <td>среднее</td>\n",
       "      <td>1</td>\n",
       "      <td>гражданский брак</td>\n",
       "      <td>1</td>\n",
       "      <td>F</td>\n",
       "      <td>пенсионер</td>\n",
       "      <td>1</td>\n",
       "      <td>NaN</td>\n",
       "      <td>сыграть свадьбу</td>\n",
       "    </tr>\n",
       "    <tr>\n",
       "      <th>...</th>\n",
       "      <td>...</td>\n",
       "      <td>...</td>\n",
       "      <td>...</td>\n",
       "      <td>...</td>\n",
       "      <td>...</td>\n",
       "      <td>...</td>\n",
       "      <td>...</td>\n",
       "      <td>...</td>\n",
       "      <td>...</td>\n",
       "      <td>...</td>\n",
       "      <td>...</td>\n",
       "      <td>...</td>\n",
       "    </tr>\n",
       "    <tr>\n",
       "      <th>21489</th>\n",
       "      <td>2</td>\n",
       "      <td>NaN</td>\n",
       "      <td>47</td>\n",
       "      <td>Среднее</td>\n",
       "      <td>1</td>\n",
       "      <td>женат / замужем</td>\n",
       "      <td>0</td>\n",
       "      <td>M</td>\n",
       "      <td>компаньон</td>\n",
       "      <td>0</td>\n",
       "      <td>NaN</td>\n",
       "      <td>сделка с автомобилем</td>\n",
       "    </tr>\n",
       "    <tr>\n",
       "      <th>21495</th>\n",
       "      <td>1</td>\n",
       "      <td>NaN</td>\n",
       "      <td>50</td>\n",
       "      <td>среднее</td>\n",
       "      <td>1</td>\n",
       "      <td>гражданский брак</td>\n",
       "      <td>1</td>\n",
       "      <td>F</td>\n",
       "      <td>сотрудник</td>\n",
       "      <td>0</td>\n",
       "      <td>NaN</td>\n",
       "      <td>свадьба</td>\n",
       "    </tr>\n",
       "    <tr>\n",
       "      <th>21497</th>\n",
       "      <td>0</td>\n",
       "      <td>NaN</td>\n",
       "      <td>48</td>\n",
       "      <td>ВЫСШЕЕ</td>\n",
       "      <td>0</td>\n",
       "      <td>женат / замужем</td>\n",
       "      <td>0</td>\n",
       "      <td>F</td>\n",
       "      <td>компаньон</td>\n",
       "      <td>0</td>\n",
       "      <td>NaN</td>\n",
       "      <td>строительство недвижимости</td>\n",
       "    </tr>\n",
       "    <tr>\n",
       "      <th>21502</th>\n",
       "      <td>1</td>\n",
       "      <td>NaN</td>\n",
       "      <td>42</td>\n",
       "      <td>среднее</td>\n",
       "      <td>1</td>\n",
       "      <td>женат / замужем</td>\n",
       "      <td>0</td>\n",
       "      <td>F</td>\n",
       "      <td>сотрудник</td>\n",
       "      <td>0</td>\n",
       "      <td>NaN</td>\n",
       "      <td>строительство жилой недвижимости</td>\n",
       "    </tr>\n",
       "    <tr>\n",
       "      <th>21510</th>\n",
       "      <td>2</td>\n",
       "      <td>NaN</td>\n",
       "      <td>28</td>\n",
       "      <td>среднее</td>\n",
       "      <td>1</td>\n",
       "      <td>женат / замужем</td>\n",
       "      <td>0</td>\n",
       "      <td>F</td>\n",
       "      <td>сотрудник</td>\n",
       "      <td>0</td>\n",
       "      <td>NaN</td>\n",
       "      <td>приобретение автомобиля</td>\n",
       "    </tr>\n",
       "  </tbody>\n",
       "</table>\n",
       "<p>2174 rows × 12 columns</p>\n",
       "</div>"
      ],
      "text/plain": [
       "       children  days_employed  dob_years education  education_id  \\\n",
       "12            0            NaN         65   среднее             1   \n",
       "26            0            NaN         41   среднее             1   \n",
       "29            0            NaN         63   среднее             1   \n",
       "41            0            NaN         50   среднее             1   \n",
       "55            0            NaN         54   среднее             1   \n",
       "...         ...            ...        ...       ...           ...   \n",
       "21489         2            NaN         47   Среднее             1   \n",
       "21495         1            NaN         50   среднее             1   \n",
       "21497         0            NaN         48    ВЫСШЕЕ             0   \n",
       "21502         1            NaN         42   среднее             1   \n",
       "21510         2            NaN         28   среднее             1   \n",
       "\n",
       "               family_status  family_status_id gender  income_type  debt  \\\n",
       "12          гражданский брак                 1      M    пенсионер     0   \n",
       "26           женат / замужем                 0      M  госслужащий     0   \n",
       "29     Не женат / не замужем                 4      F    пенсионер     0   \n",
       "41           женат / замужем                 0      F  госслужащий     0   \n",
       "55          гражданский брак                 1      F    пенсионер     1   \n",
       "...                      ...               ...    ...          ...   ...   \n",
       "21489        женат / замужем                 0      M    компаньон     0   \n",
       "21495       гражданский брак                 1      F    сотрудник     0   \n",
       "21497        женат / замужем                 0      F    компаньон     0   \n",
       "21502        женат / замужем                 0      F    сотрудник     0   \n",
       "21510        женат / замужем                 0      F    сотрудник     0   \n",
       "\n",
       "       total_income                           purpose  \n",
       "12              NaN                   сыграть свадьбу  \n",
       "26              NaN                       образование  \n",
       "29              NaN  строительство жилой недвижимости  \n",
       "41              NaN  сделка с подержанным автомобилем  \n",
       "55              NaN                   сыграть свадьбу  \n",
       "...             ...                               ...  \n",
       "21489           NaN              сделка с автомобилем  \n",
       "21495           NaN                           свадьба  \n",
       "21497           NaN        строительство недвижимости  \n",
       "21502           NaN  строительство жилой недвижимости  \n",
       "21510           NaN           приобретение автомобиля  \n",
       "\n",
       "[2174 rows x 12 columns]"
      ]
     },
     "execution_count": 7,
     "metadata": {},
     "output_type": "execute_result"
    }
   ],
   "source": [
    "#выберем те строки в которых одновременно пропущены значения в обеих колонках\n",
    "df.loc[(df['total_income'].isna()) & (df['days_employed'].isna())]"
   ]
  },
  {
   "cell_type": "markdown",
   "metadata": {},
   "source": [
    "Количество пропущенных строк в каждой отдельной колонке и в таблице с объединённым условием равны. Получается, что в нашей таблице пропуски в обеих колонках встречаются в одних и тех же строках. \n",
    "Интересно определить зависят ли эти пропуски от какой-то конкретной категории заёмщиков или распределены равномерно."
   ]
  },
  {
   "cell_type": "markdown",
   "metadata": {},
   "source": [
    "Посмотрим предварительно категории. Сколько их в колонках \"education\", \"family_status\", \"income_type\", \"purpose\". Не дублируются ли они неявным образом, что может сказаться на последующих группировках."
   ]
  },
  {
   "cell_type": "code",
   "execution_count": 8,
   "metadata": {
    "scrolled": false
   },
   "outputs": [
    {
     "name": "stdout",
     "output_type": "stream",
     "text": [
      "education\n"
     ]
    },
    {
     "data": {
      "text/plain": [
       "среднее                13750\n",
       "высшее                  4718\n",
       "СРЕДНЕЕ                  772\n",
       "Среднее                  711\n",
       "неоконченное высшее      668\n",
       "ВЫСШЕЕ                   274\n",
       "Высшее                   268\n",
       "начальное                250\n",
       "Неоконченное высшее       47\n",
       "НЕОКОНЧЕННОЕ ВЫСШЕЕ       29\n",
       "НАЧАЛЬНОЕ                 17\n",
       "Начальное                 15\n",
       "ученая степень             4\n",
       "УЧЕНАЯ СТЕПЕНЬ             1\n",
       "Ученая степень             1\n",
       "Name: education, dtype: int64"
      ]
     },
     "metadata": {},
     "output_type": "display_data"
    },
    {
     "name": "stdout",
     "output_type": "stream",
     "text": [
      "\n",
      "family_status\n"
     ]
    },
    {
     "data": {
      "text/plain": [
       "женат / замужем          12380\n",
       "гражданский брак          4177\n",
       "Не женат / не замужем     2813\n",
       "в разводе                 1195\n",
       "вдовец / вдова             960\n",
       "Name: family_status, dtype: int64"
      ]
     },
     "metadata": {},
     "output_type": "display_data"
    },
    {
     "name": "stdout",
     "output_type": "stream",
     "text": [
      "\n",
      "income_type\n"
     ]
    },
    {
     "data": {
      "text/plain": [
       "сотрудник          11119\n",
       "компаньон           5085\n",
       "пенсионер           3856\n",
       "госслужащий         1459\n",
       "предприниматель        2\n",
       "безработный            2\n",
       "студент                1\n",
       "в декрете              1\n",
       "Name: income_type, dtype: int64"
      ]
     },
     "metadata": {},
     "output_type": "display_data"
    },
    {
     "name": "stdout",
     "output_type": "stream",
     "text": [
      "\n",
      "purpose\n"
     ]
    },
    {
     "data": {
      "text/plain": [
       "свадьба                                   797\n",
       "на проведение свадьбы                     777\n",
       "сыграть свадьбу                           774\n",
       "операции с недвижимостью                  676\n",
       "покупка коммерческой недвижимости         664\n",
       "операции с жильем                         653\n",
       "покупка жилья для сдачи                   653\n",
       "операции с коммерческой недвижимостью     651\n",
       "покупка жилья                             647\n",
       "жилье                                     647\n",
       "покупка жилья для семьи                   641\n",
       "строительство собственной недвижимости    635\n",
       "недвижимость                              634\n",
       "операции со своей недвижимостью           630\n",
       "строительство жилой недвижимости          626\n",
       "покупка недвижимости                      624\n",
       "покупка своего жилья                      620\n",
       "строительство недвижимости                620\n",
       "ремонт жилью                              612\n",
       "покупка жилой недвижимости                607\n",
       "на покупку своего автомобиля              505\n",
       "заняться высшим образованием              496\n",
       "автомобиль                                495\n",
       "сделка с подержанным автомобилем          489\n",
       "свой автомобиль                           480\n",
       "на покупку подержанного автомобиля        479\n",
       "автомобили                                478\n",
       "на покупку автомобиля                     472\n",
       "дополнительное образование                462\n",
       "приобретение автомобиля                   462\n",
       "сделка с автомобилем                      455\n",
       "высшее образование                        453\n",
       "образование                               447\n",
       "получение дополнительного образования     447\n",
       "получение образования                     443\n",
       "профильное образование                    436\n",
       "получение высшего образования             426\n",
       "заняться образованием                     412\n",
       "Name: purpose, dtype: int64"
      ]
     },
     "metadata": {},
     "output_type": "display_data"
    },
    {
     "name": "stdout",
     "output_type": "stream",
     "text": [
      "\n"
     ]
    }
   ],
   "source": [
    "categories = ['education', 'family_status', 'income_type', 'purpose']\n",
    "for cat in categories:\n",
    "    print(cat)\n",
    "    display(df[cat].value_counts())\n",
    "    print()"
   ]
  },
  {
   "cell_type": "markdown",
   "metadata": {},
   "source": [
    "Прикинем количество дубликатов по строкам. Однако имеем в виду, что их может быть и больше по причине наличия неявных дубликатов в категориях."
   ]
  },
  {
   "cell_type": "code",
   "execution_count": 9,
   "metadata": {},
   "outputs": [
    {
     "data": {
      "text/plain": [
       "54"
      ]
     },
     "execution_count": 9,
     "metadata": {},
     "output_type": "execute_result"
    }
   ],
   "source": [
    "df.duplicated().sum()"
   ]
  },
  {
   "cell_type": "markdown",
   "metadata": {},
   "source": [
    "**Вывод**"
   ]
  },
  {
   "cell_type": "markdown",
   "metadata": {},
   "source": [
    "Первый взгляд на данные выявил пропуски в двух колонках. Причём пропуски встречаются у одних и тех же людей. Скорей всего, эти пропуски не являются случайными. Их количество навскидку составляет порядка 10%, так что удалять пропуски нежелательно, предпочтительнее их заполнить. \n",
    "\n",
    "В колонке \"days_employed\" встречаются отрицательные значения.\n",
    "\n",
    "В колонках с категориями \"education\" и \"purpose\" есть неявные дубликаты. И если вместо колонки \"education\" данные можно группировать по дублирующей её колонке \"education_id\", то колонку \"purpose\" надо будет дополнительно лемматизировать."
   ]
  },
  {
   "cell_type": "markdown",
   "metadata": {},
   "source": [
    "## Предобработка данных"
   ]
  },
  {
   "cell_type": "markdown",
   "metadata": {},
   "source": [
    "### Обработка пропусков"
   ]
  },
  {
   "cell_type": "markdown",
   "metadata": {},
   "source": [
    "Рассмотрим сперва пропуски в колонке \"total_income\""
   ]
  },
  {
   "cell_type": "code",
   "execution_count": 12,
   "metadata": {
    "scrolled": false
   },
   "outputs": [
    {
     "data": {
      "text/html": [
       "<div>\n",
       "<style scoped>\n",
       "    .dataframe tbody tr th:only-of-type {\n",
       "        vertical-align: middle;\n",
       "    }\n",
       "\n",
       "    .dataframe tbody tr th {\n",
       "        vertical-align: top;\n",
       "    }\n",
       "\n",
       "    .dataframe thead th {\n",
       "        text-align: right;\n",
       "    }\n",
       "</style>\n",
       "<table border=\"1\" class=\"dataframe\">\n",
       "  <thead>\n",
       "    <tr style=\"text-align: right;\">\n",
       "      <th></th>\n",
       "      <th>children</th>\n",
       "      <th>days_employed</th>\n",
       "      <th>dob_years</th>\n",
       "      <th>education</th>\n",
       "      <th>education_id</th>\n",
       "      <th>family_status</th>\n",
       "      <th>family_status_id</th>\n",
       "      <th>gender</th>\n",
       "      <th>income_type</th>\n",
       "      <th>debt</th>\n",
       "      <th>total_income</th>\n",
       "      <th>purpose</th>\n",
       "    </tr>\n",
       "  </thead>\n",
       "  <tbody>\n",
       "    <tr>\n",
       "      <th>12</th>\n",
       "      <td>0</td>\n",
       "      <td>NaN</td>\n",
       "      <td>65</td>\n",
       "      <td>среднее</td>\n",
       "      <td>1</td>\n",
       "      <td>гражданский брак</td>\n",
       "      <td>1</td>\n",
       "      <td>M</td>\n",
       "      <td>пенсионер</td>\n",
       "      <td>0</td>\n",
       "      <td>NaN</td>\n",
       "      <td>сыграть свадьбу</td>\n",
       "    </tr>\n",
       "    <tr>\n",
       "      <th>26</th>\n",
       "      <td>0</td>\n",
       "      <td>NaN</td>\n",
       "      <td>41</td>\n",
       "      <td>среднее</td>\n",
       "      <td>1</td>\n",
       "      <td>женат / замужем</td>\n",
       "      <td>0</td>\n",
       "      <td>M</td>\n",
       "      <td>госслужащий</td>\n",
       "      <td>0</td>\n",
       "      <td>NaN</td>\n",
       "      <td>образование</td>\n",
       "    </tr>\n",
       "    <tr>\n",
       "      <th>29</th>\n",
       "      <td>0</td>\n",
       "      <td>NaN</td>\n",
       "      <td>63</td>\n",
       "      <td>среднее</td>\n",
       "      <td>1</td>\n",
       "      <td>Не женат / не замужем</td>\n",
       "      <td>4</td>\n",
       "      <td>F</td>\n",
       "      <td>пенсионер</td>\n",
       "      <td>0</td>\n",
       "      <td>NaN</td>\n",
       "      <td>строительство жилой недвижимости</td>\n",
       "    </tr>\n",
       "    <tr>\n",
       "      <th>41</th>\n",
       "      <td>0</td>\n",
       "      <td>NaN</td>\n",
       "      <td>50</td>\n",
       "      <td>среднее</td>\n",
       "      <td>1</td>\n",
       "      <td>женат / замужем</td>\n",
       "      <td>0</td>\n",
       "      <td>F</td>\n",
       "      <td>госслужащий</td>\n",
       "      <td>0</td>\n",
       "      <td>NaN</td>\n",
       "      <td>сделка с подержанным автомобилем</td>\n",
       "    </tr>\n",
       "    <tr>\n",
       "      <th>55</th>\n",
       "      <td>0</td>\n",
       "      <td>NaN</td>\n",
       "      <td>54</td>\n",
       "      <td>среднее</td>\n",
       "      <td>1</td>\n",
       "      <td>гражданский брак</td>\n",
       "      <td>1</td>\n",
       "      <td>F</td>\n",
       "      <td>пенсионер</td>\n",
       "      <td>1</td>\n",
       "      <td>NaN</td>\n",
       "      <td>сыграть свадьбу</td>\n",
       "    </tr>\n",
       "    <tr>\n",
       "      <th>...</th>\n",
       "      <td>...</td>\n",
       "      <td>...</td>\n",
       "      <td>...</td>\n",
       "      <td>...</td>\n",
       "      <td>...</td>\n",
       "      <td>...</td>\n",
       "      <td>...</td>\n",
       "      <td>...</td>\n",
       "      <td>...</td>\n",
       "      <td>...</td>\n",
       "      <td>...</td>\n",
       "      <td>...</td>\n",
       "    </tr>\n",
       "    <tr>\n",
       "      <th>21489</th>\n",
       "      <td>2</td>\n",
       "      <td>NaN</td>\n",
       "      <td>47</td>\n",
       "      <td>Среднее</td>\n",
       "      <td>1</td>\n",
       "      <td>женат / замужем</td>\n",
       "      <td>0</td>\n",
       "      <td>M</td>\n",
       "      <td>компаньон</td>\n",
       "      <td>0</td>\n",
       "      <td>NaN</td>\n",
       "      <td>сделка с автомобилем</td>\n",
       "    </tr>\n",
       "    <tr>\n",
       "      <th>21495</th>\n",
       "      <td>1</td>\n",
       "      <td>NaN</td>\n",
       "      <td>50</td>\n",
       "      <td>среднее</td>\n",
       "      <td>1</td>\n",
       "      <td>гражданский брак</td>\n",
       "      <td>1</td>\n",
       "      <td>F</td>\n",
       "      <td>сотрудник</td>\n",
       "      <td>0</td>\n",
       "      <td>NaN</td>\n",
       "      <td>свадьба</td>\n",
       "    </tr>\n",
       "    <tr>\n",
       "      <th>21497</th>\n",
       "      <td>0</td>\n",
       "      <td>NaN</td>\n",
       "      <td>48</td>\n",
       "      <td>ВЫСШЕЕ</td>\n",
       "      <td>0</td>\n",
       "      <td>женат / замужем</td>\n",
       "      <td>0</td>\n",
       "      <td>F</td>\n",
       "      <td>компаньон</td>\n",
       "      <td>0</td>\n",
       "      <td>NaN</td>\n",
       "      <td>строительство недвижимости</td>\n",
       "    </tr>\n",
       "    <tr>\n",
       "      <th>21502</th>\n",
       "      <td>1</td>\n",
       "      <td>NaN</td>\n",
       "      <td>42</td>\n",
       "      <td>среднее</td>\n",
       "      <td>1</td>\n",
       "      <td>женат / замужем</td>\n",
       "      <td>0</td>\n",
       "      <td>F</td>\n",
       "      <td>сотрудник</td>\n",
       "      <td>0</td>\n",
       "      <td>NaN</td>\n",
       "      <td>строительство жилой недвижимости</td>\n",
       "    </tr>\n",
       "    <tr>\n",
       "      <th>21510</th>\n",
       "      <td>2</td>\n",
       "      <td>NaN</td>\n",
       "      <td>28</td>\n",
       "      <td>среднее</td>\n",
       "      <td>1</td>\n",
       "      <td>женат / замужем</td>\n",
       "      <td>0</td>\n",
       "      <td>F</td>\n",
       "      <td>сотрудник</td>\n",
       "      <td>0</td>\n",
       "      <td>NaN</td>\n",
       "      <td>приобретение автомобиля</td>\n",
       "    </tr>\n",
       "  </tbody>\n",
       "</table>\n",
       "<p>2174 rows × 12 columns</p>\n",
       "</div>"
      ],
      "text/plain": [
       "       children  days_employed  dob_years education  education_id  \\\n",
       "12            0            NaN         65   среднее             1   \n",
       "26            0            NaN         41   среднее             1   \n",
       "29            0            NaN         63   среднее             1   \n",
       "41            0            NaN         50   среднее             1   \n",
       "55            0            NaN         54   среднее             1   \n",
       "...         ...            ...        ...       ...           ...   \n",
       "21489         2            NaN         47   Среднее             1   \n",
       "21495         1            NaN         50   среднее             1   \n",
       "21497         0            NaN         48    ВЫСШЕЕ             0   \n",
       "21502         1            NaN         42   среднее             1   \n",
       "21510         2            NaN         28   среднее             1   \n",
       "\n",
       "               family_status  family_status_id gender  income_type  debt  \\\n",
       "12          гражданский брак                 1      M    пенсионер     0   \n",
       "26           женат / замужем                 0      M  госслужащий     0   \n",
       "29     Не женат / не замужем                 4      F    пенсионер     0   \n",
       "41           женат / замужем                 0      F  госслужащий     0   \n",
       "55          гражданский брак                 1      F    пенсионер     1   \n",
       "...                      ...               ...    ...          ...   ...   \n",
       "21489        женат / замужем                 0      M    компаньон     0   \n",
       "21495       гражданский брак                 1      F    сотрудник     0   \n",
       "21497        женат / замужем                 0      F    компаньон     0   \n",
       "21502        женат / замужем                 0      F    сотрудник     0   \n",
       "21510        женат / замужем                 0      F    сотрудник     0   \n",
       "\n",
       "       total_income                           purpose  \n",
       "12              NaN                   сыграть свадьбу  \n",
       "26              NaN                       образование  \n",
       "29              NaN  строительство жилой недвижимости  \n",
       "41              NaN  сделка с подержанным автомобилем  \n",
       "55              NaN                   сыграть свадьбу  \n",
       "...             ...                               ...  \n",
       "21489           NaN              сделка с автомобилем  \n",
       "21495           NaN                           свадьба  \n",
       "21497           NaN        строительство недвижимости  \n",
       "21502           NaN  строительство жилой недвижимости  \n",
       "21510           NaN           приобретение автомобиля  \n",
       "\n",
       "[2174 rows x 12 columns]"
      ]
     },
     "execution_count": 12,
     "metadata": {},
     "output_type": "execute_result"
    }
   ],
   "source": [
    "df.loc[df['total_income'].isna()]"
   ]
  },
  {
   "cell_type": "markdown",
   "metadata": {},
   "source": [
    "Попробуем сгруппировать данные по 4 ранее описанным категориям \"education\", \"family_status\", \"income_type\", \"purpose\", прежде устранив неявные дубликаты в категории \"education\""
   ]
  },
  {
   "cell_type": "code",
   "execution_count": 13,
   "metadata": {},
   "outputs": [
    {
     "data": {
      "text/plain": [
       "array(['высшее', 'среднее', 'неоконченное высшее', 'начальное',\n",
       "       'ученая степень'], dtype=object)"
      ]
     },
     "execution_count": 13,
     "metadata": {},
     "output_type": "execute_result"
    }
   ],
   "source": [
    "#приводим все категории в колонке  \"education\" к единому виду\n",
    "df['education'] = df['education'].str.lower()\n",
    "#проверяем уникальные значения в категориях колонки \"education\"\n",
    "df['education'].unique()"
   ]
  },
  {
   "cell_type": "markdown",
   "metadata": {},
   "source": [
    "Сгруппируем данные с пропусками в колонке \"total_income\" по категориям \"education\", \"family_status\", \"income_type\""
   ]
  },
  {
   "cell_type": "code",
   "execution_count": 14,
   "metadata": {
    "scrolled": false
   },
   "outputs": [
    {
     "data": {
      "text/html": [
       "<div>\n",
       "<style scoped>\n",
       "    .dataframe tbody tr th:only-of-type {\n",
       "        vertical-align: middle;\n",
       "    }\n",
       "\n",
       "    .dataframe tbody tr th {\n",
       "        vertical-align: top;\n",
       "    }\n",
       "\n",
       "    .dataframe thead th {\n",
       "        text-align: right;\n",
       "    }\n",
       "</style>\n",
       "<table border=\"1\" class=\"dataframe\">\n",
       "  <thead>\n",
       "    <tr style=\"text-align: right;\">\n",
       "      <th></th>\n",
       "      <th>children</th>\n",
       "      <th>days_employed</th>\n",
       "      <th>dob_years</th>\n",
       "      <th>education_id</th>\n",
       "      <th>family_status</th>\n",
       "      <th>family_status_id</th>\n",
       "      <th>gender</th>\n",
       "      <th>income_type</th>\n",
       "      <th>debt</th>\n",
       "      <th>total_income</th>\n",
       "      <th>purpose</th>\n",
       "    </tr>\n",
       "    <tr>\n",
       "      <th>education</th>\n",
       "      <th></th>\n",
       "      <th></th>\n",
       "      <th></th>\n",
       "      <th></th>\n",
       "      <th></th>\n",
       "      <th></th>\n",
       "      <th></th>\n",
       "      <th></th>\n",
       "      <th></th>\n",
       "      <th></th>\n",
       "      <th></th>\n",
       "    </tr>\n",
       "  </thead>\n",
       "  <tbody>\n",
       "    <tr>\n",
       "      <th>высшее</th>\n",
       "      <td>544</td>\n",
       "      <td>0</td>\n",
       "      <td>544</td>\n",
       "      <td>544</td>\n",
       "      <td>544</td>\n",
       "      <td>544</td>\n",
       "      <td>544</td>\n",
       "      <td>544</td>\n",
       "      <td>544</td>\n",
       "      <td>0</td>\n",
       "      <td>544</td>\n",
       "    </tr>\n",
       "    <tr>\n",
       "      <th>начальное</th>\n",
       "      <td>21</td>\n",
       "      <td>0</td>\n",
       "      <td>21</td>\n",
       "      <td>21</td>\n",
       "      <td>21</td>\n",
       "      <td>21</td>\n",
       "      <td>21</td>\n",
       "      <td>21</td>\n",
       "      <td>21</td>\n",
       "      <td>0</td>\n",
       "      <td>21</td>\n",
       "    </tr>\n",
       "    <tr>\n",
       "      <th>неоконченное высшее</th>\n",
       "      <td>69</td>\n",
       "      <td>0</td>\n",
       "      <td>69</td>\n",
       "      <td>69</td>\n",
       "      <td>69</td>\n",
       "      <td>69</td>\n",
       "      <td>69</td>\n",
       "      <td>69</td>\n",
       "      <td>69</td>\n",
       "      <td>0</td>\n",
       "      <td>69</td>\n",
       "    </tr>\n",
       "    <tr>\n",
       "      <th>среднее</th>\n",
       "      <td>1540</td>\n",
       "      <td>0</td>\n",
       "      <td>1540</td>\n",
       "      <td>1540</td>\n",
       "      <td>1540</td>\n",
       "      <td>1540</td>\n",
       "      <td>1540</td>\n",
       "      <td>1540</td>\n",
       "      <td>1540</td>\n",
       "      <td>0</td>\n",
       "      <td>1540</td>\n",
       "    </tr>\n",
       "  </tbody>\n",
       "</table>\n",
       "</div>"
      ],
      "text/plain": [
       "                     children  days_employed  dob_years  education_id  \\\n",
       "education                                                               \n",
       "высшее                    544              0        544           544   \n",
       "начальное                  21              0         21            21   \n",
       "неоконченное высшее        69              0         69            69   \n",
       "среднее                  1540              0       1540          1540   \n",
       "\n",
       "                     family_status  family_status_id  gender  income_type  \\\n",
       "education                                                                   \n",
       "высшее                         544               544     544          544   \n",
       "начальное                       21                21      21           21   \n",
       "неоконченное высшее             69                69      69           69   \n",
       "среднее                       1540              1540    1540         1540   \n",
       "\n",
       "                     debt  total_income  purpose  \n",
       "education                                         \n",
       "высшее                544             0      544  \n",
       "начальное              21             0       21  \n",
       "неоконченное высшее    69             0       69  \n",
       "среднее              1540             0     1540  "
      ]
     },
     "metadata": {},
     "output_type": "display_data"
    },
    {
     "data": {
      "text/html": [
       "<div>\n",
       "<style scoped>\n",
       "    .dataframe tbody tr th:only-of-type {\n",
       "        vertical-align: middle;\n",
       "    }\n",
       "\n",
       "    .dataframe tbody tr th {\n",
       "        vertical-align: top;\n",
       "    }\n",
       "\n",
       "    .dataframe thead th {\n",
       "        text-align: right;\n",
       "    }\n",
       "</style>\n",
       "<table border=\"1\" class=\"dataframe\">\n",
       "  <thead>\n",
       "    <tr style=\"text-align: right;\">\n",
       "      <th></th>\n",
       "      <th>children</th>\n",
       "      <th>days_employed</th>\n",
       "      <th>dob_years</th>\n",
       "      <th>education</th>\n",
       "      <th>education_id</th>\n",
       "      <th>family_status_id</th>\n",
       "      <th>gender</th>\n",
       "      <th>income_type</th>\n",
       "      <th>debt</th>\n",
       "      <th>total_income</th>\n",
       "      <th>purpose</th>\n",
       "    </tr>\n",
       "    <tr>\n",
       "      <th>family_status</th>\n",
       "      <th></th>\n",
       "      <th></th>\n",
       "      <th></th>\n",
       "      <th></th>\n",
       "      <th></th>\n",
       "      <th></th>\n",
       "      <th></th>\n",
       "      <th></th>\n",
       "      <th></th>\n",
       "      <th></th>\n",
       "      <th></th>\n",
       "    </tr>\n",
       "  </thead>\n",
       "  <tbody>\n",
       "    <tr>\n",
       "      <th>Не женат / не замужем</th>\n",
       "      <td>288</td>\n",
       "      <td>0</td>\n",
       "      <td>288</td>\n",
       "      <td>288</td>\n",
       "      <td>288</td>\n",
       "      <td>288</td>\n",
       "      <td>288</td>\n",
       "      <td>288</td>\n",
       "      <td>288</td>\n",
       "      <td>0</td>\n",
       "      <td>288</td>\n",
       "    </tr>\n",
       "    <tr>\n",
       "      <th>в разводе</th>\n",
       "      <td>112</td>\n",
       "      <td>0</td>\n",
       "      <td>112</td>\n",
       "      <td>112</td>\n",
       "      <td>112</td>\n",
       "      <td>112</td>\n",
       "      <td>112</td>\n",
       "      <td>112</td>\n",
       "      <td>112</td>\n",
       "      <td>0</td>\n",
       "      <td>112</td>\n",
       "    </tr>\n",
       "    <tr>\n",
       "      <th>вдовец / вдова</th>\n",
       "      <td>95</td>\n",
       "      <td>0</td>\n",
       "      <td>95</td>\n",
       "      <td>95</td>\n",
       "      <td>95</td>\n",
       "      <td>95</td>\n",
       "      <td>95</td>\n",
       "      <td>95</td>\n",
       "      <td>95</td>\n",
       "      <td>0</td>\n",
       "      <td>95</td>\n",
       "    </tr>\n",
       "    <tr>\n",
       "      <th>гражданский брак</th>\n",
       "      <td>442</td>\n",
       "      <td>0</td>\n",
       "      <td>442</td>\n",
       "      <td>442</td>\n",
       "      <td>442</td>\n",
       "      <td>442</td>\n",
       "      <td>442</td>\n",
       "      <td>442</td>\n",
       "      <td>442</td>\n",
       "      <td>0</td>\n",
       "      <td>442</td>\n",
       "    </tr>\n",
       "    <tr>\n",
       "      <th>женат / замужем</th>\n",
       "      <td>1237</td>\n",
       "      <td>0</td>\n",
       "      <td>1237</td>\n",
       "      <td>1237</td>\n",
       "      <td>1237</td>\n",
       "      <td>1237</td>\n",
       "      <td>1237</td>\n",
       "      <td>1237</td>\n",
       "      <td>1237</td>\n",
       "      <td>0</td>\n",
       "      <td>1237</td>\n",
       "    </tr>\n",
       "  </tbody>\n",
       "</table>\n",
       "</div>"
      ],
      "text/plain": [
       "                       children  days_employed  dob_years  education  \\\n",
       "family_status                                                          \n",
       "Не женат / не замужем       288              0        288        288   \n",
       "в разводе                   112              0        112        112   \n",
       "вдовец / вдова               95              0         95         95   \n",
       "гражданский брак            442              0        442        442   \n",
       "женат / замужем            1237              0       1237       1237   \n",
       "\n",
       "                       education_id  family_status_id  gender  income_type  \\\n",
       "family_status                                                                \n",
       "Не женат / не замужем           288               288     288          288   \n",
       "в разводе                       112               112     112          112   \n",
       "вдовец / вдова                   95                95      95           95   \n",
       "гражданский брак                442               442     442          442   \n",
       "женат / замужем                1237              1237    1237         1237   \n",
       "\n",
       "                       debt  total_income  purpose  \n",
       "family_status                                       \n",
       "Не женат / не замужем   288             0      288  \n",
       "в разводе               112             0      112  \n",
       "вдовец / вдова           95             0       95  \n",
       "гражданский брак        442             0      442  \n",
       "женат / замужем        1237             0     1237  "
      ]
     },
     "metadata": {},
     "output_type": "display_data"
    },
    {
     "data": {
      "text/html": [
       "<div>\n",
       "<style scoped>\n",
       "    .dataframe tbody tr th:only-of-type {\n",
       "        vertical-align: middle;\n",
       "    }\n",
       "\n",
       "    .dataframe tbody tr th {\n",
       "        vertical-align: top;\n",
       "    }\n",
       "\n",
       "    .dataframe thead th {\n",
       "        text-align: right;\n",
       "    }\n",
       "</style>\n",
       "<table border=\"1\" class=\"dataframe\">\n",
       "  <thead>\n",
       "    <tr style=\"text-align: right;\">\n",
       "      <th></th>\n",
       "      <th>children</th>\n",
       "      <th>days_employed</th>\n",
       "      <th>dob_years</th>\n",
       "      <th>education</th>\n",
       "      <th>education_id</th>\n",
       "      <th>family_status</th>\n",
       "      <th>family_status_id</th>\n",
       "      <th>gender</th>\n",
       "      <th>debt</th>\n",
       "      <th>total_income</th>\n",
       "      <th>purpose</th>\n",
       "    </tr>\n",
       "    <tr>\n",
       "      <th>income_type</th>\n",
       "      <th></th>\n",
       "      <th></th>\n",
       "      <th></th>\n",
       "      <th></th>\n",
       "      <th></th>\n",
       "      <th></th>\n",
       "      <th></th>\n",
       "      <th></th>\n",
       "      <th></th>\n",
       "      <th></th>\n",
       "      <th></th>\n",
       "    </tr>\n",
       "  </thead>\n",
       "  <tbody>\n",
       "    <tr>\n",
       "      <th>госслужащий</th>\n",
       "      <td>147</td>\n",
       "      <td>0</td>\n",
       "      <td>147</td>\n",
       "      <td>147</td>\n",
       "      <td>147</td>\n",
       "      <td>147</td>\n",
       "      <td>147</td>\n",
       "      <td>147</td>\n",
       "      <td>147</td>\n",
       "      <td>0</td>\n",
       "      <td>147</td>\n",
       "    </tr>\n",
       "    <tr>\n",
       "      <th>компаньон</th>\n",
       "      <td>508</td>\n",
       "      <td>0</td>\n",
       "      <td>508</td>\n",
       "      <td>508</td>\n",
       "      <td>508</td>\n",
       "      <td>508</td>\n",
       "      <td>508</td>\n",
       "      <td>508</td>\n",
       "      <td>508</td>\n",
       "      <td>0</td>\n",
       "      <td>508</td>\n",
       "    </tr>\n",
       "    <tr>\n",
       "      <th>пенсионер</th>\n",
       "      <td>413</td>\n",
       "      <td>0</td>\n",
       "      <td>413</td>\n",
       "      <td>413</td>\n",
       "      <td>413</td>\n",
       "      <td>413</td>\n",
       "      <td>413</td>\n",
       "      <td>413</td>\n",
       "      <td>413</td>\n",
       "      <td>0</td>\n",
       "      <td>413</td>\n",
       "    </tr>\n",
       "    <tr>\n",
       "      <th>предприниматель</th>\n",
       "      <td>1</td>\n",
       "      <td>0</td>\n",
       "      <td>1</td>\n",
       "      <td>1</td>\n",
       "      <td>1</td>\n",
       "      <td>1</td>\n",
       "      <td>1</td>\n",
       "      <td>1</td>\n",
       "      <td>1</td>\n",
       "      <td>0</td>\n",
       "      <td>1</td>\n",
       "    </tr>\n",
       "    <tr>\n",
       "      <th>сотрудник</th>\n",
       "      <td>1105</td>\n",
       "      <td>0</td>\n",
       "      <td>1105</td>\n",
       "      <td>1105</td>\n",
       "      <td>1105</td>\n",
       "      <td>1105</td>\n",
       "      <td>1105</td>\n",
       "      <td>1105</td>\n",
       "      <td>1105</td>\n",
       "      <td>0</td>\n",
       "      <td>1105</td>\n",
       "    </tr>\n",
       "  </tbody>\n",
       "</table>\n",
       "</div>"
      ],
      "text/plain": [
       "                 children  days_employed  dob_years  education  education_id  \\\n",
       "income_type                                                                    \n",
       "госслужащий           147              0        147        147           147   \n",
       "компаньон             508              0        508        508           508   \n",
       "пенсионер             413              0        413        413           413   \n",
       "предприниматель         1              0          1          1             1   \n",
       "сотрудник            1105              0       1105       1105          1105   \n",
       "\n",
       "                 family_status  family_status_id  gender  debt  total_income  \\\n",
       "income_type                                                                    \n",
       "госслужащий                147               147     147   147             0   \n",
       "компаньон                  508               508     508   508             0   \n",
       "пенсионер                  413               413     413   413             0   \n",
       "предприниматель              1                 1       1     1             0   \n",
       "сотрудник                 1105              1105    1105  1105             0   \n",
       "\n",
       "                 purpose  \n",
       "income_type               \n",
       "госслужащий          147  \n",
       "компаньон            508  \n",
       "пенсионер            413  \n",
       "предприниматель        1  \n",
       "сотрудник           1105  "
      ]
     },
     "metadata": {},
     "output_type": "display_data"
    },
    {
     "data": {
      "text/html": [
       "<div>\n",
       "<style scoped>\n",
       "    .dataframe tbody tr th:only-of-type {\n",
       "        vertical-align: middle;\n",
       "    }\n",
       "\n",
       "    .dataframe tbody tr th {\n",
       "        vertical-align: top;\n",
       "    }\n",
       "\n",
       "    .dataframe thead th {\n",
       "        text-align: right;\n",
       "    }\n",
       "</style>\n",
       "<table border=\"1\" class=\"dataframe\">\n",
       "  <thead>\n",
       "    <tr style=\"text-align: right;\">\n",
       "      <th></th>\n",
       "      <th>children</th>\n",
       "      <th>days_employed</th>\n",
       "      <th>dob_years</th>\n",
       "      <th>education</th>\n",
       "      <th>education_id</th>\n",
       "      <th>family_status</th>\n",
       "      <th>family_status_id</th>\n",
       "      <th>gender</th>\n",
       "      <th>income_type</th>\n",
       "      <th>debt</th>\n",
       "      <th>total_income</th>\n",
       "    </tr>\n",
       "    <tr>\n",
       "      <th>purpose</th>\n",
       "      <th></th>\n",
       "      <th></th>\n",
       "      <th></th>\n",
       "      <th></th>\n",
       "      <th></th>\n",
       "      <th></th>\n",
       "      <th></th>\n",
       "      <th></th>\n",
       "      <th></th>\n",
       "      <th></th>\n",
       "      <th></th>\n",
       "    </tr>\n",
       "  </thead>\n",
       "  <tbody>\n",
       "    <tr>\n",
       "      <th>автомобили</th>\n",
       "      <td>57</td>\n",
       "      <td>0</td>\n",
       "      <td>57</td>\n",
       "      <td>57</td>\n",
       "      <td>57</td>\n",
       "      <td>57</td>\n",
       "      <td>57</td>\n",
       "      <td>57</td>\n",
       "      <td>57</td>\n",
       "      <td>57</td>\n",
       "      <td>0</td>\n",
       "    </tr>\n",
       "    <tr>\n",
       "      <th>автомобиль</th>\n",
       "      <td>41</td>\n",
       "      <td>0</td>\n",
       "      <td>41</td>\n",
       "      <td>41</td>\n",
       "      <td>41</td>\n",
       "      <td>41</td>\n",
       "      <td>41</td>\n",
       "      <td>41</td>\n",
       "      <td>41</td>\n",
       "      <td>41</td>\n",
       "      <td>0</td>\n",
       "    </tr>\n",
       "    <tr>\n",
       "      <th>высшее образование</th>\n",
       "      <td>40</td>\n",
       "      <td>0</td>\n",
       "      <td>40</td>\n",
       "      <td>40</td>\n",
       "      <td>40</td>\n",
       "      <td>40</td>\n",
       "      <td>40</td>\n",
       "      <td>40</td>\n",
       "      <td>40</td>\n",
       "      <td>40</td>\n",
       "      <td>0</td>\n",
       "    </tr>\n",
       "    <tr>\n",
       "      <th>дополнительное образование</th>\n",
       "      <td>48</td>\n",
       "      <td>0</td>\n",
       "      <td>48</td>\n",
       "      <td>48</td>\n",
       "      <td>48</td>\n",
       "      <td>48</td>\n",
       "      <td>48</td>\n",
       "      <td>48</td>\n",
       "      <td>48</td>\n",
       "      <td>48</td>\n",
       "      <td>0</td>\n",
       "    </tr>\n",
       "    <tr>\n",
       "      <th>жилье</th>\n",
       "      <td>60</td>\n",
       "      <td>0</td>\n",
       "      <td>60</td>\n",
       "      <td>60</td>\n",
       "      <td>60</td>\n",
       "      <td>60</td>\n",
       "      <td>60</td>\n",
       "      <td>60</td>\n",
       "      <td>60</td>\n",
       "      <td>60</td>\n",
       "      <td>0</td>\n",
       "    </tr>\n",
       "    <tr>\n",
       "      <th>заняться высшим образованием</th>\n",
       "      <td>56</td>\n",
       "      <td>0</td>\n",
       "      <td>56</td>\n",
       "      <td>56</td>\n",
       "      <td>56</td>\n",
       "      <td>56</td>\n",
       "      <td>56</td>\n",
       "      <td>56</td>\n",
       "      <td>56</td>\n",
       "      <td>56</td>\n",
       "      <td>0</td>\n",
       "    </tr>\n",
       "    <tr>\n",
       "      <th>заняться образованием</th>\n",
       "      <td>55</td>\n",
       "      <td>0</td>\n",
       "      <td>55</td>\n",
       "      <td>55</td>\n",
       "      <td>55</td>\n",
       "      <td>55</td>\n",
       "      <td>55</td>\n",
       "      <td>55</td>\n",
       "      <td>55</td>\n",
       "      <td>55</td>\n",
       "      <td>0</td>\n",
       "    </tr>\n",
       "    <tr>\n",
       "      <th>на покупку автомобиля</th>\n",
       "      <td>30</td>\n",
       "      <td>0</td>\n",
       "      <td>30</td>\n",
       "      <td>30</td>\n",
       "      <td>30</td>\n",
       "      <td>30</td>\n",
       "      <td>30</td>\n",
       "      <td>30</td>\n",
       "      <td>30</td>\n",
       "      <td>30</td>\n",
       "      <td>0</td>\n",
       "    </tr>\n",
       "    <tr>\n",
       "      <th>на покупку подержанного автомобиля</th>\n",
       "      <td>42</td>\n",
       "      <td>0</td>\n",
       "      <td>42</td>\n",
       "      <td>42</td>\n",
       "      <td>42</td>\n",
       "      <td>42</td>\n",
       "      <td>42</td>\n",
       "      <td>42</td>\n",
       "      <td>42</td>\n",
       "      <td>42</td>\n",
       "      <td>0</td>\n",
       "    </tr>\n",
       "    <tr>\n",
       "      <th>на покупку своего автомобиля</th>\n",
       "      <td>53</td>\n",
       "      <td>0</td>\n",
       "      <td>53</td>\n",
       "      <td>53</td>\n",
       "      <td>53</td>\n",
       "      <td>53</td>\n",
       "      <td>53</td>\n",
       "      <td>53</td>\n",
       "      <td>53</td>\n",
       "      <td>53</td>\n",
       "      <td>0</td>\n",
       "    </tr>\n",
       "    <tr>\n",
       "      <th>на проведение свадьбы</th>\n",
       "      <td>92</td>\n",
       "      <td>0</td>\n",
       "      <td>92</td>\n",
       "      <td>92</td>\n",
       "      <td>92</td>\n",
       "      <td>92</td>\n",
       "      <td>92</td>\n",
       "      <td>92</td>\n",
       "      <td>92</td>\n",
       "      <td>92</td>\n",
       "      <td>0</td>\n",
       "    </tr>\n",
       "    <tr>\n",
       "      <th>недвижимость</th>\n",
       "      <td>62</td>\n",
       "      <td>0</td>\n",
       "      <td>62</td>\n",
       "      <td>62</td>\n",
       "      <td>62</td>\n",
       "      <td>62</td>\n",
       "      <td>62</td>\n",
       "      <td>62</td>\n",
       "      <td>62</td>\n",
       "      <td>62</td>\n",
       "      <td>0</td>\n",
       "    </tr>\n",
       "    <tr>\n",
       "      <th>образование</th>\n",
       "      <td>42</td>\n",
       "      <td>0</td>\n",
       "      <td>42</td>\n",
       "      <td>42</td>\n",
       "      <td>42</td>\n",
       "      <td>42</td>\n",
       "      <td>42</td>\n",
       "      <td>42</td>\n",
       "      <td>42</td>\n",
       "      <td>42</td>\n",
       "      <td>0</td>\n",
       "    </tr>\n",
       "    <tr>\n",
       "      <th>операции с жильем</th>\n",
       "      <td>74</td>\n",
       "      <td>0</td>\n",
       "      <td>74</td>\n",
       "      <td>74</td>\n",
       "      <td>74</td>\n",
       "      <td>74</td>\n",
       "      <td>74</td>\n",
       "      <td>74</td>\n",
       "      <td>74</td>\n",
       "      <td>74</td>\n",
       "      <td>0</td>\n",
       "    </tr>\n",
       "    <tr>\n",
       "      <th>операции с коммерческой недвижимостью</th>\n",
       "      <td>70</td>\n",
       "      <td>0</td>\n",
       "      <td>70</td>\n",
       "      <td>70</td>\n",
       "      <td>70</td>\n",
       "      <td>70</td>\n",
       "      <td>70</td>\n",
       "      <td>70</td>\n",
       "      <td>70</td>\n",
       "      <td>70</td>\n",
       "      <td>0</td>\n",
       "    </tr>\n",
       "    <tr>\n",
       "      <th>операции с недвижимостью</th>\n",
       "      <td>61</td>\n",
       "      <td>0</td>\n",
       "      <td>61</td>\n",
       "      <td>61</td>\n",
       "      <td>61</td>\n",
       "      <td>61</td>\n",
       "      <td>61</td>\n",
       "      <td>61</td>\n",
       "      <td>61</td>\n",
       "      <td>61</td>\n",
       "      <td>0</td>\n",
       "    </tr>\n",
       "    <tr>\n",
       "      <th>операции со своей недвижимостью</th>\n",
       "      <td>71</td>\n",
       "      <td>0</td>\n",
       "      <td>71</td>\n",
       "      <td>71</td>\n",
       "      <td>71</td>\n",
       "      <td>71</td>\n",
       "      <td>71</td>\n",
       "      <td>71</td>\n",
       "      <td>71</td>\n",
       "      <td>71</td>\n",
       "      <td>0</td>\n",
       "    </tr>\n",
       "    <tr>\n",
       "      <th>покупка жилой недвижимости</th>\n",
       "      <td>61</td>\n",
       "      <td>0</td>\n",
       "      <td>61</td>\n",
       "      <td>61</td>\n",
       "      <td>61</td>\n",
       "      <td>61</td>\n",
       "      <td>61</td>\n",
       "      <td>61</td>\n",
       "      <td>61</td>\n",
       "      <td>61</td>\n",
       "      <td>0</td>\n",
       "    </tr>\n",
       "    <tr>\n",
       "      <th>покупка жилья</th>\n",
       "      <td>52</td>\n",
       "      <td>0</td>\n",
       "      <td>52</td>\n",
       "      <td>52</td>\n",
       "      <td>52</td>\n",
       "      <td>52</td>\n",
       "      <td>52</td>\n",
       "      <td>52</td>\n",
       "      <td>52</td>\n",
       "      <td>52</td>\n",
       "      <td>0</td>\n",
       "    </tr>\n",
       "    <tr>\n",
       "      <th>покупка жилья для сдачи</th>\n",
       "      <td>65</td>\n",
       "      <td>0</td>\n",
       "      <td>65</td>\n",
       "      <td>65</td>\n",
       "      <td>65</td>\n",
       "      <td>65</td>\n",
       "      <td>65</td>\n",
       "      <td>65</td>\n",
       "      <td>65</td>\n",
       "      <td>65</td>\n",
       "      <td>0</td>\n",
       "    </tr>\n",
       "    <tr>\n",
       "      <th>покупка жилья для семьи</th>\n",
       "      <td>71</td>\n",
       "      <td>0</td>\n",
       "      <td>71</td>\n",
       "      <td>71</td>\n",
       "      <td>71</td>\n",
       "      <td>71</td>\n",
       "      <td>71</td>\n",
       "      <td>71</td>\n",
       "      <td>71</td>\n",
       "      <td>71</td>\n",
       "      <td>0</td>\n",
       "    </tr>\n",
       "    <tr>\n",
       "      <th>покупка коммерческой недвижимости</th>\n",
       "      <td>67</td>\n",
       "      <td>0</td>\n",
       "      <td>67</td>\n",
       "      <td>67</td>\n",
       "      <td>67</td>\n",
       "      <td>67</td>\n",
       "      <td>67</td>\n",
       "      <td>67</td>\n",
       "      <td>67</td>\n",
       "      <td>67</td>\n",
       "      <td>0</td>\n",
       "    </tr>\n",
       "    <tr>\n",
       "      <th>покупка недвижимости</th>\n",
       "      <td>72</td>\n",
       "      <td>0</td>\n",
       "      <td>72</td>\n",
       "      <td>72</td>\n",
       "      <td>72</td>\n",
       "      <td>72</td>\n",
       "      <td>72</td>\n",
       "      <td>72</td>\n",
       "      <td>72</td>\n",
       "      <td>72</td>\n",
       "      <td>0</td>\n",
       "    </tr>\n",
       "    <tr>\n",
       "      <th>покупка своего жилья</th>\n",
       "      <td>46</td>\n",
       "      <td>0</td>\n",
       "      <td>46</td>\n",
       "      <td>46</td>\n",
       "      <td>46</td>\n",
       "      <td>46</td>\n",
       "      <td>46</td>\n",
       "      <td>46</td>\n",
       "      <td>46</td>\n",
       "      <td>46</td>\n",
       "      <td>0</td>\n",
       "    </tr>\n",
       "    <tr>\n",
       "      <th>получение высшего образования</th>\n",
       "      <td>36</td>\n",
       "      <td>0</td>\n",
       "      <td>36</td>\n",
       "      <td>36</td>\n",
       "      <td>36</td>\n",
       "      <td>36</td>\n",
       "      <td>36</td>\n",
       "      <td>36</td>\n",
       "      <td>36</td>\n",
       "      <td>36</td>\n",
       "      <td>0</td>\n",
       "    </tr>\n",
       "    <tr>\n",
       "      <th>получение дополнительного образования</th>\n",
       "      <td>51</td>\n",
       "      <td>0</td>\n",
       "      <td>51</td>\n",
       "      <td>51</td>\n",
       "      <td>51</td>\n",
       "      <td>51</td>\n",
       "      <td>51</td>\n",
       "      <td>51</td>\n",
       "      <td>51</td>\n",
       "      <td>51</td>\n",
       "      <td>0</td>\n",
       "    </tr>\n",
       "    <tr>\n",
       "      <th>получение образования</th>\n",
       "      <td>50</td>\n",
       "      <td>0</td>\n",
       "      <td>50</td>\n",
       "      <td>50</td>\n",
       "      <td>50</td>\n",
       "      <td>50</td>\n",
       "      <td>50</td>\n",
       "      <td>50</td>\n",
       "      <td>50</td>\n",
       "      <td>50</td>\n",
       "      <td>0</td>\n",
       "    </tr>\n",
       "    <tr>\n",
       "      <th>приобретение автомобиля</th>\n",
       "      <td>43</td>\n",
       "      <td>0</td>\n",
       "      <td>43</td>\n",
       "      <td>43</td>\n",
       "      <td>43</td>\n",
       "      <td>43</td>\n",
       "      <td>43</td>\n",
       "      <td>43</td>\n",
       "      <td>43</td>\n",
       "      <td>43</td>\n",
       "      <td>0</td>\n",
       "    </tr>\n",
       "    <tr>\n",
       "      <th>профильное образование</th>\n",
       "      <td>47</td>\n",
       "      <td>0</td>\n",
       "      <td>47</td>\n",
       "      <td>47</td>\n",
       "      <td>47</td>\n",
       "      <td>47</td>\n",
       "      <td>47</td>\n",
       "      <td>47</td>\n",
       "      <td>47</td>\n",
       "      <td>47</td>\n",
       "      <td>0</td>\n",
       "    </tr>\n",
       "    <tr>\n",
       "      <th>ремонт жилью</th>\n",
       "      <td>70</td>\n",
       "      <td>0</td>\n",
       "      <td>70</td>\n",
       "      <td>70</td>\n",
       "      <td>70</td>\n",
       "      <td>70</td>\n",
       "      <td>70</td>\n",
       "      <td>70</td>\n",
       "      <td>70</td>\n",
       "      <td>70</td>\n",
       "      <td>0</td>\n",
       "    </tr>\n",
       "    <tr>\n",
       "      <th>свадьба</th>\n",
       "      <td>76</td>\n",
       "      <td>0</td>\n",
       "      <td>76</td>\n",
       "      <td>76</td>\n",
       "      <td>76</td>\n",
       "      <td>76</td>\n",
       "      <td>76</td>\n",
       "      <td>76</td>\n",
       "      <td>76</td>\n",
       "      <td>76</td>\n",
       "      <td>0</td>\n",
       "    </tr>\n",
       "    <tr>\n",
       "      <th>свой автомобиль</th>\n",
       "      <td>52</td>\n",
       "      <td>0</td>\n",
       "      <td>52</td>\n",
       "      <td>52</td>\n",
       "      <td>52</td>\n",
       "      <td>52</td>\n",
       "      <td>52</td>\n",
       "      <td>52</td>\n",
       "      <td>52</td>\n",
       "      <td>52</td>\n",
       "      <td>0</td>\n",
       "    </tr>\n",
       "    <tr>\n",
       "      <th>сделка с автомобилем</th>\n",
       "      <td>46</td>\n",
       "      <td>0</td>\n",
       "      <td>46</td>\n",
       "      <td>46</td>\n",
       "      <td>46</td>\n",
       "      <td>46</td>\n",
       "      <td>46</td>\n",
       "      <td>46</td>\n",
       "      <td>46</td>\n",
       "      <td>46</td>\n",
       "      <td>0</td>\n",
       "    </tr>\n",
       "    <tr>\n",
       "      <th>сделка с подержанным автомобилем</th>\n",
       "      <td>54</td>\n",
       "      <td>0</td>\n",
       "      <td>54</td>\n",
       "      <td>54</td>\n",
       "      <td>54</td>\n",
       "      <td>54</td>\n",
       "      <td>54</td>\n",
       "      <td>54</td>\n",
       "      <td>54</td>\n",
       "      <td>54</td>\n",
       "      <td>0</td>\n",
       "    </tr>\n",
       "    <tr>\n",
       "      <th>строительство жилой недвижимости</th>\n",
       "      <td>46</td>\n",
       "      <td>0</td>\n",
       "      <td>46</td>\n",
       "      <td>46</td>\n",
       "      <td>46</td>\n",
       "      <td>46</td>\n",
       "      <td>46</td>\n",
       "      <td>46</td>\n",
       "      <td>46</td>\n",
       "      <td>46</td>\n",
       "      <td>0</td>\n",
       "    </tr>\n",
       "    <tr>\n",
       "      <th>строительство недвижимости</th>\n",
       "      <td>59</td>\n",
       "      <td>0</td>\n",
       "      <td>59</td>\n",
       "      <td>59</td>\n",
       "      <td>59</td>\n",
       "      <td>59</td>\n",
       "      <td>59</td>\n",
       "      <td>59</td>\n",
       "      <td>59</td>\n",
       "      <td>59</td>\n",
       "      <td>0</td>\n",
       "    </tr>\n",
       "    <tr>\n",
       "      <th>строительство собственной недвижимости</th>\n",
       "      <td>75</td>\n",
       "      <td>0</td>\n",
       "      <td>75</td>\n",
       "      <td>75</td>\n",
       "      <td>75</td>\n",
       "      <td>75</td>\n",
       "      <td>75</td>\n",
       "      <td>75</td>\n",
       "      <td>75</td>\n",
       "      <td>75</td>\n",
       "      <td>0</td>\n",
       "    </tr>\n",
       "    <tr>\n",
       "      <th>сыграть свадьбу</th>\n",
       "      <td>81</td>\n",
       "      <td>0</td>\n",
       "      <td>81</td>\n",
       "      <td>81</td>\n",
       "      <td>81</td>\n",
       "      <td>81</td>\n",
       "      <td>81</td>\n",
       "      <td>81</td>\n",
       "      <td>81</td>\n",
       "      <td>81</td>\n",
       "      <td>0</td>\n",
       "    </tr>\n",
       "  </tbody>\n",
       "</table>\n",
       "</div>"
      ],
      "text/plain": [
       "                                        children  days_employed  dob_years  \\\n",
       "purpose                                                                      \n",
       "автомобили                                    57              0         57   \n",
       "автомобиль                                    41              0         41   \n",
       "высшее образование                            40              0         40   \n",
       "дополнительное образование                    48              0         48   \n",
       "жилье                                         60              0         60   \n",
       "заняться высшим образованием                  56              0         56   \n",
       "заняться образованием                         55              0         55   \n",
       "на покупку автомобиля                         30              0         30   \n",
       "на покупку подержанного автомобиля            42              0         42   \n",
       "на покупку своего автомобиля                  53              0         53   \n",
       "на проведение свадьбы                         92              0         92   \n",
       "недвижимость                                  62              0         62   \n",
       "образование                                   42              0         42   \n",
       "операции с жильем                             74              0         74   \n",
       "операции с коммерческой недвижимостью         70              0         70   \n",
       "операции с недвижимостью                      61              0         61   \n",
       "операции со своей недвижимостью               71              0         71   \n",
       "покупка жилой недвижимости                    61              0         61   \n",
       "покупка жилья                                 52              0         52   \n",
       "покупка жилья для сдачи                       65              0         65   \n",
       "покупка жилья для семьи                       71              0         71   \n",
       "покупка коммерческой недвижимости             67              0         67   \n",
       "покупка недвижимости                          72              0         72   \n",
       "покупка своего жилья                          46              0         46   \n",
       "получение высшего образования                 36              0         36   \n",
       "получение дополнительного образования         51              0         51   \n",
       "получение образования                         50              0         50   \n",
       "приобретение автомобиля                       43              0         43   \n",
       "профильное образование                        47              0         47   \n",
       "ремонт жилью                                  70              0         70   \n",
       "свадьба                                       76              0         76   \n",
       "свой автомобиль                               52              0         52   \n",
       "сделка с автомобилем                          46              0         46   \n",
       "сделка с подержанным автомобилем              54              0         54   \n",
       "строительство жилой недвижимости              46              0         46   \n",
       "строительство недвижимости                    59              0         59   \n",
       "строительство собственной недвижимости        75              0         75   \n",
       "сыграть свадьбу                               81              0         81   \n",
       "\n",
       "                                        education  education_id  \\\n",
       "purpose                                                           \n",
       "автомобили                                     57            57   \n",
       "автомобиль                                     41            41   \n",
       "высшее образование                             40            40   \n",
       "дополнительное образование                     48            48   \n",
       "жилье                                          60            60   \n",
       "заняться высшим образованием                   56            56   \n",
       "заняться образованием                          55            55   \n",
       "на покупку автомобиля                          30            30   \n",
       "на покупку подержанного автомобиля             42            42   \n",
       "на покупку своего автомобиля                   53            53   \n",
       "на проведение свадьбы                          92            92   \n",
       "недвижимость                                   62            62   \n",
       "образование                                    42            42   \n",
       "операции с жильем                              74            74   \n",
       "операции с коммерческой недвижимостью          70            70   \n",
       "операции с недвижимостью                       61            61   \n",
       "операции со своей недвижимостью                71            71   \n",
       "покупка жилой недвижимости                     61            61   \n",
       "покупка жилья                                  52            52   \n",
       "покупка жилья для сдачи                        65            65   \n",
       "покупка жилья для семьи                        71            71   \n",
       "покупка коммерческой недвижимости              67            67   \n",
       "покупка недвижимости                           72            72   \n",
       "покупка своего жилья                           46            46   \n",
       "получение высшего образования                  36            36   \n",
       "получение дополнительного образования          51            51   \n",
       "получение образования                          50            50   \n",
       "приобретение автомобиля                        43            43   \n",
       "профильное образование                         47            47   \n",
       "ремонт жилью                                   70            70   \n",
       "свадьба                                        76            76   \n",
       "свой автомобиль                                52            52   \n",
       "сделка с автомобилем                           46            46   \n",
       "сделка с подержанным автомобилем               54            54   \n",
       "строительство жилой недвижимости               46            46   \n",
       "строительство недвижимости                     59            59   \n",
       "строительство собственной недвижимости         75            75   \n",
       "сыграть свадьбу                                81            81   \n",
       "\n",
       "                                        family_status  family_status_id  \\\n",
       "purpose                                                                   \n",
       "автомобили                                         57                57   \n",
       "автомобиль                                         41                41   \n",
       "высшее образование                                 40                40   \n",
       "дополнительное образование                         48                48   \n",
       "жилье                                              60                60   \n",
       "заняться высшим образованием                       56                56   \n",
       "заняться образованием                              55                55   \n",
       "на покупку автомобиля                              30                30   \n",
       "на покупку подержанного автомобиля                 42                42   \n",
       "на покупку своего автомобиля                       53                53   \n",
       "на проведение свадьбы                              92                92   \n",
       "недвижимость                                       62                62   \n",
       "образование                                        42                42   \n",
       "операции с жильем                                  74                74   \n",
       "операции с коммерческой недвижимостью              70                70   \n",
       "операции с недвижимостью                           61                61   \n",
       "операции со своей недвижимостью                    71                71   \n",
       "покупка жилой недвижимости                         61                61   \n",
       "покупка жилья                                      52                52   \n",
       "покупка жилья для сдачи                            65                65   \n",
       "покупка жилья для семьи                            71                71   \n",
       "покупка коммерческой недвижимости                  67                67   \n",
       "покупка недвижимости                               72                72   \n",
       "покупка своего жилья                               46                46   \n",
       "получение высшего образования                      36                36   \n",
       "получение дополнительного образования              51                51   \n",
       "получение образования                              50                50   \n",
       "приобретение автомобиля                            43                43   \n",
       "профильное образование                             47                47   \n",
       "ремонт жилью                                       70                70   \n",
       "свадьба                                            76                76   \n",
       "свой автомобиль                                    52                52   \n",
       "сделка с автомобилем                               46                46   \n",
       "сделка с подержанным автомобилем                   54                54   \n",
       "строительство жилой недвижимости                   46                46   \n",
       "строительство недвижимости                         59                59   \n",
       "строительство собственной недвижимости             75                75   \n",
       "сыграть свадьбу                                    81                81   \n",
       "\n",
       "                                        gender  income_type  debt  \\\n",
       "purpose                                                             \n",
       "автомобили                                  57           57    57   \n",
       "автомобиль                                  41           41    41   \n",
       "высшее образование                          40           40    40   \n",
       "дополнительное образование                  48           48    48   \n",
       "жилье                                       60           60    60   \n",
       "заняться высшим образованием                56           56    56   \n",
       "заняться образованием                       55           55    55   \n",
       "на покупку автомобиля                       30           30    30   \n",
       "на покупку подержанного автомобиля          42           42    42   \n",
       "на покупку своего автомобиля                53           53    53   \n",
       "на проведение свадьбы                       92           92    92   \n",
       "недвижимость                                62           62    62   \n",
       "образование                                 42           42    42   \n",
       "операции с жильем                           74           74    74   \n",
       "операции с коммерческой недвижимостью       70           70    70   \n",
       "операции с недвижимостью                    61           61    61   \n",
       "операции со своей недвижимостью             71           71    71   \n",
       "покупка жилой недвижимости                  61           61    61   \n",
       "покупка жилья                               52           52    52   \n",
       "покупка жилья для сдачи                     65           65    65   \n",
       "покупка жилья для семьи                     71           71    71   \n",
       "покупка коммерческой недвижимости           67           67    67   \n",
       "покупка недвижимости                        72           72    72   \n",
       "покупка своего жилья                        46           46    46   \n",
       "получение высшего образования               36           36    36   \n",
       "получение дополнительного образования       51           51    51   \n",
       "получение образования                       50           50    50   \n",
       "приобретение автомобиля                     43           43    43   \n",
       "профильное образование                      47           47    47   \n",
       "ремонт жилью                                70           70    70   \n",
       "свадьба                                     76           76    76   \n",
       "свой автомобиль                             52           52    52   \n",
       "сделка с автомобилем                        46           46    46   \n",
       "сделка с подержанным автомобилем            54           54    54   \n",
       "строительство жилой недвижимости            46           46    46   \n",
       "строительство недвижимости                  59           59    59   \n",
       "строительство собственной недвижимости      75           75    75   \n",
       "сыграть свадьбу                             81           81    81   \n",
       "\n",
       "                                        total_income  \n",
       "purpose                                               \n",
       "автомобили                                         0  \n",
       "автомобиль                                         0  \n",
       "высшее образование                                 0  \n",
       "дополнительное образование                         0  \n",
       "жилье                                              0  \n",
       "заняться высшим образованием                       0  \n",
       "заняться образованием                              0  \n",
       "на покупку автомобиля                              0  \n",
       "на покупку подержанного автомобиля                 0  \n",
       "на покупку своего автомобиля                       0  \n",
       "на проведение свадьбы                              0  \n",
       "недвижимость                                       0  \n",
       "образование                                        0  \n",
       "операции с жильем                                  0  \n",
       "операции с коммерческой недвижимостью              0  \n",
       "операции с недвижимостью                           0  \n",
       "операции со своей недвижимостью                    0  \n",
       "покупка жилой недвижимости                         0  \n",
       "покупка жилья                                      0  \n",
       "покупка жилья для сдачи                            0  \n",
       "покупка жилья для семьи                            0  \n",
       "покупка коммерческой недвижимости                  0  \n",
       "покупка недвижимости                               0  \n",
       "покупка своего жилья                               0  \n",
       "получение высшего образования                      0  \n",
       "получение дополнительного образования              0  \n",
       "получение образования                              0  \n",
       "приобретение автомобиля                            0  \n",
       "профильное образование                             0  \n",
       "ремонт жилью                                       0  \n",
       "свадьба                                            0  \n",
       "свой автомобиль                                    0  \n",
       "сделка с автомобилем                               0  \n",
       "сделка с подержанным автомобилем                   0  \n",
       "строительство жилой недвижимости                   0  \n",
       "строительство недвижимости                         0  \n",
       "строительство собственной недвижимости             0  \n",
       "сыграть свадьбу                                    0  "
      ]
     },
     "metadata": {},
     "output_type": "display_data"
    }
   ],
   "source": [
    "#группировка данных\n",
    "for col in categories:\n",
    "    display(df.loc[df['total_income'].isna()].groupby(col).count())"
   ]
  },
  {
   "cell_type": "markdown",
   "metadata": {},
   "source": [
    "Группировка показала, что пропуски в данных по большей части имеются у людей со средним образованием, состоящих в браке и принадлежащих категории \"сотрудник\". "
   ]
  },
  {
   "cell_type": "markdown",
   "metadata": {},
   "source": [
    "Логично предположить, что доход человека в большей степени зависит от его занятий, чем от образования, тем не менее для более точного попадания можно выделить группы доходов по нескольким категориям. \n",
    "\n",
    "Давайте в заменим пропуски в колонке \"total_income\" по медианным значениям (чтобы уйти от излишнего разброса) сгруппировав заёмщиков по трём категориям - \"income_type\", \"education\", \"age_group\". Для этого нам потребуется категоризовать колонку \"dob_years\" чуть раньше по проекту. "
   ]
  },
  {
   "cell_type": "code",
   "execution_count": 15,
   "metadata": {},
   "outputs": [],
   "source": [
    "#Создание функции категоризации по возрасту\n",
    "def age_group(age):\n",
    "    if age <= 24:\n",
    "        return 'молодой возраст'\n",
    "    if 25 < age <= 45:\n",
    "        return 'средний возраст'\n",
    "    if 46 < age <= 64:\n",
    "        return 'старший возраст'    \n",
    "    return 'пожилой возраст'"
   ]
  },
  {
   "cell_type": "code",
   "execution_count": 16,
   "metadata": {},
   "outputs": [],
   "source": [
    "#Применим функцию к столбцу \"dob_years\", получив дополнительный столбец \"age_group\" с возрастными категориями\n",
    "df['age_group'] = df['dob_years'].apply(age_group)"
   ]
  },
  {
   "cell_type": "code",
   "execution_count": 17,
   "metadata": {
    "scrolled": true
   },
   "outputs": [
    {
     "data": {
      "text/html": [
       "<div>\n",
       "<style scoped>\n",
       "    .dataframe tbody tr th:only-of-type {\n",
       "        vertical-align: middle;\n",
       "    }\n",
       "\n",
       "    .dataframe tbody tr th {\n",
       "        vertical-align: top;\n",
       "    }\n",
       "\n",
       "    .dataframe thead th {\n",
       "        text-align: right;\n",
       "    }\n",
       "</style>\n",
       "<table border=\"1\" class=\"dataframe\">\n",
       "  <thead>\n",
       "    <tr style=\"text-align: right;\">\n",
       "      <th></th>\n",
       "      <th>children</th>\n",
       "      <th>days_employed</th>\n",
       "      <th>dob_years</th>\n",
       "      <th>education</th>\n",
       "      <th>education_id</th>\n",
       "      <th>family_status</th>\n",
       "      <th>family_status_id</th>\n",
       "      <th>gender</th>\n",
       "      <th>income_type</th>\n",
       "      <th>debt</th>\n",
       "      <th>total_income</th>\n",
       "      <th>purpose</th>\n",
       "      <th>age_group</th>\n",
       "    </tr>\n",
       "  </thead>\n",
       "  <tbody>\n",
       "    <tr>\n",
       "      <th>0</th>\n",
       "      <td>1</td>\n",
       "      <td>-8437.673028</td>\n",
       "      <td>42</td>\n",
       "      <td>высшее</td>\n",
       "      <td>0</td>\n",
       "      <td>женат / замужем</td>\n",
       "      <td>0</td>\n",
       "      <td>F</td>\n",
       "      <td>сотрудник</td>\n",
       "      <td>0</td>\n",
       "      <td>253875.639453</td>\n",
       "      <td>покупка жилья</td>\n",
       "      <td>средний возраст</td>\n",
       "    </tr>\n",
       "    <tr>\n",
       "      <th>1</th>\n",
       "      <td>1</td>\n",
       "      <td>-4024.803754</td>\n",
       "      <td>36</td>\n",
       "      <td>среднее</td>\n",
       "      <td>1</td>\n",
       "      <td>женат / замужем</td>\n",
       "      <td>0</td>\n",
       "      <td>F</td>\n",
       "      <td>сотрудник</td>\n",
       "      <td>0</td>\n",
       "      <td>112080.014102</td>\n",
       "      <td>приобретение автомобиля</td>\n",
       "      <td>средний возраст</td>\n",
       "    </tr>\n",
       "    <tr>\n",
       "      <th>2</th>\n",
       "      <td>0</td>\n",
       "      <td>-5623.422610</td>\n",
       "      <td>33</td>\n",
       "      <td>среднее</td>\n",
       "      <td>1</td>\n",
       "      <td>женат / замужем</td>\n",
       "      <td>0</td>\n",
       "      <td>M</td>\n",
       "      <td>сотрудник</td>\n",
       "      <td>0</td>\n",
       "      <td>145885.952297</td>\n",
       "      <td>покупка жилья</td>\n",
       "      <td>средний возраст</td>\n",
       "    </tr>\n",
       "    <tr>\n",
       "      <th>3</th>\n",
       "      <td>3</td>\n",
       "      <td>-4124.747207</td>\n",
       "      <td>32</td>\n",
       "      <td>среднее</td>\n",
       "      <td>1</td>\n",
       "      <td>женат / замужем</td>\n",
       "      <td>0</td>\n",
       "      <td>M</td>\n",
       "      <td>сотрудник</td>\n",
       "      <td>0</td>\n",
       "      <td>267628.550329</td>\n",
       "      <td>дополнительное образование</td>\n",
       "      <td>средний возраст</td>\n",
       "    </tr>\n",
       "    <tr>\n",
       "      <th>4</th>\n",
       "      <td>0</td>\n",
       "      <td>340266.072047</td>\n",
       "      <td>53</td>\n",
       "      <td>среднее</td>\n",
       "      <td>1</td>\n",
       "      <td>гражданский брак</td>\n",
       "      <td>1</td>\n",
       "      <td>F</td>\n",
       "      <td>пенсионер</td>\n",
       "      <td>0</td>\n",
       "      <td>158616.077870</td>\n",
       "      <td>сыграть свадьбу</td>\n",
       "      <td>старший возраст</td>\n",
       "    </tr>\n",
       "    <tr>\n",
       "      <th>5</th>\n",
       "      <td>0</td>\n",
       "      <td>-926.185831</td>\n",
       "      <td>27</td>\n",
       "      <td>высшее</td>\n",
       "      <td>0</td>\n",
       "      <td>гражданский брак</td>\n",
       "      <td>1</td>\n",
       "      <td>M</td>\n",
       "      <td>компаньон</td>\n",
       "      <td>0</td>\n",
       "      <td>255763.565419</td>\n",
       "      <td>покупка жилья</td>\n",
       "      <td>средний возраст</td>\n",
       "    </tr>\n",
       "    <tr>\n",
       "      <th>6</th>\n",
       "      <td>0</td>\n",
       "      <td>-2879.202052</td>\n",
       "      <td>43</td>\n",
       "      <td>высшее</td>\n",
       "      <td>0</td>\n",
       "      <td>женат / замужем</td>\n",
       "      <td>0</td>\n",
       "      <td>F</td>\n",
       "      <td>компаньон</td>\n",
       "      <td>0</td>\n",
       "      <td>240525.971920</td>\n",
       "      <td>операции с жильем</td>\n",
       "      <td>средний возраст</td>\n",
       "    </tr>\n",
       "    <tr>\n",
       "      <th>7</th>\n",
       "      <td>0</td>\n",
       "      <td>-152.779569</td>\n",
       "      <td>50</td>\n",
       "      <td>среднее</td>\n",
       "      <td>1</td>\n",
       "      <td>женат / замужем</td>\n",
       "      <td>0</td>\n",
       "      <td>M</td>\n",
       "      <td>сотрудник</td>\n",
       "      <td>0</td>\n",
       "      <td>135823.934197</td>\n",
       "      <td>образование</td>\n",
       "      <td>старший возраст</td>\n",
       "    </tr>\n",
       "    <tr>\n",
       "      <th>8</th>\n",
       "      <td>2</td>\n",
       "      <td>-6929.865299</td>\n",
       "      <td>35</td>\n",
       "      <td>высшее</td>\n",
       "      <td>0</td>\n",
       "      <td>гражданский брак</td>\n",
       "      <td>1</td>\n",
       "      <td>F</td>\n",
       "      <td>сотрудник</td>\n",
       "      <td>0</td>\n",
       "      <td>95856.832424</td>\n",
       "      <td>на проведение свадьбы</td>\n",
       "      <td>средний возраст</td>\n",
       "    </tr>\n",
       "    <tr>\n",
       "      <th>9</th>\n",
       "      <td>0</td>\n",
       "      <td>-2188.756445</td>\n",
       "      <td>41</td>\n",
       "      <td>среднее</td>\n",
       "      <td>1</td>\n",
       "      <td>женат / замужем</td>\n",
       "      <td>0</td>\n",
       "      <td>M</td>\n",
       "      <td>сотрудник</td>\n",
       "      <td>0</td>\n",
       "      <td>144425.938277</td>\n",
       "      <td>покупка жилья для семьи</td>\n",
       "      <td>средний возраст</td>\n",
       "    </tr>\n",
       "    <tr>\n",
       "      <th>10</th>\n",
       "      <td>2</td>\n",
       "      <td>-4171.483647</td>\n",
       "      <td>36</td>\n",
       "      <td>высшее</td>\n",
       "      <td>0</td>\n",
       "      <td>женат / замужем</td>\n",
       "      <td>0</td>\n",
       "      <td>M</td>\n",
       "      <td>компаньон</td>\n",
       "      <td>0</td>\n",
       "      <td>113943.491460</td>\n",
       "      <td>покупка недвижимости</td>\n",
       "      <td>средний возраст</td>\n",
       "    </tr>\n",
       "    <tr>\n",
       "      <th>11</th>\n",
       "      <td>0</td>\n",
       "      <td>-792.701887</td>\n",
       "      <td>40</td>\n",
       "      <td>среднее</td>\n",
       "      <td>1</td>\n",
       "      <td>женат / замужем</td>\n",
       "      <td>0</td>\n",
       "      <td>F</td>\n",
       "      <td>сотрудник</td>\n",
       "      <td>0</td>\n",
       "      <td>77069.234271</td>\n",
       "      <td>покупка коммерческой недвижимости</td>\n",
       "      <td>средний возраст</td>\n",
       "    </tr>\n",
       "    <tr>\n",
       "      <th>12</th>\n",
       "      <td>0</td>\n",
       "      <td>NaN</td>\n",
       "      <td>65</td>\n",
       "      <td>среднее</td>\n",
       "      <td>1</td>\n",
       "      <td>гражданский брак</td>\n",
       "      <td>1</td>\n",
       "      <td>M</td>\n",
       "      <td>пенсионер</td>\n",
       "      <td>0</td>\n",
       "      <td>NaN</td>\n",
       "      <td>сыграть свадьбу</td>\n",
       "      <td>пожилой возраст</td>\n",
       "    </tr>\n",
       "    <tr>\n",
       "      <th>13</th>\n",
       "      <td>0</td>\n",
       "      <td>-1846.641941</td>\n",
       "      <td>54</td>\n",
       "      <td>неоконченное высшее</td>\n",
       "      <td>2</td>\n",
       "      <td>женат / замужем</td>\n",
       "      <td>0</td>\n",
       "      <td>F</td>\n",
       "      <td>сотрудник</td>\n",
       "      <td>0</td>\n",
       "      <td>130458.228857</td>\n",
       "      <td>приобретение автомобиля</td>\n",
       "      <td>старший возраст</td>\n",
       "    </tr>\n",
       "    <tr>\n",
       "      <th>14</th>\n",
       "      <td>0</td>\n",
       "      <td>-1844.956182</td>\n",
       "      <td>56</td>\n",
       "      <td>высшее</td>\n",
       "      <td>0</td>\n",
       "      <td>гражданский брак</td>\n",
       "      <td>1</td>\n",
       "      <td>F</td>\n",
       "      <td>компаньон</td>\n",
       "      <td>1</td>\n",
       "      <td>165127.911772</td>\n",
       "      <td>покупка жилой недвижимости</td>\n",
       "      <td>старший возраст</td>\n",
       "    </tr>\n",
       "  </tbody>\n",
       "</table>\n",
       "</div>"
      ],
      "text/plain": [
       "    children  days_employed  dob_years            education  education_id  \\\n",
       "0          1   -8437.673028         42               высшее             0   \n",
       "1          1   -4024.803754         36              среднее             1   \n",
       "2          0   -5623.422610         33              среднее             1   \n",
       "3          3   -4124.747207         32              среднее             1   \n",
       "4          0  340266.072047         53              среднее             1   \n",
       "5          0    -926.185831         27               высшее             0   \n",
       "6          0   -2879.202052         43               высшее             0   \n",
       "7          0    -152.779569         50              среднее             1   \n",
       "8          2   -6929.865299         35               высшее             0   \n",
       "9          0   -2188.756445         41              среднее             1   \n",
       "10         2   -4171.483647         36               высшее             0   \n",
       "11         0    -792.701887         40              среднее             1   \n",
       "12         0            NaN         65              среднее             1   \n",
       "13         0   -1846.641941         54  неоконченное высшее             2   \n",
       "14         0   -1844.956182         56               высшее             0   \n",
       "\n",
       "       family_status  family_status_id gender income_type  debt  \\\n",
       "0    женат / замужем                 0      F   сотрудник     0   \n",
       "1    женат / замужем                 0      F   сотрудник     0   \n",
       "2    женат / замужем                 0      M   сотрудник     0   \n",
       "3    женат / замужем                 0      M   сотрудник     0   \n",
       "4   гражданский брак                 1      F   пенсионер     0   \n",
       "5   гражданский брак                 1      M   компаньон     0   \n",
       "6    женат / замужем                 0      F   компаньон     0   \n",
       "7    женат / замужем                 0      M   сотрудник     0   \n",
       "8   гражданский брак                 1      F   сотрудник     0   \n",
       "9    женат / замужем                 0      M   сотрудник     0   \n",
       "10   женат / замужем                 0      M   компаньон     0   \n",
       "11   женат / замужем                 0      F   сотрудник     0   \n",
       "12  гражданский брак                 1      M   пенсионер     0   \n",
       "13   женат / замужем                 0      F   сотрудник     0   \n",
       "14  гражданский брак                 1      F   компаньон     1   \n",
       "\n",
       "     total_income                            purpose        age_group  \n",
       "0   253875.639453                      покупка жилья  средний возраст  \n",
       "1   112080.014102            приобретение автомобиля  средний возраст  \n",
       "2   145885.952297                      покупка жилья  средний возраст  \n",
       "3   267628.550329         дополнительное образование  средний возраст  \n",
       "4   158616.077870                    сыграть свадьбу  старший возраст  \n",
       "5   255763.565419                      покупка жилья  средний возраст  \n",
       "6   240525.971920                  операции с жильем  средний возраст  \n",
       "7   135823.934197                        образование  старший возраст  \n",
       "8    95856.832424              на проведение свадьбы  средний возраст  \n",
       "9   144425.938277            покупка жилья для семьи  средний возраст  \n",
       "10  113943.491460               покупка недвижимости  средний возраст  \n",
       "11   77069.234271  покупка коммерческой недвижимости  средний возраст  \n",
       "12            NaN                    сыграть свадьбу  пожилой возраст  \n",
       "13  130458.228857            приобретение автомобиля  старший возраст  \n",
       "14  165127.911772         покупка жилой недвижимости  старший возраст  "
      ]
     },
     "execution_count": 17,
     "metadata": {},
     "output_type": "execute_result"
    }
   ],
   "source": [
    "#Посмотрим что вышло\n",
    "df.head(15)"
   ]
  },
  {
   "cell_type": "markdown",
   "metadata": {},
   "source": [
    "Для наших целей создадим отдельную таблицу из группировки датафрейма по трём столбцам - \"income_type\", \"age_group\", \"education\" и найдём медианы для этой группировки "
   ]
  },
  {
   "cell_type": "code",
   "execution_count": 18,
   "metadata": {
    "scrolled": false
   },
   "outputs": [],
   "source": [
    "#Создание таблицы из группировки медиан по трём столбцам \n",
    "itage = df.groupby(['income_type', 'age_group', 'education'])['total_income'].median().reset_index()"
   ]
  },
  {
   "cell_type": "code",
   "execution_count": 19,
   "metadata": {},
   "outputs": [
    {
     "data": {
      "text/html": [
       "<div>\n",
       "<style scoped>\n",
       "    .dataframe tbody tr th:only-of-type {\n",
       "        vertical-align: middle;\n",
       "    }\n",
       "\n",
       "    .dataframe tbody tr th {\n",
       "        vertical-align: top;\n",
       "    }\n",
       "\n",
       "    .dataframe thead th {\n",
       "        text-align: right;\n",
       "    }\n",
       "</style>\n",
       "<table border=\"1\" class=\"dataframe\">\n",
       "  <thead>\n",
       "    <tr style=\"text-align: right;\">\n",
       "      <th></th>\n",
       "      <th>income_type</th>\n",
       "      <th>age_group</th>\n",
       "      <th>education</th>\n",
       "      <th>total_income</th>\n",
       "    </tr>\n",
       "  </thead>\n",
       "  <tbody>\n",
       "    <tr>\n",
       "      <th>0</th>\n",
       "      <td>безработный</td>\n",
       "      <td>средний возраст</td>\n",
       "      <td>высшее</td>\n",
       "      <td>202722.511368</td>\n",
       "    </tr>\n",
       "    <tr>\n",
       "      <th>1</th>\n",
       "      <td>безработный</td>\n",
       "      <td>средний возраст</td>\n",
       "      <td>среднее</td>\n",
       "      <td>59956.991984</td>\n",
       "    </tr>\n",
       "    <tr>\n",
       "      <th>2</th>\n",
       "      <td>в декрете</td>\n",
       "      <td>средний возраст</td>\n",
       "      <td>среднее</td>\n",
       "      <td>53829.130729</td>\n",
       "    </tr>\n",
       "    <tr>\n",
       "      <th>3</th>\n",
       "      <td>госслужащий</td>\n",
       "      <td>молодой возраст</td>\n",
       "      <td>высшее</td>\n",
       "      <td>153859.652436</td>\n",
       "    </tr>\n",
       "    <tr>\n",
       "      <th>4</th>\n",
       "      <td>госслужащий</td>\n",
       "      <td>молодой возраст</td>\n",
       "      <td>неоконченное высшее</td>\n",
       "      <td>133110.642705</td>\n",
       "    </tr>\n",
       "    <tr>\n",
       "      <th>...</th>\n",
       "      <td>...</td>\n",
       "      <td>...</td>\n",
       "      <td>...</td>\n",
       "      <td>...</td>\n",
       "    </tr>\n",
       "    <tr>\n",
       "      <th>66</th>\n",
       "      <td>сотрудник</td>\n",
       "      <td>старший возраст</td>\n",
       "      <td>начальное</td>\n",
       "      <td>130600.077985</td>\n",
       "    </tr>\n",
       "    <tr>\n",
       "      <th>67</th>\n",
       "      <td>сотрудник</td>\n",
       "      <td>старший возраст</td>\n",
       "      <td>неоконченное высшее</td>\n",
       "      <td>169501.718987</td>\n",
       "    </tr>\n",
       "    <tr>\n",
       "      <th>68</th>\n",
       "      <td>сотрудник</td>\n",
       "      <td>старший возраст</td>\n",
       "      <td>среднее</td>\n",
       "      <td>135640.445243</td>\n",
       "    </tr>\n",
       "    <tr>\n",
       "      <th>69</th>\n",
       "      <td>сотрудник</td>\n",
       "      <td>старший возраст</td>\n",
       "      <td>ученая степень</td>\n",
       "      <td>268411.214536</td>\n",
       "    </tr>\n",
       "    <tr>\n",
       "      <th>70</th>\n",
       "      <td>студент</td>\n",
       "      <td>молодой возраст</td>\n",
       "      <td>высшее</td>\n",
       "      <td>98201.625314</td>\n",
       "    </tr>\n",
       "  </tbody>\n",
       "</table>\n",
       "<p>71 rows × 4 columns</p>\n",
       "</div>"
      ],
      "text/plain": [
       "    income_type        age_group            education   total_income\n",
       "0   безработный  средний возраст               высшее  202722.511368\n",
       "1   безработный  средний возраст              среднее   59956.991984\n",
       "2     в декрете  средний возраст              среднее   53829.130729\n",
       "3   госслужащий  молодой возраст               высшее  153859.652436\n",
       "4   госслужащий  молодой возраст  неоконченное высшее  133110.642705\n",
       "..          ...              ...                  ...            ...\n",
       "66    сотрудник  старший возраст            начальное  130600.077985\n",
       "67    сотрудник  старший возраст  неоконченное высшее  169501.718987\n",
       "68    сотрудник  старший возраст              среднее  135640.445243\n",
       "69    сотрудник  старший возраст       ученая степень  268411.214536\n",
       "70      студент  молодой возраст               высшее   98201.625314\n",
       "\n",
       "[71 rows x 4 columns]"
      ]
     },
     "execution_count": 19,
     "metadata": {},
     "output_type": "execute_result"
    }
   ],
   "source": [
    "#Проверим что вышло\n",
    "itage"
   ]
  },
  {
   "cell_type": "code",
   "execution_count": 20,
   "metadata": {
    "scrolled": true
   },
   "outputs": [
    {
     "data": {
      "text/html": [
       "<div>\n",
       "<style scoped>\n",
       "    .dataframe tbody tr th:only-of-type {\n",
       "        vertical-align: middle;\n",
       "    }\n",
       "\n",
       "    .dataframe tbody tr th {\n",
       "        vertical-align: top;\n",
       "    }\n",
       "\n",
       "    .dataframe thead th {\n",
       "        text-align: right;\n",
       "    }\n",
       "</style>\n",
       "<table border=\"1\" class=\"dataframe\">\n",
       "  <thead>\n",
       "    <tr style=\"text-align: right;\">\n",
       "      <th></th>\n",
       "      <th>income_type</th>\n",
       "      <th>age_group</th>\n",
       "      <th>education</th>\n",
       "      <th>income_median</th>\n",
       "    </tr>\n",
       "  </thead>\n",
       "  <tbody>\n",
       "    <tr>\n",
       "      <th>0</th>\n",
       "      <td>безработный</td>\n",
       "      <td>средний возраст</td>\n",
       "      <td>высшее</td>\n",
       "      <td>202722.511368</td>\n",
       "    </tr>\n",
       "    <tr>\n",
       "      <th>1</th>\n",
       "      <td>безработный</td>\n",
       "      <td>средний возраст</td>\n",
       "      <td>среднее</td>\n",
       "      <td>59956.991984</td>\n",
       "    </tr>\n",
       "    <tr>\n",
       "      <th>2</th>\n",
       "      <td>в декрете</td>\n",
       "      <td>средний возраст</td>\n",
       "      <td>среднее</td>\n",
       "      <td>53829.130729</td>\n",
       "    </tr>\n",
       "    <tr>\n",
       "      <th>3</th>\n",
       "      <td>госслужащий</td>\n",
       "      <td>молодой возраст</td>\n",
       "      <td>высшее</td>\n",
       "      <td>153859.652436</td>\n",
       "    </tr>\n",
       "    <tr>\n",
       "      <th>4</th>\n",
       "      <td>госслужащий</td>\n",
       "      <td>молодой возраст</td>\n",
       "      <td>неоконченное высшее</td>\n",
       "      <td>133110.642705</td>\n",
       "    </tr>\n",
       "    <tr>\n",
       "      <th>...</th>\n",
       "      <td>...</td>\n",
       "      <td>...</td>\n",
       "      <td>...</td>\n",
       "      <td>...</td>\n",
       "    </tr>\n",
       "    <tr>\n",
       "      <th>66</th>\n",
       "      <td>сотрудник</td>\n",
       "      <td>старший возраст</td>\n",
       "      <td>начальное</td>\n",
       "      <td>130600.077985</td>\n",
       "    </tr>\n",
       "    <tr>\n",
       "      <th>67</th>\n",
       "      <td>сотрудник</td>\n",
       "      <td>старший возраст</td>\n",
       "      <td>неоконченное высшее</td>\n",
       "      <td>169501.718987</td>\n",
       "    </tr>\n",
       "    <tr>\n",
       "      <th>68</th>\n",
       "      <td>сотрудник</td>\n",
       "      <td>старший возраст</td>\n",
       "      <td>среднее</td>\n",
       "      <td>135640.445243</td>\n",
       "    </tr>\n",
       "    <tr>\n",
       "      <th>69</th>\n",
       "      <td>сотрудник</td>\n",
       "      <td>старший возраст</td>\n",
       "      <td>ученая степень</td>\n",
       "      <td>268411.214536</td>\n",
       "    </tr>\n",
       "    <tr>\n",
       "      <th>70</th>\n",
       "      <td>студент</td>\n",
       "      <td>молодой возраст</td>\n",
       "      <td>высшее</td>\n",
       "      <td>98201.625314</td>\n",
       "    </tr>\n",
       "  </tbody>\n",
       "</table>\n",
       "<p>71 rows × 4 columns</p>\n",
       "</div>"
      ],
      "text/plain": [
       "    income_type        age_group            education  income_median\n",
       "0   безработный  средний возраст               высшее  202722.511368\n",
       "1   безработный  средний возраст              среднее   59956.991984\n",
       "2     в декрете  средний возраст              среднее   53829.130729\n",
       "3   госслужащий  молодой возраст               высшее  153859.652436\n",
       "4   госслужащий  молодой возраст  неоконченное высшее  133110.642705\n",
       "..          ...              ...                  ...            ...\n",
       "66    сотрудник  старший возраст            начальное  130600.077985\n",
       "67    сотрудник  старший возраст  неоконченное высшее  169501.718987\n",
       "68    сотрудник  старший возраст              среднее  135640.445243\n",
       "69    сотрудник  старший возраст       ученая степень  268411.214536\n",
       "70      студент  молодой возраст               высшее   98201.625314\n",
       "\n",
       "[71 rows x 4 columns]"
      ]
     },
     "execution_count": 20,
     "metadata": {},
     "output_type": "execute_result"
    }
   ],
   "source": [
    "#Переименуем колонку \"total_income\" в \"income_median\"\n",
    "itage = itage.rename(columns={'total_income':'income_median'})\n",
    "itage"
   ]
  },
  {
   "cell_type": "markdown",
   "metadata": {},
   "source": [
    "Применим метод merge для слияния двух таблиц по трём колонкам. В результирующую таблицу добавится колонка \"income_median\" в которой будет содержаться медианный доход каждого заёмщика  согласно совпадению по трём  вышеописанным категориям."
   ]
  },
  {
   "cell_type": "code",
   "execution_count": 21,
   "metadata": {
    "scrolled": true
   },
   "outputs": [],
   "source": [
    "#Применяем метод merge для слияния таблиц df и itage \n",
    "df = df.merge(itage,on=['income_type', 'age_group', 'education'])"
   ]
  },
  {
   "cell_type": "code",
   "execution_count": 22,
   "metadata": {
    "scrolled": true
   },
   "outputs": [
    {
     "data": {
      "text/html": [
       "<div>\n",
       "<style scoped>\n",
       "    .dataframe tbody tr th:only-of-type {\n",
       "        vertical-align: middle;\n",
       "    }\n",
       "\n",
       "    .dataframe tbody tr th {\n",
       "        vertical-align: top;\n",
       "    }\n",
       "\n",
       "    .dataframe thead th {\n",
       "        text-align: right;\n",
       "    }\n",
       "</style>\n",
       "<table border=\"1\" class=\"dataframe\">\n",
       "  <thead>\n",
       "    <tr style=\"text-align: right;\">\n",
       "      <th></th>\n",
       "      <th>children</th>\n",
       "      <th>days_employed</th>\n",
       "      <th>dob_years</th>\n",
       "      <th>education</th>\n",
       "      <th>education_id</th>\n",
       "      <th>family_status</th>\n",
       "      <th>family_status_id</th>\n",
       "      <th>gender</th>\n",
       "      <th>income_type</th>\n",
       "      <th>debt</th>\n",
       "      <th>total_income</th>\n",
       "      <th>purpose</th>\n",
       "      <th>age_group</th>\n",
       "      <th>income_median</th>\n",
       "    </tr>\n",
       "  </thead>\n",
       "  <tbody>\n",
       "    <tr>\n",
       "      <th>0</th>\n",
       "      <td>1</td>\n",
       "      <td>-8437.673028</td>\n",
       "      <td>42</td>\n",
       "      <td>высшее</td>\n",
       "      <td>0</td>\n",
       "      <td>женат / замужем</td>\n",
       "      <td>0</td>\n",
       "      <td>F</td>\n",
       "      <td>сотрудник</td>\n",
       "      <td>0</td>\n",
       "      <td>253875.639453</td>\n",
       "      <td>покупка жилья</td>\n",
       "      <td>средний возраст</td>\n",
       "      <td>166571.732985</td>\n",
       "    </tr>\n",
       "    <tr>\n",
       "      <th>1</th>\n",
       "      <td>2</td>\n",
       "      <td>-6929.865299</td>\n",
       "      <td>35</td>\n",
       "      <td>высшее</td>\n",
       "      <td>0</td>\n",
       "      <td>гражданский брак</td>\n",
       "      <td>1</td>\n",
       "      <td>F</td>\n",
       "      <td>сотрудник</td>\n",
       "      <td>0</td>\n",
       "      <td>95856.832424</td>\n",
       "      <td>на проведение свадьбы</td>\n",
       "      <td>средний возраст</td>\n",
       "      <td>166571.732985</td>\n",
       "    </tr>\n",
       "    <tr>\n",
       "      <th>2</th>\n",
       "      <td>0</td>\n",
       "      <td>-2369.999720</td>\n",
       "      <td>33</td>\n",
       "      <td>высшее</td>\n",
       "      <td>0</td>\n",
       "      <td>гражданский брак</td>\n",
       "      <td>1</td>\n",
       "      <td>M</td>\n",
       "      <td>сотрудник</td>\n",
       "      <td>0</td>\n",
       "      <td>90410.586745</td>\n",
       "      <td>строительство недвижимости</td>\n",
       "      <td>средний возраст</td>\n",
       "      <td>166571.732985</td>\n",
       "    </tr>\n",
       "    <tr>\n",
       "      <th>3</th>\n",
       "      <td>0</td>\n",
       "      <td>-529.191635</td>\n",
       "      <td>28</td>\n",
       "      <td>высшее</td>\n",
       "      <td>0</td>\n",
       "      <td>женат / замужем</td>\n",
       "      <td>0</td>\n",
       "      <td>M</td>\n",
       "      <td>сотрудник</td>\n",
       "      <td>0</td>\n",
       "      <td>308848.983691</td>\n",
       "      <td>строительство собственной недвижимости</td>\n",
       "      <td>средний возраст</td>\n",
       "      <td>166571.732985</td>\n",
       "    </tr>\n",
       "    <tr>\n",
       "      <th>4</th>\n",
       "      <td>1</td>\n",
       "      <td>-717.274324</td>\n",
       "      <td>26</td>\n",
       "      <td>высшее</td>\n",
       "      <td>0</td>\n",
       "      <td>женат / замужем</td>\n",
       "      <td>0</td>\n",
       "      <td>F</td>\n",
       "      <td>сотрудник</td>\n",
       "      <td>0</td>\n",
       "      <td>187863.237306</td>\n",
       "      <td>строительство собственной недвижимости</td>\n",
       "      <td>средний возраст</td>\n",
       "      <td>166571.732985</td>\n",
       "    </tr>\n",
       "    <tr>\n",
       "      <th>...</th>\n",
       "      <td>...</td>\n",
       "      <td>...</td>\n",
       "      <td>...</td>\n",
       "      <td>...</td>\n",
       "      <td>...</td>\n",
       "      <td>...</td>\n",
       "      <td>...</td>\n",
       "      <td>...</td>\n",
       "      <td>...</td>\n",
       "      <td>...</td>\n",
       "      <td>...</td>\n",
       "      <td>...</td>\n",
       "      <td>...</td>\n",
       "      <td>...</td>\n",
       "    </tr>\n",
       "    <tr>\n",
       "      <th>21520</th>\n",
       "      <td>0</td>\n",
       "      <td>376276.219531</td>\n",
       "      <td>62</td>\n",
       "      <td>ученая степень</td>\n",
       "      <td>4</td>\n",
       "      <td>женат / замужем</td>\n",
       "      <td>0</td>\n",
       "      <td>F</td>\n",
       "      <td>пенсионер</td>\n",
       "      <td>0</td>\n",
       "      <td>255425.196556</td>\n",
       "      <td>покупка жилой недвижимости</td>\n",
       "      <td>старший возраст</td>\n",
       "      <td>255425.196556</td>\n",
       "    </tr>\n",
       "    <tr>\n",
       "      <th>21521</th>\n",
       "      <td>0</td>\n",
       "      <td>395302.838654</td>\n",
       "      <td>45</td>\n",
       "      <td>высшее</td>\n",
       "      <td>0</td>\n",
       "      <td>гражданский брак</td>\n",
       "      <td>1</td>\n",
       "      <td>F</td>\n",
       "      <td>безработный</td>\n",
       "      <td>0</td>\n",
       "      <td>202722.511368</td>\n",
       "      <td>ремонт жилью</td>\n",
       "      <td>средний возраст</td>\n",
       "      <td>202722.511368</td>\n",
       "    </tr>\n",
       "    <tr>\n",
       "      <th>21522</th>\n",
       "      <td>0</td>\n",
       "      <td>-1331.017371</td>\n",
       "      <td>22</td>\n",
       "      <td>начальное</td>\n",
       "      <td>3</td>\n",
       "      <td>гражданский брак</td>\n",
       "      <td>1</td>\n",
       "      <td>M</td>\n",
       "      <td>компаньон</td>\n",
       "      <td>0</td>\n",
       "      <td>169493.899228</td>\n",
       "      <td>свадьба</td>\n",
       "      <td>молодой возраст</td>\n",
       "      <td>169493.899228</td>\n",
       "    </tr>\n",
       "    <tr>\n",
       "      <th>21523</th>\n",
       "      <td>0</td>\n",
       "      <td>-520.848083</td>\n",
       "      <td>27</td>\n",
       "      <td>высшее</td>\n",
       "      <td>0</td>\n",
       "      <td>гражданский брак</td>\n",
       "      <td>1</td>\n",
       "      <td>F</td>\n",
       "      <td>предприниматель</td>\n",
       "      <td>0</td>\n",
       "      <td>499163.144947</td>\n",
       "      <td>на проведение свадьбы</td>\n",
       "      <td>средний возраст</td>\n",
       "      <td>499163.144947</td>\n",
       "    </tr>\n",
       "    <tr>\n",
       "      <th>21524</th>\n",
       "      <td>2</td>\n",
       "      <td>-3296.759962</td>\n",
       "      <td>39</td>\n",
       "      <td>среднее</td>\n",
       "      <td>1</td>\n",
       "      <td>женат / замужем</td>\n",
       "      <td>0</td>\n",
       "      <td>F</td>\n",
       "      <td>в декрете</td>\n",
       "      <td>1</td>\n",
       "      <td>53829.130729</td>\n",
       "      <td>автомобиль</td>\n",
       "      <td>средний возраст</td>\n",
       "      <td>53829.130729</td>\n",
       "    </tr>\n",
       "  </tbody>\n",
       "</table>\n",
       "<p>21525 rows × 14 columns</p>\n",
       "</div>"
      ],
      "text/plain": [
       "       children  days_employed  dob_years       education  education_id  \\\n",
       "0             1   -8437.673028         42          высшее             0   \n",
       "1             2   -6929.865299         35          высшее             0   \n",
       "2             0   -2369.999720         33          высшее             0   \n",
       "3             0    -529.191635         28          высшее             0   \n",
       "4             1    -717.274324         26          высшее             0   \n",
       "...         ...            ...        ...             ...           ...   \n",
       "21520         0  376276.219531         62  ученая степень             4   \n",
       "21521         0  395302.838654         45          высшее             0   \n",
       "21522         0   -1331.017371         22       начальное             3   \n",
       "21523         0    -520.848083         27          высшее             0   \n",
       "21524         2   -3296.759962         39         среднее             1   \n",
       "\n",
       "          family_status  family_status_id gender      income_type  debt  \\\n",
       "0       женат / замужем                 0      F        сотрудник     0   \n",
       "1      гражданский брак                 1      F        сотрудник     0   \n",
       "2      гражданский брак                 1      M        сотрудник     0   \n",
       "3       женат / замужем                 0      M        сотрудник     0   \n",
       "4       женат / замужем                 0      F        сотрудник     0   \n",
       "...                 ...               ...    ...              ...   ...   \n",
       "21520   женат / замужем                 0      F        пенсионер     0   \n",
       "21521  гражданский брак                 1      F      безработный     0   \n",
       "21522  гражданский брак                 1      M        компаньон     0   \n",
       "21523  гражданский брак                 1      F  предприниматель     0   \n",
       "21524   женат / замужем                 0      F        в декрете     1   \n",
       "\n",
       "        total_income                                 purpose        age_group  \\\n",
       "0      253875.639453                           покупка жилья  средний возраст   \n",
       "1       95856.832424                   на проведение свадьбы  средний возраст   \n",
       "2       90410.586745              строительство недвижимости  средний возраст   \n",
       "3      308848.983691  строительство собственной недвижимости  средний возраст   \n",
       "4      187863.237306  строительство собственной недвижимости  средний возраст   \n",
       "...              ...                                     ...              ...   \n",
       "21520  255425.196556              покупка жилой недвижимости  старший возраст   \n",
       "21521  202722.511368                            ремонт жилью  средний возраст   \n",
       "21522  169493.899228                                 свадьба  молодой возраст   \n",
       "21523  499163.144947                   на проведение свадьбы  средний возраст   \n",
       "21524   53829.130729                              автомобиль  средний возраст   \n",
       "\n",
       "       income_median  \n",
       "0      166571.732985  \n",
       "1      166571.732985  \n",
       "2      166571.732985  \n",
       "3      166571.732985  \n",
       "4      166571.732985  \n",
       "...              ...  \n",
       "21520  255425.196556  \n",
       "21521  202722.511368  \n",
       "21522  169493.899228  \n",
       "21523  499163.144947  \n",
       "21524   53829.130729  \n",
       "\n",
       "[21525 rows x 14 columns]"
      ]
     },
     "execution_count": 22,
     "metadata": {},
     "output_type": "execute_result"
    }
   ],
   "source": [
    "#Проверим что вышло\n",
    "df"
   ]
  },
  {
   "cell_type": "code",
   "execution_count": 23,
   "metadata": {
    "scrolled": false
   },
   "outputs": [
    {
     "data": {
      "text/html": [
       "<div>\n",
       "<style scoped>\n",
       "    .dataframe tbody tr th:only-of-type {\n",
       "        vertical-align: middle;\n",
       "    }\n",
       "\n",
       "    .dataframe tbody tr th {\n",
       "        vertical-align: top;\n",
       "    }\n",
       "\n",
       "    .dataframe thead th {\n",
       "        text-align: right;\n",
       "    }\n",
       "</style>\n",
       "<table border=\"1\" class=\"dataframe\">\n",
       "  <thead>\n",
       "    <tr style=\"text-align: right;\">\n",
       "      <th></th>\n",
       "      <th>children</th>\n",
       "      <th>days_employed</th>\n",
       "      <th>dob_years</th>\n",
       "      <th>education</th>\n",
       "      <th>education_id</th>\n",
       "      <th>family_status</th>\n",
       "      <th>family_status_id</th>\n",
       "      <th>gender</th>\n",
       "      <th>income_type</th>\n",
       "      <th>debt</th>\n",
       "      <th>total_income</th>\n",
       "      <th>purpose</th>\n",
       "      <th>age_group</th>\n",
       "      <th>income_median</th>\n",
       "    </tr>\n",
       "  </thead>\n",
       "  <tbody>\n",
       "    <tr>\n",
       "      <th>9</th>\n",
       "      <td>2</td>\n",
       "      <td>NaN</td>\n",
       "      <td>35</td>\n",
       "      <td>высшее</td>\n",
       "      <td>0</td>\n",
       "      <td>женат / замужем</td>\n",
       "      <td>0</td>\n",
       "      <td>F</td>\n",
       "      <td>сотрудник</td>\n",
       "      <td>0</td>\n",
       "      <td>NaN</td>\n",
       "      <td>операции с жильем</td>\n",
       "      <td>средний возраст</td>\n",
       "      <td>166571.732985</td>\n",
       "    </tr>\n",
       "    <tr>\n",
       "      <th>20</th>\n",
       "      <td>1</td>\n",
       "      <td>NaN</td>\n",
       "      <td>31</td>\n",
       "      <td>высшее</td>\n",
       "      <td>0</td>\n",
       "      <td>женат / замужем</td>\n",
       "      <td>0</td>\n",
       "      <td>F</td>\n",
       "      <td>сотрудник</td>\n",
       "      <td>0</td>\n",
       "      <td>NaN</td>\n",
       "      <td>на покупку подержанного автомобиля</td>\n",
       "      <td>средний возраст</td>\n",
       "      <td>166571.732985</td>\n",
       "    </tr>\n",
       "    <tr>\n",
       "      <th>42</th>\n",
       "      <td>1</td>\n",
       "      <td>NaN</td>\n",
       "      <td>30</td>\n",
       "      <td>высшее</td>\n",
       "      <td>0</td>\n",
       "      <td>гражданский брак</td>\n",
       "      <td>1</td>\n",
       "      <td>M</td>\n",
       "      <td>сотрудник</td>\n",
       "      <td>0</td>\n",
       "      <td>NaN</td>\n",
       "      <td>сыграть свадьбу</td>\n",
       "      <td>средний возраст</td>\n",
       "      <td>166571.732985</td>\n",
       "    </tr>\n",
       "    <tr>\n",
       "      <th>52</th>\n",
       "      <td>1</td>\n",
       "      <td>NaN</td>\n",
       "      <td>34</td>\n",
       "      <td>высшее</td>\n",
       "      <td>0</td>\n",
       "      <td>гражданский брак</td>\n",
       "      <td>1</td>\n",
       "      <td>M</td>\n",
       "      <td>сотрудник</td>\n",
       "      <td>0</td>\n",
       "      <td>NaN</td>\n",
       "      <td>сыграть свадьбу</td>\n",
       "      <td>средний возраст</td>\n",
       "      <td>166571.732985</td>\n",
       "    </tr>\n",
       "    <tr>\n",
       "      <th>55</th>\n",
       "      <td>0</td>\n",
       "      <td>NaN</td>\n",
       "      <td>45</td>\n",
       "      <td>высшее</td>\n",
       "      <td>0</td>\n",
       "      <td>женат / замужем</td>\n",
       "      <td>0</td>\n",
       "      <td>M</td>\n",
       "      <td>сотрудник</td>\n",
       "      <td>0</td>\n",
       "      <td>NaN</td>\n",
       "      <td>покупка жилой недвижимости</td>\n",
       "      <td>средний возраст</td>\n",
       "      <td>166571.732985</td>\n",
       "    </tr>\n",
       "    <tr>\n",
       "      <th>...</th>\n",
       "      <td>...</td>\n",
       "      <td>...</td>\n",
       "      <td>...</td>\n",
       "      <td>...</td>\n",
       "      <td>...</td>\n",
       "      <td>...</td>\n",
       "      <td>...</td>\n",
       "      <td>...</td>\n",
       "      <td>...</td>\n",
       "      <td>...</td>\n",
       "      <td>...</td>\n",
       "      <td>...</td>\n",
       "      <td>...</td>\n",
       "      <td>...</td>\n",
       "    </tr>\n",
       "    <tr>\n",
       "      <th>21498</th>\n",
       "      <td>0</td>\n",
       "      <td>NaN</td>\n",
       "      <td>0</td>\n",
       "      <td>высшее</td>\n",
       "      <td>0</td>\n",
       "      <td>в разводе</td>\n",
       "      <td>3</td>\n",
       "      <td>F</td>\n",
       "      <td>пенсионер</td>\n",
       "      <td>0</td>\n",
       "      <td>NaN</td>\n",
       "      <td>покупка жилой недвижимости</td>\n",
       "      <td>молодой возраст</td>\n",
       "      <td>137674.117012</td>\n",
       "    </tr>\n",
       "    <tr>\n",
       "      <th>21502</th>\n",
       "      <td>0</td>\n",
       "      <td>NaN</td>\n",
       "      <td>58</td>\n",
       "      <td>высшее</td>\n",
       "      <td>0</td>\n",
       "      <td>женат / замужем</td>\n",
       "      <td>0</td>\n",
       "      <td>M</td>\n",
       "      <td>предприниматель</td>\n",
       "      <td>0</td>\n",
       "      <td>NaN</td>\n",
       "      <td>покупка жилой недвижимости</td>\n",
       "      <td>старший возраст</td>\n",
       "      <td>NaN</td>\n",
       "    </tr>\n",
       "    <tr>\n",
       "      <th>21510</th>\n",
       "      <td>0</td>\n",
       "      <td>NaN</td>\n",
       "      <td>67</td>\n",
       "      <td>неоконченное высшее</td>\n",
       "      <td>2</td>\n",
       "      <td>Не женат / не замужем</td>\n",
       "      <td>4</td>\n",
       "      <td>F</td>\n",
       "      <td>пенсионер</td>\n",
       "      <td>0</td>\n",
       "      <td>NaN</td>\n",
       "      <td>на покупку своего автомобиля</td>\n",
       "      <td>пожилой возраст</td>\n",
       "      <td>123687.093680</td>\n",
       "    </tr>\n",
       "    <tr>\n",
       "      <th>21515</th>\n",
       "      <td>1</td>\n",
       "      <td>NaN</td>\n",
       "      <td>25</td>\n",
       "      <td>неоконченное высшее</td>\n",
       "      <td>2</td>\n",
       "      <td>женат / замужем</td>\n",
       "      <td>0</td>\n",
       "      <td>F</td>\n",
       "      <td>госслужащий</td>\n",
       "      <td>0</td>\n",
       "      <td>NaN</td>\n",
       "      <td>покупка жилой недвижимости</td>\n",
       "      <td>пожилой возраст</td>\n",
       "      <td>137395.348010</td>\n",
       "    </tr>\n",
       "    <tr>\n",
       "      <th>21517</th>\n",
       "      <td>1</td>\n",
       "      <td>NaN</td>\n",
       "      <td>45</td>\n",
       "      <td>начальное</td>\n",
       "      <td>3</td>\n",
       "      <td>женат / замужем</td>\n",
       "      <td>0</td>\n",
       "      <td>F</td>\n",
       "      <td>пенсионер</td>\n",
       "      <td>0</td>\n",
       "      <td>NaN</td>\n",
       "      <td>операции с недвижимостью</td>\n",
       "      <td>средний возраст</td>\n",
       "      <td>112332.918273</td>\n",
       "    </tr>\n",
       "  </tbody>\n",
       "</table>\n",
       "<p>2174 rows × 14 columns</p>\n",
       "</div>"
      ],
      "text/plain": [
       "       children  days_employed  dob_years            education  education_id  \\\n",
       "9             2            NaN         35               высшее             0   \n",
       "20            1            NaN         31               высшее             0   \n",
       "42            1            NaN         30               высшее             0   \n",
       "52            1            NaN         34               высшее             0   \n",
       "55            0            NaN         45               высшее             0   \n",
       "...         ...            ...        ...                  ...           ...   \n",
       "21498         0            NaN          0               высшее             0   \n",
       "21502         0            NaN         58               высшее             0   \n",
       "21510         0            NaN         67  неоконченное высшее             2   \n",
       "21515         1            NaN         25  неоконченное высшее             2   \n",
       "21517         1            NaN         45            начальное             3   \n",
       "\n",
       "               family_status  family_status_id gender      income_type  debt  \\\n",
       "9            женат / замужем                 0      F        сотрудник     0   \n",
       "20           женат / замужем                 0      F        сотрудник     0   \n",
       "42          гражданский брак                 1      M        сотрудник     0   \n",
       "52          гражданский брак                 1      M        сотрудник     0   \n",
       "55           женат / замужем                 0      M        сотрудник     0   \n",
       "...                      ...               ...    ...              ...   ...   \n",
       "21498              в разводе                 3      F        пенсионер     0   \n",
       "21502        женат / замужем                 0      M  предприниматель     0   \n",
       "21510  Не женат / не замужем                 4      F        пенсионер     0   \n",
       "21515        женат / замужем                 0      F      госслужащий     0   \n",
       "21517        женат / замужем                 0      F        пенсионер     0   \n",
       "\n",
       "       total_income                             purpose        age_group  \\\n",
       "9               NaN                   операции с жильем  средний возраст   \n",
       "20              NaN  на покупку подержанного автомобиля  средний возраст   \n",
       "42              NaN                     сыграть свадьбу  средний возраст   \n",
       "52              NaN                     сыграть свадьбу  средний возраст   \n",
       "55              NaN          покупка жилой недвижимости  средний возраст   \n",
       "...             ...                                 ...              ...   \n",
       "21498           NaN          покупка жилой недвижимости  молодой возраст   \n",
       "21502           NaN          покупка жилой недвижимости  старший возраст   \n",
       "21510           NaN        на покупку своего автомобиля  пожилой возраст   \n",
       "21515           NaN          покупка жилой недвижимости  пожилой возраст   \n",
       "21517           NaN            операции с недвижимостью  средний возраст   \n",
       "\n",
       "       income_median  \n",
       "9      166571.732985  \n",
       "20     166571.732985  \n",
       "42     166571.732985  \n",
       "52     166571.732985  \n",
       "55     166571.732985  \n",
       "...              ...  \n",
       "21498  137674.117012  \n",
       "21502            NaN  \n",
       "21510  123687.093680  \n",
       "21515  137395.348010  \n",
       "21517  112332.918273  \n",
       "\n",
       "[2174 rows x 14 columns]"
      ]
     },
     "execution_count": 23,
     "metadata": {},
     "output_type": "execute_result"
    }
   ],
   "source": [
    "#Проверим как выглядит таблица с колонкой \"income_median\" для заёмщиков с пропусками \n",
    "df.loc[df['total_income'].isna()]"
   ]
  },
  {
   "cell_type": "markdown",
   "metadata": {},
   "source": [
    "Заполним пропуски в колонке \"total_income\" медианами из колонки \"income_median\""
   ]
  },
  {
   "cell_type": "code",
   "execution_count": 24,
   "metadata": {
    "scrolled": false
   },
   "outputs": [],
   "source": [
    "#Используем метод fillna() для заполнения пропусков, указав источником данных колонку \"income_median\"\n",
    "df['total_income'] = df['total_income'].fillna(df['income_median'])"
   ]
  },
  {
   "cell_type": "code",
   "execution_count": 25,
   "metadata": {},
   "outputs": [
    {
     "data": {
      "text/html": [
       "<div>\n",
       "<style scoped>\n",
       "    .dataframe tbody tr th:only-of-type {\n",
       "        vertical-align: middle;\n",
       "    }\n",
       "\n",
       "    .dataframe tbody tr th {\n",
       "        vertical-align: top;\n",
       "    }\n",
       "\n",
       "    .dataframe thead th {\n",
       "        text-align: right;\n",
       "    }\n",
       "</style>\n",
       "<table border=\"1\" class=\"dataframe\">\n",
       "  <thead>\n",
       "    <tr style=\"text-align: right;\">\n",
       "      <th></th>\n",
       "      <th>children</th>\n",
       "      <th>days_employed</th>\n",
       "      <th>dob_years</th>\n",
       "      <th>education</th>\n",
       "      <th>education_id</th>\n",
       "      <th>family_status</th>\n",
       "      <th>family_status_id</th>\n",
       "      <th>gender</th>\n",
       "      <th>income_type</th>\n",
       "      <th>debt</th>\n",
       "      <th>total_income</th>\n",
       "      <th>purpose</th>\n",
       "      <th>age_group</th>\n",
       "      <th>income_median</th>\n",
       "    </tr>\n",
       "  </thead>\n",
       "  <tbody>\n",
       "    <tr>\n",
       "      <th>21502</th>\n",
       "      <td>0</td>\n",
       "      <td>NaN</td>\n",
       "      <td>58</td>\n",
       "      <td>высшее</td>\n",
       "      <td>0</td>\n",
       "      <td>женат / замужем</td>\n",
       "      <td>0</td>\n",
       "      <td>M</td>\n",
       "      <td>предприниматель</td>\n",
       "      <td>0</td>\n",
       "      <td>NaN</td>\n",
       "      <td>покупка жилой недвижимости</td>\n",
       "      <td>старший возраст</td>\n",
       "      <td>NaN</td>\n",
       "    </tr>\n",
       "  </tbody>\n",
       "</table>\n",
       "</div>"
      ],
      "text/plain": [
       "       children  days_employed  dob_years education  education_id  \\\n",
       "21502         0            NaN         58    высшее             0   \n",
       "\n",
       "         family_status  family_status_id gender      income_type  debt  \\\n",
       "21502  женат / замужем                 0      M  предприниматель     0   \n",
       "\n",
       "       total_income                     purpose        age_group  \\\n",
       "21502           NaN  покупка жилой недвижимости  старший возраст   \n",
       "\n",
       "       income_median  \n",
       "21502            NaN  "
      ]
     },
     "execution_count": 25,
     "metadata": {},
     "output_type": "execute_result"
    }
   ],
   "source": [
    "#Проверим не осталось ли вдруг пропусков\n",
    "df.loc[df['total_income'].isna()]"
   ]
  },
  {
   "cell_type": "markdown",
   "metadata": {},
   "source": [
    "Оказывается есть уникальный заёмщик у которого в категории нет медианы, поскольку он там один. "
   ]
  },
  {
   "cell_type": "code",
   "execution_count": 26,
   "metadata": {
    "scrolled": false
   },
   "outputs": [
    {
     "data": {
      "text/html": [
       "<div>\n",
       "<style scoped>\n",
       "    .dataframe tbody tr th:only-of-type {\n",
       "        vertical-align: middle;\n",
       "    }\n",
       "\n",
       "    .dataframe tbody tr th {\n",
       "        vertical-align: top;\n",
       "    }\n",
       "\n",
       "    .dataframe thead th {\n",
       "        text-align: right;\n",
       "    }\n",
       "</style>\n",
       "<table border=\"1\" class=\"dataframe\">\n",
       "  <thead>\n",
       "    <tr style=\"text-align: right;\">\n",
       "      <th></th>\n",
       "      <th>children</th>\n",
       "      <th>days_employed</th>\n",
       "      <th>dob_years</th>\n",
       "      <th>education</th>\n",
       "      <th>education_id</th>\n",
       "      <th>family_status</th>\n",
       "      <th>family_status_id</th>\n",
       "      <th>gender</th>\n",
       "      <th>income_type</th>\n",
       "      <th>debt</th>\n",
       "      <th>total_income</th>\n",
       "      <th>purpose</th>\n",
       "      <th>age_group</th>\n",
       "      <th>income_median</th>\n",
       "    </tr>\n",
       "  </thead>\n",
       "  <tbody>\n",
       "    <tr>\n",
       "      <th>21502</th>\n",
       "      <td>0</td>\n",
       "      <td>NaN</td>\n",
       "      <td>58</td>\n",
       "      <td>высшее</td>\n",
       "      <td>0</td>\n",
       "      <td>женат / замужем</td>\n",
       "      <td>0</td>\n",
       "      <td>M</td>\n",
       "      <td>предприниматель</td>\n",
       "      <td>0</td>\n",
       "      <td>NaN</td>\n",
       "      <td>покупка жилой недвижимости</td>\n",
       "      <td>старший возраст</td>\n",
       "      <td>NaN</td>\n",
       "    </tr>\n",
       "    <tr>\n",
       "      <th>21523</th>\n",
       "      <td>0</td>\n",
       "      <td>-520.848083</td>\n",
       "      <td>27</td>\n",
       "      <td>высшее</td>\n",
       "      <td>0</td>\n",
       "      <td>гражданский брак</td>\n",
       "      <td>1</td>\n",
       "      <td>F</td>\n",
       "      <td>предприниматель</td>\n",
       "      <td>0</td>\n",
       "      <td>499163.144947</td>\n",
       "      <td>на проведение свадьбы</td>\n",
       "      <td>средний возраст</td>\n",
       "      <td>499163.144947</td>\n",
       "    </tr>\n",
       "  </tbody>\n",
       "</table>\n",
       "</div>"
      ],
      "text/plain": [
       "       children  days_employed  dob_years education  education_id  \\\n",
       "21502         0            NaN         58    высшее             0   \n",
       "21523         0    -520.848083         27    высшее             0   \n",
       "\n",
       "          family_status  family_status_id gender      income_type  debt  \\\n",
       "21502   женат / замужем                 0      M  предприниматель     0   \n",
       "21523  гражданский брак                 1      F  предприниматель     0   \n",
       "\n",
       "        total_income                     purpose        age_group  \\\n",
       "21502            NaN  покупка жилой недвижимости  старший возраст   \n",
       "21523  499163.144947       на проведение свадьбы  средний возраст   \n",
       "\n",
       "       income_median  \n",
       "21502            NaN  \n",
       "21523  499163.144947  "
      ]
     },
     "execution_count": 26,
     "metadata": {},
     "output_type": "execute_result"
    }
   ],
   "source": [
    "#Проверим что там у нас вообще происходит в категории \"предприниматель\"\n",
    "df.loc[df['income_type'] == 'предприниматель']"
   ]
  },
  {
   "cell_type": "markdown",
   "metadata": {},
   "source": [
    "Хм, ситуация интересная. Всего два предпринимателя в нашей таблице, и у одного не указан доход."
   ]
  },
  {
   "cell_type": "code",
   "execution_count": 27,
   "metadata": {},
   "outputs": [
    {
     "data": {
      "text/plain": [
       "'предприниматель'"
      ]
     },
     "metadata": {},
     "output_type": "display_data"
    },
    {
     "data": {
      "text/html": [
       "<div>\n",
       "<style scoped>\n",
       "    .dataframe tbody tr th:only-of-type {\n",
       "        vertical-align: middle;\n",
       "    }\n",
       "\n",
       "    .dataframe tbody tr th {\n",
       "        vertical-align: top;\n",
       "    }\n",
       "\n",
       "    .dataframe thead th {\n",
       "        text-align: right;\n",
       "    }\n",
       "</style>\n",
       "<table border=\"1\" class=\"dataframe\">\n",
       "  <thead>\n",
       "    <tr style=\"text-align: right;\">\n",
       "      <th></th>\n",
       "      <th>count</th>\n",
       "      <th>mean</th>\n",
       "      <th>std</th>\n",
       "      <th>min</th>\n",
       "      <th>0.1%</th>\n",
       "      <th>10%</th>\n",
       "      <th>50%</th>\n",
       "      <th>95%</th>\n",
       "      <th>max</th>\n",
       "    </tr>\n",
       "  </thead>\n",
       "  <tbody>\n",
       "    <tr>\n",
       "      <th>total_income</th>\n",
       "      <td>1.0</td>\n",
       "      <td>499163.144947</td>\n",
       "      <td>NaN</td>\n",
       "      <td>499163.144947</td>\n",
       "      <td>499163.144947</td>\n",
       "      <td>499163.144947</td>\n",
       "      <td>499163.144947</td>\n",
       "      <td>499163.144947</td>\n",
       "      <td>499163.144947</td>\n",
       "    </tr>\n",
       "  </tbody>\n",
       "</table>\n",
       "</div>"
      ],
      "text/plain": [
       "              count           mean  std            min           0.1%  \\\n",
       "total_income    1.0  499163.144947  NaN  499163.144947  499163.144947   \n",
       "\n",
       "                        10%            50%            95%            max  \n",
       "total_income  499163.144947  499163.144947  499163.144947  499163.144947  "
      ]
     },
     "metadata": {},
     "output_type": "display_data"
    }
   ],
   "source": [
    "#Внимательный взгляд на предыдущие результаты применения метода describe() выявили бы интересноею Цифры в колонках одни и те же.\n",
    "display('предприниматель', df[df['income_type'] == 'предприниматель'][['total_income']].describe([.001,.1,.95]).T)"
   ]
  },
  {
   "cell_type": "markdown",
   "metadata": {},
   "source": [
    "Ну что ж, терять 50% предпринимателей мы не имеем права. Раз такой заёмщик есть, и он, судя по колонке \"debt\" является надёжным заёмщиком, определим ему доход такой же как и у второго предпринимателя. Я бы не назвал эту выборку репрезентативной, но других предпринимателей у датасета для нас нет. "
   ]
  },
  {
   "cell_type": "code",
   "execution_count": 28,
   "metadata": {},
   "outputs": [],
   "source": [
    "#Заменяем пропущенные значения в колонке \"total_income\" для категории \"предприниматель\" на медианный доход в этой категории\n",
    "df.loc[(df['total_income'].isna()) & (df['income_type'] == 'предприниматель'), 'total_income'] = \\\n",
    "    df.loc[df['income_type'] == 'предприниматель', 'total_income'].median()\n",
    "\n",
    "#Заменяем пропущенные значения в колонке \"income_median\" для категории \"предприниматель\" на медианный доход в этой категории\n",
    "df.loc[(df['income_median'].isna()) & (df['income_type'] == 'предприниматель'), 'income_median'] = \\\n",
    "    df.loc[df['income_type'] == 'предприниматель', 'total_income'].median()"
   ]
  },
  {
   "cell_type": "code",
   "execution_count": 29,
   "metadata": {},
   "outputs": [
    {
     "name": "stdout",
     "output_type": "stream",
     "text": [
      "<class 'pandas.core.frame.DataFrame'>\n",
      "Int64Index: 21525 entries, 0 to 21524\n",
      "Data columns (total 14 columns):\n",
      " #   Column            Non-Null Count  Dtype  \n",
      "---  ------            --------------  -----  \n",
      " 0   children          21525 non-null  int64  \n",
      " 1   days_employed     19351 non-null  float64\n",
      " 2   dob_years         21525 non-null  int64  \n",
      " 3   education         21525 non-null  object \n",
      " 4   education_id      21525 non-null  int64  \n",
      " 5   family_status     21525 non-null  object \n",
      " 6   family_status_id  21525 non-null  int64  \n",
      " 7   gender            21525 non-null  object \n",
      " 8   income_type       21525 non-null  object \n",
      " 9   debt              21525 non-null  int64  \n",
      " 10  total_income      21525 non-null  float64\n",
      " 11  purpose           21525 non-null  object \n",
      " 12  age_group         21525 non-null  object \n",
      " 13  income_median     21525 non-null  float64\n",
      "dtypes: float64(3), int64(5), object(6)\n",
      "memory usage: 2.5+ MB\n"
     ]
    }
   ],
   "source": [
    "#Проверяем наличие пропусков в колонке \"total_income\"\n",
    "df.info()"
   ]
  },
  {
   "cell_type": "markdown",
   "metadata": {},
   "source": [
    "Разберёмся с пропусками в колонке \"days_employed\". Поскольку это одни и те же люди, возьмём аналогичную функцию и заменим пропуски на медиану в каждой категории. Кроме того, чтобы правильно расчитывать медиану необходимо избавиться от отрицательных значений в колонке. Сделаем это просто взяв их по модулю."
   ]
  },
  {
   "cell_type": "code",
   "execution_count": 30,
   "metadata": {},
   "outputs": [],
   "source": [
    "#Избавляемся от отрицательных значений в колонке \"days_employed\"\n",
    "df['days_employed'] = abs(df['days_employed'])"
   ]
  },
  {
   "cell_type": "code",
   "execution_count": 31,
   "metadata": {
    "scrolled": false
   },
   "outputs": [
    {
     "data": {
      "text/plain": [
       "'сотрудник'"
      ]
     },
     "metadata": {},
     "output_type": "display_data"
    },
    {
     "data": {
      "text/html": [
       "<div>\n",
       "<style scoped>\n",
       "    .dataframe tbody tr th:only-of-type {\n",
       "        vertical-align: middle;\n",
       "    }\n",
       "\n",
       "    .dataframe tbody tr th {\n",
       "        vertical-align: top;\n",
       "    }\n",
       "\n",
       "    .dataframe thead th {\n",
       "        text-align: right;\n",
       "    }\n",
       "</style>\n",
       "<table border=\"1\" class=\"dataframe\">\n",
       "  <thead>\n",
       "    <tr style=\"text-align: right;\">\n",
       "      <th></th>\n",
       "      <th>count</th>\n",
       "      <th>mean</th>\n",
       "      <th>std</th>\n",
       "      <th>min</th>\n",
       "      <th>0.1%</th>\n",
       "      <th>10%</th>\n",
       "      <th>50%</th>\n",
       "      <th>95%</th>\n",
       "      <th>max</th>\n",
       "    </tr>\n",
       "  </thead>\n",
       "  <tbody>\n",
       "    <tr>\n",
       "      <th>days_employed</th>\n",
       "      <td>10014.0</td>\n",
       "      <td>2326.499216</td>\n",
       "      <td>2307.924129</td>\n",
       "      <td>24.141633</td>\n",
       "      <td>58.307172</td>\n",
       "      <td>331.485701</td>\n",
       "      <td>1574.202821</td>\n",
       "      <td>7164.187008</td>\n",
       "      <td>18388.949901</td>\n",
       "    </tr>\n",
       "  </tbody>\n",
       "</table>\n",
       "</div>"
      ],
      "text/plain": [
       "                 count         mean          std        min       0.1%  \\\n",
       "days_employed  10014.0  2326.499216  2307.924129  24.141633  58.307172   \n",
       "\n",
       "                      10%          50%          95%           max  \n",
       "days_employed  331.485701  1574.202821  7164.187008  18388.949901  "
      ]
     },
     "metadata": {},
     "output_type": "display_data"
    },
    {
     "name": "stdout",
     "output_type": "stream",
     "text": [
      "\n"
     ]
    },
    {
     "data": {
      "text/plain": [
       "'пенсионер'"
      ]
     },
     "metadata": {},
     "output_type": "display_data"
    },
    {
     "data": {
      "text/html": [
       "<div>\n",
       "<style scoped>\n",
       "    .dataframe tbody tr th:only-of-type {\n",
       "        vertical-align: middle;\n",
       "    }\n",
       "\n",
       "    .dataframe tbody tr th {\n",
       "        vertical-align: top;\n",
       "    }\n",
       "\n",
       "    .dataframe thead th {\n",
       "        text-align: right;\n",
       "    }\n",
       "</style>\n",
       "<table border=\"1\" class=\"dataframe\">\n",
       "  <thead>\n",
       "    <tr style=\"text-align: right;\">\n",
       "      <th></th>\n",
       "      <th>count</th>\n",
       "      <th>mean</th>\n",
       "      <th>std</th>\n",
       "      <th>min</th>\n",
       "      <th>0.1%</th>\n",
       "      <th>10%</th>\n",
       "      <th>50%</th>\n",
       "      <th>95%</th>\n",
       "      <th>max</th>\n",
       "    </tr>\n",
       "  </thead>\n",
       "  <tbody>\n",
       "    <tr>\n",
       "      <th>days_employed</th>\n",
       "      <td>3443.0</td>\n",
       "      <td>365003.491245</td>\n",
       "      <td>21069.606065</td>\n",
       "      <td>328728.720605</td>\n",
       "      <td>328809.702299</td>\n",
       "      <td>336050.728254</td>\n",
       "      <td>365213.306266</td>\n",
       "      <td>397904.839297</td>\n",
       "      <td>401755.400475</td>\n",
       "    </tr>\n",
       "  </tbody>\n",
       "</table>\n",
       "</div>"
      ],
      "text/plain": [
       "                count           mean           std            min  \\\n",
       "days_employed  3443.0  365003.491245  21069.606065  328728.720605   \n",
       "\n",
       "                        0.1%            10%            50%            95%  \\\n",
       "days_employed  328809.702299  336050.728254  365213.306266  397904.839297   \n",
       "\n",
       "                         max  \n",
       "days_employed  401755.400475  "
      ]
     },
     "metadata": {},
     "output_type": "display_data"
    },
    {
     "name": "stdout",
     "output_type": "stream",
     "text": [
      "\n"
     ]
    },
    {
     "data": {
      "text/plain": [
       "'компаньон'"
      ]
     },
     "metadata": {},
     "output_type": "display_data"
    },
    {
     "data": {
      "text/html": [
       "<div>\n",
       "<style scoped>\n",
       "    .dataframe tbody tr th:only-of-type {\n",
       "        vertical-align: middle;\n",
       "    }\n",
       "\n",
       "    .dataframe tbody tr th {\n",
       "        vertical-align: top;\n",
       "    }\n",
       "\n",
       "    .dataframe thead th {\n",
       "        text-align: right;\n",
       "    }\n",
       "</style>\n",
       "<table border=\"1\" class=\"dataframe\">\n",
       "  <thead>\n",
       "    <tr style=\"text-align: right;\">\n",
       "      <th></th>\n",
       "      <th>count</th>\n",
       "      <th>mean</th>\n",
       "      <th>std</th>\n",
       "      <th>min</th>\n",
       "      <th>0.1%</th>\n",
       "      <th>10%</th>\n",
       "      <th>50%</th>\n",
       "      <th>95%</th>\n",
       "      <th>max</th>\n",
       "    </tr>\n",
       "  </thead>\n",
       "  <tbody>\n",
       "    <tr>\n",
       "      <th>days_employed</th>\n",
       "      <td>4577.0</td>\n",
       "      <td>2111.524398</td>\n",
       "      <td>2048.448594</td>\n",
       "      <td>30.195337</td>\n",
       "      <td>69.461645</td>\n",
       "      <td>286.69123</td>\n",
       "      <td>1547.382223</td>\n",
       "      <td>5904.733499</td>\n",
       "      <td>17615.563266</td>\n",
       "    </tr>\n",
       "  </tbody>\n",
       "</table>\n",
       "</div>"
      ],
      "text/plain": [
       "                count         mean          std        min       0.1%  \\\n",
       "days_employed  4577.0  2111.524398  2048.448594  30.195337  69.461645   \n",
       "\n",
       "                     10%          50%          95%           max  \n",
       "days_employed  286.69123  1547.382223  5904.733499  17615.563266  "
      ]
     },
     "metadata": {},
     "output_type": "display_data"
    },
    {
     "name": "stdout",
     "output_type": "stream",
     "text": [
      "\n"
     ]
    },
    {
     "data": {
      "text/plain": [
       "'госслужащий'"
      ]
     },
     "metadata": {},
     "output_type": "display_data"
    },
    {
     "data": {
      "text/html": [
       "<div>\n",
       "<style scoped>\n",
       "    .dataframe tbody tr th:only-of-type {\n",
       "        vertical-align: middle;\n",
       "    }\n",
       "\n",
       "    .dataframe tbody tr th {\n",
       "        vertical-align: top;\n",
       "    }\n",
       "\n",
       "    .dataframe thead th {\n",
       "        text-align: right;\n",
       "    }\n",
       "</style>\n",
       "<table border=\"1\" class=\"dataframe\">\n",
       "  <thead>\n",
       "    <tr style=\"text-align: right;\">\n",
       "      <th></th>\n",
       "      <th>count</th>\n",
       "      <th>mean</th>\n",
       "      <th>std</th>\n",
       "      <th>min</th>\n",
       "      <th>0.1%</th>\n",
       "      <th>10%</th>\n",
       "      <th>50%</th>\n",
       "      <th>95%</th>\n",
       "      <th>max</th>\n",
       "    </tr>\n",
       "  </thead>\n",
       "  <tbody>\n",
       "    <tr>\n",
       "      <th>days_employed</th>\n",
       "      <td>1312.0</td>\n",
       "      <td>3399.896902</td>\n",
       "      <td>2788.371363</td>\n",
       "      <td>39.95417</td>\n",
       "      <td>71.016006</td>\n",
       "      <td>540.075621</td>\n",
       "      <td>2689.368353</td>\n",
       "      <td>8921.709001</td>\n",
       "      <td>15193.032201</td>\n",
       "    </tr>\n",
       "  </tbody>\n",
       "</table>\n",
       "</div>"
      ],
      "text/plain": [
       "                count         mean          std       min       0.1%  \\\n",
       "days_employed  1312.0  3399.896902  2788.371363  39.95417  71.016006   \n",
       "\n",
       "                      10%          50%          95%           max  \n",
       "days_employed  540.075621  2689.368353  8921.709001  15193.032201  "
      ]
     },
     "metadata": {},
     "output_type": "display_data"
    },
    {
     "name": "stdout",
     "output_type": "stream",
     "text": [
      "\n"
     ]
    },
    {
     "data": {
      "text/plain": [
       "'безработный'"
      ]
     },
     "metadata": {},
     "output_type": "display_data"
    },
    {
     "data": {
      "text/html": [
       "<div>\n",
       "<style scoped>\n",
       "    .dataframe tbody tr th:only-of-type {\n",
       "        vertical-align: middle;\n",
       "    }\n",
       "\n",
       "    .dataframe tbody tr th {\n",
       "        vertical-align: top;\n",
       "    }\n",
       "\n",
       "    .dataframe thead th {\n",
       "        text-align: right;\n",
       "    }\n",
       "</style>\n",
       "<table border=\"1\" class=\"dataframe\">\n",
       "  <thead>\n",
       "    <tr style=\"text-align: right;\">\n",
       "      <th></th>\n",
       "      <th>count</th>\n",
       "      <th>mean</th>\n",
       "      <th>std</th>\n",
       "      <th>min</th>\n",
       "      <th>0.1%</th>\n",
       "      <th>10%</th>\n",
       "      <th>50%</th>\n",
       "      <th>95%</th>\n",
       "      <th>max</th>\n",
       "    </tr>\n",
       "  </thead>\n",
       "  <tbody>\n",
       "    <tr>\n",
       "      <th>days_employed</th>\n",
       "      <td>2.0</td>\n",
       "      <td>366413.652744</td>\n",
       "      <td>40855.478519</td>\n",
       "      <td>337524.466835</td>\n",
       "      <td>337582.245207</td>\n",
       "      <td>343302.304017</td>\n",
       "      <td>366413.652744</td>\n",
       "      <td>392413.920063</td>\n",
       "      <td>395302.838654</td>\n",
       "    </tr>\n",
       "  </tbody>\n",
       "</table>\n",
       "</div>"
      ],
      "text/plain": [
       "               count           mean           std            min  \\\n",
       "days_employed    2.0  366413.652744  40855.478519  337524.466835   \n",
       "\n",
       "                        0.1%            10%            50%            95%  \\\n",
       "days_employed  337582.245207  343302.304017  366413.652744  392413.920063   \n",
       "\n",
       "                         max  \n",
       "days_employed  395302.838654  "
      ]
     },
     "metadata": {},
     "output_type": "display_data"
    },
    {
     "name": "stdout",
     "output_type": "stream",
     "text": [
      "\n"
     ]
    },
    {
     "data": {
      "text/plain": [
       "'предприниматель'"
      ]
     },
     "metadata": {},
     "output_type": "display_data"
    },
    {
     "data": {
      "text/html": [
       "<div>\n",
       "<style scoped>\n",
       "    .dataframe tbody tr th:only-of-type {\n",
       "        vertical-align: middle;\n",
       "    }\n",
       "\n",
       "    .dataframe tbody tr th {\n",
       "        vertical-align: top;\n",
       "    }\n",
       "\n",
       "    .dataframe thead th {\n",
       "        text-align: right;\n",
       "    }\n",
       "</style>\n",
       "<table border=\"1\" class=\"dataframe\">\n",
       "  <thead>\n",
       "    <tr style=\"text-align: right;\">\n",
       "      <th></th>\n",
       "      <th>count</th>\n",
       "      <th>mean</th>\n",
       "      <th>std</th>\n",
       "      <th>min</th>\n",
       "      <th>0.1%</th>\n",
       "      <th>10%</th>\n",
       "      <th>50%</th>\n",
       "      <th>95%</th>\n",
       "      <th>max</th>\n",
       "    </tr>\n",
       "  </thead>\n",
       "  <tbody>\n",
       "    <tr>\n",
       "      <th>days_employed</th>\n",
       "      <td>1.0</td>\n",
       "      <td>520.848083</td>\n",
       "      <td>NaN</td>\n",
       "      <td>520.848083</td>\n",
       "      <td>520.848083</td>\n",
       "      <td>520.848083</td>\n",
       "      <td>520.848083</td>\n",
       "      <td>520.848083</td>\n",
       "      <td>520.848083</td>\n",
       "    </tr>\n",
       "  </tbody>\n",
       "</table>\n",
       "</div>"
      ],
      "text/plain": [
       "               count        mean  std         min        0.1%         10%  \\\n",
       "days_employed    1.0  520.848083  NaN  520.848083  520.848083  520.848083   \n",
       "\n",
       "                      50%         95%         max  \n",
       "days_employed  520.848083  520.848083  520.848083  "
      ]
     },
     "metadata": {},
     "output_type": "display_data"
    },
    {
     "name": "stdout",
     "output_type": "stream",
     "text": [
      "\n"
     ]
    },
    {
     "data": {
      "text/plain": [
       "'студент'"
      ]
     },
     "metadata": {},
     "output_type": "display_data"
    },
    {
     "data": {
      "text/html": [
       "<div>\n",
       "<style scoped>\n",
       "    .dataframe tbody tr th:only-of-type {\n",
       "        vertical-align: middle;\n",
       "    }\n",
       "\n",
       "    .dataframe tbody tr th {\n",
       "        vertical-align: top;\n",
       "    }\n",
       "\n",
       "    .dataframe thead th {\n",
       "        text-align: right;\n",
       "    }\n",
       "</style>\n",
       "<table border=\"1\" class=\"dataframe\">\n",
       "  <thead>\n",
       "    <tr style=\"text-align: right;\">\n",
       "      <th></th>\n",
       "      <th>count</th>\n",
       "      <th>mean</th>\n",
       "      <th>std</th>\n",
       "      <th>min</th>\n",
       "      <th>0.1%</th>\n",
       "      <th>10%</th>\n",
       "      <th>50%</th>\n",
       "      <th>95%</th>\n",
       "      <th>max</th>\n",
       "    </tr>\n",
       "  </thead>\n",
       "  <tbody>\n",
       "    <tr>\n",
       "      <th>days_employed</th>\n",
       "      <td>1.0</td>\n",
       "      <td>578.751554</td>\n",
       "      <td>NaN</td>\n",
       "      <td>578.751554</td>\n",
       "      <td>578.751554</td>\n",
       "      <td>578.751554</td>\n",
       "      <td>578.751554</td>\n",
       "      <td>578.751554</td>\n",
       "      <td>578.751554</td>\n",
       "    </tr>\n",
       "  </tbody>\n",
       "</table>\n",
       "</div>"
      ],
      "text/plain": [
       "               count        mean  std         min        0.1%         10%  \\\n",
       "days_employed    1.0  578.751554  NaN  578.751554  578.751554  578.751554   \n",
       "\n",
       "                      50%         95%         max  \n",
       "days_employed  578.751554  578.751554  578.751554  "
      ]
     },
     "metadata": {},
     "output_type": "display_data"
    },
    {
     "name": "stdout",
     "output_type": "stream",
     "text": [
      "\n"
     ]
    },
    {
     "data": {
      "text/plain": [
       "'в декрете'"
      ]
     },
     "metadata": {},
     "output_type": "display_data"
    },
    {
     "data": {
      "text/html": [
       "<div>\n",
       "<style scoped>\n",
       "    .dataframe tbody tr th:only-of-type {\n",
       "        vertical-align: middle;\n",
       "    }\n",
       "\n",
       "    .dataframe tbody tr th {\n",
       "        vertical-align: top;\n",
       "    }\n",
       "\n",
       "    .dataframe thead th {\n",
       "        text-align: right;\n",
       "    }\n",
       "</style>\n",
       "<table border=\"1\" class=\"dataframe\">\n",
       "  <thead>\n",
       "    <tr style=\"text-align: right;\">\n",
       "      <th></th>\n",
       "      <th>count</th>\n",
       "      <th>mean</th>\n",
       "      <th>std</th>\n",
       "      <th>min</th>\n",
       "      <th>0.1%</th>\n",
       "      <th>10%</th>\n",
       "      <th>50%</th>\n",
       "      <th>95%</th>\n",
       "      <th>max</th>\n",
       "    </tr>\n",
       "  </thead>\n",
       "  <tbody>\n",
       "    <tr>\n",
       "      <th>days_employed</th>\n",
       "      <td>1.0</td>\n",
       "      <td>3296.759962</td>\n",
       "      <td>NaN</td>\n",
       "      <td>3296.759962</td>\n",
       "      <td>3296.759962</td>\n",
       "      <td>3296.759962</td>\n",
       "      <td>3296.759962</td>\n",
       "      <td>3296.759962</td>\n",
       "      <td>3296.759962</td>\n",
       "    </tr>\n",
       "  </tbody>\n",
       "</table>\n",
       "</div>"
      ],
      "text/plain": [
       "               count         mean  std          min         0.1%          10%  \\\n",
       "days_employed    1.0  3296.759962  NaN  3296.759962  3296.759962  3296.759962   \n",
       "\n",
       "                       50%          95%          max  \n",
       "days_employed  3296.759962  3296.759962  3296.759962  "
      ]
     },
     "metadata": {},
     "output_type": "display_data"
    },
    {
     "name": "stdout",
     "output_type": "stream",
     "text": [
      "\n"
     ]
    }
   ],
   "source": [
    "#Беглая оценка значений стажа для каждой категории\n",
    "for cat_in in df['income_type'].unique():\n",
    "    display(cat_in, df[df['income_type'] == cat_in][['days_employed']].describe([.001,.1,.95]).T)\n",
    "    print()"
   ]
  },
  {
   "cell_type": "code",
   "execution_count": 32,
   "metadata": {},
   "outputs": [],
   "source": [
    "#Заменяем пропущенные значения в колонке \"days_employed\" для каждой категории на медианный cтаж в этой категории\n",
    "for inc_type in df['income_type'].unique():\n",
    "    df.loc[(df['days_employed'].isna()) & (df['income_type'] == inc_type), 'days_employed'] = \\\n",
    "    df.loc[df['income_type'] == inc_type, 'days_employed'].median()"
   ]
  },
  {
   "cell_type": "code",
   "execution_count": 33,
   "metadata": {
    "scrolled": false
   },
   "outputs": [
    {
     "name": "stdout",
     "output_type": "stream",
     "text": [
      "<class 'pandas.core.frame.DataFrame'>\n",
      "Int64Index: 21525 entries, 0 to 21524\n",
      "Data columns (total 14 columns):\n",
      " #   Column            Non-Null Count  Dtype  \n",
      "---  ------            --------------  -----  \n",
      " 0   children          21525 non-null  int64  \n",
      " 1   days_employed     21525 non-null  float64\n",
      " 2   dob_years         21525 non-null  int64  \n",
      " 3   education         21525 non-null  object \n",
      " 4   education_id      21525 non-null  int64  \n",
      " 5   family_status     21525 non-null  object \n",
      " 6   family_status_id  21525 non-null  int64  \n",
      " 7   gender            21525 non-null  object \n",
      " 8   income_type       21525 non-null  object \n",
      " 9   debt              21525 non-null  int64  \n",
      " 10  total_income      21525 non-null  float64\n",
      " 11  purpose           21525 non-null  object \n",
      " 12  age_group         21525 non-null  object \n",
      " 13  income_median     21525 non-null  float64\n",
      "dtypes: float64(3), int64(5), object(6)\n",
      "memory usage: 2.5+ MB\n"
     ]
    }
   ],
   "source": [
    "#Проверяем наличие пропусков в колонке \"days_employed\"\n",
    "df.info()"
   ]
  },
  {
   "cell_type": "markdown",
   "metadata": {},
   "source": [
    "Кроме явных пропусков в виде значений **NaN** нам могут встретится и неявные. Это заполненные значениями элементы таблицы, которые, однако не могут существовать в действительности. Например нулевой возраст заёмщика.  Давайте пройдём по всем колонкам и поищем значения, которых не может быть."
   ]
  },
  {
   "cell_type": "code",
   "execution_count": 34,
   "metadata": {
    "scrolled": false
   },
   "outputs": [
    {
     "name": "stdout",
     "output_type": "stream",
     "text": [
      "children\n",
      "[ 1  2  0  4  3 20 -1  5]\n",
      "--------------------------------------------------------------------------------\n",
      "days_employed\n",
      "[  8437.67302776   6929.86529897   2369.99972021 ... 395302.83865356\n",
      "   1331.01737111   3296.75996202]\n",
      "--------------------------------------------------------------------------------\n",
      "dob_years\n",
      "[42 35 33 28 26 27 36 44 43 40 41 39 31 38 29 30 45 34 37 32 53 57 63 62\n",
      " 54 64 59 60 61 58 52 56 55 51 50 49 47 48 65 67 68 71 73 66 69 46 72 70\n",
      " 74 24 23  0 22 21 20 19 25 75]\n",
      "--------------------------------------------------------------------------------\n",
      "education\n",
      "['высшее' 'среднее' 'неоконченное высшее' 'начальное' 'ученая степень']\n",
      "--------------------------------------------------------------------------------\n",
      "education_id\n",
      "[0 1 2 3 4]\n",
      "--------------------------------------------------------------------------------\n",
      "family_status\n",
      "['женат / замужем' 'гражданский брак' 'Не женат / не замужем'\n",
      " 'вдовец / вдова' 'в разводе']\n",
      "--------------------------------------------------------------------------------\n",
      "family_status_id\n",
      "[0 1 4 2 3]\n",
      "--------------------------------------------------------------------------------\n",
      "gender\n",
      "['F' 'M' 'XNA']\n",
      "--------------------------------------------------------------------------------\n",
      "income_type\n",
      "['сотрудник' 'пенсионер' 'компаньон' 'госслужащий' 'безработный'\n",
      " 'предприниматель' 'студент' 'в декрете']\n",
      "--------------------------------------------------------------------------------\n",
      "debt\n",
      "[0 1]\n",
      "--------------------------------------------------------------------------------\n",
      "total_income\n",
      "[253875.6394526   95856.83242386  90410.58674466 ... 202722.51136841\n",
      " 169493.89922765  53829.13072906]\n",
      "--------------------------------------------------------------------------------\n",
      "purpose\n",
      "['покупка жилья' 'на проведение свадьбы' 'строительство недвижимости'\n",
      " 'строительство собственной недвижимости' 'автомобили' 'недвижимость'\n",
      " 'на покупку подержанного автомобиля' 'свой автомобиль'\n",
      " 'операции с жильем' 'сыграть свадьбу' 'сделка с подержанным автомобилем'\n",
      " 'операции со своей недвижимостью' 'строительство жилой недвижимости'\n",
      " 'операции с коммерческой недвижимостью' 'приобретение автомобиля'\n",
      " 'на покупку своего автомобиля' 'жилье' 'на покупку автомобиля'\n",
      " 'получение высшего образования' 'свадьба' 'покупка жилья для сдачи'\n",
      " 'высшее образование' 'покупка жилой недвижимости' 'получение образования'\n",
      " 'заняться высшим образованием' 'образование'\n",
      " 'покупка коммерческой недвижимости' 'покупка недвижимости'\n",
      " 'покупка своего жилья' 'дополнительное образование' 'ремонт жилью'\n",
      " 'операции с недвижимостью' 'получение дополнительного образования'\n",
      " 'покупка жилья для семьи' 'заняться образованием' 'сделка с автомобилем'\n",
      " 'автомобиль' 'профильное образование']\n",
      "--------------------------------------------------------------------------------\n",
      "age_group\n",
      "['средний возраст' 'старший возраст' 'пожилой возраст' 'молодой возраст']\n",
      "--------------------------------------------------------------------------------\n",
      "income_median\n",
      "[166571.73298454 137823.8121437  116836.01796457 201911.71632929\n",
      " 135640.44524349 108889.85102008 169501.71898693 216568.99216946\n",
      " 114441.33855008 137035.31991564 137160.48362408 130600.07798466\n",
      " 158312.088005   156349.23976462 161784.14079679 133860.41335179\n",
      " 133800.22142934 185945.11920712 168992.12077216 173090.06511495\n",
      " 185080.30964788 159780.92380286 135922.39207257 149490.68621697\n",
      " 183123.5250334  161709.90178588 100121.19435644 160881.64401106\n",
      " 138930.50099026 157684.55304734 110359.37223924 117347.57157514\n",
      " 123814.07946813 131672.75044891 132823.46229765 163060.54151204\n",
      " 127677.94739927 135405.45435532 232165.84412797 119677.67046004\n",
      " 149766.20652966 266011.94553874 165325.24637655 171844.85578365\n",
      "  93834.40603784 153859.65243564 152742.88214786 188236.76581407\n",
      " 190912.17834876 133110.64270493  34466.13353906  98752.49544184\n",
      "  59956.99198401 151217.45512012 105766.40330101 144163.31755236\n",
      " 157259.89855518 175777.12542975 137674.11701174 499163.14494709\n",
      " 268411.21453559 123687.09367959  98201.62531401 137395.34801008\n",
      " 112332.91827261 111392.23110678 255425.19655647 202722.51136841\n",
      " 169493.89922765  53829.13072906]\n",
      "--------------------------------------------------------------------------------\n"
     ]
    }
   ],
   "source": [
    "#Пробегаем в цикле по всем колонкам, выводя уникальные значения в каждой колонке\n",
    "for col in df.columns:\n",
    "    print(col)\n",
    "    print(df[col].unique())\n",
    "    print('-'*80)"
   ]
  },
  {
   "cell_type": "markdown",
   "metadata": {},
   "source": [
    "В колонках \"children\", \"dob_years\" и \"gender\" указаны явно невозможные значения. А в колонке \"days_employed\" количество дней стажа явно превышает продолжительность жизни человека. Давайте отдельно посчитаем количество ошибок в колонках \"children\", \"dob_years\" и \"gender\"."
   ]
  },
  {
   "cell_type": "code",
   "execution_count": 35,
   "metadata": {},
   "outputs": [
    {
     "name": "stdout",
     "output_type": "stream",
     "text": [
      "Значений в колонке \"children\" = -1 -  47\n",
      "Значений в колонке \"children\" = 20 -  76\n",
      "Значений в колонке \"dob_years\" = 0 -  101\n",
      "Значений в колонке \"gender\" = \"XNA\" -  1\n"
     ]
    }
   ],
   "source": [
    "print('Значений в колонке \"children\" = -1 - ', df.loc[df['children'] == -1]['children'].count())\n",
    "\n",
    "print('Значений в колонке \"children\" = 20 - ', df.loc[df['children'] == 20]['children'].count())\n",
    "\n",
    "print('Значений в колонке \"dob_years\" = 0 - ', df.loc[df['dob_years'] == 0]['dob_years'].count())\n",
    "\n",
    "print('Значений в колонке \"gender\" = \"XNA\" - ', df.loc[df['gender'] == 'XNA']['gender'].count())"
   ]
  },
  {
   "cell_type": "markdown",
   "metadata": {},
   "source": [
    "Нетрудно посчитать, что общее количество таких ошибок не превышает 1% от общего числа строк. В этом случае проще такие строки удалить, чем заполнять пропуски на основе усреднённых значений."
   ]
  },
  {
   "cell_type": "code",
   "execution_count": 36,
   "metadata": {},
   "outputs": [],
   "source": [
    "#Удаляем строки с неявными пропусками и ошибками\n",
    "\n",
    "df = df.drop(df[df['children'] == -1].index)\n",
    "\n",
    "df = df.drop(df[df['children'] == 20].index)\n",
    "\n",
    "df = df.drop(df[df['gender'] == 'XNA'].index)\n",
    "\n",
    "df = df.drop(df[df['dob_years'] == 0].index)\n"
   ]
  },
  {
   "cell_type": "code",
   "execution_count": 37,
   "metadata": {
    "scrolled": true
   },
   "outputs": [
    {
     "name": "stdout",
     "output_type": "stream",
     "text": [
      "children\n",
      "[1 2 0 4 3 5]\n",
      "--------------------------------------------------------------------------------\n",
      "gender\n",
      "['F' 'M']\n",
      "--------------------------------------------------------------------------------\n",
      "dob_years\n",
      "[42 35 33 28 26 27 36 44 43 40 41 39 31 38 29 30 45 34 37 32 53 57 63 62\n",
      " 54 64 59 60 61 58 52 56 55 51 50 49 47 48 65 67 68 71 73 66 69 46 72 70\n",
      " 74 24 23 22 21 20 19 25 75]\n",
      "--------------------------------------------------------------------------------\n"
     ]
    }
   ],
   "source": [
    "#Проверяем результат\n",
    "for col in ['children', 'gender', 'dob_years']:\n",
    "    print(col)\n",
    "    print(df[col].unique())\n",
    "    print('-'*80)"
   ]
  },
  {
   "cell_type": "markdown",
   "metadata": {},
   "source": [
    "**Вывод**"
   ]
  },
  {
   "cell_type": "markdown",
   "metadata": {},
   "source": [
    "В данных существуют явные пропуски в двух колонках - \"days_employed\" и \"total_income\". < Как выяснилось, пропуски были случайными, хоть и  присутствуют у одних и тех же людей.  \n",
    "\n",
    "Наиболее типичным представителем группы заёмщиков с пропущенными значениями в стаже и доходах является человек со средним образованием, состоящий в браке и примерно в половине случаев относящийся к категории \"сотрудник\".\n",
    "Вероятными причинами пропусков является возможное отсутствие истории доходов и стажа у людей со средним образованием, хотя для проверки этого допущения надо сгруппировать выборку по возрастным периодам. Также возможны ошибки при выгрузке, репликации баз данных либо некорректном преобразовании типов колонок. Если там лежали \"неожиданные\" для преобразователя типов данные и использовался метод **to_numeric()** с атрибутом **errors='coerce'**, который заменяет некоррректные данные на **NaN**.\n",
    "\n",
    "Поскольку более вероятно, что доходы человека больше зависят от его занятий чем от образования, пропуски в доходах было решено заполнять медианными значениями из соответствующей колонки,  однако поделенной на категории по типу доходов, образованию и возрасту.  Медиана была выбрана исходя из того, что доходы даже внутри одной категории могут отличаться на порядок. То есть разброс довольно  существенен, и средние значения, в отличие от медианы могут значительно искажать оценку. \n",
    "Аналогично заполнялись пропуски в колонке со стажем, только перед вычислением медианных стажей вся колонка была избавлена от отрицательных значений. \n",
    "\n",
    "Кроме явных пропусков были обнаружены неявные пропуски в колонках \"children\", \"gender\", \"dob_years\". Поскольку их было меньше 1% по отношению к общему количеству заёмщиков их было проще удалить из таблицы методом **drop()**.\n",
    "\n",
    "В случае с колонкой \"days_employed\" ясно только одно - она выгружалась с ошибками в каком-то неизвестном формате, поскольку предположение что содержимое колонки это количество часов или секунд разбилось о такие же невероятные цифры результатов преобразования. Утешает лишь то, что для анализа данных в данном случае она неважна, и ей можно пренебречь при группировках."
   ]
  },
  {
   "cell_type": "markdown",
   "metadata": {},
   "source": [
    "### Замена типа данных"
   ]
  },
  {
   "cell_type": "markdown",
   "metadata": {},
   "source": [
    "Обратим внимание на типы данных в таблице"
   ]
  },
  {
   "cell_type": "code",
   "execution_count": 38,
   "metadata": {},
   "outputs": [
    {
     "name": "stdout",
     "output_type": "stream",
     "text": [
      "<class 'pandas.core.frame.DataFrame'>\n",
      "Int64Index: 21301 entries, 0 to 21524\n",
      "Data columns (total 14 columns):\n",
      " #   Column            Non-Null Count  Dtype  \n",
      "---  ------            --------------  -----  \n",
      " 0   children          21301 non-null  int64  \n",
      " 1   days_employed     21301 non-null  float64\n",
      " 2   dob_years         21301 non-null  int64  \n",
      " 3   education         21301 non-null  object \n",
      " 4   education_id      21301 non-null  int64  \n",
      " 5   family_status     21301 non-null  object \n",
      " 6   family_status_id  21301 non-null  int64  \n",
      " 7   gender            21301 non-null  object \n",
      " 8   income_type       21301 non-null  object \n",
      " 9   debt              21301 non-null  int64  \n",
      " 10  total_income      21301 non-null  float64\n",
      " 11  purpose           21301 non-null  object \n",
      " 12  age_group         21301 non-null  object \n",
      " 13  income_median     21301 non-null  float64\n",
      "dtypes: float64(3), int64(5), object(6)\n",
      "memory usage: 2.4+ MB\n"
     ]
    }
   ],
   "source": [
    "df.info()"
   ]
  },
  {
   "cell_type": "markdown",
   "metadata": {},
   "source": [
    "В колонке \"days_employed\" значения хранятся как числа с плавающей точкой, хотя количество дней это целые числа. Преобразуем тип колонки в целочисленный. Также преобразуем колонку \"total_income\", поскольку для расчёта метрик по заёмщику десятичная часть от дохода на общую оценку не влияет."
   ]
  },
  {
   "cell_type": "code",
   "execution_count": 39,
   "metadata": {},
   "outputs": [],
   "source": [
    "#Преобразуем тип данных в колонках\n",
    "df['days_employed'] = df['days_employed'].astype(int)\n",
    "df['total_income'] = df['total_income'].astype(int)"
   ]
  },
  {
   "cell_type": "code",
   "execution_count": 40,
   "metadata": {},
   "outputs": [
    {
     "name": "stdout",
     "output_type": "stream",
     "text": [
      "<class 'pandas.core.frame.DataFrame'>\n",
      "Int64Index: 21301 entries, 0 to 21524\n",
      "Data columns (total 14 columns):\n",
      " #   Column            Non-Null Count  Dtype  \n",
      "---  ------            --------------  -----  \n",
      " 0   children          21301 non-null  int64  \n",
      " 1   days_employed     21301 non-null  int64  \n",
      " 2   dob_years         21301 non-null  int64  \n",
      " 3   education         21301 non-null  object \n",
      " 4   education_id      21301 non-null  int64  \n",
      " 5   family_status     21301 non-null  object \n",
      " 6   family_status_id  21301 non-null  int64  \n",
      " 7   gender            21301 non-null  object \n",
      " 8   income_type       21301 non-null  object \n",
      " 9   debt              21301 non-null  int64  \n",
      " 10  total_income      21301 non-null  int64  \n",
      " 11  purpose           21301 non-null  object \n",
      " 12  age_group         21301 non-null  object \n",
      " 13  income_median     21301 non-null  float64\n",
      "dtypes: float64(1), int64(7), object(6)\n",
      "memory usage: 2.4+ MB\n"
     ]
    }
   ],
   "source": [
    "#Проверяем результат\n",
    "df.info()"
   ]
  },
  {
   "cell_type": "markdown",
   "metadata": {},
   "source": [
    "**Вывод**"
   ]
  },
  {
   "cell_type": "markdown",
   "metadata": {},
   "source": [
    "Тип колонки \"days_employed\", содержащий количество дней стажа, и \"total_income\" преобразовали из вещественного в целочисленный методом **astype()**. Теперь тип колонок определён как **int64**."
   ]
  },
  {
   "cell_type": "markdown",
   "metadata": {},
   "source": [
    "### Обработка дубликатов"
   ]
  },
  {
   "cell_type": "markdown",
   "metadata": {},
   "source": [
    "Теперь разберёмся с дубликатами. Применим метод **duplicated()**, который ищет в датафрейме дублированные строки."
   ]
  },
  {
   "cell_type": "code",
   "execution_count": 41,
   "metadata": {},
   "outputs": [
    {
     "data": {
      "text/plain": [
       "71"
      ]
     },
     "execution_count": 41,
     "metadata": {},
     "output_type": "execute_result"
    }
   ],
   "source": [
    "#Посчитаем количество дублированных строк в таблице\n",
    "df.duplicated().sum()"
   ]
  },
  {
   "cell_type": "code",
   "execution_count": 42,
   "metadata": {
    "scrolled": false
   },
   "outputs": [
    {
     "data": {
      "text/html": [
       "<div>\n",
       "<style scoped>\n",
       "    .dataframe tbody tr th:only-of-type {\n",
       "        vertical-align: middle;\n",
       "    }\n",
       "\n",
       "    .dataframe tbody tr th {\n",
       "        vertical-align: top;\n",
       "    }\n",
       "\n",
       "    .dataframe thead th {\n",
       "        text-align: right;\n",
       "    }\n",
       "</style>\n",
       "<table border=\"1\" class=\"dataframe\">\n",
       "  <thead>\n",
       "    <tr style=\"text-align: right;\">\n",
       "      <th></th>\n",
       "      <th>children</th>\n",
       "      <th>days_employed</th>\n",
       "      <th>dob_years</th>\n",
       "      <th>education</th>\n",
       "      <th>education_id</th>\n",
       "      <th>family_status</th>\n",
       "      <th>family_status_id</th>\n",
       "      <th>gender</th>\n",
       "      <th>income_type</th>\n",
       "      <th>debt</th>\n",
       "      <th>total_income</th>\n",
       "      <th>purpose</th>\n",
       "      <th>age_group</th>\n",
       "      <th>income_median</th>\n",
       "    </tr>\n",
       "  </thead>\n",
       "  <tbody>\n",
       "    <tr>\n",
       "      <th>305</th>\n",
       "      <td>1</td>\n",
       "      <td>1574</td>\n",
       "      <td>34</td>\n",
       "      <td>высшее</td>\n",
       "      <td>0</td>\n",
       "      <td>гражданский брак</td>\n",
       "      <td>1</td>\n",
       "      <td>F</td>\n",
       "      <td>сотрудник</td>\n",
       "      <td>0</td>\n",
       "      <td>166571</td>\n",
       "      <td>свадьба</td>\n",
       "      <td>средний возраст</td>\n",
       "      <td>166571.732985</td>\n",
       "    </tr>\n",
       "    <tr>\n",
       "      <th>1223</th>\n",
       "      <td>1</td>\n",
       "      <td>1574</td>\n",
       "      <td>32</td>\n",
       "      <td>высшее</td>\n",
       "      <td>0</td>\n",
       "      <td>женат / замужем</td>\n",
       "      <td>0</td>\n",
       "      <td>F</td>\n",
       "      <td>сотрудник</td>\n",
       "      <td>0</td>\n",
       "      <td>166571</td>\n",
       "      <td>на покупку подержанного автомобиля</td>\n",
       "      <td>средний возраст</td>\n",
       "      <td>166571.732985</td>\n",
       "    </tr>\n",
       "    <tr>\n",
       "      <th>1346</th>\n",
       "      <td>0</td>\n",
       "      <td>1574</td>\n",
       "      <td>29</td>\n",
       "      <td>высшее</td>\n",
       "      <td>0</td>\n",
       "      <td>женат / замужем</td>\n",
       "      <td>0</td>\n",
       "      <td>M</td>\n",
       "      <td>сотрудник</td>\n",
       "      <td>0</td>\n",
       "      <td>166571</td>\n",
       "      <td>покупка жилой недвижимости</td>\n",
       "      <td>средний возраст</td>\n",
       "      <td>166571.732985</td>\n",
       "    </tr>\n",
       "    <tr>\n",
       "      <th>1556</th>\n",
       "      <td>1</td>\n",
       "      <td>1574</td>\n",
       "      <td>30</td>\n",
       "      <td>высшее</td>\n",
       "      <td>0</td>\n",
       "      <td>женат / замужем</td>\n",
       "      <td>0</td>\n",
       "      <td>F</td>\n",
       "      <td>сотрудник</td>\n",
       "      <td>0</td>\n",
       "      <td>166571</td>\n",
       "      <td>покупка коммерческой недвижимости</td>\n",
       "      <td>средний возраст</td>\n",
       "      <td>166571.732985</td>\n",
       "    </tr>\n",
       "    <tr>\n",
       "      <th>2201</th>\n",
       "      <td>0</td>\n",
       "      <td>1574</td>\n",
       "      <td>41</td>\n",
       "      <td>среднее</td>\n",
       "      <td>1</td>\n",
       "      <td>женат / замужем</td>\n",
       "      <td>0</td>\n",
       "      <td>F</td>\n",
       "      <td>сотрудник</td>\n",
       "      <td>0</td>\n",
       "      <td>137823</td>\n",
       "      <td>покупка жилья для семьи</td>\n",
       "      <td>средний возраст</td>\n",
       "      <td>137823.812144</td>\n",
       "    </tr>\n",
       "    <tr>\n",
       "      <th>...</th>\n",
       "      <td>...</td>\n",
       "      <td>...</td>\n",
       "      <td>...</td>\n",
       "      <td>...</td>\n",
       "      <td>...</td>\n",
       "      <td>...</td>\n",
       "      <td>...</td>\n",
       "      <td>...</td>\n",
       "      <td>...</td>\n",
       "      <td>...</td>\n",
       "      <td>...</td>\n",
       "      <td>...</td>\n",
       "      <td>...</td>\n",
       "      <td>...</td>\n",
       "    </tr>\n",
       "    <tr>\n",
       "      <th>19665</th>\n",
       "      <td>0</td>\n",
       "      <td>365213</td>\n",
       "      <td>64</td>\n",
       "      <td>высшее</td>\n",
       "      <td>0</td>\n",
       "      <td>гражданский брак</td>\n",
       "      <td>1</td>\n",
       "      <td>F</td>\n",
       "      <td>пенсионер</td>\n",
       "      <td>0</td>\n",
       "      <td>149490</td>\n",
       "      <td>на проведение свадьбы</td>\n",
       "      <td>старший возраст</td>\n",
       "      <td>149490.686217</td>\n",
       "    </tr>\n",
       "    <tr>\n",
       "      <th>19678</th>\n",
       "      <td>0</td>\n",
       "      <td>365213</td>\n",
       "      <td>58</td>\n",
       "      <td>высшее</td>\n",
       "      <td>0</td>\n",
       "      <td>Не женат / не замужем</td>\n",
       "      <td>4</td>\n",
       "      <td>F</td>\n",
       "      <td>пенсионер</td>\n",
       "      <td>0</td>\n",
       "      <td>149490</td>\n",
       "      <td>дополнительное образование</td>\n",
       "      <td>старший возраст</td>\n",
       "      <td>149490.686217</td>\n",
       "    </tr>\n",
       "    <tr>\n",
       "      <th>20584</th>\n",
       "      <td>0</td>\n",
       "      <td>1574</td>\n",
       "      <td>46</td>\n",
       "      <td>среднее</td>\n",
       "      <td>1</td>\n",
       "      <td>гражданский брак</td>\n",
       "      <td>1</td>\n",
       "      <td>F</td>\n",
       "      <td>сотрудник</td>\n",
       "      <td>0</td>\n",
       "      <td>138930</td>\n",
       "      <td>покупка жилья для сдачи</td>\n",
       "      <td>пожилой возраст</td>\n",
       "      <td>138930.500990</td>\n",
       "    </tr>\n",
       "    <tr>\n",
       "      <th>20611</th>\n",
       "      <td>0</td>\n",
       "      <td>1574</td>\n",
       "      <td>46</td>\n",
       "      <td>среднее</td>\n",
       "      <td>1</td>\n",
       "      <td>женат / замужем</td>\n",
       "      <td>0</td>\n",
       "      <td>F</td>\n",
       "      <td>сотрудник</td>\n",
       "      <td>0</td>\n",
       "      <td>138930</td>\n",
       "      <td>высшее образование</td>\n",
       "      <td>пожилой возраст</td>\n",
       "      <td>138930.500990</td>\n",
       "    </tr>\n",
       "    <tr>\n",
       "      <th>20670</th>\n",
       "      <td>0</td>\n",
       "      <td>1574</td>\n",
       "      <td>46</td>\n",
       "      <td>среднее</td>\n",
       "      <td>1</td>\n",
       "      <td>женат / замужем</td>\n",
       "      <td>0</td>\n",
       "      <td>F</td>\n",
       "      <td>сотрудник</td>\n",
       "      <td>0</td>\n",
       "      <td>138930</td>\n",
       "      <td>свой автомобиль</td>\n",
       "      <td>пожилой возраст</td>\n",
       "      <td>138930.500990</td>\n",
       "    </tr>\n",
       "  </tbody>\n",
       "</table>\n",
       "<p>71 rows × 14 columns</p>\n",
       "</div>"
      ],
      "text/plain": [
       "       children  days_employed  dob_years education  education_id  \\\n",
       "305           1           1574         34    высшее             0   \n",
       "1223          1           1574         32    высшее             0   \n",
       "1346          0           1574         29    высшее             0   \n",
       "1556          1           1574         30    высшее             0   \n",
       "2201          0           1574         41   среднее             1   \n",
       "...         ...            ...        ...       ...           ...   \n",
       "19665         0         365213         64    высшее             0   \n",
       "19678         0         365213         58    высшее             0   \n",
       "20584         0           1574         46   среднее             1   \n",
       "20611         0           1574         46   среднее             1   \n",
       "20670         0           1574         46   среднее             1   \n",
       "\n",
       "               family_status  family_status_id gender income_type  debt  \\\n",
       "305         гражданский брак                 1      F   сотрудник     0   \n",
       "1223         женат / замужем                 0      F   сотрудник     0   \n",
       "1346         женат / замужем                 0      M   сотрудник     0   \n",
       "1556         женат / замужем                 0      F   сотрудник     0   \n",
       "2201         женат / замужем                 0      F   сотрудник     0   \n",
       "...                      ...               ...    ...         ...   ...   \n",
       "19665       гражданский брак                 1      F   пенсионер     0   \n",
       "19678  Не женат / не замужем                 4      F   пенсионер     0   \n",
       "20584       гражданский брак                 1      F   сотрудник     0   \n",
       "20611        женат / замужем                 0      F   сотрудник     0   \n",
       "20670        женат / замужем                 0      F   сотрудник     0   \n",
       "\n",
       "       total_income                             purpose        age_group  \\\n",
       "305          166571                             свадьба  средний возраст   \n",
       "1223         166571  на покупку подержанного автомобиля  средний возраст   \n",
       "1346         166571          покупка жилой недвижимости  средний возраст   \n",
       "1556         166571   покупка коммерческой недвижимости  средний возраст   \n",
       "2201         137823             покупка жилья для семьи  средний возраст   \n",
       "...             ...                                 ...              ...   \n",
       "19665        149490               на проведение свадьбы  старший возраст   \n",
       "19678        149490          дополнительное образование  старший возраст   \n",
       "20584        138930             покупка жилья для сдачи  пожилой возраст   \n",
       "20611        138930                  высшее образование  пожилой возраст   \n",
       "20670        138930                     свой автомобиль  пожилой возраст   \n",
       "\n",
       "       income_median  \n",
       "305    166571.732985  \n",
       "1223   166571.732985  \n",
       "1346   166571.732985  \n",
       "1556   166571.732985  \n",
       "2201   137823.812144  \n",
       "...              ...  \n",
       "19665  149490.686217  \n",
       "19678  149490.686217  \n",
       "20584  138930.500990  \n",
       "20611  138930.500990  \n",
       "20670  138930.500990  \n",
       "\n",
       "[71 rows x 14 columns]"
      ]
     },
     "metadata": {},
     "output_type": "display_data"
    }
   ],
   "source": [
    "#Взглянем на получившуюся таблицу состоящую из дубликатов\n",
    "display(df[df.duplicated()])"
   ]
  },
  {
   "cell_type": "markdown",
   "metadata": {},
   "source": [
    "В таблице индексы явно идут не подряд, поэтому при удалении дубликатов с помощью функции **drop_duplicates()** лучше сбросить индексы. Это избавит нас от возможных проблем в будущем, если мы решим обращаться к элементам датафрейма по индексам."
   ]
  },
  {
   "cell_type": "code",
   "execution_count": 43,
   "metadata": {
    "scrolled": true
   },
   "outputs": [],
   "source": [
    "#Избавляемся от дубликатов и сбрасываем нумерацию индексов\n",
    "df = df.drop_duplicates().reset_index(drop=True)"
   ]
  },
  {
   "cell_type": "code",
   "execution_count": 44,
   "metadata": {
    "scrolled": false
   },
   "outputs": [
    {
     "name": "stdout",
     "output_type": "stream",
     "text": [
      "<class 'pandas.core.frame.DataFrame'>\n",
      "RangeIndex: 21230 entries, 0 to 21229\n",
      "Data columns (total 14 columns):\n",
      " #   Column            Non-Null Count  Dtype  \n",
      "---  ------            --------------  -----  \n",
      " 0   children          21230 non-null  int64  \n",
      " 1   days_employed     21230 non-null  int64  \n",
      " 2   dob_years         21230 non-null  int64  \n",
      " 3   education         21230 non-null  object \n",
      " 4   education_id      21230 non-null  int64  \n",
      " 5   family_status     21230 non-null  object \n",
      " 6   family_status_id  21230 non-null  int64  \n",
      " 7   gender            21230 non-null  object \n",
      " 8   income_type       21230 non-null  object \n",
      " 9   debt              21230 non-null  int64  \n",
      " 10  total_income      21230 non-null  int64  \n",
      " 11  purpose           21230 non-null  object \n",
      " 12  age_group         21230 non-null  object \n",
      " 13  income_median     21230 non-null  float64\n",
      "dtypes: float64(1), int64(7), object(6)\n",
      "memory usage: 2.3+ MB\n"
     ]
    }
   ],
   "source": [
    "#Проверяем информацию по количеству строк\n",
    "df.info()"
   ]
  },
  {
   "cell_type": "markdown",
   "metadata": {},
   "source": [
    "Очевидно - количество строк уменьшилось, остаётся проверить удалились ли нужные нам строки или что-то лишнее."
   ]
  },
  {
   "cell_type": "code",
   "execution_count": 45,
   "metadata": {
    "scrolled": true
   },
   "outputs": [
    {
     "data": {
      "text/plain": [
       "0"
      ]
     },
     "execution_count": 45,
     "metadata": {},
     "output_type": "execute_result"
    }
   ],
   "source": [
    "#Ещё раз проверяем дубликаты\n",
    "df.duplicated().sum()"
   ]
  },
  {
   "cell_type": "markdown",
   "metadata": {},
   "source": [
    "**Вывод**"
   ]
  },
  {
   "cell_type": "markdown",
   "metadata": {},
   "source": [
    "Количество дубликатов по сравнению с общим объёмом данных было незначительным. Кроме того, было замечено, что за счёт исправления неявных дубликатов в колонке \"education\" количество дублированных строк выросло в 1,5 раза.\n",
    "Для поиска дублированных строк был выбран метод **duplicated()**. Для удаления дубликатов  - метод **drop_duplicates()** совместно с методом **reset_index()** и атрибутом **drop=True)**. Они компактны, быстро работают, с ними удобно читать код.\n",
    "\n",
    "Дубликаты могли появиться из-за слияния нескольких таблиц из разных источников."
   ]
  },
  {
   "cell_type": "markdown",
   "metadata": {},
   "source": [
    "### Лемматизация"
   ]
  },
  {
   "cell_type": "markdown",
   "metadata": {},
   "source": [
    "В колонке \"purpose\" содержатся неявные дубликаты. Для упрощения группировок все цели получения кредита необходимо привести к некоему общему виду. С этим лучше всего справится лемматизация."
   ]
  },
  {
   "cell_type": "code",
   "execution_count": 46,
   "metadata": {},
   "outputs": [],
   "source": [
    "#Импортируем модуль лемматизации \n",
    "from pymystem3 import Mystem\n",
    "m = Mystem()"
   ]
  },
  {
   "cell_type": "code",
   "execution_count": 47,
   "metadata": {},
   "outputs": [],
   "source": [
    "#Создадим функцию которая заменяет все слова в столбце на леммы\n",
    "def lemmatize_purpose(string): \n",
    "    purp_lem = m.lemmatize(string)\n",
    "    return purp_lem"
   ]
  },
  {
   "cell_type": "code",
   "execution_count": 48,
   "metadata": {},
   "outputs": [],
   "source": [
    "#Применяем функцию с помощью метода apply\n",
    "df['purpose'] = df['purpose'].apply(lemmatize_purpose)"
   ]
  },
  {
   "cell_type": "code",
   "execution_count": 49,
   "metadata": {
    "scrolled": false
   },
   "outputs": [
    {
     "data": {
      "text/plain": [
       "[автомобиль, \\n]                                          961\n",
       "[свадьба, \\n]                                             785\n",
       "[на,  , проведение,  , свадьба, \\n]                       759\n",
       "[сыграть,  , свадьба, \\n]                                 755\n",
       "[операция,  , с,  , недвижимость, \\n]                     669\n",
       "[покупка,  , коммерческий,  , недвижимость, \\n]           655\n",
       "[покупка,  , жилье,  , для,  , сдача, \\n]                 647\n",
       "[операция,  , с,  , коммерческий,  , недвижимость, \\n]    643\n",
       "[операция,  , с,  , жилье, \\n]                            641\n",
       "[покупка,  , жилье,  , для,  , семья, \\n]                 636\n",
       "[жилье, \\n]                                               635\n",
       "[покупка,  , жилье, \\n]                                   634\n",
       "[недвижимость, \\n]                                        627\n",
       "[строительство,  , собственный,  , недвижимость, \\n]      626\n",
       "[операция,  , со,  , свой,  , недвижимость, \\n]           623\n",
       "[строительство,  , недвижимость, \\n]                      619\n",
       "[покупка,  , свой,  , жилье, \\n]                          618\n",
       "[строительство,  , жилой,  , недвижимость, \\n]            617\n",
       "[покупка,  , недвижимость, \\n]                            612\n",
       "[ремонт,  , жилье, \\n]                                    602\n",
       "[покупка,  , жилой,  , недвижимость, \\n]                  599\n",
       "[на,  , покупка,  , свой,  , автомобиль, \\n]              501\n",
       "[заниматься,  , высокий,  , образование, \\n]              493\n",
       "[сделка,  , с,  , подержанный,  , автомобиль, \\n]         479\n",
       "[на,  , покупка,  , подержать,  , автомобиль, \\n]         471\n",
       "[свой,  , автомобиль, \\n]                                 470\n",
       "[на,  , покупка,  , автомобиль, \\n]                       465\n",
       "[приобретение,  , автомобиль, \\n]                         457\n",
       "[сделка,  , с,  , автомобиль, \\n]                         454\n",
       "[дополнительный,  , образование, \\n]                      453\n",
       "[высокий,  , образование, \\n]                             443\n",
       "[получение,  , дополнительный,  , образование, \\n]        442\n",
       "[получение,  , образование, \\n]                           439\n",
       "[образование, \\n]                                         439\n",
       "[профильный,  , образование, \\n]                          431\n",
       "[получение,  , высокий,  , образование, \\n]               423\n",
       "[заниматься,  , образование, \\n]                          407\n",
       "Name: purpose, dtype: int64"
      ]
     },
     "execution_count": 49,
     "metadata": {},
     "output_type": "execute_result"
    }
   ],
   "source": [
    "#Проверяем результат\n",
    "df['purpose'].value_counts()"
   ]
  },
  {
   "cell_type": "markdown",
   "metadata": {},
   "source": [
    "Лемматизация слов в столбце успешно проведена, однако результат ещё не достигнут. Для приведения целей кредита к общему виду создадим список целей на основе уже лемматизированных описаний цели кредита."
   ]
  },
  {
   "cell_type": "code",
   "execution_count": 50,
   "metadata": {},
   "outputs": [],
   "source": [
    "#Создаём список целей кредита\n",
    "purpose_lem = ['автомобиль', 'свадьба', 'недвижимость', 'жилье', 'образование']"
   ]
  },
  {
   "cell_type": "code",
   "execution_count": 51,
   "metadata": {},
   "outputs": [],
   "source": [
    "#Функция замены лемматизированного описания цели кредита на определённое значение из списка\n",
    "def purpose_filt(pur_string):\n",
    "    for pur in purpose_lem:\n",
    "        if pur in pur_string:\n",
    "            return pur"
   ]
  },
  {
   "cell_type": "code",
   "execution_count": 52,
   "metadata": {},
   "outputs": [],
   "source": [
    "#Применяем функцию замены описания на списочное определение\n",
    "df['purpose'] = df['purpose'].apply(purpose_filt)"
   ]
  },
  {
   "cell_type": "code",
   "execution_count": 53,
   "metadata": {},
   "outputs": [
    {
     "data": {
      "text/plain": [
       "недвижимость    6290\n",
       "жилье           4413\n",
       "автомобиль      4258\n",
       "образование     3970\n",
       "свадьба         2299\n",
       "Name: purpose, dtype: int64"
      ]
     },
     "execution_count": 53,
     "metadata": {},
     "output_type": "execute_result"
    }
   ],
   "source": [
    "#Проверяем уникальные значения столбца \"purpose\"\n",
    "df['purpose'].value_counts()"
   ]
  },
  {
   "cell_type": "markdown",
   "metadata": {},
   "source": [
    "**Вывод**"
   ]
  },
  {
   "cell_type": "markdown",
   "metadata": {},
   "source": [
    "Колонка \"purpose\" в которой содержались цели кредита была заполнена неявными дубликатами, что осложняло последующие группировки. Для автоматизации избавления от дубликатов необходимо было привести все слова к единой форме, выделить среди них основные цели и заменить описания на одно из соответствующих слов по списку.\n",
    "Для чего была сначала проведена лемматизация слов столбца с помощью модуля **Mystem** библиотеки **pymystem3**, а затем простой заменой столбец \"purpose\" был приведён к виду, удобному для чтения и группировки. \n",
    "В обоих случаях было удобнее всего написать функцию и применить её к столбцу использовав метод **apply()**."
   ]
  },
  {
   "cell_type": "markdown",
   "metadata": {},
   "source": [
    "### Категоризация данных"
   ]
  },
  {
   "cell_type": "markdown",
   "metadata": {},
   "source": [
    "В колонке \"dob_years\" содержится возраст заёмщиков, однако группировать по нему неудобно, поскольку уникальных значений слишком много. Давайте выделим возрастные периоды и определим для них категории."
   ]
  },
  {
   "cell_type": "code",
   "execution_count": 54,
   "metadata": {
    "scrolled": true
   },
   "outputs": [
    {
     "data": {
      "text/plain": [
       "array([42, 35, 33, 28, 26, 27, 36, 44, 43, 40, 41, 39, 31, 38, 29, 30, 45,\n",
       "       34, 37, 32, 53, 57, 63, 62, 54, 64, 59, 60, 61, 58, 52, 56, 55, 51,\n",
       "       50, 49, 47, 48, 65, 67, 68, 71, 73, 66, 69, 46, 72, 70, 74, 24, 23,\n",
       "       22, 21, 20, 19, 25, 75])"
      ]
     },
     "execution_count": 54,
     "metadata": {},
     "output_type": "execute_result"
    }
   ],
   "source": [
    "#Давайте взглянем на то, какие возрасты вообще у нас есть\n",
    "df['dob_years'].unique()"
   ]
  },
  {
   "cell_type": "code",
   "execution_count": 55,
   "metadata": {},
   "outputs": [
    {
     "data": {
      "image/png": "[encoded data removed]",
      "text/plain": [
       "<Figure size 864x360 with 1 Axes>"
      ]
     },
     "metadata": {
      "needs_background": "light"
     },
     "output_type": "display_data"
    }
   ],
   "source": [
    "#построим для наглядности график\n",
    "df['dob_years'].plot.hist(bins=50, grid=True,figsize=(12,5)); "
   ]
  },
  {
   "cell_type": "markdown",
   "metadata": {},
   "source": [
    "Определим до 24 лет - молодой возраст, от 25 до 45 средний, от 46 до 64  - старший, после 65 - пожилой. Создадим функцию, которая на вход получает значение из колонки с возрастом, а на выход отправляет возрастную категорию."
   ]
  },
  {
   "cell_type": "code",
   "execution_count": 56,
   "metadata": {},
   "outputs": [],
   "source": [
    "#Создание функции категоризации по возрасту\n",
    "def age_group(age):\n",
    "    if age <= 24:\n",
    "        return 'молодой возраст'\n",
    "    if 25 < age <= 45:\n",
    "        return 'средний возраст'\n",
    "    if 46 < age <= 64:\n",
    "        return 'старший возраст'    \n",
    "    return 'пожилой возраст'"
   ]
  },
  {
   "cell_type": "code",
   "execution_count": 57,
   "metadata": {},
   "outputs": [],
   "source": [
    "#Применим функцию к столбцу \"dob_years\", получив дополнительный столбец \"age_group\" с возрастными категориями\n",
    "df['age_group'] = df['dob_years'].apply(age_group)"
   ]
  },
  {
   "cell_type": "code",
   "execution_count": 58,
   "metadata": {
    "scrolled": true
   },
   "outputs": [
    {
     "data": {
      "text/html": [
       "<div>\n",
       "<style scoped>\n",
       "    .dataframe tbody tr th:only-of-type {\n",
       "        vertical-align: middle;\n",
       "    }\n",
       "\n",
       "    .dataframe tbody tr th {\n",
       "        vertical-align: top;\n",
       "    }\n",
       "\n",
       "    .dataframe thead th {\n",
       "        text-align: right;\n",
       "    }\n",
       "</style>\n",
       "<table border=\"1\" class=\"dataframe\">\n",
       "  <thead>\n",
       "    <tr style=\"text-align: right;\">\n",
       "      <th></th>\n",
       "      <th>children</th>\n",
       "      <th>days_employed</th>\n",
       "      <th>dob_years</th>\n",
       "      <th>education</th>\n",
       "      <th>education_id</th>\n",
       "      <th>family_status</th>\n",
       "      <th>family_status_id</th>\n",
       "      <th>gender</th>\n",
       "      <th>income_type</th>\n",
       "      <th>debt</th>\n",
       "      <th>total_income</th>\n",
       "      <th>purpose</th>\n",
       "      <th>age_group</th>\n",
       "      <th>income_median</th>\n",
       "    </tr>\n",
       "  </thead>\n",
       "  <tbody>\n",
       "    <tr>\n",
       "      <th>0</th>\n",
       "      <td>1</td>\n",
       "      <td>8437</td>\n",
       "      <td>42</td>\n",
       "      <td>высшее</td>\n",
       "      <td>0</td>\n",
       "      <td>женат / замужем</td>\n",
       "      <td>0</td>\n",
       "      <td>F</td>\n",
       "      <td>сотрудник</td>\n",
       "      <td>0</td>\n",
       "      <td>253875</td>\n",
       "      <td>жилье</td>\n",
       "      <td>средний возраст</td>\n",
       "      <td>166571.732985</td>\n",
       "    </tr>\n",
       "    <tr>\n",
       "      <th>1</th>\n",
       "      <td>2</td>\n",
       "      <td>6929</td>\n",
       "      <td>35</td>\n",
       "      <td>высшее</td>\n",
       "      <td>0</td>\n",
       "      <td>гражданский брак</td>\n",
       "      <td>1</td>\n",
       "      <td>F</td>\n",
       "      <td>сотрудник</td>\n",
       "      <td>0</td>\n",
       "      <td>95856</td>\n",
       "      <td>свадьба</td>\n",
       "      <td>средний возраст</td>\n",
       "      <td>166571.732985</td>\n",
       "    </tr>\n",
       "    <tr>\n",
       "      <th>2</th>\n",
       "      <td>0</td>\n",
       "      <td>2369</td>\n",
       "      <td>33</td>\n",
       "      <td>высшее</td>\n",
       "      <td>0</td>\n",
       "      <td>гражданский брак</td>\n",
       "      <td>1</td>\n",
       "      <td>M</td>\n",
       "      <td>сотрудник</td>\n",
       "      <td>0</td>\n",
       "      <td>90410</td>\n",
       "      <td>недвижимость</td>\n",
       "      <td>средний возраст</td>\n",
       "      <td>166571.732985</td>\n",
       "    </tr>\n",
       "    <tr>\n",
       "      <th>3</th>\n",
       "      <td>0</td>\n",
       "      <td>529</td>\n",
       "      <td>28</td>\n",
       "      <td>высшее</td>\n",
       "      <td>0</td>\n",
       "      <td>женат / замужем</td>\n",
       "      <td>0</td>\n",
       "      <td>M</td>\n",
       "      <td>сотрудник</td>\n",
       "      <td>0</td>\n",
       "      <td>308848</td>\n",
       "      <td>недвижимость</td>\n",
       "      <td>средний возраст</td>\n",
       "      <td>166571.732985</td>\n",
       "    </tr>\n",
       "    <tr>\n",
       "      <th>4</th>\n",
       "      <td>1</td>\n",
       "      <td>717</td>\n",
       "      <td>26</td>\n",
       "      <td>высшее</td>\n",
       "      <td>0</td>\n",
       "      <td>женат / замужем</td>\n",
       "      <td>0</td>\n",
       "      <td>F</td>\n",
       "      <td>сотрудник</td>\n",
       "      <td>0</td>\n",
       "      <td>187863</td>\n",
       "      <td>недвижимость</td>\n",
       "      <td>средний возраст</td>\n",
       "      <td>166571.732985</td>\n",
       "    </tr>\n",
       "  </tbody>\n",
       "</table>\n",
       "</div>"
      ],
      "text/plain": [
       "   children  days_employed  dob_years education  education_id  \\\n",
       "0         1           8437         42    высшее             0   \n",
       "1         2           6929         35    высшее             0   \n",
       "2         0           2369         33    высшее             0   \n",
       "3         0            529         28    высшее             0   \n",
       "4         1            717         26    высшее             0   \n",
       "\n",
       "      family_status  family_status_id gender income_type  debt  total_income  \\\n",
       "0   женат / замужем                 0      F   сотрудник     0        253875   \n",
       "1  гражданский брак                 1      F   сотрудник     0         95856   \n",
       "2  гражданский брак                 1      M   сотрудник     0         90410   \n",
       "3   женат / замужем                 0      M   сотрудник     0        308848   \n",
       "4   женат / замужем                 0      F   сотрудник     0        187863   \n",
       "\n",
       "        purpose        age_group  income_median  \n",
       "0         жилье  средний возраст  166571.732985  \n",
       "1       свадьба  средний возраст  166571.732985  \n",
       "2  недвижимость  средний возраст  166571.732985  \n",
       "3  недвижимость  средний возраст  166571.732985  \n",
       "4  недвижимость  средний возраст  166571.732985  "
      ]
     },
     "execution_count": 58,
     "metadata": {},
     "output_type": "execute_result"
    }
   ],
   "source": [
    "#Посмотрим что вышло\n",
    "df.head()"
   ]
  },
  {
   "cell_type": "markdown",
   "metadata": {},
   "source": [
    "В колонке \"debt\" отображается наличие задолженности по возврату кредитов сейчас либо в прошлом. Хорошо бы завести отдельные категории для надёжных заёмщиков и ненадёжных."
   ]
  },
  {
   "cell_type": "code",
   "execution_count": 59,
   "metadata": {},
   "outputs": [],
   "source": [
    "#Создание функции категоризации по надёжности заёмщика\n",
    "def debt_group(deb):\n",
    "    if deb == 0:\n",
    "        return 'надёжный заёмщик'\n",
    "    if deb == 1:\n",
    "        return 'ненадёжный заёмщик'"
   ]
  },
  {
   "cell_type": "code",
   "execution_count": 60,
   "metadata": {},
   "outputs": [],
   "source": [
    "#Применим функцию к столбцу \"debt\", получив дополнительный столбец \"debt_group\" с категориями заёмщиков\n",
    "df['debt_group'] = df['debt'].apply(debt_group)"
   ]
  },
  {
   "cell_type": "code",
   "execution_count": 61,
   "metadata": {},
   "outputs": [
    {
     "data": {
      "text/html": [
       "<div>\n",
       "<style scoped>\n",
       "    .dataframe tbody tr th:only-of-type {\n",
       "        vertical-align: middle;\n",
       "    }\n",
       "\n",
       "    .dataframe tbody tr th {\n",
       "        vertical-align: top;\n",
       "    }\n",
       "\n",
       "    .dataframe thead th {\n",
       "        text-align: right;\n",
       "    }\n",
       "</style>\n",
       "<table border=\"1\" class=\"dataframe\">\n",
       "  <thead>\n",
       "    <tr style=\"text-align: right;\">\n",
       "      <th></th>\n",
       "      <th>children</th>\n",
       "      <th>days_employed</th>\n",
       "      <th>dob_years</th>\n",
       "      <th>education</th>\n",
       "      <th>education_id</th>\n",
       "      <th>family_status</th>\n",
       "      <th>family_status_id</th>\n",
       "      <th>gender</th>\n",
       "      <th>income_type</th>\n",
       "      <th>debt</th>\n",
       "      <th>total_income</th>\n",
       "      <th>purpose</th>\n",
       "      <th>age_group</th>\n",
       "      <th>income_median</th>\n",
       "      <th>debt_group</th>\n",
       "    </tr>\n",
       "  </thead>\n",
       "  <tbody>\n",
       "    <tr>\n",
       "      <th>0</th>\n",
       "      <td>1</td>\n",
       "      <td>8437</td>\n",
       "      <td>42</td>\n",
       "      <td>высшее</td>\n",
       "      <td>0</td>\n",
       "      <td>женат / замужем</td>\n",
       "      <td>0</td>\n",
       "      <td>F</td>\n",
       "      <td>сотрудник</td>\n",
       "      <td>0</td>\n",
       "      <td>253875</td>\n",
       "      <td>жилье</td>\n",
       "      <td>средний возраст</td>\n",
       "      <td>166571.732985</td>\n",
       "      <td>надёжный заёмщик</td>\n",
       "    </tr>\n",
       "    <tr>\n",
       "      <th>1</th>\n",
       "      <td>2</td>\n",
       "      <td>6929</td>\n",
       "      <td>35</td>\n",
       "      <td>высшее</td>\n",
       "      <td>0</td>\n",
       "      <td>гражданский брак</td>\n",
       "      <td>1</td>\n",
       "      <td>F</td>\n",
       "      <td>сотрудник</td>\n",
       "      <td>0</td>\n",
       "      <td>95856</td>\n",
       "      <td>свадьба</td>\n",
       "      <td>средний возраст</td>\n",
       "      <td>166571.732985</td>\n",
       "      <td>надёжный заёмщик</td>\n",
       "    </tr>\n",
       "    <tr>\n",
       "      <th>2</th>\n",
       "      <td>0</td>\n",
       "      <td>2369</td>\n",
       "      <td>33</td>\n",
       "      <td>высшее</td>\n",
       "      <td>0</td>\n",
       "      <td>гражданский брак</td>\n",
       "      <td>1</td>\n",
       "      <td>M</td>\n",
       "      <td>сотрудник</td>\n",
       "      <td>0</td>\n",
       "      <td>90410</td>\n",
       "      <td>недвижимость</td>\n",
       "      <td>средний возраст</td>\n",
       "      <td>166571.732985</td>\n",
       "      <td>надёжный заёмщик</td>\n",
       "    </tr>\n",
       "    <tr>\n",
       "      <th>3</th>\n",
       "      <td>0</td>\n",
       "      <td>529</td>\n",
       "      <td>28</td>\n",
       "      <td>высшее</td>\n",
       "      <td>0</td>\n",
       "      <td>женат / замужем</td>\n",
       "      <td>0</td>\n",
       "      <td>M</td>\n",
       "      <td>сотрудник</td>\n",
       "      <td>0</td>\n",
       "      <td>308848</td>\n",
       "      <td>недвижимость</td>\n",
       "      <td>средний возраст</td>\n",
       "      <td>166571.732985</td>\n",
       "      <td>надёжный заёмщик</td>\n",
       "    </tr>\n",
       "    <tr>\n",
       "      <th>4</th>\n",
       "      <td>1</td>\n",
       "      <td>717</td>\n",
       "      <td>26</td>\n",
       "      <td>высшее</td>\n",
       "      <td>0</td>\n",
       "      <td>женат / замужем</td>\n",
       "      <td>0</td>\n",
       "      <td>F</td>\n",
       "      <td>сотрудник</td>\n",
       "      <td>0</td>\n",
       "      <td>187863</td>\n",
       "      <td>недвижимость</td>\n",
       "      <td>средний возраст</td>\n",
       "      <td>166571.732985</td>\n",
       "      <td>надёжный заёмщик</td>\n",
       "    </tr>\n",
       "    <tr>\n",
       "      <th>5</th>\n",
       "      <td>0</td>\n",
       "      <td>3480</td>\n",
       "      <td>27</td>\n",
       "      <td>высшее</td>\n",
       "      <td>0</td>\n",
       "      <td>гражданский брак</td>\n",
       "      <td>1</td>\n",
       "      <td>F</td>\n",
       "      <td>сотрудник</td>\n",
       "      <td>0</td>\n",
       "      <td>92238</td>\n",
       "      <td>автомобиль</td>\n",
       "      <td>средний возраст</td>\n",
       "      <td>166571.732985</td>\n",
       "      <td>надёжный заёмщик</td>\n",
       "    </tr>\n",
       "    <tr>\n",
       "      <th>6</th>\n",
       "      <td>0</td>\n",
       "      <td>335</td>\n",
       "      <td>36</td>\n",
       "      <td>высшее</td>\n",
       "      <td>0</td>\n",
       "      <td>женат / замужем</td>\n",
       "      <td>0</td>\n",
       "      <td>M</td>\n",
       "      <td>сотрудник</td>\n",
       "      <td>0</td>\n",
       "      <td>414404</td>\n",
       "      <td>недвижимость</td>\n",
       "      <td>средний возраст</td>\n",
       "      <td>166571.732985</td>\n",
       "      <td>надёжный заёмщик</td>\n",
       "    </tr>\n",
       "    <tr>\n",
       "      <th>7</th>\n",
       "      <td>1</td>\n",
       "      <td>2252</td>\n",
       "      <td>44</td>\n",
       "      <td>высшее</td>\n",
       "      <td>0</td>\n",
       "      <td>женат / замужем</td>\n",
       "      <td>0</td>\n",
       "      <td>M</td>\n",
       "      <td>сотрудник</td>\n",
       "      <td>0</td>\n",
       "      <td>148992</td>\n",
       "      <td>автомобиль</td>\n",
       "      <td>средний возраст</td>\n",
       "      <td>166571.732985</td>\n",
       "      <td>надёжный заёмщик</td>\n",
       "    </tr>\n",
       "    <tr>\n",
       "      <th>8</th>\n",
       "      <td>0</td>\n",
       "      <td>726</td>\n",
       "      <td>43</td>\n",
       "      <td>высшее</td>\n",
       "      <td>0</td>\n",
       "      <td>Не женат / не замужем</td>\n",
       "      <td>4</td>\n",
       "      <td>F</td>\n",
       "      <td>сотрудник</td>\n",
       "      <td>0</td>\n",
       "      <td>140843</td>\n",
       "      <td>автомобиль</td>\n",
       "      <td>средний возраст</td>\n",
       "      <td>166571.732985</td>\n",
       "      <td>надёжный заёмщик</td>\n",
       "    </tr>\n",
       "    <tr>\n",
       "      <th>9</th>\n",
       "      <td>2</td>\n",
       "      <td>1574</td>\n",
       "      <td>35</td>\n",
       "      <td>высшее</td>\n",
       "      <td>0</td>\n",
       "      <td>женат / замужем</td>\n",
       "      <td>0</td>\n",
       "      <td>F</td>\n",
       "      <td>сотрудник</td>\n",
       "      <td>0</td>\n",
       "      <td>166571</td>\n",
       "      <td>жилье</td>\n",
       "      <td>средний возраст</td>\n",
       "      <td>166571.732985</td>\n",
       "      <td>надёжный заёмщик</td>\n",
       "    </tr>\n",
       "    <tr>\n",
       "      <th>10</th>\n",
       "      <td>1</td>\n",
       "      <td>1669</td>\n",
       "      <td>40</td>\n",
       "      <td>высшее</td>\n",
       "      <td>0</td>\n",
       "      <td>гражданский брак</td>\n",
       "      <td>1</td>\n",
       "      <td>F</td>\n",
       "      <td>сотрудник</td>\n",
       "      <td>0</td>\n",
       "      <td>191397</td>\n",
       "      <td>свадьба</td>\n",
       "      <td>средний возраст</td>\n",
       "      <td>166571.732985</td>\n",
       "      <td>надёжный заёмщик</td>\n",
       "    </tr>\n",
       "    <tr>\n",
       "      <th>11</th>\n",
       "      <td>2</td>\n",
       "      <td>753</td>\n",
       "      <td>33</td>\n",
       "      <td>высшее</td>\n",
       "      <td>0</td>\n",
       "      <td>гражданский брак</td>\n",
       "      <td>1</td>\n",
       "      <td>F</td>\n",
       "      <td>сотрудник</td>\n",
       "      <td>0</td>\n",
       "      <td>180051</td>\n",
       "      <td>автомобиль</td>\n",
       "      <td>средний возраст</td>\n",
       "      <td>166571.732985</td>\n",
       "      <td>надёжный заёмщик</td>\n",
       "    </tr>\n",
       "    <tr>\n",
       "      <th>12</th>\n",
       "      <td>1</td>\n",
       "      <td>1841</td>\n",
       "      <td>28</td>\n",
       "      <td>высшее</td>\n",
       "      <td>0</td>\n",
       "      <td>женат / замужем</td>\n",
       "      <td>0</td>\n",
       "      <td>M</td>\n",
       "      <td>сотрудник</td>\n",
       "      <td>0</td>\n",
       "      <td>280934</td>\n",
       "      <td>недвижимость</td>\n",
       "      <td>средний возраст</td>\n",
       "      <td>166571.732985</td>\n",
       "      <td>надёжный заёмщик</td>\n",
       "    </tr>\n",
       "    <tr>\n",
       "      <th>13</th>\n",
       "      <td>0</td>\n",
       "      <td>1599</td>\n",
       "      <td>26</td>\n",
       "      <td>высшее</td>\n",
       "      <td>0</td>\n",
       "      <td>женат / замужем</td>\n",
       "      <td>0</td>\n",
       "      <td>F</td>\n",
       "      <td>сотрудник</td>\n",
       "      <td>1</td>\n",
       "      <td>143471</td>\n",
       "      <td>недвижимость</td>\n",
       "      <td>средний возраст</td>\n",
       "      <td>166571.732985</td>\n",
       "      <td>ненадёжный заёмщик</td>\n",
       "    </tr>\n",
       "    <tr>\n",
       "      <th>14</th>\n",
       "      <td>0</td>\n",
       "      <td>5229</td>\n",
       "      <td>43</td>\n",
       "      <td>высшее</td>\n",
       "      <td>0</td>\n",
       "      <td>Не женат / не замужем</td>\n",
       "      <td>4</td>\n",
       "      <td>F</td>\n",
       "      <td>сотрудник</td>\n",
       "      <td>0</td>\n",
       "      <td>203279</td>\n",
       "      <td>недвижимость</td>\n",
       "      <td>средний возраст</td>\n",
       "      <td>166571.732985</td>\n",
       "      <td>надёжный заёмщик</td>\n",
       "    </tr>\n",
       "  </tbody>\n",
       "</table>\n",
       "</div>"
      ],
      "text/plain": [
       "    children  days_employed  dob_years education  education_id  \\\n",
       "0          1           8437         42    высшее             0   \n",
       "1          2           6929         35    высшее             0   \n",
       "2          0           2369         33    высшее             0   \n",
       "3          0            529         28    высшее             0   \n",
       "4          1            717         26    высшее             0   \n",
       "5          0           3480         27    высшее             0   \n",
       "6          0            335         36    высшее             0   \n",
       "7          1           2252         44    высшее             0   \n",
       "8          0            726         43    высшее             0   \n",
       "9          2           1574         35    высшее             0   \n",
       "10         1           1669         40    высшее             0   \n",
       "11         2            753         33    высшее             0   \n",
       "12         1           1841         28    высшее             0   \n",
       "13         0           1599         26    высшее             0   \n",
       "14         0           5229         43    высшее             0   \n",
       "\n",
       "            family_status  family_status_id gender income_type  debt  \\\n",
       "0         женат / замужем                 0      F   сотрудник     0   \n",
       "1        гражданский брак                 1      F   сотрудник     0   \n",
       "2        гражданский брак                 1      M   сотрудник     0   \n",
       "3         женат / замужем                 0      M   сотрудник     0   \n",
       "4         женат / замужем                 0      F   сотрудник     0   \n",
       "5        гражданский брак                 1      F   сотрудник     0   \n",
       "6         женат / замужем                 0      M   сотрудник     0   \n",
       "7         женат / замужем                 0      M   сотрудник     0   \n",
       "8   Не женат / не замужем                 4      F   сотрудник     0   \n",
       "9         женат / замужем                 0      F   сотрудник     0   \n",
       "10       гражданский брак                 1      F   сотрудник     0   \n",
       "11       гражданский брак                 1      F   сотрудник     0   \n",
       "12        женат / замужем                 0      M   сотрудник     0   \n",
       "13        женат / замужем                 0      F   сотрудник     1   \n",
       "14  Не женат / не замужем                 4      F   сотрудник     0   \n",
       "\n",
       "    total_income       purpose        age_group  income_median  \\\n",
       "0         253875         жилье  средний возраст  166571.732985   \n",
       "1          95856       свадьба  средний возраст  166571.732985   \n",
       "2          90410  недвижимость  средний возраст  166571.732985   \n",
       "3         308848  недвижимость  средний возраст  166571.732985   \n",
       "4         187863  недвижимость  средний возраст  166571.732985   \n",
       "5          92238    автомобиль  средний возраст  166571.732985   \n",
       "6         414404  недвижимость  средний возраст  166571.732985   \n",
       "7         148992    автомобиль  средний возраст  166571.732985   \n",
       "8         140843    автомобиль  средний возраст  166571.732985   \n",
       "9         166571         жилье  средний возраст  166571.732985   \n",
       "10        191397       свадьба  средний возраст  166571.732985   \n",
       "11        180051    автомобиль  средний возраст  166571.732985   \n",
       "12        280934  недвижимость  средний возраст  166571.732985   \n",
       "13        143471  недвижимость  средний возраст  166571.732985   \n",
       "14        203279  недвижимость  средний возраст  166571.732985   \n",
       "\n",
       "            debt_group  \n",
       "0     надёжный заёмщик  \n",
       "1     надёжный заёмщик  \n",
       "2     надёжный заёмщик  \n",
       "3     надёжный заёмщик  \n",
       "4     надёжный заёмщик  \n",
       "5     надёжный заёмщик  \n",
       "6     надёжный заёмщик  \n",
       "7     надёжный заёмщик  \n",
       "8     надёжный заёмщик  \n",
       "9     надёжный заёмщик  \n",
       "10    надёжный заёмщик  \n",
       "11    надёжный заёмщик  \n",
       "12    надёжный заёмщик  \n",
       "13  ненадёжный заёмщик  \n",
       "14    надёжный заёмщик  "
      ]
     },
     "execution_count": 61,
     "metadata": {},
     "output_type": "execute_result"
    }
   ],
   "source": [
    "#Посмотрим что вышло\n",
    "df.head(15)"
   ]
  },
  {
   "cell_type": "markdown",
   "metadata": {},
   "source": [
    "Создадим категории дохода заёмщиков. Значений очень много, поэтому для наглядности не только воспользуемся методом .describe(), но и построим гистограмму."
   ]
  },
  {
   "cell_type": "code",
   "execution_count": 62,
   "metadata": {},
   "outputs": [
    {
     "data": {
      "text/html": [
       "<div>\n",
       "<style scoped>\n",
       "    .dataframe tbody tr th:only-of-type {\n",
       "        vertical-align: middle;\n",
       "    }\n",
       "\n",
       "    .dataframe tbody tr th {\n",
       "        vertical-align: top;\n",
       "    }\n",
       "\n",
       "    .dataframe thead th {\n",
       "        text-align: right;\n",
       "    }\n",
       "</style>\n",
       "<table border=\"1\" class=\"dataframe\">\n",
       "  <thead>\n",
       "    <tr style=\"text-align: right;\">\n",
       "      <th></th>\n",
       "      <th>count</th>\n",
       "      <th>mean</th>\n",
       "      <th>std</th>\n",
       "      <th>min</th>\n",
       "      <th>0.1%</th>\n",
       "      <th>10%</th>\n",
       "      <th>50%</th>\n",
       "      <th>95%</th>\n",
       "      <th>max</th>\n",
       "    </tr>\n",
       "  </thead>\n",
       "  <tbody>\n",
       "    <tr>\n",
       "      <th>total_income</th>\n",
       "      <td>21230.0</td>\n",
       "      <td>165556.089967</td>\n",
       "      <td>98559.903917</td>\n",
       "      <td>20667.0</td>\n",
       "      <td>29823.654</td>\n",
       "      <td>78731.3</td>\n",
       "      <td>143414.0</td>\n",
       "      <td>331929.85</td>\n",
       "      <td>2265604.0</td>\n",
       "    </tr>\n",
       "  </tbody>\n",
       "</table>\n",
       "</div>"
      ],
      "text/plain": [
       "                count           mean           std      min       0.1%  \\\n",
       "total_income  21230.0  165556.089967  98559.903917  20667.0  29823.654   \n",
       "\n",
       "                  10%       50%        95%        max  \n",
       "total_income  78731.3  143414.0  331929.85  2265604.0  "
      ]
     },
     "execution_count": 62,
     "metadata": {},
     "output_type": "execute_result"
    }
   ],
   "source": [
    "#применяем describe, чтобы посмотреть внимательнее на то как распределены доходы среди заёмщиков\n",
    "df[['total_income']].describe([.001,.1,.95]).T"
   ]
  },
  {
   "cell_type": "code",
   "execution_count": 83,
   "metadata": {},
   "outputs": [
    {
     "data": {
      "image/png": "[encoded data removed]",
      "text/plain": [
       "<Figure size 864x360 with 1 Axes>"
      ]
     },
     "metadata": {
      "needs_background": "light"
     },
     "output_type": "display_data"
    }
   ],
   "source": [
    "#график весьма полезен, ограничим его справа, поскольку людей с доходом в выше 350К в выборке немного\n",
    "df.loc[df['total_income'] < 350000]['total_income'].plot.hist(bins=50, grid=True,figsize=(12,5)); "
   ]
  },
  {
   "cell_type": "markdown",
   "metadata": {},
   "source": [
    "Исходя из полученных данных разобъём доход на такие периоды: низкий < 50, 50 < ниже среднего < 100, 100 =< средний < 200, 200 < выше среднего < 300, высокий > 300K."
   ]
  },
  {
   "cell_type": "code",
   "execution_count": 64,
   "metadata": {},
   "outputs": [],
   "source": [
    "#Создание функции категоризации по доходу\n",
    "def income_group(income):\n",
    "    if income < 50000:\n",
    "        return 'низкий'\n",
    "    if 50000 <= income < 100000:\n",
    "        return 'ниже среднего'\n",
    "    if 100000 <= income < 200000:\n",
    "        return 'средний'   \n",
    "    if 200000 <= income < 300000:\n",
    "        return 'выше среднего'   \n",
    "    return 'высокий'"
   ]
  },
  {
   "cell_type": "code",
   "execution_count": 65,
   "metadata": {},
   "outputs": [],
   "source": [
    "#Применим функцию к столбцу \"total_income\", получив дополнительный столбец \"income_group\" с категориями дохода\n",
    "df['income_group'] = df['total_income'].apply(income_group)"
   ]
  },
  {
   "cell_type": "code",
   "execution_count": 66,
   "metadata": {},
   "outputs": [
    {
     "data": {
      "text/html": [
       "<div>\n",
       "<style scoped>\n",
       "    .dataframe tbody tr th:only-of-type {\n",
       "        vertical-align: middle;\n",
       "    }\n",
       "\n",
       "    .dataframe tbody tr th {\n",
       "        vertical-align: top;\n",
       "    }\n",
       "\n",
       "    .dataframe thead th {\n",
       "        text-align: right;\n",
       "    }\n",
       "</style>\n",
       "<table border=\"1\" class=\"dataframe\">\n",
       "  <thead>\n",
       "    <tr style=\"text-align: right;\">\n",
       "      <th></th>\n",
       "      <th>children</th>\n",
       "      <th>days_employed</th>\n",
       "      <th>dob_years</th>\n",
       "      <th>education</th>\n",
       "      <th>education_id</th>\n",
       "      <th>family_status</th>\n",
       "      <th>family_status_id</th>\n",
       "      <th>gender</th>\n",
       "      <th>income_type</th>\n",
       "      <th>debt</th>\n",
       "      <th>total_income</th>\n",
       "      <th>purpose</th>\n",
       "      <th>age_group</th>\n",
       "      <th>income_median</th>\n",
       "      <th>debt_group</th>\n",
       "      <th>income_group</th>\n",
       "    </tr>\n",
       "  </thead>\n",
       "  <tbody>\n",
       "    <tr>\n",
       "      <th>0</th>\n",
       "      <td>1</td>\n",
       "      <td>8437</td>\n",
       "      <td>42</td>\n",
       "      <td>высшее</td>\n",
       "      <td>0</td>\n",
       "      <td>женат / замужем</td>\n",
       "      <td>0</td>\n",
       "      <td>F</td>\n",
       "      <td>сотрудник</td>\n",
       "      <td>0</td>\n",
       "      <td>253875</td>\n",
       "      <td>жилье</td>\n",
       "      <td>средний возраст</td>\n",
       "      <td>166571.732985</td>\n",
       "      <td>надёжный заёмщик</td>\n",
       "      <td>выше среднего</td>\n",
       "    </tr>\n",
       "    <tr>\n",
       "      <th>1</th>\n",
       "      <td>2</td>\n",
       "      <td>6929</td>\n",
       "      <td>35</td>\n",
       "      <td>высшее</td>\n",
       "      <td>0</td>\n",
       "      <td>гражданский брак</td>\n",
       "      <td>1</td>\n",
       "      <td>F</td>\n",
       "      <td>сотрудник</td>\n",
       "      <td>0</td>\n",
       "      <td>95856</td>\n",
       "      <td>свадьба</td>\n",
       "      <td>средний возраст</td>\n",
       "      <td>166571.732985</td>\n",
       "      <td>надёжный заёмщик</td>\n",
       "      <td>ниже среднего</td>\n",
       "    </tr>\n",
       "    <tr>\n",
       "      <th>2</th>\n",
       "      <td>0</td>\n",
       "      <td>2369</td>\n",
       "      <td>33</td>\n",
       "      <td>высшее</td>\n",
       "      <td>0</td>\n",
       "      <td>гражданский брак</td>\n",
       "      <td>1</td>\n",
       "      <td>M</td>\n",
       "      <td>сотрудник</td>\n",
       "      <td>0</td>\n",
       "      <td>90410</td>\n",
       "      <td>недвижимость</td>\n",
       "      <td>средний возраст</td>\n",
       "      <td>166571.732985</td>\n",
       "      <td>надёжный заёмщик</td>\n",
       "      <td>ниже среднего</td>\n",
       "    </tr>\n",
       "    <tr>\n",
       "      <th>3</th>\n",
       "      <td>0</td>\n",
       "      <td>529</td>\n",
       "      <td>28</td>\n",
       "      <td>высшее</td>\n",
       "      <td>0</td>\n",
       "      <td>женат / замужем</td>\n",
       "      <td>0</td>\n",
       "      <td>M</td>\n",
       "      <td>сотрудник</td>\n",
       "      <td>0</td>\n",
       "      <td>308848</td>\n",
       "      <td>недвижимость</td>\n",
       "      <td>средний возраст</td>\n",
       "      <td>166571.732985</td>\n",
       "      <td>надёжный заёмщик</td>\n",
       "      <td>высокий</td>\n",
       "    </tr>\n",
       "    <tr>\n",
       "      <th>4</th>\n",
       "      <td>1</td>\n",
       "      <td>717</td>\n",
       "      <td>26</td>\n",
       "      <td>высшее</td>\n",
       "      <td>0</td>\n",
       "      <td>женат / замужем</td>\n",
       "      <td>0</td>\n",
       "      <td>F</td>\n",
       "      <td>сотрудник</td>\n",
       "      <td>0</td>\n",
       "      <td>187863</td>\n",
       "      <td>недвижимость</td>\n",
       "      <td>средний возраст</td>\n",
       "      <td>166571.732985</td>\n",
       "      <td>надёжный заёмщик</td>\n",
       "      <td>средний</td>\n",
       "    </tr>\n",
       "    <tr>\n",
       "      <th>5</th>\n",
       "      <td>0</td>\n",
       "      <td>3480</td>\n",
       "      <td>27</td>\n",
       "      <td>высшее</td>\n",
       "      <td>0</td>\n",
       "      <td>гражданский брак</td>\n",
       "      <td>1</td>\n",
       "      <td>F</td>\n",
       "      <td>сотрудник</td>\n",
       "      <td>0</td>\n",
       "      <td>92238</td>\n",
       "      <td>автомобиль</td>\n",
       "      <td>средний возраст</td>\n",
       "      <td>166571.732985</td>\n",
       "      <td>надёжный заёмщик</td>\n",
       "      <td>ниже среднего</td>\n",
       "    </tr>\n",
       "    <tr>\n",
       "      <th>6</th>\n",
       "      <td>0</td>\n",
       "      <td>335</td>\n",
       "      <td>36</td>\n",
       "      <td>высшее</td>\n",
       "      <td>0</td>\n",
       "      <td>женат / замужем</td>\n",
       "      <td>0</td>\n",
       "      <td>M</td>\n",
       "      <td>сотрудник</td>\n",
       "      <td>0</td>\n",
       "      <td>414404</td>\n",
       "      <td>недвижимость</td>\n",
       "      <td>средний возраст</td>\n",
       "      <td>166571.732985</td>\n",
       "      <td>надёжный заёмщик</td>\n",
       "      <td>высокий</td>\n",
       "    </tr>\n",
       "    <tr>\n",
       "      <th>7</th>\n",
       "      <td>1</td>\n",
       "      <td>2252</td>\n",
       "      <td>44</td>\n",
       "      <td>высшее</td>\n",
       "      <td>0</td>\n",
       "      <td>женат / замужем</td>\n",
       "      <td>0</td>\n",
       "      <td>M</td>\n",
       "      <td>сотрудник</td>\n",
       "      <td>0</td>\n",
       "      <td>148992</td>\n",
       "      <td>автомобиль</td>\n",
       "      <td>средний возраст</td>\n",
       "      <td>166571.732985</td>\n",
       "      <td>надёжный заёмщик</td>\n",
       "      <td>средний</td>\n",
       "    </tr>\n",
       "    <tr>\n",
       "      <th>8</th>\n",
       "      <td>0</td>\n",
       "      <td>726</td>\n",
       "      <td>43</td>\n",
       "      <td>высшее</td>\n",
       "      <td>0</td>\n",
       "      <td>Не женат / не замужем</td>\n",
       "      <td>4</td>\n",
       "      <td>F</td>\n",
       "      <td>сотрудник</td>\n",
       "      <td>0</td>\n",
       "      <td>140843</td>\n",
       "      <td>автомобиль</td>\n",
       "      <td>средний возраст</td>\n",
       "      <td>166571.732985</td>\n",
       "      <td>надёжный заёмщик</td>\n",
       "      <td>средний</td>\n",
       "    </tr>\n",
       "    <tr>\n",
       "      <th>9</th>\n",
       "      <td>2</td>\n",
       "      <td>1574</td>\n",
       "      <td>35</td>\n",
       "      <td>высшее</td>\n",
       "      <td>0</td>\n",
       "      <td>женат / замужем</td>\n",
       "      <td>0</td>\n",
       "      <td>F</td>\n",
       "      <td>сотрудник</td>\n",
       "      <td>0</td>\n",
       "      <td>166571</td>\n",
       "      <td>жилье</td>\n",
       "      <td>средний возраст</td>\n",
       "      <td>166571.732985</td>\n",
       "      <td>надёжный заёмщик</td>\n",
       "      <td>средний</td>\n",
       "    </tr>\n",
       "  </tbody>\n",
       "</table>\n",
       "</div>"
      ],
      "text/plain": [
       "   children  days_employed  dob_years education  education_id  \\\n",
       "0         1           8437         42    высшее             0   \n",
       "1         2           6929         35    высшее             0   \n",
       "2         0           2369         33    высшее             0   \n",
       "3         0            529         28    высшее             0   \n",
       "4         1            717         26    высшее             0   \n",
       "5         0           3480         27    высшее             0   \n",
       "6         0            335         36    высшее             0   \n",
       "7         1           2252         44    высшее             0   \n",
       "8         0            726         43    высшее             0   \n",
       "9         2           1574         35    высшее             0   \n",
       "\n",
       "           family_status  family_status_id gender income_type  debt  \\\n",
       "0        женат / замужем                 0      F   сотрудник     0   \n",
       "1       гражданский брак                 1      F   сотрудник     0   \n",
       "2       гражданский брак                 1      M   сотрудник     0   \n",
       "3        женат / замужем                 0      M   сотрудник     0   \n",
       "4        женат / замужем                 0      F   сотрудник     0   \n",
       "5       гражданский брак                 1      F   сотрудник     0   \n",
       "6        женат / замужем                 0      M   сотрудник     0   \n",
       "7        женат / замужем                 0      M   сотрудник     0   \n",
       "8  Не женат / не замужем                 4      F   сотрудник     0   \n",
       "9        женат / замужем                 0      F   сотрудник     0   \n",
       "\n",
       "   total_income       purpose        age_group  income_median  \\\n",
       "0        253875         жилье  средний возраст  166571.732985   \n",
       "1         95856       свадьба  средний возраст  166571.732985   \n",
       "2         90410  недвижимость  средний возраст  166571.732985   \n",
       "3        308848  недвижимость  средний возраст  166571.732985   \n",
       "4        187863  недвижимость  средний возраст  166571.732985   \n",
       "5         92238    автомобиль  средний возраст  166571.732985   \n",
       "6        414404  недвижимость  средний возраст  166571.732985   \n",
       "7        148992    автомобиль  средний возраст  166571.732985   \n",
       "8        140843    автомобиль  средний возраст  166571.732985   \n",
       "9        166571         жилье  средний возраст  166571.732985   \n",
       "\n",
       "         debt_group   income_group  \n",
       "0  надёжный заёмщик  выше среднего  \n",
       "1  надёжный заёмщик  ниже среднего  \n",
       "2  надёжный заёмщик  ниже среднего  \n",
       "3  надёжный заёмщик        высокий  \n",
       "4  надёжный заёмщик        средний  \n",
       "5  надёжный заёмщик  ниже среднего  \n",
       "6  надёжный заёмщик        высокий  \n",
       "7  надёжный заёмщик        средний  \n",
       "8  надёжный заёмщик        средний  \n",
       "9  надёжный заёмщик        средний  "
      ]
     },
     "execution_count": 66,
     "metadata": {},
     "output_type": "execute_result"
    }
   ],
   "source": [
    "#Проверим результат\n",
    "df.head(10)"
   ]
  },
  {
   "cell_type": "markdown",
   "metadata": {},
   "source": [
    "В таблице присутствует категоризация по колонкам \"education\" и \"family_status\". Каждой из них поставлена в соотвествие колонка \"education_id\" и \"family_status_id\". С помощью дублирующих колонок с номерами статусов можно проводить группировки даже в случае неявных дубликатов, как было поначалу в колонке \"education_id\". \n",
    "Создадим словари для этих колонок, возможно они пригодятся в дальнейшем."
   ]
  },
  {
   "cell_type": "code",
   "execution_count": 67,
   "metadata": {
    "scrolled": true
   },
   "outputs": [
    {
     "name": "stdout",
     "output_type": "stream",
     "text": [
      "{0: 'высшее', 1: 'среднее', 2: 'неоконченное высшее', 3: 'начальное', 4: 'ученая степень'}\n"
     ]
    }
   ],
   "source": [
    "#Создание словаря для колонки \"education\"\n",
    "education_dict = pd.Series(df['education'].unique(), index=df['education_id'].unique()).to_dict()\n",
    "print(education_dict)"
   ]
  },
  {
   "cell_type": "code",
   "execution_count": 68,
   "metadata": {},
   "outputs": [
    {
     "name": "stdout",
     "output_type": "stream",
     "text": [
      "{0: 'женат / замужем', 1: 'гражданский брак', 4: 'Не женат / не замужем', 2: 'вдовец / вдова', 3: 'в разводе'}\n"
     ]
    }
   ],
   "source": [
    "#Создание словаря для колонки  \"family_status\"\n",
    "family_dict = pd.Series(df['family_status'].unique(), index=df['family_status_id'].unique()).to_dict()\n",
    "print(family_dict)"
   ]
  },
  {
   "cell_type": "markdown",
   "metadata": {},
   "source": [
    "**Вывод**"
   ]
  },
  {
   "cell_type": "markdown",
   "metadata": {},
   "source": [
    "Была проведена категоризация данных по возрасту, доходу и по надёжности заёмщиков. Благодаря этому сгруппированные данные будут отображаться более наглядно. \n",
    "Для колонок \"education\" и \"family_status\" были созданы явные словари из их \"колонок-компаньонов\" это может пригодится в дальнейшем. При категоризации по возрасту было замечено, что в таблице людей обозначенных по колонке \"income_type\" как пенсионеры, но по колонке \"dob_years\" значительно младше 65 лет - абсолютное большинство, поэтому возрастной статус \"пенсионер\" было решено заменить на \"пожилой возраст\". "
   ]
  },
  {
   "cell_type": "markdown",
   "metadata": {},
   "source": [
    "## Ответы на вопросы"
   ]
  },
  {
   "cell_type": "markdown",
   "metadata": {},
   "source": [
    "- Есть ли зависимость между наличием детей и возвратом кредита в срок?"
   ]
  },
  {
   "cell_type": "code",
   "execution_count": 69,
   "metadata": {},
   "outputs": [
    {
     "data": {
      "text/html": [
       "<div>\n",
       "<style scoped>\n",
       "    .dataframe tbody tr th:only-of-type {\n",
       "        vertical-align: middle;\n",
       "    }\n",
       "\n",
       "    .dataframe tbody tr th {\n",
       "        vertical-align: top;\n",
       "    }\n",
       "\n",
       "    .dataframe thead tr th {\n",
       "        text-align: left;\n",
       "    }\n",
       "\n",
       "    .dataframe thead tr:last-of-type th {\n",
       "        text-align: right;\n",
       "    }\n",
       "</style>\n",
       "<table border=\"1\" class=\"dataframe\">\n",
       "  <thead>\n",
       "    <tr>\n",
       "      <th></th>\n",
       "      <th>count</th>\n",
       "      <th>sum</th>\n",
       "      <th>mean</th>\n",
       "    </tr>\n",
       "    <tr>\n",
       "      <th></th>\n",
       "      <th>debt</th>\n",
       "      <th>debt</th>\n",
       "      <th>debt</th>\n",
       "    </tr>\n",
       "    <tr>\n",
       "      <th>children</th>\n",
       "      <th></th>\n",
       "      <th></th>\n",
       "      <th></th>\n",
       "    </tr>\n",
       "  </thead>\n",
       "  <tbody>\n",
       "    <tr>\n",
       "      <th>0</th>\n",
       "      <td>14021</td>\n",
       "      <td>1058</td>\n",
       "      <td>0.075458</td>\n",
       "    </tr>\n",
       "    <tr>\n",
       "      <th>1</th>\n",
       "      <td>4792</td>\n",
       "      <td>441</td>\n",
       "      <td>0.092028</td>\n",
       "    </tr>\n",
       "    <tr>\n",
       "      <th>2</th>\n",
       "      <td>2039</td>\n",
       "      <td>194</td>\n",
       "      <td>0.095145</td>\n",
       "    </tr>\n",
       "    <tr>\n",
       "      <th>3</th>\n",
       "      <td>328</td>\n",
       "      <td>27</td>\n",
       "      <td>0.082317</td>\n",
       "    </tr>\n",
       "    <tr>\n",
       "      <th>4</th>\n",
       "      <td>41</td>\n",
       "      <td>4</td>\n",
       "      <td>0.097561</td>\n",
       "    </tr>\n",
       "    <tr>\n",
       "      <th>5</th>\n",
       "      <td>9</td>\n",
       "      <td>0</td>\n",
       "      <td>0.000000</td>\n",
       "    </tr>\n",
       "  </tbody>\n",
       "</table>\n",
       "</div>"
      ],
      "text/plain": [
       "          count   sum      mean\n",
       "           debt  debt      debt\n",
       "children                       \n",
       "0         14021  1058  0.075458\n",
       "1          4792   441  0.092028\n",
       "2          2039   194  0.095145\n",
       "3           328    27  0.082317\n",
       "4            41     4  0.097561\n",
       "5             9     0  0.000000"
      ]
     },
     "execution_count": 69,
     "metadata": {},
     "output_type": "execute_result"
    }
   ],
   "source": [
    "#Агрегируем с помощью pivot_table данные и выведем данные как суммы количества должников и доли от общего числа\n",
    "df.pivot_table(index = 'children', values = 'debt', aggfunc = ['count','sum','mean'] )"
   ]
  },
  {
   "cell_type": "code",
   "execution_count": 70,
   "metadata": {
    "scrolled": true
   },
   "outputs": [
    {
     "data": {
      "text/html": [
       "<div>\n",
       "<style scoped>\n",
       "    .dataframe tbody tr th:only-of-type {\n",
       "        vertical-align: middle;\n",
       "    }\n",
       "\n",
       "    .dataframe tbody tr th {\n",
       "        vertical-align: top;\n",
       "    }\n",
       "\n",
       "    .dataframe thead th {\n",
       "        text-align: right;\n",
       "    }\n",
       "</style>\n",
       "<table border=\"1\" class=\"dataframe\">\n",
       "  <thead>\n",
       "    <tr style=\"text-align: right;\">\n",
       "      <th></th>\n",
       "      <th>debt</th>\n",
       "    </tr>\n",
       "    <tr>\n",
       "      <th>children</th>\n",
       "      <th></th>\n",
       "    </tr>\n",
       "  </thead>\n",
       "  <tbody>\n",
       "    <tr>\n",
       "      <th>4</th>\n",
       "      <td>9.76%</td>\n",
       "    </tr>\n",
       "    <tr>\n",
       "      <th>2</th>\n",
       "      <td>9.51%</td>\n",
       "    </tr>\n",
       "    <tr>\n",
       "      <th>1</th>\n",
       "      <td>9.20%</td>\n",
       "    </tr>\n",
       "    <tr>\n",
       "      <th>3</th>\n",
       "      <td>8.23%</td>\n",
       "    </tr>\n",
       "    <tr>\n",
       "      <th>0</th>\n",
       "      <td>7.55%</td>\n",
       "    </tr>\n",
       "    <tr>\n",
       "      <th>5</th>\n",
       "      <td>0.00%</td>\n",
       "    </tr>\n",
       "  </tbody>\n",
       "</table>\n",
       "</div>"
      ],
      "text/plain": [
       "            debt\n",
       "children        \n",
       "4         9.76% \n",
       "2         9.51% \n",
       "1         9.20% \n",
       "3         8.23% \n",
       "0         7.55% \n",
       "5         0.00% "
      ]
     },
     "execution_count": 70,
     "metadata": {},
     "output_type": "execute_result"
    }
   ],
   "source": [
    "#Выведем ту же информацию в более удобном виде: количество детей - процент должников\n",
    "children_debt = df.pivot_table(index = 'children',values = 'debt', aggfunc = lambda x: '{:.2%} '.format(x.mean()))\n",
    "#Вывод таблицы с сортировкой по доле ненадёжных заёмщиков\n",
    "children_debt.sort_values(by='debt', ascending=False)"
   ]
  },
  {
   "cell_type": "code",
   "execution_count": 89,
   "metadata": {
    "scrolled": false
   },
   "outputs": [
    {
     "data": {
      "image/png": "[encoded data removed]",
      "text/plain": [
       "<Figure size 864x432 with 1 Axes>"
      ]
     },
     "metadata": {
      "needs_background": "light"
     },
     "output_type": "display_data"
    }
   ],
   "source": [
    "#И построим график для наглядности\n",
    "(df[['children','debt',]].groupby(['children'])\n",
    " .mean()\n",
    " .sort_values(by='debt', ascending=False)\n",
    " .plot.bar(grid=True, figsize=(12,6),rot=0)\n",
    ");"
   ]
  },
  {
   "cell_type": "markdown",
   "metadata": {},
   "source": [
    "**Вывод**"
   ]
  },
  {
   "cell_type": "markdown",
   "metadata": {},
   "source": [
    "Зависимость между наличием детей и возвратом кредита в срок существует. \n",
    "\n",
    "Семьи с 5-ю детьми, согласно таблице, самые надёжные заёмщики - 100% отсутствие задолженности. Однако это сильно похоже на выброс, поскольку вся выборка состоит из 9 семей и данные по должникам сильно отличаются от остальных групп. Так что, скорей всего самые надёжные заёмщики - бездетные - 7.55% должников, но рождение первого ребёнка обваливает надёжность заёмщиков, увеличивая количество должников до 9.55%. \n",
    "    \n",
    "Надёжность заёмщиков продолжает снижаться вместе с ростом количества детей и процент должников при рождении 4-го ребёнка достигает 9,76%. Единственное нарушение ряда - семьи с тремя детьми. Согласно выборке, надёжность таких заёмщиков резко вырастает и по рейтингу идёт на следующем месте после бездетных."
   ]
  },
  {
   "cell_type": "markdown",
   "metadata": {},
   "source": [
    "- Есть ли зависимость между семейным положением и возвратом кредита в срок?"
   ]
  },
  {
   "cell_type": "code",
   "execution_count": 72,
   "metadata": {},
   "outputs": [
    {
     "data": {
      "text/html": [
       "<div>\n",
       "<style scoped>\n",
       "    .dataframe tbody tr th:only-of-type {\n",
       "        vertical-align: middle;\n",
       "    }\n",
       "\n",
       "    .dataframe tbody tr th {\n",
       "        vertical-align: top;\n",
       "    }\n",
       "\n",
       "    .dataframe thead tr th {\n",
       "        text-align: left;\n",
       "    }\n",
       "\n",
       "    .dataframe thead tr:last-of-type th {\n",
       "        text-align: right;\n",
       "    }\n",
       "</style>\n",
       "<table border=\"1\" class=\"dataframe\">\n",
       "  <thead>\n",
       "    <tr>\n",
       "      <th></th>\n",
       "      <th>count</th>\n",
       "      <th>sum</th>\n",
       "      <th>mean</th>\n",
       "    </tr>\n",
       "    <tr>\n",
       "      <th></th>\n",
       "      <th>debt</th>\n",
       "      <th>debt</th>\n",
       "      <th>debt</th>\n",
       "    </tr>\n",
       "    <tr>\n",
       "      <th>family_status</th>\n",
       "      <th></th>\n",
       "      <th></th>\n",
       "      <th></th>\n",
       "    </tr>\n",
       "  </thead>\n",
       "  <tbody>\n",
       "    <tr>\n",
       "      <th>Не женат / не замужем</th>\n",
       "      <td>2780</td>\n",
       "      <td>272</td>\n",
       "      <td>0.097842</td>\n",
       "    </tr>\n",
       "    <tr>\n",
       "      <th>в разводе</th>\n",
       "      <td>1179</td>\n",
       "      <td>84</td>\n",
       "      <td>0.071247</td>\n",
       "    </tr>\n",
       "    <tr>\n",
       "      <th>вдовец / вдова</th>\n",
       "      <td>946</td>\n",
       "      <td>62</td>\n",
       "      <td>0.065539</td>\n",
       "    </tr>\n",
       "    <tr>\n",
       "      <th>гражданский брак</th>\n",
       "      <td>4112</td>\n",
       "      <td>383</td>\n",
       "      <td>0.093142</td>\n",
       "    </tr>\n",
       "    <tr>\n",
       "      <th>женат / замужем</th>\n",
       "      <td>12213</td>\n",
       "      <td>923</td>\n",
       "      <td>0.075575</td>\n",
       "    </tr>\n",
       "  </tbody>\n",
       "</table>\n",
       "</div>"
      ],
      "text/plain": [
       "                       count  sum      mean\n",
       "                        debt debt      debt\n",
       "family_status                              \n",
       "Не женат / не замужем   2780  272  0.097842\n",
       "в разводе               1179   84  0.071247\n",
       "вдовец / вдова           946   62  0.065539\n",
       "гражданский брак        4112  383  0.093142\n",
       "женат / замужем        12213  923  0.075575"
      ]
     },
     "execution_count": 72,
     "metadata": {},
     "output_type": "execute_result"
    }
   ],
   "source": [
    "#Агрегируем с помощью pivot_table данные и выведем данные как суммы количества должников и доли от общего числа\n",
    "df.pivot_table(index = 'family_status', values = 'debt', aggfunc = ['count','sum','mean'] )"
   ]
  },
  {
   "cell_type": "code",
   "execution_count": 73,
   "metadata": {
    "scrolled": true
   },
   "outputs": [
    {
     "data": {
      "text/html": [
       "<div>\n",
       "<style scoped>\n",
       "    .dataframe tbody tr th:only-of-type {\n",
       "        vertical-align: middle;\n",
       "    }\n",
       "\n",
       "    .dataframe tbody tr th {\n",
       "        vertical-align: top;\n",
       "    }\n",
       "\n",
       "    .dataframe thead th {\n",
       "        text-align: right;\n",
       "    }\n",
       "</style>\n",
       "<table border=\"1\" class=\"dataframe\">\n",
       "  <thead>\n",
       "    <tr style=\"text-align: right;\">\n",
       "      <th></th>\n",
       "      <th>debt</th>\n",
       "    </tr>\n",
       "    <tr>\n",
       "      <th>family_status</th>\n",
       "      <th></th>\n",
       "    </tr>\n",
       "  </thead>\n",
       "  <tbody>\n",
       "    <tr>\n",
       "      <th>Не женат / не замужем</th>\n",
       "      <td>9.78%</td>\n",
       "    </tr>\n",
       "    <tr>\n",
       "      <th>гражданский брак</th>\n",
       "      <td>9.31%</td>\n",
       "    </tr>\n",
       "    <tr>\n",
       "      <th>женат / замужем</th>\n",
       "      <td>7.56%</td>\n",
       "    </tr>\n",
       "    <tr>\n",
       "      <th>в разводе</th>\n",
       "      <td>7.12%</td>\n",
       "    </tr>\n",
       "    <tr>\n",
       "      <th>вдовец / вдова</th>\n",
       "      <td>6.55%</td>\n",
       "    </tr>\n",
       "  </tbody>\n",
       "</table>\n",
       "</div>"
      ],
      "text/plain": [
       "                         debt\n",
       "family_status                \n",
       "Не женат / не замужем  9.78% \n",
       "гражданский брак       9.31% \n",
       "женат / замужем        7.56% \n",
       "в разводе              7.12% \n",
       "вдовец / вдова         6.55% "
      ]
     },
     "execution_count": 73,
     "metadata": {},
     "output_type": "execute_result"
    }
   ],
   "source": [
    "#Выведем ту же информацию в более удобном виде: семейный статус - процент должников\n",
    "family_debt = df.pivot_table(index = 'family_status',values = 'debt', aggfunc = lambda x: '{:.2%} '.format(x.mean()))\n",
    "#Вывод таблицы с сортировкой\n",
    "family_debt.sort_values(by='debt', ascending=False)"
   ]
  },
  {
   "cell_type": "code",
   "execution_count": 91,
   "metadata": {
    "scrolled": false
   },
   "outputs": [
    {
     "data": {
      "image/png": "[encoded data removed]",
      "text/plain": [
       "<Figure size 864x432 with 1 Axes>"
      ]
     },
     "metadata": {
      "needs_background": "light"
     },
     "output_type": "display_data"
    }
   ],
   "source": [
    "#И построим график для наглядности\n",
    "(df[['family_status','debt',]]\n",
    " .groupby(['family_status'])\n",
    " .mean()\n",
    " .sort_values(by='debt', ascending=False)\n",
    " .plot.bar(grid=True, figsize=(12,6),rot=0)\n",
    ");"
   ]
  },
  {
   "cell_type": "markdown",
   "metadata": {},
   "source": [
    "**Вывод**"
   ]
  },
  {
   "cell_type": "markdown",
   "metadata": {},
   "source": [
    "Согласно обработанным данным можно сказать, что зависимость между семейным положением также существует. Самые надёжные заёмщики - люди потерявшие супруга или супругу, процент невозврата долга 6,55%. Также сравнительно хорошо отдают долги разведённые пары. На третьем месте супруги в законном браке. Но, согласно нашим данным, если люди живут вместе без обязательств или сами по себе, процент возврата долгов сильно снижается. Возможно по причине излишней легкомысленности проблемы с долгами имеют 9.78% таких заёмщиков."
   ]
  },
  {
   "cell_type": "markdown",
   "metadata": {},
   "source": [
    "- Есть ли зависимость между уровнем дохода и возвратом кредита в срок?"
   ]
  },
  {
   "cell_type": "code",
   "execution_count": 76,
   "metadata": {},
   "outputs": [
    {
     "data": {
      "text/html": [
       "<div>\n",
       "<style scoped>\n",
       "    .dataframe tbody tr th:only-of-type {\n",
       "        vertical-align: middle;\n",
       "    }\n",
       "\n",
       "    .dataframe tbody tr th {\n",
       "        vertical-align: top;\n",
       "    }\n",
       "\n",
       "    .dataframe thead tr th {\n",
       "        text-align: left;\n",
       "    }\n",
       "\n",
       "    .dataframe thead tr:last-of-type th {\n",
       "        text-align: right;\n",
       "    }\n",
       "</style>\n",
       "<table border=\"1\" class=\"dataframe\">\n",
       "  <thead>\n",
       "    <tr>\n",
       "      <th></th>\n",
       "      <th>count</th>\n",
       "      <th>sum</th>\n",
       "      <th>mean</th>\n",
       "    </tr>\n",
       "    <tr>\n",
       "      <th></th>\n",
       "      <th>debt</th>\n",
       "      <th>debt</th>\n",
       "      <th>debt</th>\n",
       "    </tr>\n",
       "    <tr>\n",
       "      <th>income_group</th>\n",
       "      <th></th>\n",
       "      <th></th>\n",
       "      <th></th>\n",
       "    </tr>\n",
       "  </thead>\n",
       "  <tbody>\n",
       "    <tr>\n",
       "      <th>высокий</th>\n",
       "      <td>1470</td>\n",
       "      <td>106</td>\n",
       "      <td>0.072109</td>\n",
       "    </tr>\n",
       "    <tr>\n",
       "      <th>выше среднего</th>\n",
       "      <td>3717</td>\n",
       "      <td>256</td>\n",
       "      <td>0.068873</td>\n",
       "    </tr>\n",
       "    <tr>\n",
       "      <th>ниже среднего</th>\n",
       "      <td>4052</td>\n",
       "      <td>330</td>\n",
       "      <td>0.081441</td>\n",
       "    </tr>\n",
       "    <tr>\n",
       "      <th>низкий</th>\n",
       "      <td>369</td>\n",
       "      <td>23</td>\n",
       "      <td>0.062331</td>\n",
       "    </tr>\n",
       "    <tr>\n",
       "      <th>средний</th>\n",
       "      <td>11622</td>\n",
       "      <td>1009</td>\n",
       "      <td>0.086818</td>\n",
       "    </tr>\n",
       "  </tbody>\n",
       "</table>\n",
       "</div>"
      ],
      "text/plain": [
       "               count   sum      mean\n",
       "                debt  debt      debt\n",
       "income_group                        \n",
       "высокий         1470   106  0.072109\n",
       "выше среднего   3717   256  0.068873\n",
       "ниже среднего   4052   330  0.081441\n",
       "низкий           369    23  0.062331\n",
       "средний        11622  1009  0.086818"
      ]
     },
     "execution_count": 76,
     "metadata": {},
     "output_type": "execute_result"
    }
   ],
   "source": [
    "#Агрегируем с помощью pivot_table данные и выведем данные как суммы количества должников и доли от общего числа\n",
    "df.pivot_table(index = 'income_group', values = 'debt', aggfunc = ['count','sum','mean'] )"
   ]
  },
  {
   "cell_type": "code",
   "execution_count": 77,
   "metadata": {},
   "outputs": [
    {
     "data": {
      "text/html": [
       "<div>\n",
       "<style scoped>\n",
       "    .dataframe tbody tr th:only-of-type {\n",
       "        vertical-align: middle;\n",
       "    }\n",
       "\n",
       "    .dataframe tbody tr th {\n",
       "        vertical-align: top;\n",
       "    }\n",
       "\n",
       "    .dataframe thead th {\n",
       "        text-align: right;\n",
       "    }\n",
       "</style>\n",
       "<table border=\"1\" class=\"dataframe\">\n",
       "  <thead>\n",
       "    <tr style=\"text-align: right;\">\n",
       "      <th></th>\n",
       "      <th>debt</th>\n",
       "    </tr>\n",
       "    <tr>\n",
       "      <th>income_group</th>\n",
       "      <th></th>\n",
       "    </tr>\n",
       "  </thead>\n",
       "  <tbody>\n",
       "    <tr>\n",
       "      <th>средний</th>\n",
       "      <td>8.68%</td>\n",
       "    </tr>\n",
       "    <tr>\n",
       "      <th>ниже среднего</th>\n",
       "      <td>8.14%</td>\n",
       "    </tr>\n",
       "    <tr>\n",
       "      <th>высокий</th>\n",
       "      <td>7.21%</td>\n",
       "    </tr>\n",
       "    <tr>\n",
       "      <th>выше среднего</th>\n",
       "      <td>6.89%</td>\n",
       "    </tr>\n",
       "    <tr>\n",
       "      <th>низкий</th>\n",
       "      <td>6.23%</td>\n",
       "    </tr>\n",
       "  </tbody>\n",
       "</table>\n",
       "</div>"
      ],
      "text/plain": [
       "                 debt\n",
       "income_group         \n",
       "средний        8.68% \n",
       "ниже среднего  8.14% \n",
       "высокий        7.21% \n",
       "выше среднего  6.89% \n",
       "низкий         6.23% "
      ]
     },
     "execution_count": 77,
     "metadata": {},
     "output_type": "execute_result"
    }
   ],
   "source": [
    "#Выведем ту же информацию в более удобном виде: уровень дохода - процент должников\n",
    "income_debt = df.pivot_table(index = 'income_group',values = 'debt', aggfunc = lambda x: '{:.2%} '.format(x.mean()))\n",
    "#Вывод таблицы с сортировкой\n",
    "income_debt.sort_values(by='debt', ascending=False)"
   ]
  },
  {
   "cell_type": "code",
   "execution_count": 92,
   "metadata": {},
   "outputs": [
    {
     "data": {
      "image/png": "[encoded data removed]",
      "text/plain": [
       "<Figure size 864x432 with 1 Axes>"
      ]
     },
     "metadata": {
      "needs_background": "light"
     },
     "output_type": "display_data"
    }
   ],
   "source": [
    "#И построим график для наглядности\n",
    "(df[['income_group','debt',]]\n",
    " .groupby(['income_group'])\n",
    " .mean()\n",
    " .sort_values(by='debt', ascending=False)\n",
    " .plot.bar(grid=True, figsize=(12,6),rot=0)\n",
    ");"
   ]
  },
  {
   "cell_type": "markdown",
   "metadata": {},
   "source": [
    "**Вывод**"
   ]
  },
  {
   "cell_type": "markdown",
   "metadata": {},
   "source": [
    "Безусловно, зависимость от уровня дохода и возврата долга также существует.\n",
    "Вопреки расхожему мнению, люди с низкими доходами лучше отдают кредиты (согласно предоставленной выборке, конечно) среди них находится 6.23% проблемных заёмщиков. За ними идут - люди с доходами выше среднего и высокими доходами. Очевидно, они умеют считать деньги. \n",
    "Хуже всех отдают долги люди со средним доходом. Возможно они хотят казаться людьми с доходами выше среднего, но у 8.61%  из них не хватает терпения и расчёта, увы."
   ]
  },
  {
   "cell_type": "markdown",
   "metadata": {},
   "source": [
    "- Как разные цели кредита влияют на его возврат в срок?"
   ]
  },
  {
   "cell_type": "code",
   "execution_count": 79,
   "metadata": {},
   "outputs": [
    {
     "data": {
      "text/html": [
       "<div>\n",
       "<style scoped>\n",
       "    .dataframe tbody tr th:only-of-type {\n",
       "        vertical-align: middle;\n",
       "    }\n",
       "\n",
       "    .dataframe tbody tr th {\n",
       "        vertical-align: top;\n",
       "    }\n",
       "\n",
       "    .dataframe thead tr th {\n",
       "        text-align: left;\n",
       "    }\n",
       "\n",
       "    .dataframe thead tr:last-of-type th {\n",
       "        text-align: right;\n",
       "    }\n",
       "</style>\n",
       "<table border=\"1\" class=\"dataframe\">\n",
       "  <thead>\n",
       "    <tr>\n",
       "      <th></th>\n",
       "      <th>count</th>\n",
       "      <th>sum</th>\n",
       "      <th>mean</th>\n",
       "    </tr>\n",
       "    <tr>\n",
       "      <th></th>\n",
       "      <th>debt</th>\n",
       "      <th>debt</th>\n",
       "      <th>debt</th>\n",
       "    </tr>\n",
       "    <tr>\n",
       "      <th>purpose</th>\n",
       "      <th></th>\n",
       "      <th></th>\n",
       "      <th></th>\n",
       "    </tr>\n",
       "  </thead>\n",
       "  <tbody>\n",
       "    <tr>\n",
       "      <th>автомобиль</th>\n",
       "      <td>4258</td>\n",
       "      <td>397</td>\n",
       "      <td>0.093236</td>\n",
       "    </tr>\n",
       "    <tr>\n",
       "      <th>жилье</th>\n",
       "      <td>4413</td>\n",
       "      <td>306</td>\n",
       "      <td>0.069341</td>\n",
       "    </tr>\n",
       "    <tr>\n",
       "      <th>недвижимость</th>\n",
       "      <td>6290</td>\n",
       "      <td>471</td>\n",
       "      <td>0.074881</td>\n",
       "    </tr>\n",
       "    <tr>\n",
       "      <th>образование</th>\n",
       "      <td>3970</td>\n",
       "      <td>369</td>\n",
       "      <td>0.092947</td>\n",
       "    </tr>\n",
       "    <tr>\n",
       "      <th>свадьба</th>\n",
       "      <td>2299</td>\n",
       "      <td>181</td>\n",
       "      <td>0.078730</td>\n",
       "    </tr>\n",
       "  </tbody>\n",
       "</table>\n",
       "</div>"
      ],
      "text/plain": [
       "             count  sum      mean\n",
       "              debt debt      debt\n",
       "purpose                          \n",
       "автомобиль    4258  397  0.093236\n",
       "жилье         4413  306  0.069341\n",
       "недвижимость  6290  471  0.074881\n",
       "образование   3970  369  0.092947\n",
       "свадьба       2299  181  0.078730"
      ]
     },
     "execution_count": 79,
     "metadata": {},
     "output_type": "execute_result"
    }
   ],
   "source": [
    "#Агрегируем с помощью pivot_table данные и выведем данные как суммы количества должников и доли от общего числа\n",
    "df.pivot_table(index = 'purpose', values = 'debt', aggfunc = ['count','sum','mean'] )"
   ]
  },
  {
   "cell_type": "code",
   "execution_count": 80,
   "metadata": {
    "scrolled": true
   },
   "outputs": [
    {
     "data": {
      "text/html": [
       "<div>\n",
       "<style scoped>\n",
       "    .dataframe tbody tr th:only-of-type {\n",
       "        vertical-align: middle;\n",
       "    }\n",
       "\n",
       "    .dataframe tbody tr th {\n",
       "        vertical-align: top;\n",
       "    }\n",
       "\n",
       "    .dataframe thead th {\n",
       "        text-align: right;\n",
       "    }\n",
       "</style>\n",
       "<table border=\"1\" class=\"dataframe\">\n",
       "  <thead>\n",
       "    <tr style=\"text-align: right;\">\n",
       "      <th></th>\n",
       "      <th>debt</th>\n",
       "    </tr>\n",
       "    <tr>\n",
       "      <th>purpose</th>\n",
       "      <th></th>\n",
       "    </tr>\n",
       "  </thead>\n",
       "  <tbody>\n",
       "    <tr>\n",
       "      <th>автомобиль</th>\n",
       "      <td>9.32%</td>\n",
       "    </tr>\n",
       "    <tr>\n",
       "      <th>образование</th>\n",
       "      <td>9.29%</td>\n",
       "    </tr>\n",
       "    <tr>\n",
       "      <th>свадьба</th>\n",
       "      <td>7.87%</td>\n",
       "    </tr>\n",
       "    <tr>\n",
       "      <th>недвижимость</th>\n",
       "      <td>7.49%</td>\n",
       "    </tr>\n",
       "    <tr>\n",
       "      <th>жилье</th>\n",
       "      <td>6.93%</td>\n",
       "    </tr>\n",
       "  </tbody>\n",
       "</table>\n",
       "</div>"
      ],
      "text/plain": [
       "                debt\n",
       "purpose             \n",
       "автомобиль    9.32% \n",
       "образование   9.29% \n",
       "свадьба       7.87% \n",
       "недвижимость  7.49% \n",
       "жилье         6.93% "
      ]
     },
     "execution_count": 80,
     "metadata": {},
     "output_type": "execute_result"
    }
   ],
   "source": [
    "#Выведем ту же информацию в более удобном виде: цель кредита - процент должников\n",
    "purpose_debt = df.pivot_table(index = 'purpose',values = 'debt', aggfunc = lambda x: '{:.2%} '.format(x.mean()))\n",
    "#Вывод таблицы с сортировкой\n",
    "purpose_debt.sort_values(by='debt', ascending=False)"
   ]
  },
  {
   "cell_type": "code",
   "execution_count": 93,
   "metadata": {
    "scrolled": false
   },
   "outputs": [
    {
     "data": {
      "image/png": "[encoded data removed]",
      "text/plain": [
       "<Figure size 864x432 with 1 Axes>"
      ]
     },
     "metadata": {
      "needs_background": "light"
     },
     "output_type": "display_data"
    }
   ],
   "source": [
    "#И построим график для наглядности\n",
    "(df[['purpose','debt',]]\n",
    " .groupby(['purpose'])\n",
    " .mean()\n",
    " .sort_values(by='debt', ascending=False)\n",
    " .plot.bar(grid=True, figsize=(12,6),rot=0)\n",
    ");"
   ]
  },
  {
   "cell_type": "markdown",
   "metadata": {},
   "source": [
    "**Вывод**"
   ]
  },
  {
   "cell_type": "markdown",
   "metadata": {},
   "source": [
    "Зависимость между целями кредита и возвратом средств существует. Люди приобретающие жильё, с большей ответственностью возвращают ипотечные средства, чем остальные заёмщики. Неудивительно, оказаться на улице не хочется никому,  кроме 6.93% таких заёмщиков. \n",
    "\n",
    "На втором месте - люди декларирующие своей целью приобретение недвижимости. В некоторых случаях было указано конкретно, что недвижимость коммерческая, однако было решено несколько упростить категории, поскольку в тех случаях, когда не было указано что недвижимость коммерческая, это никак не гарантировало однозначного использования недвижимости как жилой, это мог быть магазин или гостиница. Излишне подробная группировка на основании предположений могла исказить результаты в ту или иную сторону. \n",
    "\n",
    "Следующими в рейтинге идут счастливые молодожёны. Они пока не так умеют обращаться с деньгами, как люди решившиеся на ипотеку, однако у них ещё всё впереди. Странным является то, что на предпоследнем месте оказались люди вложившие средства в получение образования. Возможно плохая ситуация на рынке труда либо переоценка своих возможностей сыграли с ними злую шутку, но как из песни, из датасета всех значений не выкинешь. \n",
    "\n",
    "На последнем месте идут люди необдуманно взявшие в кредит слишком дорогой для них автомобиль.  Таких заёмщиков набралось 9.32%."
   ]
  },
  {
   "cell_type": "markdown",
   "metadata": {},
   "source": [
    "## Общий вывод"
   ]
  },
  {
   "cell_type": "markdown",
   "metadata": {},
   "source": [
    "Согласно датасету наличие детей, семейное положение, уровень дохода и цель кредита отражаются на вероятности возврата в срок средств по кредиту. При этом упрощая можно сказать следующее  - бездетные люди возвращают долги чаще, чем те, у кого есть дети.\n",
    "7.55% должников среди бездетных против 9.76% у тех, кто растит 4-х детей. Единственное исключение - семьи с 3-мя детьми, они идут на следующем месте после бездетных по надёжности.\n",
    "\n",
    "В то же время люди находящиеся в браке или с опытом развода в среднем лучше справляются с возвращением кредитов, в отличие от 9.78% неженатых заёмщиков либо 9.31% должников, проживающих в гражданском браке. Хотя и не так хорошо как вдовцы, среди которых ненадёжных заёмщиков всего 6.55%. Возможно для людей потерявших супруга следует выпустить отдельный кредитный продукт. \n",
    "\n",
    "Как ни странно, люди с низким уровнем дохода лучше всех возвращают кредиты  - 6.23% случаев задолженности. То ли мы наблюдаем выборку лучших из лучших, кто не пошёл брать \"быстроденьги\" в ближайший ларёк возле игровых автоматов, либо они ещё не брали кредитов. Также в рейтинге сравнительно хорошо возвращают кредиты люди с высокими доходами и доходами выше среднего. Значит, они кроме зарабатывания, умеют хорошо распоряжаться деньгами. А вот заёмщики со средним и доходами ниже среднего находятся в аутсайдерах, с вызывающими озабоченность 8.61% должников, если различие в 1% - 1,5% с ближайшими соседями в рейтинге делает их таковыми. \n",
    "\n",
    "В разрезе целей кредита, люди берущие в кредит жильё либо недвижимость для других целей - самые дисциплинированные заёмщики,  6.93% случаев задолженности. Посредине рейтинга - молодожёны. Возможно им удаётся неплохо выглядеть в статистике  банка за счёт денежных подарков от гостей. А вот, как ни странно, банку стоит побеспокоится о возврате кредитов выданных на образование. Хотя, казалось бы, человек взявший целевой кредит на улучшение своей привлекательности на рынке труда должен быть дисциплинированным заёмщиком. Впрочем, мы не знаем на какое именно образование были взяты кредиты, поэтому сложно делать настолько далеко идущие выводы. Ну, а лидерами неплательщиков в категории целей кредита закономерно выступают автомобилисты, Из них 9.32% не смогли вовремя оплатить свою дорогостоящую покупку."
   ]
  },
  {
   "cell_type": "code",
   "execution_count": null,
   "metadata": {},
   "outputs": [],
   "source": []
  }
 ],
 "metadata": {
  "ExecuteTimeLog": [
   {
    "duration": 1040,
    "start_time": "2021-06-21T08:12:49.000Z"
   },
   {
    "duration": 45,
    "start_time": "2021-06-21T08:13:02.181Z"
   },
   {
    "duration": 18,
    "start_time": "2021-06-21T08:13:22.085Z"
   },
   {
    "duration": 35,
    "start_time": "2021-06-21T08:44:42.292Z"
   },
   {
    "duration": -232,
    "start_time": "2021-06-21T08:45:08.202Z"
   },
   {
    "duration": 33,
    "start_time": "2021-06-21T08:46:28.900Z"
   },
   {
    "duration": 8,
    "start_time": "2021-06-21T08:47:25.842Z"
   },
   {
    "duration": 42,
    "start_time": "2021-06-21T08:47:54.407Z"
   },
   {
    "duration": 9,
    "start_time": "2021-06-21T08:48:19.626Z"
   },
   {
    "duration": 11,
    "start_time": "2021-06-21T08:48:29.325Z"
   },
   {
    "duration": 11,
    "start_time": "2021-06-21T08:48:50.672Z"
   },
   {
    "duration": 11,
    "start_time": "2021-06-21T08:49:08.768Z"
   },
   {
    "duration": 17,
    "start_time": "2021-06-21T08:49:47.566Z"
   },
   {
    "duration": 51,
    "start_time": "2021-06-21T08:50:16.923Z"
   },
   {
    "duration": 50,
    "start_time": "2021-06-21T08:52:30.227Z"
   },
   {
    "duration": 50,
    "start_time": "2021-06-21T10:13:47.886Z"
   },
   {
    "duration": 9,
    "start_time": "2021-06-21T10:14:40.283Z"
   },
   {
    "duration": 22,
    "start_time": "2021-06-21T10:14:46.067Z"
   },
   {
    "duration": 398,
    "start_time": "2021-06-21T10:14:56.231Z"
   },
   {
    "duration": 21,
    "start_time": "2021-06-21T10:15:06.651Z"
   },
   {
    "duration": 24,
    "start_time": "2021-06-21T10:16:35.366Z"
   },
   {
    "duration": 19,
    "start_time": "2021-06-21T10:16:49.072Z"
   },
   {
    "duration": 22,
    "start_time": "2021-06-21T10:19:09.814Z"
   },
   {
    "duration": 346,
    "start_time": "2021-06-21T10:20:17.097Z"
   },
   {
    "duration": 20,
    "start_time": "2021-06-21T10:21:13.441Z"
   },
   {
    "duration": 23,
    "start_time": "2021-06-21T10:21:31.222Z"
   },
   {
    "duration": 31,
    "start_time": "2021-06-21T10:21:41.472Z"
   },
   {
    "duration": 27,
    "start_time": "2021-06-21T10:22:13.357Z"
   },
   {
    "duration": 13,
    "start_time": "2021-06-21T10:35:54.573Z"
   },
   {
    "duration": 136,
    "start_time": "2021-06-21T10:36:01.779Z"
   },
   {
    "duration": 34,
    "start_time": "2021-06-21T10:36:07.439Z"
   },
   {
    "duration": 15,
    "start_time": "2021-06-21T10:36:11.418Z"
   },
   {
    "duration": 34,
    "start_time": "2021-06-21T10:36:13.448Z"
   },
   {
    "duration": 32,
    "start_time": "2021-06-21T10:36:14.828Z"
   },
   {
    "duration": 6,
    "start_time": "2021-06-21T10:36:19.581Z"
   },
   {
    "duration": 35,
    "start_time": "2021-06-21T10:40:22.609Z"
   },
   {
    "duration": 38,
    "start_time": "2021-06-21T10:41:15.145Z"
   },
   {
    "duration": 9,
    "start_time": "2021-06-21T10:42:42.771Z"
   },
   {
    "duration": 24,
    "start_time": "2021-06-21T10:43:00.187Z"
   },
   {
    "duration": 12,
    "start_time": "2021-06-21T10:43:17.777Z"
   },
   {
    "duration": 10,
    "start_time": "2021-06-21T10:44:52.452Z"
   },
   {
    "duration": 11,
    "start_time": "2021-06-21T10:45:29.713Z"
   },
   {
    "duration": 12,
    "start_time": "2021-06-21T10:48:56.225Z"
   },
   {
    "duration": 363,
    "start_time": "2021-06-21T10:49:15.393Z"
   },
   {
    "duration": 20,
    "start_time": "2021-06-21T10:49:18.814Z"
   },
   {
    "duration": 18,
    "start_time": "2021-06-21T10:50:24.545Z"
   },
   {
    "duration": 21,
    "start_time": "2021-06-21T10:50:48.168Z"
   },
   {
    "duration": 10,
    "start_time": "2021-06-21T10:51:29.177Z"
   },
   {
    "duration": 15,
    "start_time": "2021-06-21T10:52:24.947Z"
   },
   {
    "duration": 21,
    "start_time": "2021-06-21T10:52:37.444Z"
   },
   {
    "duration": 507,
    "start_time": "2021-06-21T18:47:51.918Z"
   },
   {
    "duration": 935,
    "start_time": "2021-06-21T18:47:58.645Z"
   },
   {
    "duration": 47,
    "start_time": "2021-06-21T18:48:03.547Z"
   },
   {
    "duration": 15,
    "start_time": "2021-06-21T18:48:06.035Z"
   },
   {
    "duration": 36,
    "start_time": "2021-06-21T18:48:07.779Z"
   },
   {
    "duration": 38,
    "start_time": "2021-06-21T18:48:11.204Z"
   },
   {
    "duration": 6,
    "start_time": "2021-06-21T18:48:13.555Z"
   },
   {
    "duration": 16,
    "start_time": "2021-06-21T18:48:15.859Z"
   },
   {
    "duration": 8,
    "start_time": "2021-06-21T18:48:18.275Z"
   },
   {
    "duration": 7,
    "start_time": "2021-06-21T18:48:20.771Z"
   },
   {
    "duration": 20,
    "start_time": "2021-06-21T18:48:23.155Z"
   },
   {
    "duration": 21,
    "start_time": "2021-06-21T18:56:05.721Z"
   },
   {
    "duration": 23,
    "start_time": "2021-06-21T18:56:47.306Z"
   },
   {
    "duration": 20,
    "start_time": "2021-06-21T18:58:55.533Z"
   },
   {
    "duration": 36,
    "start_time": "2021-06-21T19:00:01.485Z"
   },
   {
    "duration": 21,
    "start_time": "2021-06-21T19:06:37.944Z"
   },
   {
    "duration": 19,
    "start_time": "2021-06-21T19:14:11.897Z"
   },
   {
    "duration": 19,
    "start_time": "2021-06-21T19:14:35.017Z"
   },
   {
    "duration": 19,
    "start_time": "2021-06-21T19:15:00.426Z"
   },
   {
    "duration": 21,
    "start_time": "2021-06-21T19:16:06.475Z"
   },
   {
    "duration": 35,
    "start_time": "2021-06-21T19:16:20.011Z"
   },
   {
    "duration": 36,
    "start_time": "2021-06-21T19:26:14.298Z"
   },
   {
    "duration": 14,
    "start_time": "2021-06-21T19:48:06.493Z"
   },
   {
    "duration": 36,
    "start_time": "2021-06-21T19:48:22.084Z"
   },
   {
    "duration": 23,
    "start_time": "2021-06-21T19:55:03.993Z"
   },
   {
    "duration": 19,
    "start_time": "2021-06-21T19:55:53.514Z"
   },
   {
    "duration": 412,
    "start_time": "2021-06-22T08:02:26.087Z"
   },
   {
    "duration": 981,
    "start_time": "2021-06-22T08:02:35.610Z"
   },
   {
    "duration": 47,
    "start_time": "2021-06-22T08:02:38.077Z"
   },
   {
    "duration": 15,
    "start_time": "2021-06-22T08:02:44.672Z"
   },
   {
    "duration": 35,
    "start_time": "2021-06-22T08:02:47.641Z"
   },
   {
    "duration": 35,
    "start_time": "2021-06-22T08:02:54.072Z"
   },
   {
    "duration": 36,
    "start_time": "2021-06-22T08:02:57.650Z"
   },
   {
    "duration": 10,
    "start_time": "2021-06-22T08:03:05.878Z"
   },
   {
    "duration": 13,
    "start_time": "2021-06-22T08:03:17.401Z"
   },
   {
    "duration": 396,
    "start_time": "2021-06-22T08:03:27.411Z"
   },
   {
    "duration": 20,
    "start_time": "2021-06-22T08:03:39.975Z"
   },
   {
    "duration": 14,
    "start_time": "2021-06-22T08:04:30.362Z"
   },
   {
    "duration": 35,
    "start_time": "2021-06-22T08:30:02.960Z"
   },
   {
    "duration": 35,
    "start_time": "2021-06-22T08:46:39.228Z"
   },
   {
    "duration": 14,
    "start_time": "2021-06-22T08:47:06.845Z"
   },
   {
    "duration": 30,
    "start_time": "2021-06-22T08:48:04.300Z"
   },
   {
    "duration": 23,
    "start_time": "2021-06-22T08:48:24.656Z"
   },
   {
    "duration": 21,
    "start_time": "2021-06-22T08:49:20.155Z"
   },
   {
    "duration": 47,
    "start_time": "2021-06-22T08:49:35.362Z"
   },
   {
    "duration": 28,
    "start_time": "2021-06-22T08:50:40.723Z"
   },
   {
    "duration": 23,
    "start_time": "2021-06-22T08:51:01.359Z"
   },
   {
    "duration": 54,
    "start_time": "2021-06-22T08:51:50.946Z"
   },
   {
    "duration": 41,
    "start_time": "2021-06-22T08:52:15.738Z"
   },
   {
    "duration": 29,
    "start_time": "2021-06-22T08:52:29.905Z"
   },
   {
    "duration": 52,
    "start_time": "2021-06-22T08:52:44.819Z"
   },
   {
    "duration": 27,
    "start_time": "2021-06-22T08:53:04.891Z"
   },
   {
    "duration": 24,
    "start_time": "2021-06-22T08:54:28.274Z"
   },
   {
    "duration": 23,
    "start_time": "2021-06-22T10:22:49.000Z"
   },
   {
    "duration": 11,
    "start_time": "2021-06-22T10:23:06.174Z"
   },
   {
    "duration": 36,
    "start_time": "2021-06-22T10:23:12.516Z"
   },
   {
    "duration": 362,
    "start_time": "2021-06-22T10:25:03.268Z"
   },
   {
    "duration": 54,
    "start_time": "2021-06-22T10:25:13.928Z"
   },
   {
    "duration": 80,
    "start_time": "2021-06-22T10:25:21.726Z"
   },
   {
    "duration": 1381,
    "start_time": "2021-06-22T10:26:36.745Z"
   },
   {
    "duration": 775,
    "start_time": "2021-06-22T10:26:42.512Z"
   },
   {
    "duration": 359,
    "start_time": "2021-06-22T10:27:22.727Z"
   },
   {
    "duration": 114,
    "start_time": "2021-06-22T10:27:26.081Z"
   },
   {
    "duration": 332,
    "start_time": "2021-06-22T10:27:34.223Z"
   },
   {
    "duration": 1385,
    "start_time": "2021-06-22T10:27:41.942Z"
   },
   {
    "duration": 82,
    "start_time": "2021-06-22T10:27:57.683Z"
   },
   {
    "duration": 75,
    "start_time": "2021-06-22T10:28:44.879Z"
   },
   {
    "duration": 32,
    "start_time": "2021-06-22T10:32:25.258Z"
   },
   {
    "duration": 119,
    "start_time": "2021-06-22T10:32:43.418Z"
   },
   {
    "duration": 102,
    "start_time": "2021-06-22T10:35:54.360Z"
   },
   {
    "duration": 77,
    "start_time": "2021-06-22T10:36:35.314Z"
   },
   {
    "duration": 13,
    "start_time": "2021-06-22T10:49:09.899Z"
   },
   {
    "duration": 13,
    "start_time": "2021-06-22T10:49:32.162Z"
   },
   {
    "duration": 909,
    "start_time": "2021-06-25T11:18:30.578Z"
   },
   {
    "duration": 29,
    "start_time": "2021-06-25T11:18:31.490Z"
   },
   {
    "duration": 26,
    "start_time": "2021-06-25T11:18:31.522Z"
   },
   {
    "duration": 33,
    "start_time": "2021-06-25T11:18:31.562Z"
   },
   {
    "duration": 34,
    "start_time": "2021-06-25T11:18:31.598Z"
   },
   {
    "duration": 37,
    "start_time": "2021-06-25T11:18:31.662Z"
   },
   {
    "duration": 66,
    "start_time": "2021-06-25T11:18:31.701Z"
   },
   {
    "duration": 25,
    "start_time": "2021-06-25T11:18:31.770Z"
   },
   {
    "duration": 64,
    "start_time": "2021-06-25T11:18:31.798Z"
   },
   {
    "duration": 22,
    "start_time": "2021-06-25T11:18:31.865Z"
   },
   {
    "duration": 111,
    "start_time": "2021-06-25T11:18:31.890Z"
   },
   {
    "duration": 8,
    "start_time": "2021-06-25T11:18:32.004Z"
   },
   {
    "duration": 273,
    "start_time": "2021-06-25T11:18:32.014Z"
   },
   {
    "duration": 82,
    "start_time": "2021-06-25T11:18:32.291Z"
   },
   {
    "duration": 21,
    "start_time": "2021-06-25T11:18:32.376Z"
   },
   {
    "duration": 7,
    "start_time": "2021-06-25T11:18:32.400Z"
   },
   {
    "duration": 319,
    "start_time": "2021-06-25T11:18:32.410Z"
   },
   {
    "duration": 38,
    "start_time": "2021-06-25T11:18:32.763Z"
   },
   {
    "duration": 14,
    "start_time": "2021-06-25T11:18:32.803Z"
   },
   {
    "duration": 55,
    "start_time": "2021-06-25T11:18:32.820Z"
   },
   {
    "duration": 17,
    "start_time": "2021-06-25T11:18:32.877Z"
   },
   {
    "duration": 30,
    "start_time": "2021-06-25T11:18:32.897Z"
   },
   {
    "duration": 9,
    "start_time": "2021-06-25T11:18:32.961Z"
   },
   {
    "duration": 16,
    "start_time": "2021-06-25T11:18:32.974Z"
   },
   {
    "duration": 14,
    "start_time": "2021-06-25T11:18:32.992Z"
   },
   {
    "duration": 17,
    "start_time": "2021-06-25T11:18:33.008Z"
   },
   {
    "duration": 50,
    "start_time": "2021-06-25T11:18:33.027Z"
   },
   {
    "duration": 44,
    "start_time": "2021-06-25T11:18:33.080Z"
   },
   {
    "duration": 55,
    "start_time": "2021-06-25T11:18:33.126Z"
   },
   {
    "duration": 15,
    "start_time": "2021-06-25T11:18:33.184Z"
   },
   {
    "duration": 24,
    "start_time": "2021-06-25T11:18:33.201Z"
   },
   {
    "duration": 34,
    "start_time": "2021-06-25T11:18:33.228Z"
   },
   {
    "duration": 4,
    "start_time": "2021-06-25T11:18:33.264Z"
   },
   {
    "duration": 4478,
    "start_time": "2021-06-25T11:18:33.271Z"
   },
   {
    "duration": 41,
    "start_time": "2021-06-25T11:18:37.762Z"
   },
   {
    "duration": 20,
    "start_time": "2021-06-25T11:18:37.806Z"
   },
   {
    "duration": 11,
    "start_time": "2021-06-25T11:18:37.828Z"
   },
   {
    "duration": 29,
    "start_time": "2021-06-25T11:18:37.841Z"
   },
   {
    "duration": 9,
    "start_time": "2021-06-25T11:18:37.873Z"
   },
   {
    "duration": 17,
    "start_time": "2021-06-25T11:18:37.884Z"
   },
   {
    "duration": 649,
    "start_time": "2021-06-25T11:18:37.903Z"
   },
   {
    "duration": 8,
    "start_time": "2021-06-25T11:18:38.555Z"
   },
   {
    "duration": 15,
    "start_time": "2021-06-25T11:18:38.566Z"
   },
   {
    "duration": 22,
    "start_time": "2021-06-25T11:18:38.584Z"
   },
   {
    "duration": 9,
    "start_time": "2021-06-25T11:18:38.609Z"
   },
   {
    "duration": 43,
    "start_time": "2021-06-25T11:18:38.620Z"
   },
   {
    "duration": 25,
    "start_time": "2021-06-25T11:18:38.665Z"
   },
   {
    "duration": 30,
    "start_time": "2021-06-25T11:18:38.693Z"
   },
   {
    "duration": 523,
    "start_time": "2021-06-25T11:18:38.725Z"
   },
   {
    "duration": 13,
    "start_time": "2021-06-25T11:18:39.250Z"
   },
   {
    "duration": 29,
    "start_time": "2021-06-25T11:18:39.265Z"
   },
   {
    "duration": 31,
    "start_time": "2021-06-25T11:18:39.297Z"
   },
   {
    "duration": 14,
    "start_time": "2021-06-25T11:18:39.330Z"
   },
   {
    "duration": 21,
    "start_time": "2021-06-25T11:18:39.346Z"
   },
   {
    "duration": 61,
    "start_time": "2021-06-25T11:18:39.370Z"
   },
   {
    "duration": 30,
    "start_time": "2021-06-25T11:18:39.433Z"
   },
   {
    "duration": 274,
    "start_time": "2021-06-25T11:18:39.465Z"
   },
   {
    "duration": 53,
    "start_time": "2021-06-25T11:18:39.742Z"
   },
   {
    "duration": 26,
    "start_time": "2021-06-25T11:18:39.798Z"
   },
   {
    "duration": 307,
    "start_time": "2021-06-25T11:18:39.826Z"
   },
   {
    "duration": 61,
    "start_time": "2021-06-25T11:18:40.135Z"
   },
   {
    "duration": 27,
    "start_time": "2021-06-25T11:18:40.199Z"
   },
   {
    "duration": 284,
    "start_time": "2021-06-25T11:18:40.229Z"
   },
   {
    "duration": 63,
    "start_time": "2021-06-25T11:18:40.516Z"
   },
   {
    "duration": 28,
    "start_time": "2021-06-25T11:18:40.582Z"
   },
   {
    "duration": 294,
    "start_time": "2021-06-25T11:18:40.613Z"
   },
   {
    "duration": 27,
    "start_time": "2021-06-25T11:22:59.903Z"
   },
   {
    "duration": 26,
    "start_time": "2021-06-25T11:23:38.841Z"
   },
   {
    "duration": 876,
    "start_time": "2021-06-25T13:45:26.920Z"
   },
   {
    "duration": 29,
    "start_time": "2021-06-25T13:45:27.799Z"
   },
   {
    "duration": 34,
    "start_time": "2021-06-25T13:45:27.831Z"
   },
   {
    "duration": 34,
    "start_time": "2021-06-25T13:45:27.868Z"
   },
   {
    "duration": 67,
    "start_time": "2021-06-25T13:45:27.904Z"
   },
   {
    "duration": 38,
    "start_time": "2021-06-25T13:45:27.973Z"
   },
   {
    "duration": 65,
    "start_time": "2021-06-25T13:45:28.013Z"
   },
   {
    "duration": 25,
    "start_time": "2021-06-25T13:45:28.081Z"
   },
   {
    "duration": 71,
    "start_time": "2021-06-25T13:45:28.109Z"
   },
   {
    "duration": 29,
    "start_time": "2021-06-25T13:45:28.182Z"
   },
   {
    "duration": 100,
    "start_time": "2021-06-25T13:45:28.214Z"
   },
   {
    "duration": 7,
    "start_time": "2021-06-25T13:45:28.317Z"
   },
   {
    "duration": 293,
    "start_time": "2021-06-25T13:45:28.327Z"
   },
   {
    "duration": 71,
    "start_time": "2021-06-25T13:45:28.622Z"
   },
   {
    "duration": 17,
    "start_time": "2021-06-25T13:45:28.695Z"
   },
   {
    "duration": 40,
    "start_time": "2021-06-25T13:45:28.714Z"
   },
   {
    "duration": 258,
    "start_time": "2021-06-25T13:45:28.757Z"
   },
   {
    "duration": 74,
    "start_time": "2021-06-25T13:45:29.017Z"
   },
   {
    "duration": 15,
    "start_time": "2021-06-25T13:45:29.093Z"
   },
   {
    "duration": 67,
    "start_time": "2021-06-25T13:45:29.110Z"
   },
   {
    "duration": 16,
    "start_time": "2021-06-25T13:45:29.180Z"
   },
   {
    "duration": 56,
    "start_time": "2021-06-25T13:45:29.199Z"
   },
   {
    "duration": 10,
    "start_time": "2021-06-25T13:45:29.261Z"
   },
   {
    "duration": 22,
    "start_time": "2021-06-25T13:45:29.274Z"
   },
   {
    "duration": 9,
    "start_time": "2021-06-25T13:45:29.300Z"
   },
   {
    "duration": 59,
    "start_time": "2021-06-25T13:45:29.313Z"
   },
   {
    "duration": 39,
    "start_time": "2021-06-25T13:45:29.376Z"
   },
   {
    "duration": 104,
    "start_time": "2021-06-25T13:45:29.418Z"
   },
   {
    "duration": 43,
    "start_time": "2021-06-25T13:45:29.524Z"
   },
   {
    "duration": 17,
    "start_time": "2021-06-25T13:45:29.570Z"
   },
   {
    "duration": 27,
    "start_time": "2021-06-25T13:45:29.589Z"
   },
   {
    "duration": 36,
    "start_time": "2021-06-25T13:45:29.619Z"
   },
   {
    "duration": 3,
    "start_time": "2021-06-25T13:45:29.658Z"
   },
   {
    "duration": 4655,
    "start_time": "2021-06-25T13:45:29.663Z"
   },
   {
    "duration": 48,
    "start_time": "2021-06-25T13:45:34.321Z"
   },
   {
    "duration": 4,
    "start_time": "2021-06-25T13:45:34.371Z"
   },
   {
    "duration": 15,
    "start_time": "2021-06-25T13:45:34.378Z"
   },
   {
    "duration": 65,
    "start_time": "2021-06-25T13:45:34.396Z"
   },
   {
    "duration": 12,
    "start_time": "2021-06-25T13:45:34.464Z"
   },
   {
    "duration": 15,
    "start_time": "2021-06-25T13:45:34.479Z"
   },
   {
    "duration": 655,
    "start_time": "2021-06-25T13:45:34.497Z"
   },
   {
    "duration": 5,
    "start_time": "2021-06-25T13:45:35.155Z"
   },
   {
    "duration": 18,
    "start_time": "2021-06-25T13:45:35.164Z"
   },
   {
    "duration": 25,
    "start_time": "2021-06-25T13:45:35.184Z"
   },
   {
    "duration": 4,
    "start_time": "2021-06-25T13:45:35.212Z"
   },
   {
    "duration": 41,
    "start_time": "2021-06-25T13:45:35.218Z"
   },
   {
    "duration": 24,
    "start_time": "2021-06-25T13:45:35.261Z"
   },
   {
    "duration": 72,
    "start_time": "2021-06-25T13:45:35.288Z"
   },
   {
    "duration": 513,
    "start_time": "2021-06-25T13:45:35.362Z"
   },
   {
    "duration": 5,
    "start_time": "2021-06-25T13:45:35.877Z"
   },
   {
    "duration": 16,
    "start_time": "2021-06-25T13:45:35.885Z"
   },
   {
    "duration": 59,
    "start_time": "2021-06-25T13:45:35.903Z"
   },
   {
    "duration": 8,
    "start_time": "2021-06-25T13:45:35.964Z"
   },
   {
    "duration": 7,
    "start_time": "2021-06-25T13:45:35.975Z"
   },
   {
    "duration": 94,
    "start_time": "2021-06-25T13:45:35.984Z"
   },
   {
    "duration": 25,
    "start_time": "2021-06-25T13:45:36.080Z"
   },
   {
    "duration": 297,
    "start_time": "2021-06-25T13:45:36.107Z"
   },
   {
    "duration": 57,
    "start_time": "2021-06-25T13:45:36.406Z"
   },
   {
    "duration": 26,
    "start_time": "2021-06-25T13:45:36.465Z"
   },
   {
    "duration": 292,
    "start_time": "2021-06-25T13:45:36.494Z"
   },
   {
    "duration": 44,
    "start_time": "2021-06-25T13:45:36.788Z"
   },
   {
    "duration": 42,
    "start_time": "2021-06-25T13:45:36.834Z"
   },
   {
    "duration": 294,
    "start_time": "2021-06-25T13:45:36.879Z"
   },
   {
    "duration": 44,
    "start_time": "2021-06-25T13:45:37.175Z"
   },
   {
    "duration": 41,
    "start_time": "2021-06-25T13:45:37.222Z"
   },
   {
    "duration": 268,
    "start_time": "2021-06-25T13:45:37.266Z"
   },
   {
    "duration": 65,
    "start_time": "2021-06-25T13:55:21.250Z"
   },
   {
    "duration": 19,
    "start_time": "2021-06-25T13:55:21.318Z"
   },
   {
    "duration": 18,
    "start_time": "2021-06-25T13:55:21.356Z"
   },
   {
    "duration": 38,
    "start_time": "2021-06-25T13:55:21.379Z"
   },
   {
    "duration": 70,
    "start_time": "2021-06-25T13:55:21.420Z"
   },
   {
    "duration": 36,
    "start_time": "2021-06-25T13:55:21.492Z"
   },
   {
    "duration": 34,
    "start_time": "2021-06-25T13:55:21.555Z"
   },
   {
    "duration": 67,
    "start_time": "2021-06-25T13:55:21.594Z"
   },
   {
    "duration": 23,
    "start_time": "2021-06-25T13:55:22.591Z"
   },
   {
    "duration": 340,
    "start_time": "2021-06-25T13:55:45.621Z"
   },
   {
    "duration": 327,
    "start_time": "2021-06-25T13:55:52.331Z"
   },
   {
    "duration": 31,
    "start_time": "2021-06-25T13:55:57.528Z"
   },
   {
    "duration": 100,
    "start_time": "2021-06-26T14:42:54.020Z"
   },
   {
    "duration": 780,
    "start_time": "2021-06-26T14:51:30.948Z"
   },
   {
    "duration": 28,
    "start_time": "2021-06-26T14:51:32.557Z"
   },
   {
    "duration": 17,
    "start_time": "2021-06-26T14:51:33.117Z"
   },
   {
    "duration": 34,
    "start_time": "2021-06-26T14:51:34.173Z"
   },
   {
    "duration": 32,
    "start_time": "2021-06-26T14:51:34.637Z"
   },
   {
    "duration": 44,
    "start_time": "2021-06-26T14:51:35.581Z"
   },
   {
    "duration": 31,
    "start_time": "2021-06-26T14:51:36.989Z"
   },
   {
    "duration": 23,
    "start_time": "2021-06-26T14:51:37.933Z"
   },
   {
    "duration": 22,
    "start_time": "2021-06-26T14:51:49.836Z"
   },
   {
    "duration": 29,
    "start_time": "2021-06-26T14:51:50.429Z"
   },
   {
    "duration": 34,
    "start_time": "2021-06-26T14:52:14.152Z"
   },
   {
    "duration": 21,
    "start_time": "2021-06-26T14:52:28.142Z"
   },
   {
    "duration": 94,
    "start_time": "2021-06-26T15:07:33.725Z"
   },
   {
    "duration": 6,
    "start_time": "2021-06-26T15:10:45.773Z"
   },
   {
    "duration": 20,
    "start_time": "2021-06-26T15:10:52.766Z"
   },
   {
    "duration": 23,
    "start_time": "2021-06-26T15:11:55.200Z"
   },
   {
    "duration": 398,
    "start_time": "2021-06-26T15:21:34.791Z"
   },
   {
    "duration": 10,
    "start_time": "2021-06-26T15:22:02.057Z"
   },
   {
    "duration": 22,
    "start_time": "2021-06-26T15:22:15.752Z"
   },
   {
    "duration": 274,
    "start_time": "2021-06-26T15:22:52.936Z"
   },
   {
    "duration": 31,
    "start_time": "2021-06-26T15:27:20.206Z"
   },
   {
    "duration": 20,
    "start_time": "2021-06-26T15:27:40.621Z"
   },
   {
    "duration": 21,
    "start_time": "2021-06-26T15:30:21.167Z"
   },
   {
    "duration": 20,
    "start_time": "2021-06-26T15:30:30.927Z"
   },
   {
    "duration": 17,
    "start_time": "2021-06-26T15:33:29.746Z"
   },
   {
    "duration": 20,
    "start_time": "2021-06-26T15:33:53.730Z"
   },
   {
    "duration": 20,
    "start_time": "2021-06-26T15:34:37.778Z"
   },
   {
    "duration": 22,
    "start_time": "2021-06-26T15:35:16.595Z"
   },
   {
    "duration": 21,
    "start_time": "2021-06-26T15:35:58.003Z"
   },
   {
    "duration": 14,
    "start_time": "2021-06-26T15:37:30.229Z"
   },
   {
    "duration": 21,
    "start_time": "2021-06-26T15:37:34.852Z"
   },
   {
    "duration": 112,
    "start_time": "2021-06-26T15:37:43.381Z"
   },
   {
    "duration": 20,
    "start_time": "2021-06-26T15:37:58.854Z"
   },
   {
    "duration": 17,
    "start_time": "2021-06-26T15:38:14.360Z"
   },
   {
    "duration": 282,
    "start_time": "2021-06-26T15:39:57.592Z"
   },
   {
    "duration": 1362,
    "start_time": "2021-06-26T15:40:07.447Z"
   },
   {
    "duration": 1117,
    "start_time": "2021-06-26T15:40:27.673Z"
   },
   {
    "duration": 21,
    "start_time": "2021-06-26T15:40:41.816Z"
   },
   {
    "duration": 285,
    "start_time": "2021-06-26T15:43:54.842Z"
   },
   {
    "duration": 8,
    "start_time": "2021-06-26T15:44:30.523Z"
   },
   {
    "duration": 10,
    "start_time": "2021-06-26T15:44:33.482Z"
   },
   {
    "duration": 8,
    "start_time": "2021-06-26T15:44:52.731Z"
   },
   {
    "duration": 21,
    "start_time": "2021-06-26T15:45:26.523Z"
   },
   {
    "duration": 8,
    "start_time": "2021-06-26T15:46:04.844Z"
   },
   {
    "duration": 288,
    "start_time": "2021-06-26T15:49:06.255Z"
   },
   {
    "duration": 281,
    "start_time": "2021-06-26T15:50:15.487Z"
   },
   {
    "duration": 305,
    "start_time": "2021-06-26T15:50:29.767Z"
   },
   {
    "duration": 311,
    "start_time": "2021-06-26T15:53:40.899Z"
   },
   {
    "duration": 331,
    "start_time": "2021-06-26T15:54:30.166Z"
   },
   {
    "duration": 33,
    "start_time": "2021-06-26T15:54:46.646Z"
   },
   {
    "duration": 18,
    "start_time": "2021-06-26T15:55:18.172Z"
   },
   {
    "duration": 17,
    "start_time": "2021-06-26T15:55:29.795Z"
   },
   {
    "duration": 3,
    "start_time": "2021-06-26T15:55:38.597Z"
   },
   {
    "duration": 30,
    "start_time": "2021-06-26T15:56:04.116Z"
   },
   {
    "duration": 303,
    "start_time": "2021-06-26T15:56:41.750Z"
   },
   {
    "duration": 29,
    "start_time": "2021-06-26T15:56:54.102Z"
   },
   {
    "duration": 340,
    "start_time": "2021-06-26T15:57:22.869Z"
   },
   {
    "duration": 39,
    "start_time": "2021-06-26T15:57:48.776Z"
   },
   {
    "duration": 21,
    "start_time": "2021-06-26T15:58:03.142Z"
   },
   {
    "duration": 118,
    "start_time": "2021-06-26T15:59:27.831Z"
   },
   {
    "duration": 330,
    "start_time": "2021-06-26T15:59:38.184Z"
   },
   {
    "duration": 443,
    "start_time": "2021-06-26T16:00:24.410Z"
   },
   {
    "duration": 27,
    "start_time": "2021-06-26T16:05:36.731Z"
   },
   {
    "duration": 124,
    "start_time": "2021-06-26T16:06:40.311Z"
   },
   {
    "duration": 28,
    "start_time": "2021-06-26T16:06:50.253Z"
   },
   {
    "duration": 29,
    "start_time": "2021-06-26T16:07:41.983Z"
   },
   {
    "duration": 32,
    "start_time": "2021-06-26T16:09:13.489Z"
   },
   {
    "duration": 74,
    "start_time": "2021-06-26T16:09:48.737Z"
   },
   {
    "duration": 43,
    "start_time": "2021-06-26T16:10:07.505Z"
   },
   {
    "duration": 39,
    "start_time": "2021-06-26T16:10:14.524Z"
   },
   {
    "duration": 11,
    "start_time": "2021-06-26T16:10:53.250Z"
   },
   {
    "duration": 9,
    "start_time": "2021-06-26T16:11:03.185Z"
   },
   {
    "duration": 7,
    "start_time": "2021-06-26T16:12:05.874Z"
   },
   {
    "duration": 6,
    "start_time": "2021-06-26T16:12:11.394Z"
   },
   {
    "duration": 46,
    "start_time": "2021-06-26T16:12:16.417Z"
   },
   {
    "duration": 3624,
    "start_time": "2021-06-26T16:12:16.789Z"
   },
   {
    "duration": 45,
    "start_time": "2021-06-26T16:12:35.651Z"
   },
   {
    "duration": 6,
    "start_time": "2021-06-26T16:12:39.571Z"
   },
   {
    "duration": 27,
    "start_time": "2021-06-26T16:13:27.574Z"
   },
   {
    "duration": 48,
    "start_time": "2021-06-26T16:14:05.108Z"
   },
   {
    "duration": 8,
    "start_time": "2021-06-26T16:14:08.371Z"
   },
   {
    "duration": 7,
    "start_time": "2021-06-26T16:15:08.453Z"
   },
   {
    "duration": 298,
    "start_time": "2021-06-26T16:16:00.294Z"
   },
   {
    "duration": 46,
    "start_time": "2021-06-26T16:16:04.453Z"
   },
   {
    "duration": 23,
    "start_time": "2021-06-26T16:16:05.253Z"
   },
   {
    "duration": 45,
    "start_time": "2021-06-26T16:16:13.125Z"
   },
   {
    "duration": 27,
    "start_time": "2021-06-26T16:16:23.813Z"
   },
   {
    "duration": 17,
    "start_time": "2021-06-26T16:18:29.368Z"
   },
   {
    "duration": 6,
    "start_time": "2021-06-26T16:18:53.287Z"
   },
   {
    "duration": 13,
    "start_time": "2021-06-26T16:18:54.312Z"
   },
   {
    "duration": 276,
    "start_time": "2021-06-26T16:21:09.658Z"
   },
   {
    "duration": 24,
    "start_time": "2021-06-26T16:21:22.353Z"
   },
   {
    "duration": 28,
    "start_time": "2021-06-26T16:25:41.182Z"
   },
   {
    "duration": 19,
    "start_time": "2021-06-26T16:28:29.023Z"
   },
   {
    "duration": 30,
    "start_time": "2021-06-26T16:28:40.286Z"
   },
   {
    "duration": 55,
    "start_time": "2021-06-26T16:28:49.728Z"
   },
   {
    "duration": 859,
    "start_time": "2021-06-27T13:08:54.564Z"
   },
   {
    "duration": 29,
    "start_time": "2021-06-27T13:08:55.802Z"
   },
   {
    "duration": 15,
    "start_time": "2021-06-27T13:08:56.632Z"
   },
   {
    "duration": 33,
    "start_time": "2021-06-27T13:08:57.496Z"
   },
   {
    "duration": 34,
    "start_time": "2021-06-27T13:08:57.914Z"
   },
   {
    "duration": 34,
    "start_time": "2021-06-27T13:08:58.744Z"
   },
   {
    "duration": 33,
    "start_time": "2021-06-27T13:08:59.991Z"
   },
   {
    "duration": 24,
    "start_time": "2021-06-27T13:09:01.159Z"
   },
   {
    "duration": 22,
    "start_time": "2021-06-27T13:09:03.544Z"
   },
   {
    "duration": 28,
    "start_time": "2021-06-27T13:09:04.040Z"
   },
   {
    "duration": 33,
    "start_time": "2021-06-27T13:09:07.128Z"
   },
   {
    "duration": 22,
    "start_time": "2021-06-27T13:09:08.215Z"
   },
   {
    "duration": 74,
    "start_time": "2021-06-27T13:09:09.211Z"
   },
   {
    "duration": 4,
    "start_time": "2021-06-27T13:09:12.279Z"
   },
   {
    "duration": 14,
    "start_time": "2021-06-27T13:09:13.159Z"
   },
   {
    "duration": 22,
    "start_time": "2021-06-27T13:09:13.992Z"
   },
   {
    "duration": 19,
    "start_time": "2021-06-27T13:17:00.368Z"
   },
   {
    "duration": 17,
    "start_time": "2021-06-27T13:17:03.744Z"
   },
   {
    "duration": 19,
    "start_time": "2021-06-27T13:17:22.135Z"
   },
   {
    "duration": 16,
    "start_time": "2021-06-27T13:19:23.073Z"
   },
   {
    "duration": 18,
    "start_time": "2021-06-27T13:19:25.874Z"
   },
   {
    "duration": 20,
    "start_time": "2021-06-27T13:24:34.197Z"
   },
   {
    "duration": 62,
    "start_time": "2021-06-27T13:30:42.365Z"
   },
   {
    "duration": 63,
    "start_time": "2021-06-27T13:31:13.685Z"
   },
   {
    "duration": 35,
    "start_time": "2021-06-27T13:37:50.000Z"
   },
   {
    "duration": 59,
    "start_time": "2021-06-27T13:41:00.903Z"
   },
   {
    "duration": 62,
    "start_time": "2021-06-27T13:41:27.782Z"
   },
   {
    "duration": 64,
    "start_time": "2021-06-27T13:43:38.391Z"
   },
   {
    "duration": 19,
    "start_time": "2021-06-27T13:43:39.318Z"
   },
   {
    "duration": 15,
    "start_time": "2021-06-27T13:43:39.814Z"
   },
   {
    "duration": 34,
    "start_time": "2021-06-27T13:43:40.855Z"
   },
   {
    "duration": 36,
    "start_time": "2021-06-27T13:43:41.399Z"
   },
   {
    "duration": 35,
    "start_time": "2021-06-27T13:43:42.535Z"
   },
   {
    "duration": 34,
    "start_time": "2021-06-27T13:43:44.246Z"
   },
   {
    "duration": 22,
    "start_time": "2021-06-27T13:43:45.286Z"
   },
   {
    "duration": 26,
    "start_time": "2021-06-27T13:43:47.254Z"
   },
   {
    "duration": 24,
    "start_time": "2021-06-27T13:43:47.862Z"
   },
   {
    "duration": 33,
    "start_time": "2021-06-27T13:43:51.174Z"
   },
   {
    "duration": 21,
    "start_time": "2021-06-27T13:43:52.517Z"
   },
   {
    "duration": 74,
    "start_time": "2021-06-27T13:43:53.897Z"
   },
   {
    "duration": 5,
    "start_time": "2021-06-27T13:43:57.493Z"
   },
   {
    "duration": 19,
    "start_time": "2021-06-27T13:43:58.199Z"
   },
   {
    "duration": 23,
    "start_time": "2021-06-27T13:43:59.031Z"
   },
   {
    "duration": 21,
    "start_time": "2021-06-27T13:44:11.384Z"
   },
   {
    "duration": 17,
    "start_time": "2021-06-27T13:44:12.103Z"
   },
   {
    "duration": 18,
    "start_time": "2021-06-27T13:44:15.863Z"
   },
   {
    "duration": 62,
    "start_time": "2021-06-27T13:44:23.609Z"
   },
   {
    "duration": 5,
    "start_time": "2021-06-27T13:44:47.368Z"
   },
   {
    "duration": 5,
    "start_time": "2021-06-27T13:44:59.144Z"
   },
   {
    "duration": 17,
    "start_time": "2021-06-27T13:45:11.176Z"
   },
   {
    "duration": 61,
    "start_time": "2021-06-27T13:45:20.073Z"
   },
   {
    "duration": 33,
    "start_time": "2021-06-27T13:48:40.692Z"
   },
   {
    "duration": 32,
    "start_time": "2021-06-27T13:49:27.660Z"
   },
   {
    "duration": 39,
    "start_time": "2021-06-27T13:49:38.539Z"
   },
   {
    "duration": 6579,
    "start_time": "2021-06-27T13:51:35.247Z"
   },
   {
    "duration": 7,
    "start_time": "2021-06-27T13:51:53.952Z"
   },
   {
    "duration": 18,
    "start_time": "2021-06-27T13:52:24.190Z"
   },
   {
    "duration": 41,
    "start_time": "2021-06-27T13:57:58.981Z"
   },
   {
    "duration": 38,
    "start_time": "2021-06-27T13:59:54.766Z"
   },
   {
    "duration": 54,
    "start_time": "2021-06-27T14:01:06.265Z"
   },
   {
    "duration": 39,
    "start_time": "2021-06-27T14:08:50.155Z"
   },
   {
    "duration": 38,
    "start_time": "2021-06-27T14:11:40.543Z"
   },
   {
    "duration": 11,
    "start_time": "2021-06-27T14:12:10.395Z"
   },
   {
    "duration": 282,
    "start_time": "2021-06-27T14:12:26.449Z"
   },
   {
    "duration": 316,
    "start_time": "2021-06-27T14:12:32.576Z"
   },
   {
    "duration": 10,
    "start_time": "2021-06-27T14:12:41.056Z"
   },
   {
    "duration": 11,
    "start_time": "2021-06-27T14:12:46.960Z"
   },
   {
    "duration": 6,
    "start_time": "2021-06-27T14:35:40.363Z"
   },
   {
    "duration": 6,
    "start_time": "2021-06-27T14:37:10.340Z"
   },
   {
    "duration": 27,
    "start_time": "2021-06-27T14:37:20.484Z"
   },
   {
    "duration": 18,
    "start_time": "2021-06-27T14:37:45.317Z"
   },
   {
    "duration": 26,
    "start_time": "2021-06-27T14:38:20.694Z"
   },
   {
    "duration": 34,
    "start_time": "2021-06-27T14:41:41.511Z"
   },
   {
    "duration": 264,
    "start_time": "2021-06-27T14:43:24.474Z"
   },
   {
    "duration": 22,
    "start_time": "2021-06-27T14:43:39.297Z"
   },
   {
    "duration": 11,
    "start_time": "2021-06-27T14:43:49.577Z"
   },
   {
    "duration": 21,
    "start_time": "2021-06-27T14:44:03.577Z"
   },
   {
    "duration": 16,
    "start_time": "2021-06-27T14:48:29.614Z"
   },
   {
    "duration": 28,
    "start_time": "2021-06-27T14:51:44.984Z"
   },
   {
    "duration": 12,
    "start_time": "2021-06-27T14:56:39.218Z"
   },
   {
    "duration": 17,
    "start_time": "2021-06-27T14:56:42.325Z"
   },
   {
    "duration": 20,
    "start_time": "2021-06-27T14:56:52.619Z"
   },
   {
    "duration": 17,
    "start_time": "2021-06-27T14:57:35.093Z"
   },
   {
    "duration": 61,
    "start_time": "2021-06-27T14:58:52.966Z"
   },
   {
    "duration": 22,
    "start_time": "2021-06-27T14:58:57.126Z"
   },
   {
    "duration": 15,
    "start_time": "2021-06-27T14:58:57.701Z"
   },
   {
    "duration": 32,
    "start_time": "2021-06-27T14:58:58.982Z"
   },
   {
    "duration": 37,
    "start_time": "2021-06-27T14:59:04.279Z"
   },
   {
    "duration": 38,
    "start_time": "2021-06-27T14:59:06.886Z"
   },
   {
    "duration": 31,
    "start_time": "2021-06-27T14:59:27.846Z"
   },
   {
    "duration": 23,
    "start_time": "2021-06-27T14:59:32.905Z"
   },
   {
    "duration": 22,
    "start_time": "2021-06-27T14:59:35.526Z"
   },
   {
    "duration": 22,
    "start_time": "2021-06-27T14:59:36.039Z"
   },
   {
    "duration": 34,
    "start_time": "2021-06-27T14:59:41.081Z"
   },
   {
    "duration": 21,
    "start_time": "2021-06-27T15:01:05.799Z"
   },
   {
    "duration": 73,
    "start_time": "2021-06-27T15:01:06.986Z"
   },
   {
    "duration": 262,
    "start_time": "2021-06-27T15:08:13.822Z"
   },
   {
    "duration": 17,
    "start_time": "2021-06-27T15:08:14.414Z"
   },
   {
    "duration": 4,
    "start_time": "2021-06-27T15:08:20.814Z"
   },
   {
    "duration": 13,
    "start_time": "2021-06-27T15:08:21.310Z"
   },
   {
    "duration": 23,
    "start_time": "2021-06-27T15:08:22.191Z"
   },
   {
    "duration": 20,
    "start_time": "2021-06-27T15:08:23.805Z"
   },
   {
    "duration": 17,
    "start_time": "2021-06-27T15:08:24.782Z"
   },
   {
    "duration": 19,
    "start_time": "2021-06-27T15:08:28.718Z"
   },
   {
    "duration": 33,
    "start_time": "2021-06-27T15:08:50.942Z"
   },
   {
    "duration": 39,
    "start_time": "2021-06-27T15:08:51.935Z"
   },
   {
    "duration": 44,
    "start_time": "2021-06-27T15:09:08.911Z"
   },
   {
    "duration": 5,
    "start_time": "2021-06-27T15:09:20.382Z"
   },
   {
    "duration": 27,
    "start_time": "2021-06-27T15:09:21.230Z"
   },
   {
    "duration": 21,
    "start_time": "2021-06-27T15:09:33.136Z"
   },
   {
    "duration": 30,
    "start_time": "2021-06-27T15:09:45.855Z"
   },
   {
    "duration": 12,
    "start_time": "2021-06-27T15:09:58.031Z"
   },
   {
    "duration": 17,
    "start_time": "2021-06-27T15:10:00.271Z"
   },
   {
    "duration": 20,
    "start_time": "2021-06-27T15:11:18.242Z"
   },
   {
    "duration": 17,
    "start_time": "2021-06-27T15:11:20.624Z"
   },
   {
    "duration": 17,
    "start_time": "2021-06-27T15:11:24.288Z"
   },
   {
    "duration": 22,
    "start_time": "2021-06-27T15:12:13.777Z"
   },
   {
    "duration": 17,
    "start_time": "2021-06-27T15:12:17.881Z"
   },
   {
    "duration": 21,
    "start_time": "2021-06-27T15:12:26.513Z"
   },
   {
    "duration": 20,
    "start_time": "2021-06-27T15:13:23.730Z"
   },
   {
    "duration": 4,
    "start_time": "2021-06-27T15:40:38.649Z"
   },
   {
    "duration": 239,
    "start_time": "2021-06-27T15:40:40.779Z"
   },
   {
    "duration": 269,
    "start_time": "2021-06-27T15:41:59.867Z"
   },
   {
    "duration": 18,
    "start_time": "2021-06-27T15:42:00.393Z"
   },
   {
    "duration": 5,
    "start_time": "2021-06-27T15:42:04.057Z"
   },
   {
    "duration": 269,
    "start_time": "2021-06-27T15:42:04.460Z"
   },
   {
    "duration": 267,
    "start_time": "2021-06-27T15:42:05.034Z"
   },
   {
    "duration": 17,
    "start_time": "2021-06-27T15:42:05.658Z"
   },
   {
    "duration": 7,
    "start_time": "2021-06-27T15:47:54.209Z"
   },
   {
    "duration": 56,
    "start_time": "2021-06-27T15:48:25.536Z"
   },
   {
    "duration": 18,
    "start_time": "2021-06-27T15:48:28.799Z"
   },
   {
    "duration": 33,
    "start_time": "2021-06-27T15:48:39.104Z"
   },
   {
    "duration": 17,
    "start_time": "2021-06-27T15:48:40.958Z"
   },
   {
    "duration": 32,
    "start_time": "2021-06-27T15:48:43.102Z"
   },
   {
    "duration": 10,
    "start_time": "2021-06-27T15:48:43.790Z"
   },
   {
    "duration": 21,
    "start_time": "2021-06-27T15:52:19.946Z"
   },
   {
    "duration": 7,
    "start_time": "2021-06-27T15:52:20.994Z"
   },
   {
    "duration": 19,
    "start_time": "2021-06-27T15:52:21.555Z"
   },
   {
    "duration": 31,
    "start_time": "2021-06-27T15:52:24.801Z"
   },
   {
    "duration": 55,
    "start_time": "2021-06-27T15:52:25.651Z"
   },
   {
    "duration": 34,
    "start_time": "2021-06-27T15:52:27.458Z"
   },
   {
    "duration": 19,
    "start_time": "2021-06-27T15:52:27.970Z"
   },
   {
    "duration": 26,
    "start_time": "2021-06-27T15:52:29.442Z"
   },
   {
    "duration": 10,
    "start_time": "2021-06-27T15:52:57.890Z"
   },
   {
    "duration": 4,
    "start_time": "2021-06-27T15:52:58.834Z"
   },
   {
    "duration": 4685,
    "start_time": "2021-06-27T15:52:59.331Z"
   },
   {
    "duration": 40,
    "start_time": "2021-06-27T15:53:04.019Z"
   },
   {
    "duration": 8,
    "start_time": "2021-06-27T15:53:04.063Z"
   },
   {
    "duration": 4,
    "start_time": "2021-06-27T15:53:16.019Z"
   },
   {
    "duration": 26,
    "start_time": "2021-06-27T15:53:16.819Z"
   },
   {
    "duration": 11,
    "start_time": "2021-06-27T15:53:17.379Z"
   },
   {
    "duration": 9,
    "start_time": "2021-06-27T15:53:31.332Z"
   },
   {
    "duration": 996,
    "start_time": "2021-06-27T15:53:32.339Z"
   },
   {
    "duration": 4,
    "start_time": "2021-06-27T15:53:57.013Z"
   },
   {
    "duration": 14,
    "start_time": "2021-06-27T15:53:57.668Z"
   },
   {
    "duration": 24,
    "start_time": "2021-06-27T15:53:58.677Z"
   },
   {
    "duration": 4,
    "start_time": "2021-06-27T15:54:12.629Z"
   },
   {
    "duration": 12,
    "start_time": "2021-06-27T15:54:13.253Z"
   },
   {
    "duration": 26,
    "start_time": "2021-06-27T15:54:17.787Z"
   },
   {
    "duration": 29,
    "start_time": "2021-06-27T15:54:32.134Z"
   },
   {
    "duration": 518,
    "start_time": "2021-06-27T15:54:33.764Z"
   },
   {
    "duration": 5,
    "start_time": "2021-06-27T15:54:50.693Z"
   },
   {
    "duration": 14,
    "start_time": "2021-06-27T15:54:54.500Z"
   },
   {
    "duration": 24,
    "start_time": "2021-06-27T15:54:56.965Z"
   },
   {
    "duration": 8,
    "start_time": "2021-06-27T15:55:02.197Z"
   },
   {
    "duration": 7,
    "start_time": "2021-06-27T15:55:03.254Z"
   },
   {
    "duration": 47,
    "start_time": "2021-06-27T15:55:10.213Z"
   },
   {
    "duration": 26,
    "start_time": "2021-06-27T15:55:14.309Z"
   },
   {
    "duration": 261,
    "start_time": "2021-06-27T15:55:32.261Z"
   },
   {
    "duration": 28,
    "start_time": "2021-06-27T16:13:03.622Z"
   },
   {
    "duration": 26,
    "start_time": "2021-06-27T16:13:16.133Z"
   },
   {
    "duration": 779,
    "start_time": "2021-06-27T16:13:24.549Z"
   },
   {
    "duration": 27,
    "start_time": "2021-06-27T16:13:33.398Z"
   },
   {
    "duration": 889,
    "start_time": "2021-06-27T16:40:01.361Z"
   },
   {
    "duration": 32,
    "start_time": "2021-06-27T16:40:02.253Z"
   },
   {
    "duration": 16,
    "start_time": "2021-06-27T16:40:02.301Z"
   },
   {
    "duration": 35,
    "start_time": "2021-06-27T16:40:02.320Z"
   },
   {
    "duration": 69,
    "start_time": "2021-06-27T16:40:02.357Z"
   },
   {
    "duration": 42,
    "start_time": "2021-06-27T16:40:02.429Z"
   },
   {
    "duration": 59,
    "start_time": "2021-06-27T16:40:02.474Z"
   },
   {
    "duration": 66,
    "start_time": "2021-06-27T16:40:02.537Z"
   },
   {
    "duration": 24,
    "start_time": "2021-06-27T16:40:02.606Z"
   },
   {
    "duration": 31,
    "start_time": "2021-06-27T16:40:02.632Z"
   },
   {
    "duration": 37,
    "start_time": "2021-06-27T16:40:02.701Z"
   },
   {
    "duration": 30,
    "start_time": "2021-06-27T16:40:02.741Z"
   },
   {
    "duration": 103,
    "start_time": "2021-06-27T16:40:02.774Z"
   },
   {
    "duration": 4,
    "start_time": "2021-06-27T16:40:02.900Z"
   },
   {
    "duration": 22,
    "start_time": "2021-06-27T16:40:02.907Z"
   },
   {
    "duration": 31,
    "start_time": "2021-06-27T16:40:02.931Z"
   },
   {
    "duration": 41,
    "start_time": "2021-06-27T16:40:02.964Z"
   },
   {
    "duration": 18,
    "start_time": "2021-06-27T16:40:03.007Z"
   },
   {
    "duration": 22,
    "start_time": "2021-06-27T16:40:03.027Z"
   },
   {
    "duration": 62,
    "start_time": "2021-06-27T16:40:03.052Z"
   },
   {
    "duration": 40,
    "start_time": "2021-06-27T16:40:03.116Z"
   },
   {
    "duration": 68,
    "start_time": "2021-06-27T16:40:03.158Z"
   },
   {
    "duration": 6,
    "start_time": "2021-06-27T16:40:03.232Z"
   },
   {
    "duration": 28,
    "start_time": "2021-06-27T16:40:03.242Z"
   },
   {
    "duration": 45,
    "start_time": "2021-06-27T16:40:03.272Z"
   },
   {
    "duration": 29,
    "start_time": "2021-06-27T16:40:03.320Z"
   },
   {
    "duration": 52,
    "start_time": "2021-06-27T16:40:03.351Z"
   },
   {
    "duration": 18,
    "start_time": "2021-06-27T16:40:03.405Z"
   },
   {
    "duration": 4,
    "start_time": "2021-06-27T16:40:03.426Z"
   },
   {
    "duration": 391,
    "start_time": "2021-06-27T16:40:03.432Z"
   },
   {
    "duration": 119,
    "start_time": "2021-06-27T16:40:03.825Z"
   },
   {
    "duration": 26,
    "start_time": "2021-06-27T16:40:03.947Z"
   },
   {
    "duration": 58,
    "start_time": "2021-06-27T16:40:03.977Z"
   },
   {
    "duration": 24,
    "start_time": "2021-06-27T16:40:04.039Z"
   },
   {
    "duration": 53,
    "start_time": "2021-06-27T16:40:04.102Z"
   },
   {
    "duration": 14,
    "start_time": "2021-06-27T16:40:04.158Z"
   },
   {
    "duration": 27,
    "start_time": "2021-06-27T16:40:04.200Z"
   },
   {
    "duration": 8,
    "start_time": "2021-06-27T16:40:04.231Z"
   },
   {
    "duration": 59,
    "start_time": "2021-06-27T16:40:04.242Z"
   },
   {
    "duration": 44,
    "start_time": "2021-06-27T16:40:04.304Z"
   },
   {
    "duration": 111,
    "start_time": "2021-06-27T16:40:04.351Z"
   },
   {
    "duration": 65,
    "start_time": "2021-06-27T16:40:04.465Z"
   },
   {
    "duration": 25,
    "start_time": "2021-06-27T16:40:04.533Z"
   },
   {
    "duration": 59,
    "start_time": "2021-06-27T16:40:04.562Z"
   },
   {
    "duration": 9,
    "start_time": "2021-06-27T16:40:04.623Z"
   },
   {
    "duration": 5,
    "start_time": "2021-06-27T16:40:04.635Z"
   },
   {
    "duration": 4961,
    "start_time": "2021-06-27T16:40:04.642Z"
   },
   {
    "duration": 62,
    "start_time": "2021-06-27T16:40:09.607Z"
   },
   {
    "duration": 8,
    "start_time": "2021-06-27T16:40:09.673Z"
   },
   {
    "duration": 10,
    "start_time": "2021-06-27T16:40:09.701Z"
   },
   {
    "duration": 41,
    "start_time": "2021-06-27T16:40:09.715Z"
   },
   {
    "duration": 14,
    "start_time": "2021-06-27T16:40:09.759Z"
   },
   {
    "duration": 33,
    "start_time": "2021-06-27T16:40:09.776Z"
   },
   {
    "duration": 1045,
    "start_time": "2021-06-27T16:40:09.813Z"
   },
   {
    "duration": 7,
    "start_time": "2021-06-27T16:40:10.861Z"
   },
   {
    "duration": 34,
    "start_time": "2021-06-27T16:40:10.872Z"
   },
   {
    "duration": 39,
    "start_time": "2021-06-27T16:40:10.910Z"
   },
   {
    "duration": 5,
    "start_time": "2021-06-27T16:40:10.952Z"
   },
   {
    "duration": 46,
    "start_time": "2021-06-27T16:40:10.960Z"
   },
   {
    "duration": 25,
    "start_time": "2021-06-27T16:40:11.009Z"
   },
   {
    "duration": 30,
    "start_time": "2021-06-27T16:40:11.036Z"
   },
   {
    "duration": 537,
    "start_time": "2021-06-27T16:40:11.068Z"
   },
   {
    "duration": 5,
    "start_time": "2021-06-27T16:40:11.607Z"
   },
   {
    "duration": 18,
    "start_time": "2021-06-27T16:40:11.616Z"
   },
   {
    "duration": 26,
    "start_time": "2021-06-27T16:40:11.637Z"
   },
   {
    "duration": 41,
    "start_time": "2021-06-27T16:40:11.666Z"
   },
   {
    "duration": 10,
    "start_time": "2021-06-27T16:40:11.710Z"
   },
   {
    "duration": 78,
    "start_time": "2021-06-27T16:40:11.728Z"
   },
   {
    "duration": 26,
    "start_time": "2021-06-27T16:40:11.809Z"
   },
   {
    "duration": 293,
    "start_time": "2021-06-27T16:40:11.838Z"
   },
   {
    "duration": 72,
    "start_time": "2021-06-27T16:40:12.134Z"
   },
   {
    "duration": 30,
    "start_time": "2021-06-27T16:40:12.209Z"
   },
   {
    "duration": 302,
    "start_time": "2021-06-27T16:40:12.242Z"
   },
   {
    "duration": 58,
    "start_time": "2021-06-27T16:40:12.548Z"
   },
   {
    "duration": 27,
    "start_time": "2021-06-27T16:40:12.608Z"
   },
   {
    "duration": 286,
    "start_time": "2021-06-27T16:40:12.637Z"
   },
   {
    "duration": 45,
    "start_time": "2021-06-27T16:40:12.926Z"
   },
   {
    "duration": 50,
    "start_time": "2021-06-27T16:40:12.974Z"
   },
   {
    "duration": 270,
    "start_time": "2021-06-27T16:40:13.027Z"
   },
   {
    "duration": 132,
    "start_time": "2021-06-27T16:45:04.858Z"
   },
   {
    "duration": 1152,
    "start_time": "2021-06-27T16:45:28.965Z"
   },
   {
    "duration": 30,
    "start_time": "2021-06-27T16:45:30.120Z"
   },
   {
    "duration": 16,
    "start_time": "2021-06-27T16:45:30.154Z"
   },
   {
    "duration": 36,
    "start_time": "2021-06-27T16:45:30.203Z"
   },
   {
    "duration": 67,
    "start_time": "2021-06-27T16:45:30.242Z"
   },
   {
    "duration": 35,
    "start_time": "2021-06-27T16:45:30.312Z"
   },
   {
    "duration": 69,
    "start_time": "2021-06-27T16:45:30.349Z"
   },
   {
    "duration": 26,
    "start_time": "2021-06-27T16:45:30.421Z"
   },
   {
    "duration": 67,
    "start_time": "2021-06-27T16:45:30.450Z"
   },
   {
    "duration": 25,
    "start_time": "2021-06-27T16:45:30.520Z"
   },
   {
    "duration": 84,
    "start_time": "2021-06-27T16:45:30.547Z"
   },
   {
    "duration": 20,
    "start_time": "2021-06-27T16:45:30.634Z"
   },
   {
    "duration": 110,
    "start_time": "2021-06-27T16:45:30.657Z"
   },
   {
    "duration": 5,
    "start_time": "2021-06-27T16:45:30.770Z"
   },
   {
    "duration": 35,
    "start_time": "2021-06-27T16:45:30.777Z"
   },
   {
    "duration": 35,
    "start_time": "2021-06-27T16:45:30.815Z"
   },
   {
    "duration": 42,
    "start_time": "2021-06-27T16:45:30.854Z"
   },
   {
    "duration": 19,
    "start_time": "2021-06-27T16:45:30.899Z"
   },
   {
    "duration": 19,
    "start_time": "2021-06-27T16:45:30.921Z"
   },
   {
    "duration": 69,
    "start_time": "2021-06-27T16:45:30.943Z"
   },
   {
    "duration": 42,
    "start_time": "2021-06-27T16:45:31.014Z"
   },
   {
    "duration": 72,
    "start_time": "2021-06-27T16:45:31.059Z"
   },
   {
    "duration": 6,
    "start_time": "2021-06-27T16:45:31.139Z"
   },
   {
    "duration": 50,
    "start_time": "2021-06-27T16:45:31.151Z"
   },
   {
    "duration": 30,
    "start_time": "2021-06-27T16:45:31.204Z"
   },
   {
    "duration": 66,
    "start_time": "2021-06-27T16:45:31.237Z"
   },
   {
    "duration": 21,
    "start_time": "2021-06-27T16:45:31.306Z"
   },
   {
    "duration": 31,
    "start_time": "2021-06-27T16:45:31.329Z"
   },
   {
    "duration": 18,
    "start_time": "2021-06-27T16:45:31.363Z"
   },
   {
    "duration": 273,
    "start_time": "2021-06-27T16:45:31.384Z"
   },
   {
    "duration": 94,
    "start_time": "2021-06-27T16:45:31.659Z"
   },
   {
    "duration": 18,
    "start_time": "2021-06-27T16:45:31.755Z"
   },
   {
    "duration": 54,
    "start_time": "2021-06-27T16:45:31.775Z"
   },
   {
    "duration": 16,
    "start_time": "2021-06-27T16:45:31.831Z"
   },
   {
    "duration": 66,
    "start_time": "2021-06-27T16:45:31.849Z"
   },
   {
    "duration": 9,
    "start_time": "2021-06-27T16:45:31.918Z"
   },
   {
    "duration": 36,
    "start_time": "2021-06-27T16:45:31.930Z"
   },
   {
    "duration": 7,
    "start_time": "2021-06-27T16:45:31.968Z"
   },
   {
    "duration": 37,
    "start_time": "2021-06-27T16:45:31.977Z"
   },
   {
    "duration": 29,
    "start_time": "2021-06-27T16:45:32.016Z"
   },
   {
    "duration": 78,
    "start_time": "2021-06-27T16:45:32.047Z"
   },
   {
    "duration": 32,
    "start_time": "2021-06-27T16:45:32.128Z"
   },
   {
    "duration": 42,
    "start_time": "2021-06-27T16:45:32.162Z"
   },
   {
    "duration": 27,
    "start_time": "2021-06-27T16:45:32.207Z"
   },
   {
    "duration": 8,
    "start_time": "2021-06-27T16:45:32.238Z"
   },
   {
    "duration": 8,
    "start_time": "2021-06-27T16:45:32.249Z"
   },
   {
    "duration": 4724,
    "start_time": "2021-06-27T16:45:32.259Z"
   },
   {
    "duration": 49,
    "start_time": "2021-06-27T16:45:36.985Z"
   },
   {
    "duration": 6,
    "start_time": "2021-06-27T16:45:37.037Z"
   },
   {
    "duration": 6,
    "start_time": "2021-06-27T16:45:37.045Z"
   },
   {
    "duration": 61,
    "start_time": "2021-06-27T16:45:37.054Z"
   },
   {
    "duration": 10,
    "start_time": "2021-06-27T16:45:37.118Z"
   },
   {
    "duration": 11,
    "start_time": "2021-06-27T16:45:37.131Z"
   },
   {
    "duration": 658,
    "start_time": "2021-06-27T16:45:37.144Z"
   },
   {
    "duration": 4,
    "start_time": "2021-06-27T16:45:37.805Z"
   },
   {
    "duration": 21,
    "start_time": "2021-06-27T16:45:37.812Z"
   },
   {
    "duration": 24,
    "start_time": "2021-06-27T16:45:37.836Z"
   },
   {
    "duration": 16,
    "start_time": "2021-06-27T16:45:37.862Z"
   },
   {
    "duration": 19,
    "start_time": "2021-06-27T16:45:37.902Z"
   },
   {
    "duration": 29,
    "start_time": "2021-06-27T16:45:37.924Z"
   },
   {
    "duration": 56,
    "start_time": "2021-06-27T16:45:37.956Z"
   },
   {
    "duration": 511,
    "start_time": "2021-06-27T16:45:38.015Z"
   },
   {
    "duration": 4,
    "start_time": "2021-06-27T16:45:38.529Z"
   },
   {
    "duration": 26,
    "start_time": "2021-06-27T16:45:38.536Z"
   },
   {
    "duration": 48,
    "start_time": "2021-06-27T16:45:38.564Z"
   },
   {
    "duration": 12,
    "start_time": "2021-06-27T16:45:38.615Z"
   },
   {
    "duration": 9,
    "start_time": "2021-06-27T16:45:38.630Z"
   },
   {
    "duration": 68,
    "start_time": "2021-06-27T16:45:38.646Z"
   },
   {
    "duration": 25,
    "start_time": "2021-06-27T16:45:38.717Z"
   },
   {
    "duration": 287,
    "start_time": "2021-06-27T16:45:38.745Z"
   },
   {
    "duration": 46,
    "start_time": "2021-06-27T16:45:39.034Z"
   },
   {
    "duration": 42,
    "start_time": "2021-06-27T16:45:39.083Z"
   },
   {
    "duration": 307,
    "start_time": "2021-06-27T16:45:39.128Z"
   },
   {
    "duration": 64,
    "start_time": "2021-06-27T16:45:39.438Z"
   },
   {
    "duration": 29,
    "start_time": "2021-06-27T16:45:39.505Z"
   },
   {
    "duration": 282,
    "start_time": "2021-06-27T16:45:39.537Z"
   },
   {
    "duration": 44,
    "start_time": "2021-06-27T16:45:39.822Z"
   },
   {
    "duration": 47,
    "start_time": "2021-06-27T16:45:39.868Z"
   },
   {
    "duration": 272,
    "start_time": "2021-06-27T16:45:39.917Z"
   },
   {
    "duration": 826,
    "start_time": "2021-06-28T09:27:56.214Z"
   },
   {
    "duration": 28,
    "start_time": "2021-06-28T09:27:57.043Z"
   },
   {
    "duration": 34,
    "start_time": "2021-06-28T09:27:57.074Z"
   },
   {
    "duration": 34,
    "start_time": "2021-06-28T09:27:57.110Z"
   },
   {
    "duration": 60,
    "start_time": "2021-06-28T09:27:57.146Z"
   },
   {
    "duration": 50,
    "start_time": "2021-06-28T09:27:57.210Z"
   },
   {
    "duration": 69,
    "start_time": "2021-06-28T09:27:57.263Z"
   },
   {
    "duration": 32,
    "start_time": "2021-06-28T09:27:57.337Z"
   },
   {
    "duration": 22,
    "start_time": "2021-06-28T09:27:57.401Z"
   },
   {
    "duration": 26,
    "start_time": "2021-06-28T09:27:57.425Z"
   },
   {
    "duration": 70,
    "start_time": "2021-06-28T09:27:57.453Z"
   },
   {
    "duration": 23,
    "start_time": "2021-06-28T09:27:57.526Z"
   },
   {
    "duration": 99,
    "start_time": "2021-06-28T09:27:57.551Z"
   },
   {
    "duration": 4,
    "start_time": "2021-06-28T09:27:57.653Z"
   },
   {
    "duration": 17,
    "start_time": "2021-06-28T09:27:57.659Z"
   },
   {
    "duration": 42,
    "start_time": "2021-06-28T09:27:57.678Z"
   },
   {
    "duration": 20,
    "start_time": "2021-06-28T09:27:57.723Z"
   },
   {
    "duration": 17,
    "start_time": "2021-06-28T09:27:57.745Z"
   },
   {
    "duration": 48,
    "start_time": "2021-06-28T09:27:57.765Z"
   },
   {
    "duration": 32,
    "start_time": "2021-06-28T09:27:57.815Z"
   },
   {
    "duration": 66,
    "start_time": "2021-06-28T09:27:57.849Z"
   },
   {
    "duration": 42,
    "start_time": "2021-06-28T09:27:57.917Z"
   },
   {
    "duration": 5,
    "start_time": "2021-06-28T09:27:57.964Z"
   },
   {
    "duration": 20,
    "start_time": "2021-06-28T09:27:58.001Z"
   },
   {
    "duration": 22,
    "start_time": "2021-06-28T09:27:58.024Z"
   },
   {
    "duration": 64,
    "start_time": "2021-06-28T09:27:58.049Z"
   },
   {
    "duration": 19,
    "start_time": "2021-06-28T09:27:58.115Z"
   },
   {
    "duration": 17,
    "start_time": "2021-06-28T09:27:58.136Z"
   },
   {
    "duration": 6,
    "start_time": "2021-06-28T09:27:58.155Z"
   },
   {
    "duration": 268,
    "start_time": "2021-06-28T09:27:58.163Z"
   },
   {
    "duration": 83,
    "start_time": "2021-06-28T09:27:58.433Z"
   },
   {
    "duration": 18,
    "start_time": "2021-06-28T09:27:58.519Z"
   },
   {
    "duration": 30,
    "start_time": "2021-06-28T09:27:58.539Z"
   },
   {
    "duration": 15,
    "start_time": "2021-06-28T09:27:58.600Z"
   },
   {
    "duration": 30,
    "start_time": "2021-06-28T09:27:58.617Z"
   },
   {
    "duration": 9,
    "start_time": "2021-06-28T09:27:58.650Z"
   },
   {
    "duration": 53,
    "start_time": "2021-06-28T09:27:58.661Z"
   },
   {
    "duration": 6,
    "start_time": "2021-06-28T09:27:58.716Z"
   },
   {
    "duration": 18,
    "start_time": "2021-06-28T09:27:58.724Z"
   },
   {
    "duration": 57,
    "start_time": "2021-06-28T09:27:58.745Z"
   },
   {
    "duration": 51,
    "start_time": "2021-06-28T09:27:58.804Z"
   },
   {
    "duration": 51,
    "start_time": "2021-06-28T09:27:58.857Z"
   },
   {
    "duration": 16,
    "start_time": "2021-06-28T09:27:58.911Z"
   },
   {
    "duration": 26,
    "start_time": "2021-06-28T09:27:58.929Z"
   },
   {
    "duration": 8,
    "start_time": "2021-06-28T09:27:58.958Z"
   },
   {
    "duration": 32,
    "start_time": "2021-06-28T09:27:58.969Z"
   },
   {
    "duration": 4360,
    "start_time": "2021-06-28T09:27:59.004Z"
   },
   {
    "duration": 44,
    "start_time": "2021-06-28T09:28:03.367Z"
   },
   {
    "duration": 5,
    "start_time": "2021-06-28T09:28:03.414Z"
   },
   {
    "duration": 7,
    "start_time": "2021-06-28T09:28:03.421Z"
   },
   {
    "duration": 31,
    "start_time": "2021-06-28T09:28:03.430Z"
   },
   {
    "duration": 10,
    "start_time": "2021-06-28T09:28:03.463Z"
   },
   {
    "duration": 7,
    "start_time": "2021-06-28T09:28:03.500Z"
   },
   {
    "duration": 650,
    "start_time": "2021-06-28T09:28:03.509Z"
   },
   {
    "duration": 4,
    "start_time": "2021-06-28T09:28:04.162Z"
   },
   {
    "duration": 32,
    "start_time": "2021-06-28T09:28:04.168Z"
   },
   {
    "duration": 23,
    "start_time": "2021-06-28T09:28:04.203Z"
   },
   {
    "duration": 8,
    "start_time": "2021-06-28T09:28:04.228Z"
   },
   {
    "duration": 20,
    "start_time": "2021-06-28T09:28:04.239Z"
   },
   {
    "duration": 45,
    "start_time": "2021-06-28T09:28:04.261Z"
   },
   {
    "duration": 29,
    "start_time": "2021-06-28T09:28:04.308Z"
   },
   {
    "duration": 532,
    "start_time": "2021-06-28T09:28:04.339Z"
   },
   {
    "duration": 5,
    "start_time": "2021-06-28T09:28:04.873Z"
   },
   {
    "duration": 32,
    "start_time": "2021-06-28T09:28:04.880Z"
   },
   {
    "duration": 28,
    "start_time": "2021-06-28T09:28:04.914Z"
   },
   {
    "duration": 7,
    "start_time": "2021-06-28T09:28:04.945Z"
   },
   {
    "duration": 7,
    "start_time": "2021-06-28T09:28:04.955Z"
   },
   {
    "duration": 70,
    "start_time": "2021-06-28T09:28:04.969Z"
   },
   {
    "duration": 24,
    "start_time": "2021-06-28T09:28:05.042Z"
   },
   {
    "duration": 273,
    "start_time": "2021-06-28T09:28:05.068Z"
   },
   {
    "duration": 43,
    "start_time": "2021-06-28T09:28:05.343Z"
   },
   {
    "duration": 28,
    "start_time": "2021-06-28T09:28:05.401Z"
   },
   {
    "duration": 299,
    "start_time": "2021-06-28T09:28:05.432Z"
   },
   {
    "duration": 34,
    "start_time": "2021-06-28T09:28:15.674Z"
   }
  ],
  "kernelspec": {
   "display_name": "Python 3 (ipykernel)",
   "language": "python",
   "name": "python3"
  },
  "language_info": {
   "codemirror_mode": {
    "name": "ipython",
    "version": 3
   },
   "file_extension": ".py",
   "mimetype": "text/x-python",
   "name": "python",
   "nbconvert_exporter": "python",
   "pygments_lexer": "ipython3",
   "version": "3.8.3"
  },
  "toc": {
   "base_numbering": 1,
   "nav_menu": {},
   "number_sections": true,
   "sideBar": true,
   "skip_h1_title": true,
   "title_cell": "Table of Contents",
   "title_sidebar": "Contents",
   "toc_cell": false,
   "toc_position": {
    "height": "calc(100% - 180px)",
    "left": "10px",
    "top": "150px",
    "width": "319.188px"
   },
   "toc_section_display": true,
   "toc_window_display": false
  }
 },
 "nbformat": 4,
 "nbformat_minor": 2
}
